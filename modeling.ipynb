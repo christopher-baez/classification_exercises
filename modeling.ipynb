{
 "cells": [
  {
   "cell_type": "code",
   "execution_count": 1,
   "id": "initial_id",
   "metadata": {
    "collapsed": true,
    "ExecuteTime": {
     "end_time": "2023-11-29T17:06:24.193610Z",
     "start_time": "2023-11-29T17:06:23.324123Z"
    }
   },
   "outputs": [],
   "source": [
    "import acquired\n",
    "import prepare\n",
    "import pandas as pd\n",
    "import  numpy as np"
   ]
  },
  {
   "cell_type": "code",
   "execution_count": 159,
   "outputs": [
    {
     "name": "stdout",
     "output_type": "stream",
     "text": [
      "this file exists, reading csv\n"
     ]
    }
   ],
   "source": [
    "df = acquired.get_titanic_data()"
   ],
   "metadata": {
    "collapsed": false,
    "ExecuteTime": {
     "end_time": "2023-11-29T20:09:23.088497Z",
     "start_time": "2023-11-29T20:09:22.984913Z"
    }
   },
   "id": "1f0d854f24100a77"
  },
  {
   "cell_type": "code",
   "execution_count": 160,
   "outputs": [
    {
     "data": {
      "text/plain": "0        0\n1        1\n2        2\n3        3\n4        4\n      ... \n886    886\n887    887\n888    888\n889    889\n890    890\nName: Unnamed: 0, Length: 891, dtype: int64"
     },
     "execution_count": 160,
     "metadata": {},
     "output_type": "execute_result"
    }
   ],
   "source": [
    "df.pop('Unnamed: 0')\n"
   ],
   "metadata": {
    "collapsed": false,
    "ExecuteTime": {
     "end_time": "2023-11-29T20:09:23.533919Z",
     "start_time": "2023-11-29T20:09:23.517462Z"
    }
   },
   "id": "b9cee85e465c0c0c"
  },
  {
   "cell_type": "code",
   "execution_count": 161,
   "outputs": [
    {
     "data": {
      "text/plain": "   passenger_id  survived  pclass     sex   age  sibsp  parch     fare  \\\n0             0         0       3    male  22.0      1      0   7.2500   \n1             1         1       1  female  38.0      1      0  71.2833   \n2             2         1       3  female  26.0      0      0   7.9250   \n3             3         1       1  female  35.0      1      0  53.1000   \n4             4         0       3    male  35.0      0      0   8.0500   \n\n  embarked  class deck  embark_town  alone  \n0        S  Third  NaN  Southampton      0  \n1        C  First    C    Cherbourg      0  \n2        S  Third  NaN  Southampton      1  \n3        S  First    C  Southampton      0  \n4        S  Third  NaN  Southampton      1  ",
      "text/html": "<div>\n<style scoped>\n    .dataframe tbody tr th:only-of-type {\n        vertical-align: middle;\n    }\n\n    .dataframe tbody tr th {\n        vertical-align: top;\n    }\n\n    .dataframe thead th {\n        text-align: right;\n    }\n</style>\n<table border=\"1\" class=\"dataframe\">\n  <thead>\n    <tr style=\"text-align: right;\">\n      <th></th>\n      <th>passenger_id</th>\n      <th>survived</th>\n      <th>pclass</th>\n      <th>sex</th>\n      <th>age</th>\n      <th>sibsp</th>\n      <th>parch</th>\n      <th>fare</th>\n      <th>embarked</th>\n      <th>class</th>\n      <th>deck</th>\n      <th>embark_town</th>\n      <th>alone</th>\n    </tr>\n  </thead>\n  <tbody>\n    <tr>\n      <th>0</th>\n      <td>0</td>\n      <td>0</td>\n      <td>3</td>\n      <td>male</td>\n      <td>22.0</td>\n      <td>1</td>\n      <td>0</td>\n      <td>7.2500</td>\n      <td>S</td>\n      <td>Third</td>\n      <td>NaN</td>\n      <td>Southampton</td>\n      <td>0</td>\n    </tr>\n    <tr>\n      <th>1</th>\n      <td>1</td>\n      <td>1</td>\n      <td>1</td>\n      <td>female</td>\n      <td>38.0</td>\n      <td>1</td>\n      <td>0</td>\n      <td>71.2833</td>\n      <td>C</td>\n      <td>First</td>\n      <td>C</td>\n      <td>Cherbourg</td>\n      <td>0</td>\n    </tr>\n    <tr>\n      <th>2</th>\n      <td>2</td>\n      <td>1</td>\n      <td>3</td>\n      <td>female</td>\n      <td>26.0</td>\n      <td>0</td>\n      <td>0</td>\n      <td>7.9250</td>\n      <td>S</td>\n      <td>Third</td>\n      <td>NaN</td>\n      <td>Southampton</td>\n      <td>1</td>\n    </tr>\n    <tr>\n      <th>3</th>\n      <td>3</td>\n      <td>1</td>\n      <td>1</td>\n      <td>female</td>\n      <td>35.0</td>\n      <td>1</td>\n      <td>0</td>\n      <td>53.1000</td>\n      <td>S</td>\n      <td>First</td>\n      <td>C</td>\n      <td>Southampton</td>\n      <td>0</td>\n    </tr>\n    <tr>\n      <th>4</th>\n      <td>4</td>\n      <td>0</td>\n      <td>3</td>\n      <td>male</td>\n      <td>35.0</td>\n      <td>0</td>\n      <td>0</td>\n      <td>8.0500</td>\n      <td>S</td>\n      <td>Third</td>\n      <td>NaN</td>\n      <td>Southampton</td>\n      <td>1</td>\n    </tr>\n  </tbody>\n</table>\n</div>"
     },
     "execution_count": 161,
     "metadata": {},
     "output_type": "execute_result"
    }
   ],
   "source": [
    "df.head()"
   ],
   "metadata": {
    "collapsed": false,
    "ExecuteTime": {
     "end_time": "2023-11-29T20:09:24.085651Z",
     "start_time": "2023-11-29T20:09:24.071484Z"
    }
   },
   "id": "290b2ad13ca37159"
  },
  {
   "cell_type": "code",
   "execution_count": 162,
   "outputs": [
    {
     "data": {
      "text/plain": "     passenger_id  survived pclass     sex  sibsp  parch     fare  \\\n0               0         0      3    male      1      0   7.2500   \n1               1         1      1  female      1      0  71.2833   \n2               2         1      3  female      0      0   7.9250   \n3               3         1      1  female      1      0  53.1000   \n4               4         0      3    male      0      0   8.0500   \n..            ...       ...    ...     ...    ...    ...      ...   \n886           886         0      2    male      0      0  13.0000   \n887           887         1      1  female      0      0  30.0000   \n888           888         0      3  female      1      2  23.4500   \n889           889         1      1    male      0      0  30.0000   \n890           890         0      3    male      0      0   7.7500   \n\n     embark_town  alone  \n0    Southampton      0  \n1      Cherbourg      0  \n2    Southampton      1  \n3    Southampton      0  \n4    Southampton      1  \n..           ...    ...  \n886  Southampton      1  \n887  Southampton      1  \n888  Southampton      0  \n889    Cherbourg      1  \n890   Queenstown      1  \n\n[891 rows x 9 columns]",
      "text/html": "<div>\n<style scoped>\n    .dataframe tbody tr th:only-of-type {\n        vertical-align: middle;\n    }\n\n    .dataframe tbody tr th {\n        vertical-align: top;\n    }\n\n    .dataframe thead th {\n        text-align: right;\n    }\n</style>\n<table border=\"1\" class=\"dataframe\">\n  <thead>\n    <tr style=\"text-align: right;\">\n      <th></th>\n      <th>passenger_id</th>\n      <th>survived</th>\n      <th>pclass</th>\n      <th>sex</th>\n      <th>sibsp</th>\n      <th>parch</th>\n      <th>fare</th>\n      <th>embark_town</th>\n      <th>alone</th>\n    </tr>\n  </thead>\n  <tbody>\n    <tr>\n      <th>0</th>\n      <td>0</td>\n      <td>0</td>\n      <td>3</td>\n      <td>male</td>\n      <td>1</td>\n      <td>0</td>\n      <td>7.2500</td>\n      <td>Southampton</td>\n      <td>0</td>\n    </tr>\n    <tr>\n      <th>1</th>\n      <td>1</td>\n      <td>1</td>\n      <td>1</td>\n      <td>female</td>\n      <td>1</td>\n      <td>0</td>\n      <td>71.2833</td>\n      <td>Cherbourg</td>\n      <td>0</td>\n    </tr>\n    <tr>\n      <th>2</th>\n      <td>2</td>\n      <td>1</td>\n      <td>3</td>\n      <td>female</td>\n      <td>0</td>\n      <td>0</td>\n      <td>7.9250</td>\n      <td>Southampton</td>\n      <td>1</td>\n    </tr>\n    <tr>\n      <th>3</th>\n      <td>3</td>\n      <td>1</td>\n      <td>1</td>\n      <td>female</td>\n      <td>1</td>\n      <td>0</td>\n      <td>53.1000</td>\n      <td>Southampton</td>\n      <td>0</td>\n    </tr>\n    <tr>\n      <th>4</th>\n      <td>4</td>\n      <td>0</td>\n      <td>3</td>\n      <td>male</td>\n      <td>0</td>\n      <td>0</td>\n      <td>8.0500</td>\n      <td>Southampton</td>\n      <td>1</td>\n    </tr>\n    <tr>\n      <th>...</th>\n      <td>...</td>\n      <td>...</td>\n      <td>...</td>\n      <td>...</td>\n      <td>...</td>\n      <td>...</td>\n      <td>...</td>\n      <td>...</td>\n      <td>...</td>\n    </tr>\n    <tr>\n      <th>886</th>\n      <td>886</td>\n      <td>0</td>\n      <td>2</td>\n      <td>male</td>\n      <td>0</td>\n      <td>0</td>\n      <td>13.0000</td>\n      <td>Southampton</td>\n      <td>1</td>\n    </tr>\n    <tr>\n      <th>887</th>\n      <td>887</td>\n      <td>1</td>\n      <td>1</td>\n      <td>female</td>\n      <td>0</td>\n      <td>0</td>\n      <td>30.0000</td>\n      <td>Southampton</td>\n      <td>1</td>\n    </tr>\n    <tr>\n      <th>888</th>\n      <td>888</td>\n      <td>0</td>\n      <td>3</td>\n      <td>female</td>\n      <td>1</td>\n      <td>2</td>\n      <td>23.4500</td>\n      <td>Southampton</td>\n      <td>0</td>\n    </tr>\n    <tr>\n      <th>889</th>\n      <td>889</td>\n      <td>1</td>\n      <td>1</td>\n      <td>male</td>\n      <td>0</td>\n      <td>0</td>\n      <td>30.0000</td>\n      <td>Cherbourg</td>\n      <td>1</td>\n    </tr>\n    <tr>\n      <th>890</th>\n      <td>890</td>\n      <td>0</td>\n      <td>3</td>\n      <td>male</td>\n      <td>0</td>\n      <td>0</td>\n      <td>7.7500</td>\n      <td>Queenstown</td>\n      <td>1</td>\n    </tr>\n  </tbody>\n</table>\n<p>891 rows × 9 columns</p>\n</div>"
     },
     "execution_count": 162,
     "metadata": {},
     "output_type": "execute_result"
    }
   ],
   "source": [
    "prepare.clean_titanic(df)"
   ],
   "metadata": {
    "collapsed": false,
    "ExecuteTime": {
     "end_time": "2023-11-29T20:09:24.645409Z",
     "start_time": "2023-11-29T20:09:24.620574Z"
    }
   },
   "id": "e9d5df0d0eeb76d1"
  },
  {
   "cell_type": "code",
   "execution_count": 163,
   "outputs": [],
   "source": [
    "train, validate, test =prepare.splitting_data(df,'survived')"
   ],
   "metadata": {
    "collapsed": false,
    "ExecuteTime": {
     "end_time": "2023-11-29T20:09:25.179082Z",
     "start_time": "2023-11-29T20:09:25.163441Z"
    }
   },
   "id": "ad1837566364f025"
  },
  {
   "cell_type": "code",
   "execution_count": 164,
   "outputs": [
    {
     "data": {
      "text/plain": "(534, 13)"
     },
     "execution_count": 164,
     "metadata": {},
     "output_type": "execute_result"
    }
   ],
   "source": [
    "train.shape"
   ],
   "metadata": {
    "collapsed": false,
    "ExecuteTime": {
     "end_time": "2023-11-29T20:09:25.781350Z",
     "start_time": "2023-11-29T20:09:25.764899Z"
    }
   },
   "id": "1054b7c39f8939ce"
  },
  {
   "cell_type": "code",
   "execution_count": 165,
   "outputs": [
    {
     "data": {
      "text/plain": "(178, 13)"
     },
     "execution_count": 165,
     "metadata": {},
     "output_type": "execute_result"
    }
   ],
   "source": [
    "validate.shape"
   ],
   "metadata": {
    "collapsed": false,
    "ExecuteTime": {
     "end_time": "2023-11-29T20:09:26.353553Z",
     "start_time": "2023-11-29T20:09:26.323628Z"
    }
   },
   "id": "1b2b10239aaad292"
  },
  {
   "cell_type": "code",
   "execution_count": 166,
   "outputs": [
    {
     "data": {
      "text/plain": "(179, 13)"
     },
     "execution_count": 166,
     "metadata": {},
     "output_type": "execute_result"
    }
   ],
   "source": [
    "test.shape"
   ],
   "metadata": {
    "collapsed": false,
    "ExecuteTime": {
     "end_time": "2023-11-29T20:09:26.770839Z",
     "start_time": "2023-11-29T20:09:26.755094Z"
    }
   },
   "id": "578fb4b1e2074366"
  },
  {
   "cell_type": "code",
   "execution_count": 167,
   "outputs": [
    {
     "data": {
      "text/plain": "     passenger_id  survived  pclass     sex   age  sibsp  parch      fare  \\\n776           776         0       3    male   NaN      0      0    7.7500   \n829           829         1       1  female  62.0      0      0   80.0000   \n215           215         1       1  female  31.0      1      0  113.2750   \n258           258         1       1  female  35.0      0      0  512.3292   \n129           129         0       3    male  45.0      0      0    6.9750   \n\n    embarked  class deck  embark_town  alone  \n776        Q  Third    F   Queenstown      1  \n829      NaN  First    B          NaN      1  \n215        C  First    D    Cherbourg      0  \n258        C  First  NaN    Cherbourg      1  \n129        S  Third  NaN  Southampton      1  ",
      "text/html": "<div>\n<style scoped>\n    .dataframe tbody tr th:only-of-type {\n        vertical-align: middle;\n    }\n\n    .dataframe tbody tr th {\n        vertical-align: top;\n    }\n\n    .dataframe thead th {\n        text-align: right;\n    }\n</style>\n<table border=\"1\" class=\"dataframe\">\n  <thead>\n    <tr style=\"text-align: right;\">\n      <th></th>\n      <th>passenger_id</th>\n      <th>survived</th>\n      <th>pclass</th>\n      <th>sex</th>\n      <th>age</th>\n      <th>sibsp</th>\n      <th>parch</th>\n      <th>fare</th>\n      <th>embarked</th>\n      <th>class</th>\n      <th>deck</th>\n      <th>embark_town</th>\n      <th>alone</th>\n    </tr>\n  </thead>\n  <tbody>\n    <tr>\n      <th>776</th>\n      <td>776</td>\n      <td>0</td>\n      <td>3</td>\n      <td>male</td>\n      <td>NaN</td>\n      <td>0</td>\n      <td>0</td>\n      <td>7.7500</td>\n      <td>Q</td>\n      <td>Third</td>\n      <td>F</td>\n      <td>Queenstown</td>\n      <td>1</td>\n    </tr>\n    <tr>\n      <th>829</th>\n      <td>829</td>\n      <td>1</td>\n      <td>1</td>\n      <td>female</td>\n      <td>62.0</td>\n      <td>0</td>\n      <td>0</td>\n      <td>80.0000</td>\n      <td>NaN</td>\n      <td>First</td>\n      <td>B</td>\n      <td>NaN</td>\n      <td>1</td>\n    </tr>\n    <tr>\n      <th>215</th>\n      <td>215</td>\n      <td>1</td>\n      <td>1</td>\n      <td>female</td>\n      <td>31.0</td>\n      <td>1</td>\n      <td>0</td>\n      <td>113.2750</td>\n      <td>C</td>\n      <td>First</td>\n      <td>D</td>\n      <td>Cherbourg</td>\n      <td>0</td>\n    </tr>\n    <tr>\n      <th>258</th>\n      <td>258</td>\n      <td>1</td>\n      <td>1</td>\n      <td>female</td>\n      <td>35.0</td>\n      <td>0</td>\n      <td>0</td>\n      <td>512.3292</td>\n      <td>C</td>\n      <td>First</td>\n      <td>NaN</td>\n      <td>Cherbourg</td>\n      <td>1</td>\n    </tr>\n    <tr>\n      <th>129</th>\n      <td>129</td>\n      <td>0</td>\n      <td>3</td>\n      <td>male</td>\n      <td>45.0</td>\n      <td>0</td>\n      <td>0</td>\n      <td>6.9750</td>\n      <td>S</td>\n      <td>Third</td>\n      <td>NaN</td>\n      <td>Southampton</td>\n      <td>1</td>\n    </tr>\n  </tbody>\n</table>\n</div>"
     },
     "execution_count": 167,
     "metadata": {},
     "output_type": "execute_result"
    }
   ],
   "source": [
    "train.head()"
   ],
   "metadata": {
    "collapsed": false,
    "ExecuteTime": {
     "end_time": "2023-11-29T20:09:27.584395Z",
     "start_time": "2023-11-29T20:09:27.480193Z"
    }
   },
   "id": "36ed035ee01642b3"
  },
  {
   "cell_type": "code",
   "execution_count": 168,
   "outputs": [
    {
     "data": {
      "text/plain": "((534, 13), (891, 13))"
     },
     "execution_count": 168,
     "metadata": {},
     "output_type": "execute_result"
    }
   ],
   "source": [
    "train.shape, df.shape"
   ],
   "metadata": {
    "collapsed": false,
    "ExecuteTime": {
     "end_time": "2023-11-29T20:09:29.648906Z",
     "start_time": "2023-11-29T20:09:29.115071Z"
    }
   },
   "id": "6b266a676f16264"
  },
  {
   "cell_type": "markdown",
   "source": [
    ">train"
   ],
   "metadata": {
    "collapsed": false
   },
   "id": "694a85f45b46937e"
  },
  {
   "cell_type": "markdown",
   "source": [],
   "metadata": {
    "collapsed": false
   },
   "id": "ae86bdee1b53faca"
  },
  {
   "cell_type": "code",
   "execution_count": 169,
   "outputs": [
    {
     "data": {
      "text/plain": "     passenger_id  survived  pclass     sex   age  sibsp  parch      fare  \\\n776           776         0       3    male   NaN      0      0    7.7500   \n829           829         1       1  female  62.0      0      0   80.0000   \n215           215         1       1  female  31.0      1      0  113.2750   \n258           258         1       1  female  35.0      0      0  512.3292   \n129           129         0       3    male  45.0      0      0    6.9750   \n\n    embarked  class deck  embark_town  alone  sex_male  \n776        Q  Third    F   Queenstown      1         1  \n829      NaN  First    B          NaN      1         0  \n215        C  First    D    Cherbourg      0         0  \n258        C  First  NaN    Cherbourg      1         0  \n129        S  Third  NaN  Southampton      1         1  ",
      "text/html": "<div>\n<style scoped>\n    .dataframe tbody tr th:only-of-type {\n        vertical-align: middle;\n    }\n\n    .dataframe tbody tr th {\n        vertical-align: top;\n    }\n\n    .dataframe thead th {\n        text-align: right;\n    }\n</style>\n<table border=\"1\" class=\"dataframe\">\n  <thead>\n    <tr style=\"text-align: right;\">\n      <th></th>\n      <th>passenger_id</th>\n      <th>survived</th>\n      <th>pclass</th>\n      <th>sex</th>\n      <th>age</th>\n      <th>sibsp</th>\n      <th>parch</th>\n      <th>fare</th>\n      <th>embarked</th>\n      <th>class</th>\n      <th>deck</th>\n      <th>embark_town</th>\n      <th>alone</th>\n      <th>sex_male</th>\n    </tr>\n  </thead>\n  <tbody>\n    <tr>\n      <th>776</th>\n      <td>776</td>\n      <td>0</td>\n      <td>3</td>\n      <td>male</td>\n      <td>NaN</td>\n      <td>0</td>\n      <td>0</td>\n      <td>7.7500</td>\n      <td>Q</td>\n      <td>Third</td>\n      <td>F</td>\n      <td>Queenstown</td>\n      <td>1</td>\n      <td>1</td>\n    </tr>\n    <tr>\n      <th>829</th>\n      <td>829</td>\n      <td>1</td>\n      <td>1</td>\n      <td>female</td>\n      <td>62.0</td>\n      <td>0</td>\n      <td>0</td>\n      <td>80.0000</td>\n      <td>NaN</td>\n      <td>First</td>\n      <td>B</td>\n      <td>NaN</td>\n      <td>1</td>\n      <td>0</td>\n    </tr>\n    <tr>\n      <th>215</th>\n      <td>215</td>\n      <td>1</td>\n      <td>1</td>\n      <td>female</td>\n      <td>31.0</td>\n      <td>1</td>\n      <td>0</td>\n      <td>113.2750</td>\n      <td>C</td>\n      <td>First</td>\n      <td>D</td>\n      <td>Cherbourg</td>\n      <td>0</td>\n      <td>0</td>\n    </tr>\n    <tr>\n      <th>258</th>\n      <td>258</td>\n      <td>1</td>\n      <td>1</td>\n      <td>female</td>\n      <td>35.0</td>\n      <td>0</td>\n      <td>0</td>\n      <td>512.3292</td>\n      <td>C</td>\n      <td>First</td>\n      <td>NaN</td>\n      <td>Cherbourg</td>\n      <td>1</td>\n      <td>0</td>\n    </tr>\n    <tr>\n      <th>129</th>\n      <td>129</td>\n      <td>0</td>\n      <td>3</td>\n      <td>male</td>\n      <td>45.0</td>\n      <td>0</td>\n      <td>0</td>\n      <td>6.9750</td>\n      <td>S</td>\n      <td>Third</td>\n      <td>NaN</td>\n      <td>Southampton</td>\n      <td>1</td>\n      <td>1</td>\n    </tr>\n  </tbody>\n</table>\n</div>"
     },
     "execution_count": 169,
     "metadata": {},
     "output_type": "execute_result"
    }
   ],
   "source": [
    "encoded_train = train.assign(sex_male = np.where(train['sex'] == 'male', 1, 0))\n",
    "encoded_train.head()"
   ],
   "metadata": {
    "collapsed": false,
    "ExecuteTime": {
     "end_time": "2023-11-29T20:09:32.349180Z",
     "start_time": "2023-11-29T20:09:32.307740Z"
    }
   },
   "id": "53e99289302912ce"
  },
  {
   "cell_type": "code",
   "execution_count": 170,
   "outputs": [
    {
     "data": {
      "text/plain": "     passenger_id  survived  pclass     sex   age  sibsp  parch      fare  \\\n776           776         0       3    male   NaN      0      0    7.7500   \n829           829         1       1  female  62.0      0      0   80.0000   \n215           215         1       1  female  31.0      1      0  113.2750   \n258           258         1       1  female  35.0      0      0  512.3292   \n129           129         0       3    male  45.0      0      0    6.9750   \n\n    embarked  class deck  embark_town  alone  \n776        Q  Third    F   Queenstown      1  \n829      NaN  First    B          NaN      1  \n215        C  First    D    Cherbourg      0  \n258        C  First  NaN    Cherbourg      1  \n129        S  Third  NaN  Southampton      1  ",
      "text/html": "<div>\n<style scoped>\n    .dataframe tbody tr th:only-of-type {\n        vertical-align: middle;\n    }\n\n    .dataframe tbody tr th {\n        vertical-align: top;\n    }\n\n    .dataframe thead th {\n        text-align: right;\n    }\n</style>\n<table border=\"1\" class=\"dataframe\">\n  <thead>\n    <tr style=\"text-align: right;\">\n      <th></th>\n      <th>passenger_id</th>\n      <th>survived</th>\n      <th>pclass</th>\n      <th>sex</th>\n      <th>age</th>\n      <th>sibsp</th>\n      <th>parch</th>\n      <th>fare</th>\n      <th>embarked</th>\n      <th>class</th>\n      <th>deck</th>\n      <th>embark_town</th>\n      <th>alone</th>\n    </tr>\n  </thead>\n  <tbody>\n    <tr>\n      <th>776</th>\n      <td>776</td>\n      <td>0</td>\n      <td>3</td>\n      <td>male</td>\n      <td>NaN</td>\n      <td>0</td>\n      <td>0</td>\n      <td>7.7500</td>\n      <td>Q</td>\n      <td>Third</td>\n      <td>F</td>\n      <td>Queenstown</td>\n      <td>1</td>\n    </tr>\n    <tr>\n      <th>829</th>\n      <td>829</td>\n      <td>1</td>\n      <td>1</td>\n      <td>female</td>\n      <td>62.0</td>\n      <td>0</td>\n      <td>0</td>\n      <td>80.0000</td>\n      <td>NaN</td>\n      <td>First</td>\n      <td>B</td>\n      <td>NaN</td>\n      <td>1</td>\n    </tr>\n    <tr>\n      <th>215</th>\n      <td>215</td>\n      <td>1</td>\n      <td>1</td>\n      <td>female</td>\n      <td>31.0</td>\n      <td>1</td>\n      <td>0</td>\n      <td>113.2750</td>\n      <td>C</td>\n      <td>First</td>\n      <td>D</td>\n      <td>Cherbourg</td>\n      <td>0</td>\n    </tr>\n    <tr>\n      <th>258</th>\n      <td>258</td>\n      <td>1</td>\n      <td>1</td>\n      <td>female</td>\n      <td>35.0</td>\n      <td>0</td>\n      <td>0</td>\n      <td>512.3292</td>\n      <td>C</td>\n      <td>First</td>\n      <td>NaN</td>\n      <td>Cherbourg</td>\n      <td>1</td>\n    </tr>\n    <tr>\n      <th>129</th>\n      <td>129</td>\n      <td>0</td>\n      <td>3</td>\n      <td>male</td>\n      <td>45.0</td>\n      <td>0</td>\n      <td>0</td>\n      <td>6.9750</td>\n      <td>S</td>\n      <td>Third</td>\n      <td>NaN</td>\n      <td>Southampton</td>\n      <td>1</td>\n    </tr>\n  </tbody>\n</table>\n</div>"
     },
     "execution_count": 170,
     "metadata": {},
     "output_type": "execute_result"
    }
   ],
   "source": [
    "train.head()"
   ],
   "metadata": {
    "collapsed": false,
    "ExecuteTime": {
     "end_time": "2023-11-29T20:09:33.186590Z",
     "start_time": "2023-11-29T20:09:33.157723Z"
    }
   },
   "id": "993ab7963867b43c"
  },
  {
   "cell_type": "code",
   "execution_count": 171,
   "outputs": [
    {
     "data": {
      "text/plain": "     passenger_id  survived  pclass     sex   age  sibsp  parch      fare  \\\n776           776         0       3    male   NaN      0      0    7.7500   \n829           829         1       1  female  62.0      0      0   80.0000   \n215           215         1       1  female  31.0      1      0  113.2750   \n258           258         1       1  female  35.0      0      0  512.3292   \n129           129         0       3    male  45.0      0      0    6.9750   \n\n    embarked  class deck  embark_town  alone  sex_female  \n776        Q  Third    F   Queenstown      1           0  \n829      NaN  First    B          NaN      1           1  \n215        C  First    D    Cherbourg      0           1  \n258        C  First  NaN    Cherbourg      1           1  \n129        S  Third  NaN  Southampton      1           0  ",
      "text/html": "<div>\n<style scoped>\n    .dataframe tbody tr th:only-of-type {\n        vertical-align: middle;\n    }\n\n    .dataframe tbody tr th {\n        vertical-align: top;\n    }\n\n    .dataframe thead th {\n        text-align: right;\n    }\n</style>\n<table border=\"1\" class=\"dataframe\">\n  <thead>\n    <tr style=\"text-align: right;\">\n      <th></th>\n      <th>passenger_id</th>\n      <th>survived</th>\n      <th>pclass</th>\n      <th>sex</th>\n      <th>age</th>\n      <th>sibsp</th>\n      <th>parch</th>\n      <th>fare</th>\n      <th>embarked</th>\n      <th>class</th>\n      <th>deck</th>\n      <th>embark_town</th>\n      <th>alone</th>\n      <th>sex_female</th>\n    </tr>\n  </thead>\n  <tbody>\n    <tr>\n      <th>776</th>\n      <td>776</td>\n      <td>0</td>\n      <td>3</td>\n      <td>male</td>\n      <td>NaN</td>\n      <td>0</td>\n      <td>0</td>\n      <td>7.7500</td>\n      <td>Q</td>\n      <td>Third</td>\n      <td>F</td>\n      <td>Queenstown</td>\n      <td>1</td>\n      <td>0</td>\n    </tr>\n    <tr>\n      <th>829</th>\n      <td>829</td>\n      <td>1</td>\n      <td>1</td>\n      <td>female</td>\n      <td>62.0</td>\n      <td>0</td>\n      <td>0</td>\n      <td>80.0000</td>\n      <td>NaN</td>\n      <td>First</td>\n      <td>B</td>\n      <td>NaN</td>\n      <td>1</td>\n      <td>1</td>\n    </tr>\n    <tr>\n      <th>215</th>\n      <td>215</td>\n      <td>1</td>\n      <td>1</td>\n      <td>female</td>\n      <td>31.0</td>\n      <td>1</td>\n      <td>0</td>\n      <td>113.2750</td>\n      <td>C</td>\n      <td>First</td>\n      <td>D</td>\n      <td>Cherbourg</td>\n      <td>0</td>\n      <td>1</td>\n    </tr>\n    <tr>\n      <th>258</th>\n      <td>258</td>\n      <td>1</td>\n      <td>1</td>\n      <td>female</td>\n      <td>35.0</td>\n      <td>0</td>\n      <td>0</td>\n      <td>512.3292</td>\n      <td>C</td>\n      <td>First</td>\n      <td>NaN</td>\n      <td>Cherbourg</td>\n      <td>1</td>\n      <td>1</td>\n    </tr>\n    <tr>\n      <th>129</th>\n      <td>129</td>\n      <td>0</td>\n      <td>3</td>\n      <td>male</td>\n      <td>45.0</td>\n      <td>0</td>\n      <td>0</td>\n      <td>6.9750</td>\n      <td>S</td>\n      <td>Third</td>\n      <td>NaN</td>\n      <td>Southampton</td>\n      <td>1</td>\n      <td>0</td>\n    </tr>\n  </tbody>\n</table>\n</div>"
     },
     "execution_count": 171,
     "metadata": {},
     "output_type": "execute_result"
    }
   ],
   "source": [
    "encoded_train = train.assign(sex_female = np.where(train['sex'] == 'male', 0, 1))\n",
    "encoded_train.head()"
   ],
   "metadata": {
    "collapsed": false,
    "ExecuteTime": {
     "end_time": "2023-11-29T20:09:33.917017Z",
     "start_time": "2023-11-29T20:09:33.861488Z"
    }
   },
   "id": "ef1eb993aa34d3b6"
  },
  {
   "cell_type": "code",
   "execution_count": 172,
   "outputs": [
    {
     "data": {
      "text/plain": "     passenger_id  survived  pclass     sex   age  sibsp  parch      fare  \\\n776           776         0       3    male   NaN      0      0    7.7500   \n829           829         1       1  female  62.0      0      0   80.0000   \n215           215         1       1  female  31.0      1      0  113.2750   \n258           258         1       1  female  35.0      0      0  512.3292   \n129           129         0       3    male  45.0      0      0    6.9750   \n\n    embarked  class deck  embark_town  alone  sex_female  is_queenstown  \\\n776        Q  Third    F   Queenstown      1           0              1   \n829      NaN  First    B          NaN      1           1              0   \n215        C  First    D    Cherbourg      0           1              0   \n258        C  First  NaN    Cherbourg      1           1              0   \n129        S  Third  NaN  Southampton      1           0              0   \n\n     is_southampton  \n776               0  \n829               0  \n215               0  \n258               0  \n129               1  ",
      "text/html": "<div>\n<style scoped>\n    .dataframe tbody tr th:only-of-type {\n        vertical-align: middle;\n    }\n\n    .dataframe tbody tr th {\n        vertical-align: top;\n    }\n\n    .dataframe thead th {\n        text-align: right;\n    }\n</style>\n<table border=\"1\" class=\"dataframe\">\n  <thead>\n    <tr style=\"text-align: right;\">\n      <th></th>\n      <th>passenger_id</th>\n      <th>survived</th>\n      <th>pclass</th>\n      <th>sex</th>\n      <th>age</th>\n      <th>sibsp</th>\n      <th>parch</th>\n      <th>fare</th>\n      <th>embarked</th>\n      <th>class</th>\n      <th>deck</th>\n      <th>embark_town</th>\n      <th>alone</th>\n      <th>sex_female</th>\n      <th>is_queenstown</th>\n      <th>is_southampton</th>\n    </tr>\n  </thead>\n  <tbody>\n    <tr>\n      <th>776</th>\n      <td>776</td>\n      <td>0</td>\n      <td>3</td>\n      <td>male</td>\n      <td>NaN</td>\n      <td>0</td>\n      <td>0</td>\n      <td>7.7500</td>\n      <td>Q</td>\n      <td>Third</td>\n      <td>F</td>\n      <td>Queenstown</td>\n      <td>1</td>\n      <td>0</td>\n      <td>1</td>\n      <td>0</td>\n    </tr>\n    <tr>\n      <th>829</th>\n      <td>829</td>\n      <td>1</td>\n      <td>1</td>\n      <td>female</td>\n      <td>62.0</td>\n      <td>0</td>\n      <td>0</td>\n      <td>80.0000</td>\n      <td>NaN</td>\n      <td>First</td>\n      <td>B</td>\n      <td>NaN</td>\n      <td>1</td>\n      <td>1</td>\n      <td>0</td>\n      <td>0</td>\n    </tr>\n    <tr>\n      <th>215</th>\n      <td>215</td>\n      <td>1</td>\n      <td>1</td>\n      <td>female</td>\n      <td>31.0</td>\n      <td>1</td>\n      <td>0</td>\n      <td>113.2750</td>\n      <td>C</td>\n      <td>First</td>\n      <td>D</td>\n      <td>Cherbourg</td>\n      <td>0</td>\n      <td>1</td>\n      <td>0</td>\n      <td>0</td>\n    </tr>\n    <tr>\n      <th>258</th>\n      <td>258</td>\n      <td>1</td>\n      <td>1</td>\n      <td>female</td>\n      <td>35.0</td>\n      <td>0</td>\n      <td>0</td>\n      <td>512.3292</td>\n      <td>C</td>\n      <td>First</td>\n      <td>NaN</td>\n      <td>Cherbourg</td>\n      <td>1</td>\n      <td>1</td>\n      <td>0</td>\n      <td>0</td>\n    </tr>\n    <tr>\n      <th>129</th>\n      <td>129</td>\n      <td>0</td>\n      <td>3</td>\n      <td>male</td>\n      <td>45.0</td>\n      <td>0</td>\n      <td>0</td>\n      <td>6.9750</td>\n      <td>S</td>\n      <td>Third</td>\n      <td>NaN</td>\n      <td>Southampton</td>\n      <td>1</td>\n      <td>0</td>\n      <td>0</td>\n      <td>1</td>\n    </tr>\n  </tbody>\n</table>\n</div>"
     },
     "execution_count": 172,
     "metadata": {},
     "output_type": "execute_result"
    }
   ],
   "source": [
    "encoded_train[['is_queenstown', 'is_southampton']] = pd.get_dummies(encoded_train.embark_town, drop_first=True).astype(int)\n",
    "encoded_train.head()"
   ],
   "metadata": {
    "collapsed": false,
    "ExecuteTime": {
     "end_time": "2023-11-29T20:09:35.640058Z",
     "start_time": "2023-11-29T20:09:35.610376Z"
    }
   },
   "id": "1d6cb0eedce60116"
  },
  {
   "cell_type": "code",
   "execution_count": 173,
   "outputs": [
    {
     "ename": "InvalidIndexError",
     "evalue": "['sex', 'embark_town']",
     "output_type": "error",
     "traceback": [
      "\u001B[0;31m---------------------------------------------------------------------------\u001B[0m",
      "\u001B[0;31mTypeError\u001B[0m                                 Traceback (most recent call last)",
      "File \u001B[0;32m~/codeup-data-science/venv/lib/python3.11/site-packages/pandas/core/indexes/base.py:3790\u001B[0m, in \u001B[0;36mIndex.get_loc\u001B[0;34m(self, key)\u001B[0m\n\u001B[1;32m   3789\u001B[0m \u001B[38;5;28;01mtry\u001B[39;00m:\n\u001B[0;32m-> 3790\u001B[0m     \u001B[38;5;28;01mreturn\u001B[39;00m \u001B[38;5;28;43mself\u001B[39;49m\u001B[38;5;241;43m.\u001B[39;49m\u001B[43m_engine\u001B[49m\u001B[38;5;241;43m.\u001B[39;49m\u001B[43mget_loc\u001B[49m\u001B[43m(\u001B[49m\u001B[43mcasted_key\u001B[49m\u001B[43m)\u001B[49m\n\u001B[1;32m   3791\u001B[0m \u001B[38;5;28;01mexcept\u001B[39;00m \u001B[38;5;167;01mKeyError\u001B[39;00m \u001B[38;5;28;01mas\u001B[39;00m err:\n",
      "File \u001B[0;32mindex.pyx:152\u001B[0m, in \u001B[0;36mpandas._libs.index.IndexEngine.get_loc\u001B[0;34m()\u001B[0m\n",
      "File \u001B[0;32mindex.pyx:158\u001B[0m, in \u001B[0;36mpandas._libs.index.IndexEngine.get_loc\u001B[0;34m()\u001B[0m\n",
      "\u001B[0;31mTypeError\u001B[0m: '['sex', 'embark_town']' is an invalid key",
      "\nDuring handling of the above exception, another exception occurred:\n",
      "\u001B[0;31mInvalidIndexError\u001B[0m                         Traceback (most recent call last)",
      "Cell \u001B[0;32mIn[173], line 1\u001B[0m\n\u001B[0;32m----> 1\u001B[0m \u001B[43mencoded_train\u001B[49m\u001B[38;5;241;43m.\u001B[39;49m\u001B[43mpop\u001B[49m\u001B[43m(\u001B[49m\u001B[43m[\u001B[49m\u001B[38;5;124;43m'\u001B[39;49m\u001B[38;5;124;43msex\u001B[39;49m\u001B[38;5;124;43m'\u001B[39;49m\u001B[43m,\u001B[49m\u001B[43m \u001B[49m\u001B[38;5;124;43m'\u001B[39;49m\u001B[38;5;124;43membark_town\u001B[39;49m\u001B[38;5;124;43m'\u001B[39;49m\u001B[43m]\u001B[49m\u001B[43m)\u001B[49m\n",
      "File \u001B[0;32m~/codeup-data-science/venv/lib/python3.11/site-packages/pandas/core/frame.py:5570\u001B[0m, in \u001B[0;36mDataFrame.pop\u001B[0;34m(self, item)\u001B[0m\n\u001B[1;32m   5529\u001B[0m \u001B[38;5;28;01mdef\u001B[39;00m \u001B[38;5;21mpop\u001B[39m(\u001B[38;5;28mself\u001B[39m, item: Hashable) \u001B[38;5;241m-\u001B[39m\u001B[38;5;241m>\u001B[39m Series:\n\u001B[1;32m   5530\u001B[0m \u001B[38;5;250m    \u001B[39m\u001B[38;5;124;03m\"\"\"\u001B[39;00m\n\u001B[1;32m   5531\u001B[0m \u001B[38;5;124;03m    Return item and drop from frame. Raise KeyError if not found.\u001B[39;00m\n\u001B[1;32m   5532\u001B[0m \n\u001B[0;32m   (...)\u001B[0m\n\u001B[1;32m   5568\u001B[0m \u001B[38;5;124;03m    3  monkey        NaN\u001B[39;00m\n\u001B[1;32m   5569\u001B[0m \u001B[38;5;124;03m    \"\"\"\u001B[39;00m\n\u001B[0;32m-> 5570\u001B[0m     \u001B[38;5;28;01mreturn\u001B[39;00m \u001B[38;5;28;43msuper\u001B[39;49m\u001B[43m(\u001B[49m\u001B[43m)\u001B[49m\u001B[38;5;241;43m.\u001B[39;49m\u001B[43mpop\u001B[49m\u001B[43m(\u001B[49m\u001B[43mitem\u001B[49m\u001B[38;5;241;43m=\u001B[39;49m\u001B[43mitem\u001B[49m\u001B[43m)\u001B[49m\n",
      "File \u001B[0;32m~/codeup-data-science/venv/lib/python3.11/site-packages/pandas/core/generic.py:902\u001B[0m, in \u001B[0;36mNDFrame.pop\u001B[0;34m(self, item)\u001B[0m\n\u001B[1;32m    900\u001B[0m \u001B[38;5;28;01mdef\u001B[39;00m \u001B[38;5;21mpop\u001B[39m(\u001B[38;5;28mself\u001B[39m, item: Hashable) \u001B[38;5;241m-\u001B[39m\u001B[38;5;241m>\u001B[39m Series \u001B[38;5;241m|\u001B[39m Any:\n\u001B[1;32m    901\u001B[0m     result \u001B[38;5;241m=\u001B[39m \u001B[38;5;28mself\u001B[39m[item]\n\u001B[0;32m--> 902\u001B[0m     \u001B[38;5;28;01mdel\u001B[39;00m \u001B[38;5;28;43mself\u001B[39;49m\u001B[43m[\u001B[49m\u001B[43mitem\u001B[49m\u001B[43m]\u001B[49m\n\u001B[1;32m    904\u001B[0m     \u001B[38;5;28;01mreturn\u001B[39;00m result\n",
      "File \u001B[0;32m~/codeup-data-science/venv/lib/python3.11/site-packages/pandas/core/generic.py:4441\u001B[0m, in \u001B[0;36mNDFrame.__delitem__\u001B[0;34m(self, key)\u001B[0m\n\u001B[1;32m   4436\u001B[0m             deleted \u001B[38;5;241m=\u001B[39m \u001B[38;5;28;01mTrue\u001B[39;00m\n\u001B[1;32m   4437\u001B[0m \u001B[38;5;28;01mif\u001B[39;00m \u001B[38;5;129;01mnot\u001B[39;00m deleted:\n\u001B[1;32m   4438\u001B[0m     \u001B[38;5;66;03m# If the above loop ran and didn't delete anything because\u001B[39;00m\n\u001B[1;32m   4439\u001B[0m     \u001B[38;5;66;03m# there was no match, this call should raise the appropriate\u001B[39;00m\n\u001B[1;32m   4440\u001B[0m     \u001B[38;5;66;03m# exception:\u001B[39;00m\n\u001B[0;32m-> 4441\u001B[0m     loc \u001B[38;5;241m=\u001B[39m \u001B[38;5;28;43mself\u001B[39;49m\u001B[38;5;241;43m.\u001B[39;49m\u001B[43maxes\u001B[49m\u001B[43m[\u001B[49m\u001B[38;5;241;43m-\u001B[39;49m\u001B[38;5;241;43m1\u001B[39;49m\u001B[43m]\u001B[49m\u001B[38;5;241;43m.\u001B[39;49m\u001B[43mget_loc\u001B[49m\u001B[43m(\u001B[49m\u001B[43mkey\u001B[49m\u001B[43m)\u001B[49m\n\u001B[1;32m   4442\u001B[0m     \u001B[38;5;28mself\u001B[39m\u001B[38;5;241m.\u001B[39m_mgr \u001B[38;5;241m=\u001B[39m \u001B[38;5;28mself\u001B[39m\u001B[38;5;241m.\u001B[39m_mgr\u001B[38;5;241m.\u001B[39midelete(loc)\n\u001B[1;32m   4444\u001B[0m \u001B[38;5;66;03m# delete from the caches\u001B[39;00m\n",
      "File \u001B[0;32m~/codeup-data-science/venv/lib/python3.11/site-packages/pandas/core/indexes/base.py:3802\u001B[0m, in \u001B[0;36mIndex.get_loc\u001B[0;34m(self, key)\u001B[0m\n\u001B[1;32m   3797\u001B[0m     \u001B[38;5;28;01mraise\u001B[39;00m \u001B[38;5;167;01mKeyError\u001B[39;00m(key) \u001B[38;5;28;01mfrom\u001B[39;00m \u001B[38;5;21;01merr\u001B[39;00m\n\u001B[1;32m   3798\u001B[0m \u001B[38;5;28;01mexcept\u001B[39;00m \u001B[38;5;167;01mTypeError\u001B[39;00m:\n\u001B[1;32m   3799\u001B[0m     \u001B[38;5;66;03m# If we have a listlike key, _check_indexing_error will raise\u001B[39;00m\n\u001B[1;32m   3800\u001B[0m     \u001B[38;5;66;03m#  InvalidIndexError. Otherwise we fall through and re-raise\u001B[39;00m\n\u001B[1;32m   3801\u001B[0m     \u001B[38;5;66;03m#  the TypeError.\u001B[39;00m\n\u001B[0;32m-> 3802\u001B[0m     \u001B[38;5;28;43mself\u001B[39;49m\u001B[38;5;241;43m.\u001B[39;49m\u001B[43m_check_indexing_error\u001B[49m\u001B[43m(\u001B[49m\u001B[43mkey\u001B[49m\u001B[43m)\u001B[49m\n\u001B[1;32m   3803\u001B[0m     \u001B[38;5;28;01mraise\u001B[39;00m\n",
      "File \u001B[0;32m~/codeup-data-science/venv/lib/python3.11/site-packages/pandas/core/indexes/base.py:5974\u001B[0m, in \u001B[0;36mIndex._check_indexing_error\u001B[0;34m(self, key)\u001B[0m\n\u001B[1;32m   5970\u001B[0m \u001B[38;5;28;01mdef\u001B[39;00m \u001B[38;5;21m_check_indexing_error\u001B[39m(\u001B[38;5;28mself\u001B[39m, key):\n\u001B[1;32m   5971\u001B[0m     \u001B[38;5;28;01mif\u001B[39;00m \u001B[38;5;129;01mnot\u001B[39;00m is_scalar(key):\n\u001B[1;32m   5972\u001B[0m         \u001B[38;5;66;03m# if key is not a scalar, directly raise an error (the code below\u001B[39;00m\n\u001B[1;32m   5973\u001B[0m         \u001B[38;5;66;03m# would convert to numpy arrays and raise later any way) - GH29926\u001B[39;00m\n\u001B[0;32m-> 5974\u001B[0m         \u001B[38;5;28;01mraise\u001B[39;00m InvalidIndexError(key)\n",
      "\u001B[0;31mInvalidIndexError\u001B[0m: ['sex', 'embark_town']"
     ]
    }
   ],
   "source": [
    "encoded_train.pop(['sex', 'embark_town'])"
   ],
   "metadata": {
    "collapsed": false,
    "ExecuteTime": {
     "end_time": "2023-11-29T20:09:41.553128Z",
     "start_time": "2023-11-29T20:09:41.344869Z"
    }
   },
   "id": "67bc44719b9f4b08"
  },
  {
   "cell_type": "markdown",
   "source": [
    "> validate"
   ],
   "metadata": {
    "collapsed": false
   },
   "id": "1d91795ea2ed934d"
  },
  {
   "cell_type": "code",
   "execution_count": 174,
   "outputs": [
    {
     "data": {
      "text/plain": "     passenger_id  survived  pclass     sex   age  sibsp  parch      fare  \\\n541           541         0       3  female   9.0      4      2   31.2750   \n204           204         1       3    male  18.0      0      0    8.0500   \n108           108         0       3    male  38.0      0      0    7.8958   \n88             88         1       1  female  23.0      3      2  263.0000   \n677           677         1       3  female  18.0      0      0    9.8417   \n\n    embarked  class deck  embark_town  alone  sex_male  \n541        S  Third  NaN  Southampton      0         0  \n204        S  Third  NaN  Southampton      1         1  \n108        S  Third  NaN  Southampton      1         1  \n88         S  First    C  Southampton      0         0  \n677        S  Third  NaN  Southampton      1         0  ",
      "text/html": "<div>\n<style scoped>\n    .dataframe tbody tr th:only-of-type {\n        vertical-align: middle;\n    }\n\n    .dataframe tbody tr th {\n        vertical-align: top;\n    }\n\n    .dataframe thead th {\n        text-align: right;\n    }\n</style>\n<table border=\"1\" class=\"dataframe\">\n  <thead>\n    <tr style=\"text-align: right;\">\n      <th></th>\n      <th>passenger_id</th>\n      <th>survived</th>\n      <th>pclass</th>\n      <th>sex</th>\n      <th>age</th>\n      <th>sibsp</th>\n      <th>parch</th>\n      <th>fare</th>\n      <th>embarked</th>\n      <th>class</th>\n      <th>deck</th>\n      <th>embark_town</th>\n      <th>alone</th>\n      <th>sex_male</th>\n    </tr>\n  </thead>\n  <tbody>\n    <tr>\n      <th>541</th>\n      <td>541</td>\n      <td>0</td>\n      <td>3</td>\n      <td>female</td>\n      <td>9.0</td>\n      <td>4</td>\n      <td>2</td>\n      <td>31.2750</td>\n      <td>S</td>\n      <td>Third</td>\n      <td>NaN</td>\n      <td>Southampton</td>\n      <td>0</td>\n      <td>0</td>\n    </tr>\n    <tr>\n      <th>204</th>\n      <td>204</td>\n      <td>1</td>\n      <td>3</td>\n      <td>male</td>\n      <td>18.0</td>\n      <td>0</td>\n      <td>0</td>\n      <td>8.0500</td>\n      <td>S</td>\n      <td>Third</td>\n      <td>NaN</td>\n      <td>Southampton</td>\n      <td>1</td>\n      <td>1</td>\n    </tr>\n    <tr>\n      <th>108</th>\n      <td>108</td>\n      <td>0</td>\n      <td>3</td>\n      <td>male</td>\n      <td>38.0</td>\n      <td>0</td>\n      <td>0</td>\n      <td>7.8958</td>\n      <td>S</td>\n      <td>Third</td>\n      <td>NaN</td>\n      <td>Southampton</td>\n      <td>1</td>\n      <td>1</td>\n    </tr>\n    <tr>\n      <th>88</th>\n      <td>88</td>\n      <td>1</td>\n      <td>1</td>\n      <td>female</td>\n      <td>23.0</td>\n      <td>3</td>\n      <td>2</td>\n      <td>263.0000</td>\n      <td>S</td>\n      <td>First</td>\n      <td>C</td>\n      <td>Southampton</td>\n      <td>0</td>\n      <td>0</td>\n    </tr>\n    <tr>\n      <th>677</th>\n      <td>677</td>\n      <td>1</td>\n      <td>3</td>\n      <td>female</td>\n      <td>18.0</td>\n      <td>0</td>\n      <td>0</td>\n      <td>9.8417</td>\n      <td>S</td>\n      <td>Third</td>\n      <td>NaN</td>\n      <td>Southampton</td>\n      <td>1</td>\n      <td>0</td>\n    </tr>\n  </tbody>\n</table>\n</div>"
     },
     "execution_count": 174,
     "metadata": {},
     "output_type": "execute_result"
    }
   ],
   "source": [
    "encoded_validate = validate.assign(sex_male = np.where(validate['sex'] == 'male', 1, 0))\n",
    "encoded_validate.head()"
   ],
   "metadata": {
    "collapsed": false,
    "ExecuteTime": {
     "end_time": "2023-11-29T20:09:42.545718Z",
     "start_time": "2023-11-29T20:09:42.475942Z"
    }
   },
   "id": "4b417ce276703e42"
  },
  {
   "cell_type": "code",
   "execution_count": 175,
   "outputs": [
    {
     "data": {
      "text/plain": "     passenger_id  survived  pclass     sex   age  sibsp  parch      fare  \\\n541           541         0       3  female   9.0      4      2   31.2750   \n204           204         1       3    male  18.0      0      0    8.0500   \n108           108         0       3    male  38.0      0      0    7.8958   \n88             88         1       1  female  23.0      3      2  263.0000   \n677           677         1       3  female  18.0      0      0    9.8417   \n\n    embarked  class deck  embark_town  alone  sex_female  \n541        S  Third  NaN  Southampton      0           1  \n204        S  Third  NaN  Southampton      1           0  \n108        S  Third  NaN  Southampton      1           0  \n88         S  First    C  Southampton      0           1  \n677        S  Third  NaN  Southampton      1           1  ",
      "text/html": "<div>\n<style scoped>\n    .dataframe tbody tr th:only-of-type {\n        vertical-align: middle;\n    }\n\n    .dataframe tbody tr th {\n        vertical-align: top;\n    }\n\n    .dataframe thead th {\n        text-align: right;\n    }\n</style>\n<table border=\"1\" class=\"dataframe\">\n  <thead>\n    <tr style=\"text-align: right;\">\n      <th></th>\n      <th>passenger_id</th>\n      <th>survived</th>\n      <th>pclass</th>\n      <th>sex</th>\n      <th>age</th>\n      <th>sibsp</th>\n      <th>parch</th>\n      <th>fare</th>\n      <th>embarked</th>\n      <th>class</th>\n      <th>deck</th>\n      <th>embark_town</th>\n      <th>alone</th>\n      <th>sex_female</th>\n    </tr>\n  </thead>\n  <tbody>\n    <tr>\n      <th>541</th>\n      <td>541</td>\n      <td>0</td>\n      <td>3</td>\n      <td>female</td>\n      <td>9.0</td>\n      <td>4</td>\n      <td>2</td>\n      <td>31.2750</td>\n      <td>S</td>\n      <td>Third</td>\n      <td>NaN</td>\n      <td>Southampton</td>\n      <td>0</td>\n      <td>1</td>\n    </tr>\n    <tr>\n      <th>204</th>\n      <td>204</td>\n      <td>1</td>\n      <td>3</td>\n      <td>male</td>\n      <td>18.0</td>\n      <td>0</td>\n      <td>0</td>\n      <td>8.0500</td>\n      <td>S</td>\n      <td>Third</td>\n      <td>NaN</td>\n      <td>Southampton</td>\n      <td>1</td>\n      <td>0</td>\n    </tr>\n    <tr>\n      <th>108</th>\n      <td>108</td>\n      <td>0</td>\n      <td>3</td>\n      <td>male</td>\n      <td>38.0</td>\n      <td>0</td>\n      <td>0</td>\n      <td>7.8958</td>\n      <td>S</td>\n      <td>Third</td>\n      <td>NaN</td>\n      <td>Southampton</td>\n      <td>1</td>\n      <td>0</td>\n    </tr>\n    <tr>\n      <th>88</th>\n      <td>88</td>\n      <td>1</td>\n      <td>1</td>\n      <td>female</td>\n      <td>23.0</td>\n      <td>3</td>\n      <td>2</td>\n      <td>263.0000</td>\n      <td>S</td>\n      <td>First</td>\n      <td>C</td>\n      <td>Southampton</td>\n      <td>0</td>\n      <td>1</td>\n    </tr>\n    <tr>\n      <th>677</th>\n      <td>677</td>\n      <td>1</td>\n      <td>3</td>\n      <td>female</td>\n      <td>18.0</td>\n      <td>0</td>\n      <td>0</td>\n      <td>9.8417</td>\n      <td>S</td>\n      <td>Third</td>\n      <td>NaN</td>\n      <td>Southampton</td>\n      <td>1</td>\n      <td>1</td>\n    </tr>\n  </tbody>\n</table>\n</div>"
     },
     "execution_count": 175,
     "metadata": {},
     "output_type": "execute_result"
    }
   ],
   "source": [
    "encoded_validate = validate.assign(sex_female = np.where(validate['sex'] == 'male', 0, 1))\n",
    "encoded_validate.head()"
   ],
   "metadata": {
    "collapsed": false,
    "ExecuteTime": {
     "end_time": "2023-11-29T20:09:43.565506Z",
     "start_time": "2023-11-29T20:09:43.541257Z"
    }
   },
   "id": "5746455332879ff5"
  },
  {
   "cell_type": "code",
   "execution_count": 176,
   "outputs": [
    {
     "data": {
      "text/plain": "     passenger_id  survived  pclass     sex   age  sibsp  parch      fare  \\\n541           541         0       3  female   9.0      4      2   31.2750   \n204           204         1       3    male  18.0      0      0    8.0500   \n108           108         0       3    male  38.0      0      0    7.8958   \n88             88         1       1  female  23.0      3      2  263.0000   \n677           677         1       3  female  18.0      0      0    9.8417   \n\n    embarked  class deck  embark_town  alone  sex_female  is_queenstown  \\\n541        S  Third  NaN  Southampton      0           1              0   \n204        S  Third  NaN  Southampton      1           0              0   \n108        S  Third  NaN  Southampton      1           0              0   \n88         S  First    C  Southampton      0           1              0   \n677        S  Third  NaN  Southampton      1           1              0   \n\n     is_southampton  \n541               1  \n204               1  \n108               1  \n88                1  \n677               1  ",
      "text/html": "<div>\n<style scoped>\n    .dataframe tbody tr th:only-of-type {\n        vertical-align: middle;\n    }\n\n    .dataframe tbody tr th {\n        vertical-align: top;\n    }\n\n    .dataframe thead th {\n        text-align: right;\n    }\n</style>\n<table border=\"1\" class=\"dataframe\">\n  <thead>\n    <tr style=\"text-align: right;\">\n      <th></th>\n      <th>passenger_id</th>\n      <th>survived</th>\n      <th>pclass</th>\n      <th>sex</th>\n      <th>age</th>\n      <th>sibsp</th>\n      <th>parch</th>\n      <th>fare</th>\n      <th>embarked</th>\n      <th>class</th>\n      <th>deck</th>\n      <th>embark_town</th>\n      <th>alone</th>\n      <th>sex_female</th>\n      <th>is_queenstown</th>\n      <th>is_southampton</th>\n    </tr>\n  </thead>\n  <tbody>\n    <tr>\n      <th>541</th>\n      <td>541</td>\n      <td>0</td>\n      <td>3</td>\n      <td>female</td>\n      <td>9.0</td>\n      <td>4</td>\n      <td>2</td>\n      <td>31.2750</td>\n      <td>S</td>\n      <td>Third</td>\n      <td>NaN</td>\n      <td>Southampton</td>\n      <td>0</td>\n      <td>1</td>\n      <td>0</td>\n      <td>1</td>\n    </tr>\n    <tr>\n      <th>204</th>\n      <td>204</td>\n      <td>1</td>\n      <td>3</td>\n      <td>male</td>\n      <td>18.0</td>\n      <td>0</td>\n      <td>0</td>\n      <td>8.0500</td>\n      <td>S</td>\n      <td>Third</td>\n      <td>NaN</td>\n      <td>Southampton</td>\n      <td>1</td>\n      <td>0</td>\n      <td>0</td>\n      <td>1</td>\n    </tr>\n    <tr>\n      <th>108</th>\n      <td>108</td>\n      <td>0</td>\n      <td>3</td>\n      <td>male</td>\n      <td>38.0</td>\n      <td>0</td>\n      <td>0</td>\n      <td>7.8958</td>\n      <td>S</td>\n      <td>Third</td>\n      <td>NaN</td>\n      <td>Southampton</td>\n      <td>1</td>\n      <td>0</td>\n      <td>0</td>\n      <td>1</td>\n    </tr>\n    <tr>\n      <th>88</th>\n      <td>88</td>\n      <td>1</td>\n      <td>1</td>\n      <td>female</td>\n      <td>23.0</td>\n      <td>3</td>\n      <td>2</td>\n      <td>263.0000</td>\n      <td>S</td>\n      <td>First</td>\n      <td>C</td>\n      <td>Southampton</td>\n      <td>0</td>\n      <td>1</td>\n      <td>0</td>\n      <td>1</td>\n    </tr>\n    <tr>\n      <th>677</th>\n      <td>677</td>\n      <td>1</td>\n      <td>3</td>\n      <td>female</td>\n      <td>18.0</td>\n      <td>0</td>\n      <td>0</td>\n      <td>9.8417</td>\n      <td>S</td>\n      <td>Third</td>\n      <td>NaN</td>\n      <td>Southampton</td>\n      <td>1</td>\n      <td>1</td>\n      <td>0</td>\n      <td>1</td>\n    </tr>\n  </tbody>\n</table>\n</div>"
     },
     "execution_count": 176,
     "metadata": {},
     "output_type": "execute_result"
    }
   ],
   "source": [
    "encoded_validate[['is_queenstown', 'is_southampton']] = pd.get_dummies(encoded_validate.embark_town, drop_first=True).astype(int)\n",
    "encoded_validate.head()"
   ],
   "metadata": {
    "collapsed": false,
    "ExecuteTime": {
     "end_time": "2023-11-29T20:09:44.616424Z",
     "start_time": "2023-11-29T20:09:44.599057Z"
    }
   },
   "id": "8e5fe479233ce6ce"
  },
  {
   "cell_type": "code",
   "execution_count": 177,
   "outputs": [
    {
     "data": {
      "text/plain": "541    Southampton\n204    Southampton\n108    Southampton\n88     Southampton\n677    Southampton\n          ...     \n171     Queenstown\n369      Cherbourg\n114      Cherbourg\n855    Southampton\n885     Queenstown\nName: embark_town, Length: 178, dtype: object"
     },
     "execution_count": 177,
     "metadata": {},
     "output_type": "execute_result"
    }
   ],
   "source": [
    "encoded_validate.pop('embark_town')"
   ],
   "metadata": {
    "collapsed": false,
    "ExecuteTime": {
     "end_time": "2023-11-29T20:09:45.977324Z",
     "start_time": "2023-11-29T20:09:45.956962Z"
    }
   },
   "id": "578b220446644949"
  },
  {
   "cell_type": "code",
   "execution_count": 178,
   "outputs": [
    {
     "data": {
      "text/plain": "541    female\n204      male\n108      male\n88     female\n677    female\n        ...  \n171      male\n369    female\n114    female\n855    female\n885    female\nName: sex, Length: 178, dtype: object"
     },
     "execution_count": 178,
     "metadata": {},
     "output_type": "execute_result"
    }
   ],
   "source": [
    "encoded_validate.pop('sex')"
   ],
   "metadata": {
    "collapsed": false,
    "ExecuteTime": {
     "end_time": "2023-11-29T20:09:57.873752Z",
     "start_time": "2023-11-29T20:09:57.815294Z"
    }
   },
   "id": "bd2ea7feb68811de"
  },
  {
   "cell_type": "markdown",
   "source": [
    "> test\n"
   ],
   "metadata": {
    "collapsed": false
   },
   "id": "67c10e37cee1541b"
  },
  {
   "cell_type": "code",
   "execution_count": 179,
   "outputs": [
    {
     "data": {
      "text/plain": "     passenger_id  survived  pclass     sex   age  sibsp  parch      fare  \\\n763           763         1       1  female  36.0      1      2  120.0000   \n112           112         0       3    male  22.0      0      0    8.0500   \n230           230         1       1  female  35.0      1      0   83.4750   \n500           500         0       3    male  17.0      0      0    8.6625   \n237           237         1       2  female   8.0      0      2   26.2500   \n\n    embarked   class deck  embark_town  alone  sex_male  \n763        S   First    B  Southampton      0         0  \n112        S   Third  NaN  Southampton      1         1  \n230        S   First    C  Southampton      0         0  \n500        S   Third  NaN  Southampton      1         1  \n237        S  Second  NaN  Southampton      0         0  ",
      "text/html": "<div>\n<style scoped>\n    .dataframe tbody tr th:only-of-type {\n        vertical-align: middle;\n    }\n\n    .dataframe tbody tr th {\n        vertical-align: top;\n    }\n\n    .dataframe thead th {\n        text-align: right;\n    }\n</style>\n<table border=\"1\" class=\"dataframe\">\n  <thead>\n    <tr style=\"text-align: right;\">\n      <th></th>\n      <th>passenger_id</th>\n      <th>survived</th>\n      <th>pclass</th>\n      <th>sex</th>\n      <th>age</th>\n      <th>sibsp</th>\n      <th>parch</th>\n      <th>fare</th>\n      <th>embarked</th>\n      <th>class</th>\n      <th>deck</th>\n      <th>embark_town</th>\n      <th>alone</th>\n      <th>sex_male</th>\n    </tr>\n  </thead>\n  <tbody>\n    <tr>\n      <th>763</th>\n      <td>763</td>\n      <td>1</td>\n      <td>1</td>\n      <td>female</td>\n      <td>36.0</td>\n      <td>1</td>\n      <td>2</td>\n      <td>120.0000</td>\n      <td>S</td>\n      <td>First</td>\n      <td>B</td>\n      <td>Southampton</td>\n      <td>0</td>\n      <td>0</td>\n    </tr>\n    <tr>\n      <th>112</th>\n      <td>112</td>\n      <td>0</td>\n      <td>3</td>\n      <td>male</td>\n      <td>22.0</td>\n      <td>0</td>\n      <td>0</td>\n      <td>8.0500</td>\n      <td>S</td>\n      <td>Third</td>\n      <td>NaN</td>\n      <td>Southampton</td>\n      <td>1</td>\n      <td>1</td>\n    </tr>\n    <tr>\n      <th>230</th>\n      <td>230</td>\n      <td>1</td>\n      <td>1</td>\n      <td>female</td>\n      <td>35.0</td>\n      <td>1</td>\n      <td>0</td>\n      <td>83.4750</td>\n      <td>S</td>\n      <td>First</td>\n      <td>C</td>\n      <td>Southampton</td>\n      <td>0</td>\n      <td>0</td>\n    </tr>\n    <tr>\n      <th>500</th>\n      <td>500</td>\n      <td>0</td>\n      <td>3</td>\n      <td>male</td>\n      <td>17.0</td>\n      <td>0</td>\n      <td>0</td>\n      <td>8.6625</td>\n      <td>S</td>\n      <td>Third</td>\n      <td>NaN</td>\n      <td>Southampton</td>\n      <td>1</td>\n      <td>1</td>\n    </tr>\n    <tr>\n      <th>237</th>\n      <td>237</td>\n      <td>1</td>\n      <td>2</td>\n      <td>female</td>\n      <td>8.0</td>\n      <td>0</td>\n      <td>2</td>\n      <td>26.2500</td>\n      <td>S</td>\n      <td>Second</td>\n      <td>NaN</td>\n      <td>Southampton</td>\n      <td>0</td>\n      <td>0</td>\n    </tr>\n  </tbody>\n</table>\n</div>"
     },
     "execution_count": 179,
     "metadata": {},
     "output_type": "execute_result"
    }
   ],
   "source": [
    "encoded_test = test.assign(sex_male = np.where(test['sex'] == 'male', 1, 0))\n",
    "encoded_test.head()"
   ],
   "metadata": {
    "collapsed": false,
    "ExecuteTime": {
     "end_time": "2023-11-29T20:10:00.592539Z",
     "start_time": "2023-11-29T20:09:59.369988Z"
    }
   },
   "id": "7c4d7d006ef4654f"
  },
  {
   "cell_type": "code",
   "execution_count": 180,
   "outputs": [
    {
     "data": {
      "text/plain": "     passenger_id  survived  pclass     sex   age  sibsp  parch      fare  \\\n763           763         1       1  female  36.0      1      2  120.0000   \n112           112         0       3    male  22.0      0      0    8.0500   \n230           230         1       1  female  35.0      1      0   83.4750   \n500           500         0       3    male  17.0      0      0    8.6625   \n237           237         1       2  female   8.0      0      2   26.2500   \n\n    embarked   class deck  embark_town  alone  sex_female  \n763        S   First    B  Southampton      0           1  \n112        S   Third  NaN  Southampton      1           0  \n230        S   First    C  Southampton      0           1  \n500        S   Third  NaN  Southampton      1           0  \n237        S  Second  NaN  Southampton      0           1  ",
      "text/html": "<div>\n<style scoped>\n    .dataframe tbody tr th:only-of-type {\n        vertical-align: middle;\n    }\n\n    .dataframe tbody tr th {\n        vertical-align: top;\n    }\n\n    .dataframe thead th {\n        text-align: right;\n    }\n</style>\n<table border=\"1\" class=\"dataframe\">\n  <thead>\n    <tr style=\"text-align: right;\">\n      <th></th>\n      <th>passenger_id</th>\n      <th>survived</th>\n      <th>pclass</th>\n      <th>sex</th>\n      <th>age</th>\n      <th>sibsp</th>\n      <th>parch</th>\n      <th>fare</th>\n      <th>embarked</th>\n      <th>class</th>\n      <th>deck</th>\n      <th>embark_town</th>\n      <th>alone</th>\n      <th>sex_female</th>\n    </tr>\n  </thead>\n  <tbody>\n    <tr>\n      <th>763</th>\n      <td>763</td>\n      <td>1</td>\n      <td>1</td>\n      <td>female</td>\n      <td>36.0</td>\n      <td>1</td>\n      <td>2</td>\n      <td>120.0000</td>\n      <td>S</td>\n      <td>First</td>\n      <td>B</td>\n      <td>Southampton</td>\n      <td>0</td>\n      <td>1</td>\n    </tr>\n    <tr>\n      <th>112</th>\n      <td>112</td>\n      <td>0</td>\n      <td>3</td>\n      <td>male</td>\n      <td>22.0</td>\n      <td>0</td>\n      <td>0</td>\n      <td>8.0500</td>\n      <td>S</td>\n      <td>Third</td>\n      <td>NaN</td>\n      <td>Southampton</td>\n      <td>1</td>\n      <td>0</td>\n    </tr>\n    <tr>\n      <th>230</th>\n      <td>230</td>\n      <td>1</td>\n      <td>1</td>\n      <td>female</td>\n      <td>35.0</td>\n      <td>1</td>\n      <td>0</td>\n      <td>83.4750</td>\n      <td>S</td>\n      <td>First</td>\n      <td>C</td>\n      <td>Southampton</td>\n      <td>0</td>\n      <td>1</td>\n    </tr>\n    <tr>\n      <th>500</th>\n      <td>500</td>\n      <td>0</td>\n      <td>3</td>\n      <td>male</td>\n      <td>17.0</td>\n      <td>0</td>\n      <td>0</td>\n      <td>8.6625</td>\n      <td>S</td>\n      <td>Third</td>\n      <td>NaN</td>\n      <td>Southampton</td>\n      <td>1</td>\n      <td>0</td>\n    </tr>\n    <tr>\n      <th>237</th>\n      <td>237</td>\n      <td>1</td>\n      <td>2</td>\n      <td>female</td>\n      <td>8.0</td>\n      <td>0</td>\n      <td>2</td>\n      <td>26.2500</td>\n      <td>S</td>\n      <td>Second</td>\n      <td>NaN</td>\n      <td>Southampton</td>\n      <td>0</td>\n      <td>1</td>\n    </tr>\n  </tbody>\n</table>\n</div>"
     },
     "execution_count": 180,
     "metadata": {},
     "output_type": "execute_result"
    }
   ],
   "source": [
    "encoded_test = test.assign(sex_female = np.where(test['sex'] == 'male', 0, 1))\n",
    "encoded_test.head()"
   ],
   "metadata": {
    "collapsed": false,
    "ExecuteTime": {
     "end_time": "2023-11-29T20:10:01.868235Z",
     "start_time": "2023-11-29T20:10:01.830995Z"
    }
   },
   "id": "964a23981d41f891"
  },
  {
   "cell_type": "code",
   "execution_count": 181,
   "outputs": [
    {
     "data": {
      "text/plain": "     passenger_id  survived  pclass     sex   age  sibsp  parch      fare  \\\n763           763         1       1  female  36.0      1      2  120.0000   \n112           112         0       3    male  22.0      0      0    8.0500   \n230           230         1       1  female  35.0      1      0   83.4750   \n500           500         0       3    male  17.0      0      0    8.6625   \n237           237         1       2  female   8.0      0      2   26.2500   \n\n    embarked   class deck  embark_town  alone  sex_female  is_queenstown  \\\n763        S   First    B  Southampton      0           1              0   \n112        S   Third  NaN  Southampton      1           0              0   \n230        S   First    C  Southampton      0           1              0   \n500        S   Third  NaN  Southampton      1           0              0   \n237        S  Second  NaN  Southampton      0           1              0   \n\n     is_southampton  \n763               1  \n112               1  \n230               1  \n500               1  \n237               1  ",
      "text/html": "<div>\n<style scoped>\n    .dataframe tbody tr th:only-of-type {\n        vertical-align: middle;\n    }\n\n    .dataframe tbody tr th {\n        vertical-align: top;\n    }\n\n    .dataframe thead th {\n        text-align: right;\n    }\n</style>\n<table border=\"1\" class=\"dataframe\">\n  <thead>\n    <tr style=\"text-align: right;\">\n      <th></th>\n      <th>passenger_id</th>\n      <th>survived</th>\n      <th>pclass</th>\n      <th>sex</th>\n      <th>age</th>\n      <th>sibsp</th>\n      <th>parch</th>\n      <th>fare</th>\n      <th>embarked</th>\n      <th>class</th>\n      <th>deck</th>\n      <th>embark_town</th>\n      <th>alone</th>\n      <th>sex_female</th>\n      <th>is_queenstown</th>\n      <th>is_southampton</th>\n    </tr>\n  </thead>\n  <tbody>\n    <tr>\n      <th>763</th>\n      <td>763</td>\n      <td>1</td>\n      <td>1</td>\n      <td>female</td>\n      <td>36.0</td>\n      <td>1</td>\n      <td>2</td>\n      <td>120.0000</td>\n      <td>S</td>\n      <td>First</td>\n      <td>B</td>\n      <td>Southampton</td>\n      <td>0</td>\n      <td>1</td>\n      <td>0</td>\n      <td>1</td>\n    </tr>\n    <tr>\n      <th>112</th>\n      <td>112</td>\n      <td>0</td>\n      <td>3</td>\n      <td>male</td>\n      <td>22.0</td>\n      <td>0</td>\n      <td>0</td>\n      <td>8.0500</td>\n      <td>S</td>\n      <td>Third</td>\n      <td>NaN</td>\n      <td>Southampton</td>\n      <td>1</td>\n      <td>0</td>\n      <td>0</td>\n      <td>1</td>\n    </tr>\n    <tr>\n      <th>230</th>\n      <td>230</td>\n      <td>1</td>\n      <td>1</td>\n      <td>female</td>\n      <td>35.0</td>\n      <td>1</td>\n      <td>0</td>\n      <td>83.4750</td>\n      <td>S</td>\n      <td>First</td>\n      <td>C</td>\n      <td>Southampton</td>\n      <td>0</td>\n      <td>1</td>\n      <td>0</td>\n      <td>1</td>\n    </tr>\n    <tr>\n      <th>500</th>\n      <td>500</td>\n      <td>0</td>\n      <td>3</td>\n      <td>male</td>\n      <td>17.0</td>\n      <td>0</td>\n      <td>0</td>\n      <td>8.6625</td>\n      <td>S</td>\n      <td>Third</td>\n      <td>NaN</td>\n      <td>Southampton</td>\n      <td>1</td>\n      <td>0</td>\n      <td>0</td>\n      <td>1</td>\n    </tr>\n    <tr>\n      <th>237</th>\n      <td>237</td>\n      <td>1</td>\n      <td>2</td>\n      <td>female</td>\n      <td>8.0</td>\n      <td>0</td>\n      <td>2</td>\n      <td>26.2500</td>\n      <td>S</td>\n      <td>Second</td>\n      <td>NaN</td>\n      <td>Southampton</td>\n      <td>0</td>\n      <td>1</td>\n      <td>0</td>\n      <td>1</td>\n    </tr>\n  </tbody>\n</table>\n</div>"
     },
     "execution_count": 181,
     "metadata": {},
     "output_type": "execute_result"
    }
   ],
   "source": [
    "encoded_test[['is_queenstown', 'is_southampton']] = pd.get_dummies(encoded_test.embark_town, drop_first=True).astype(int)\n",
    "encoded_test.head()"
   ],
   "metadata": {
    "collapsed": false,
    "ExecuteTime": {
     "end_time": "2023-11-29T20:10:02.499763Z",
     "start_time": "2023-11-29T20:10:02.481059Z"
    }
   },
   "id": "c757d74933b7d683"
  },
  {
   "cell_type": "code",
   "execution_count": 182,
   "outputs": [
    {
     "data": {
      "text/plain": "763    female\n112      male\n230    female\n500      male\n237    female\n        ...  \n883      male\n149      male\n843      male\n581    female\n214      male\nName: sex, Length: 179, dtype: object"
     },
     "execution_count": 182,
     "metadata": {},
     "output_type": "execute_result"
    }
   ],
   "source": [
    "encoded_test.pop('sex')"
   ],
   "metadata": {
    "collapsed": false,
    "ExecuteTime": {
     "end_time": "2023-11-29T20:10:03.547145Z",
     "start_time": "2023-11-29T20:10:03.352408Z"
    }
   },
   "id": "74346d37a17b43e8"
  },
  {
   "cell_type": "code",
   "execution_count": 183,
   "outputs": [
    {
     "data": {
      "text/plain": "763    Southampton\n112    Southampton\n230    Southampton\n500    Southampton\n237    Southampton\n          ...     \n883    Southampton\n149    Southampton\n843      Cherbourg\n581      Cherbourg\n214     Queenstown\nName: embark_town, Length: 179, dtype: object"
     },
     "execution_count": 183,
     "metadata": {},
     "output_type": "execute_result"
    }
   ],
   "source": [
    "encoded_test.pop('embark_town')"
   ],
   "metadata": {
    "collapsed": false,
    "ExecuteTime": {
     "end_time": "2023-11-29T20:10:04.900550Z",
     "start_time": "2023-11-29T20:10:04.208397Z"
    }
   },
   "id": "b644785c98c1bc86"
  },
  {
   "cell_type": "code",
   "execution_count": 184,
   "outputs": [
    {
     "data": {
      "text/plain": "     passenger_id  survived  pclass   age  sibsp  parch      fare embarked  \\\n763           763         1       1  36.0      1      2  120.0000        S   \n112           112         0       3  22.0      0      0    8.0500        S   \n230           230         1       1  35.0      1      0   83.4750        S   \n500           500         0       3  17.0      0      0    8.6625        S   \n237           237         1       2   8.0      0      2   26.2500        S   \n\n      class deck  alone  sex_female  is_queenstown  is_southampton  \n763   First    B      0           1              0               1  \n112   Third  NaN      1           0              0               1  \n230   First    C      0           1              0               1  \n500   Third  NaN      1           0              0               1  \n237  Second  NaN      0           1              0               1  ",
      "text/html": "<div>\n<style scoped>\n    .dataframe tbody tr th:only-of-type {\n        vertical-align: middle;\n    }\n\n    .dataframe tbody tr th {\n        vertical-align: top;\n    }\n\n    .dataframe thead th {\n        text-align: right;\n    }\n</style>\n<table border=\"1\" class=\"dataframe\">\n  <thead>\n    <tr style=\"text-align: right;\">\n      <th></th>\n      <th>passenger_id</th>\n      <th>survived</th>\n      <th>pclass</th>\n      <th>age</th>\n      <th>sibsp</th>\n      <th>parch</th>\n      <th>fare</th>\n      <th>embarked</th>\n      <th>class</th>\n      <th>deck</th>\n      <th>alone</th>\n      <th>sex_female</th>\n      <th>is_queenstown</th>\n      <th>is_southampton</th>\n    </tr>\n  </thead>\n  <tbody>\n    <tr>\n      <th>763</th>\n      <td>763</td>\n      <td>1</td>\n      <td>1</td>\n      <td>36.0</td>\n      <td>1</td>\n      <td>2</td>\n      <td>120.0000</td>\n      <td>S</td>\n      <td>First</td>\n      <td>B</td>\n      <td>0</td>\n      <td>1</td>\n      <td>0</td>\n      <td>1</td>\n    </tr>\n    <tr>\n      <th>112</th>\n      <td>112</td>\n      <td>0</td>\n      <td>3</td>\n      <td>22.0</td>\n      <td>0</td>\n      <td>0</td>\n      <td>8.0500</td>\n      <td>S</td>\n      <td>Third</td>\n      <td>NaN</td>\n      <td>1</td>\n      <td>0</td>\n      <td>0</td>\n      <td>1</td>\n    </tr>\n    <tr>\n      <th>230</th>\n      <td>230</td>\n      <td>1</td>\n      <td>1</td>\n      <td>35.0</td>\n      <td>1</td>\n      <td>0</td>\n      <td>83.4750</td>\n      <td>S</td>\n      <td>First</td>\n      <td>C</td>\n      <td>0</td>\n      <td>1</td>\n      <td>0</td>\n      <td>1</td>\n    </tr>\n    <tr>\n      <th>500</th>\n      <td>500</td>\n      <td>0</td>\n      <td>3</td>\n      <td>17.0</td>\n      <td>0</td>\n      <td>0</td>\n      <td>8.6625</td>\n      <td>S</td>\n      <td>Third</td>\n      <td>NaN</td>\n      <td>1</td>\n      <td>0</td>\n      <td>0</td>\n      <td>1</td>\n    </tr>\n    <tr>\n      <th>237</th>\n      <td>237</td>\n      <td>1</td>\n      <td>2</td>\n      <td>8.0</td>\n      <td>0</td>\n      <td>2</td>\n      <td>26.2500</td>\n      <td>S</td>\n      <td>Second</td>\n      <td>NaN</td>\n      <td>0</td>\n      <td>1</td>\n      <td>0</td>\n      <td>1</td>\n    </tr>\n  </tbody>\n</table>\n</div>"
     },
     "execution_count": 184,
     "metadata": {},
     "output_type": "execute_result"
    }
   ],
   "source": [
    "encoded_test.head()"
   ],
   "metadata": {
    "collapsed": false,
    "ExecuteTime": {
     "end_time": "2023-11-29T20:10:05.175779Z",
     "start_time": "2023-11-29T20:10:04.804248Z"
    }
   },
   "id": "3ee2881e96cd4e2e"
  },
  {
   "cell_type": "code",
   "execution_count": 188,
   "outputs": [],
   "source": [
    "def preprocess_titanic(train, validate, test):\n",
    "    # Define a function that applies the encoding\n",
    "    def encode(df):\n",
    "        # Encoding the 'sex' column\n",
    "        df_encoded = df.copy()\n",
    "        df_encoded['sex_male'] = np.where(df_encoded['sex'] == 'male', 1, 0)\n",
    "        df_encoded['sex_female'] = np.where(df_encoded['sex'] == 'male', 0, 1)\n",
    "\n",
    "        # Encoding the 'embark_town' column\n",
    "        embark_town_dummies = pd.get_dummies(df_encoded['embark_town'], drop_first=True).astype(int)\n",
    "        df_encoded[['is_queenstown', 'is_southampton']] = embark_town_dummies\n",
    "\n",
    "        # Drop the original categorical columns and unnecesary\n",
    "        df_encoded = df_encoded.drop(columns=['sex', 'embark_town'])\n",
    "        df_encoded = df_encoded.drop(columns='passenger_id')\n",
    "        return df_encoded\n",
    "\n",
    "    # Apply the encoding function to each dataset and store in new variables\n",
    "    encoded_train = encode(train)\n",
    "    encoded_validate = encode(validate)\n",
    "    encoded_test = encode(test)\n",
    "\n",
    "    return encoded_train, encoded_validate, encoded_test\n"
   ],
   "metadata": {
    "collapsed": false,
    "ExecuteTime": {
     "end_time": "2023-11-29T20:11:49.442668Z",
     "start_time": "2023-11-29T20:11:49.406147Z"
    }
   },
   "id": "2c9d0cd6f2a8e4da"
  },
  {
   "cell_type": "code",
   "execution_count": 193,
   "outputs": [],
   "source": [
    "encoded_train, encoded_validate, encoded_test = preprocess_titanic(train, validate, test)\n"
   ],
   "metadata": {
    "collapsed": false,
    "ExecuteTime": {
     "end_time": "2023-11-29T20:17:00.749416Z",
     "start_time": "2023-11-29T20:17:00.536138Z"
    }
   },
   "id": "97ff16e52052eac2"
  },
  {
   "cell_type": "code",
   "execution_count": 213,
   "outputs": [
    {
     "data": {
      "text/plain": "     survived  pclass   age  sibsp  parch      fare embarked  class deck  \\\n776         0       3   NaN      0      0    7.7500        Q  Third    F   \n829         1       1  62.0      0      0   80.0000      NaN  First    B   \n215         1       1  31.0      1      0  113.2750        C  First    D   \n258         1       1  35.0      0      0  512.3292        C  First  NaN   \n129         0       3  45.0      0      0    6.9750        S  Third  NaN   \n\n     alone  sex_male  sex_female  is_queenstown  is_southampton  \n776      1         1           0              1               0  \n829      1         0           1              0               0  \n215      0         0           1              0               0  \n258      1         0           1              0               0  \n129      1         1           0              0               1  ",
      "text/html": "<div>\n<style scoped>\n    .dataframe tbody tr th:only-of-type {\n        vertical-align: middle;\n    }\n\n    .dataframe tbody tr th {\n        vertical-align: top;\n    }\n\n    .dataframe thead th {\n        text-align: right;\n    }\n</style>\n<table border=\"1\" class=\"dataframe\">\n  <thead>\n    <tr style=\"text-align: right;\">\n      <th></th>\n      <th>survived</th>\n      <th>pclass</th>\n      <th>age</th>\n      <th>sibsp</th>\n      <th>parch</th>\n      <th>fare</th>\n      <th>embarked</th>\n      <th>class</th>\n      <th>deck</th>\n      <th>alone</th>\n      <th>sex_male</th>\n      <th>sex_female</th>\n      <th>is_queenstown</th>\n      <th>is_southampton</th>\n    </tr>\n  </thead>\n  <tbody>\n    <tr>\n      <th>776</th>\n      <td>0</td>\n      <td>3</td>\n      <td>NaN</td>\n      <td>0</td>\n      <td>0</td>\n      <td>7.7500</td>\n      <td>Q</td>\n      <td>Third</td>\n      <td>F</td>\n      <td>1</td>\n      <td>1</td>\n      <td>0</td>\n      <td>1</td>\n      <td>0</td>\n    </tr>\n    <tr>\n      <th>829</th>\n      <td>1</td>\n      <td>1</td>\n      <td>62.0</td>\n      <td>0</td>\n      <td>0</td>\n      <td>80.0000</td>\n      <td>NaN</td>\n      <td>First</td>\n      <td>B</td>\n      <td>1</td>\n      <td>0</td>\n      <td>1</td>\n      <td>0</td>\n      <td>0</td>\n    </tr>\n    <tr>\n      <th>215</th>\n      <td>1</td>\n      <td>1</td>\n      <td>31.0</td>\n      <td>1</td>\n      <td>0</td>\n      <td>113.2750</td>\n      <td>C</td>\n      <td>First</td>\n      <td>D</td>\n      <td>0</td>\n      <td>0</td>\n      <td>1</td>\n      <td>0</td>\n      <td>0</td>\n    </tr>\n    <tr>\n      <th>258</th>\n      <td>1</td>\n      <td>1</td>\n      <td>35.0</td>\n      <td>0</td>\n      <td>0</td>\n      <td>512.3292</td>\n      <td>C</td>\n      <td>First</td>\n      <td>NaN</td>\n      <td>1</td>\n      <td>0</td>\n      <td>1</td>\n      <td>0</td>\n      <td>0</td>\n    </tr>\n    <tr>\n      <th>129</th>\n      <td>0</td>\n      <td>3</td>\n      <td>45.0</td>\n      <td>0</td>\n      <td>0</td>\n      <td>6.9750</td>\n      <td>S</td>\n      <td>Third</td>\n      <td>NaN</td>\n      <td>1</td>\n      <td>1</td>\n      <td>0</td>\n      <td>0</td>\n      <td>1</td>\n    </tr>\n  </tbody>\n</table>\n</div>"
     },
     "execution_count": 213,
     "metadata": {},
     "output_type": "execute_result"
    }
   ],
   "source": [
    "encoded_train.head()"
   ],
   "metadata": {
    "collapsed": false,
    "ExecuteTime": {
     "end_time": "2023-11-29T20:33:13.989420Z",
     "start_time": "2023-11-29T20:33:13.839147Z"
    }
   },
   "id": "7e2986278afcd873"
  },
  {
   "cell_type": "code",
   "execution_count": 315,
   "outputs": [
    {
     "name": "stdout",
     "output_type": "stream",
     "text": [
      "this file exists, reading csv\n"
     ]
    },
    {
     "data": {
      "text/plain": "   Unnamed: 0  payment_type_id  internet_service_type_id  contract_type_id  \\\n0           0                2                         1                 2   \n1           1                2                         1                 1   \n2           2                1                         2                 1   \n3           3                1                         2                 1   \n4           4                2                         2                 1   \n\n  customer_id  gender  senior_citizen partner dependents  tenure  ...  \\\n0  0002-ORFBO  Female               0     Yes        Yes       9  ...   \n1  0003-MKNFE    Male               0      No         No       9  ...   \n2  0004-TLHLJ    Male               0      No         No       4  ...   \n3  0011-IGKFF    Male               1     Yes         No      13  ...   \n4  0013-EXCHZ  Female               1     Yes         No       3  ...   \n\n  tech_support streaming_tv streaming_movies paperless_billing  \\\n0          Yes          Yes               No               Yes   \n1           No           No              Yes                No   \n2           No           No               No               Yes   \n3           No          Yes              Yes               Yes   \n4          Yes          Yes               No               Yes   \n\n  monthly_charges total_charges churn   contract_type internet_service_type  \\\n0            65.6         593.3    No        One year                   DSL   \n1            59.9         542.4    No  Month-to-month                   DSL   \n2            73.9        280.85   Yes  Month-to-month           Fiber optic   \n3            98.0       1237.85   Yes  Month-to-month           Fiber optic   \n4            83.9         267.4   Yes  Month-to-month           Fiber optic   \n\n       payment_type  \n0      Mailed check  \n1      Mailed check  \n2  Electronic check  \n3  Electronic check  \n4      Mailed check  \n\n[5 rows x 25 columns]",
      "text/html": "<div>\n<style scoped>\n    .dataframe tbody tr th:only-of-type {\n        vertical-align: middle;\n    }\n\n    .dataframe tbody tr th {\n        vertical-align: top;\n    }\n\n    .dataframe thead th {\n        text-align: right;\n    }\n</style>\n<table border=\"1\" class=\"dataframe\">\n  <thead>\n    <tr style=\"text-align: right;\">\n      <th></th>\n      <th>Unnamed: 0</th>\n      <th>payment_type_id</th>\n      <th>internet_service_type_id</th>\n      <th>contract_type_id</th>\n      <th>customer_id</th>\n      <th>gender</th>\n      <th>senior_citizen</th>\n      <th>partner</th>\n      <th>dependents</th>\n      <th>tenure</th>\n      <th>...</th>\n      <th>tech_support</th>\n      <th>streaming_tv</th>\n      <th>streaming_movies</th>\n      <th>paperless_billing</th>\n      <th>monthly_charges</th>\n      <th>total_charges</th>\n      <th>churn</th>\n      <th>contract_type</th>\n      <th>internet_service_type</th>\n      <th>payment_type</th>\n    </tr>\n  </thead>\n  <tbody>\n    <tr>\n      <th>0</th>\n      <td>0</td>\n      <td>2</td>\n      <td>1</td>\n      <td>2</td>\n      <td>0002-ORFBO</td>\n      <td>Female</td>\n      <td>0</td>\n      <td>Yes</td>\n      <td>Yes</td>\n      <td>9</td>\n      <td>...</td>\n      <td>Yes</td>\n      <td>Yes</td>\n      <td>No</td>\n      <td>Yes</td>\n      <td>65.6</td>\n      <td>593.3</td>\n      <td>No</td>\n      <td>One year</td>\n      <td>DSL</td>\n      <td>Mailed check</td>\n    </tr>\n    <tr>\n      <th>1</th>\n      <td>1</td>\n      <td>2</td>\n      <td>1</td>\n      <td>1</td>\n      <td>0003-MKNFE</td>\n      <td>Male</td>\n      <td>0</td>\n      <td>No</td>\n      <td>No</td>\n      <td>9</td>\n      <td>...</td>\n      <td>No</td>\n      <td>No</td>\n      <td>Yes</td>\n      <td>No</td>\n      <td>59.9</td>\n      <td>542.4</td>\n      <td>No</td>\n      <td>Month-to-month</td>\n      <td>DSL</td>\n      <td>Mailed check</td>\n    </tr>\n    <tr>\n      <th>2</th>\n      <td>2</td>\n      <td>1</td>\n      <td>2</td>\n      <td>1</td>\n      <td>0004-TLHLJ</td>\n      <td>Male</td>\n      <td>0</td>\n      <td>No</td>\n      <td>No</td>\n      <td>4</td>\n      <td>...</td>\n      <td>No</td>\n      <td>No</td>\n      <td>No</td>\n      <td>Yes</td>\n      <td>73.9</td>\n      <td>280.85</td>\n      <td>Yes</td>\n      <td>Month-to-month</td>\n      <td>Fiber optic</td>\n      <td>Electronic check</td>\n    </tr>\n    <tr>\n      <th>3</th>\n      <td>3</td>\n      <td>1</td>\n      <td>2</td>\n      <td>1</td>\n      <td>0011-IGKFF</td>\n      <td>Male</td>\n      <td>1</td>\n      <td>Yes</td>\n      <td>No</td>\n      <td>13</td>\n      <td>...</td>\n      <td>No</td>\n      <td>Yes</td>\n      <td>Yes</td>\n      <td>Yes</td>\n      <td>98.0</td>\n      <td>1237.85</td>\n      <td>Yes</td>\n      <td>Month-to-month</td>\n      <td>Fiber optic</td>\n      <td>Electronic check</td>\n    </tr>\n    <tr>\n      <th>4</th>\n      <td>4</td>\n      <td>2</td>\n      <td>2</td>\n      <td>1</td>\n      <td>0013-EXCHZ</td>\n      <td>Female</td>\n      <td>1</td>\n      <td>Yes</td>\n      <td>No</td>\n      <td>3</td>\n      <td>...</td>\n      <td>Yes</td>\n      <td>Yes</td>\n      <td>No</td>\n      <td>Yes</td>\n      <td>83.9</td>\n      <td>267.4</td>\n      <td>Yes</td>\n      <td>Month-to-month</td>\n      <td>Fiber optic</td>\n      <td>Mailed check</td>\n    </tr>\n  </tbody>\n</table>\n<p>5 rows × 25 columns</p>\n</div>"
     },
     "execution_count": 315,
     "metadata": {},
     "output_type": "execute_result"
    }
   ],
   "source": [
    "# get telco data\n",
    "df =acquired.get_telco_data()\n",
    "df.head()"
   ],
   "metadata": {
    "collapsed": false,
    "ExecuteTime": {
     "end_time": "2023-11-29T20:43:32.696280Z",
     "start_time": "2023-11-29T20:43:32.599092Z"
    }
   },
   "id": "14fcb6982d4a5282"
  },
  {
   "cell_type": "code",
   "execution_count": 316,
   "outputs": [
    {
     "data": {
      "text/plain": "  customer_id  gender  senior_citizen partner dependents  tenure  \\\n0  0002-ORFBO  Female               0     Yes        Yes       9   \n1  0003-MKNFE    Male               0      No         No       9   \n2  0004-TLHLJ    Male               0      No         No       4   \n3  0011-IGKFF    Male               1     Yes         No      13   \n4  0013-EXCHZ  Female               1     Yes         No       3   \n\n  phone_service multiple_lines online_security online_backup  ...  \\\n0           Yes             No              No           Yes  ...   \n1           Yes            Yes              No            No  ...   \n2           Yes             No              No            No  ...   \n3           Yes             No              No           Yes  ...   \n4           Yes             No              No            No  ...   \n\n  tech_support streaming_tv streaming_movies paperless_billing  \\\n0          Yes          Yes               No               Yes   \n1           No           No              Yes                No   \n2           No           No               No               Yes   \n3           No          Yes              Yes               Yes   \n4          Yes          Yes               No               Yes   \n\n  monthly_charges  total_charges churn   contract_type internet_service_type  \\\n0            65.6          593.3    No        One year                   DSL   \n1            59.9          542.4    No  Month-to-month                   DSL   \n2            73.9         280.85   Yes  Month-to-month           Fiber optic   \n3            98.0        1237.85   Yes  Month-to-month           Fiber optic   \n4            83.9          267.4   Yes  Month-to-month           Fiber optic   \n\n       payment_type  \n0      Mailed check  \n1      Mailed check  \n2  Electronic check  \n3  Electronic check  \n4      Mailed check  \n\n[5 rows x 21 columns]",
      "text/html": "<div>\n<style scoped>\n    .dataframe tbody tr th:only-of-type {\n        vertical-align: middle;\n    }\n\n    .dataframe tbody tr th {\n        vertical-align: top;\n    }\n\n    .dataframe thead th {\n        text-align: right;\n    }\n</style>\n<table border=\"1\" class=\"dataframe\">\n  <thead>\n    <tr style=\"text-align: right;\">\n      <th></th>\n      <th>customer_id</th>\n      <th>gender</th>\n      <th>senior_citizen</th>\n      <th>partner</th>\n      <th>dependents</th>\n      <th>tenure</th>\n      <th>phone_service</th>\n      <th>multiple_lines</th>\n      <th>online_security</th>\n      <th>online_backup</th>\n      <th>...</th>\n      <th>tech_support</th>\n      <th>streaming_tv</th>\n      <th>streaming_movies</th>\n      <th>paperless_billing</th>\n      <th>monthly_charges</th>\n      <th>total_charges</th>\n      <th>churn</th>\n      <th>contract_type</th>\n      <th>internet_service_type</th>\n      <th>payment_type</th>\n    </tr>\n  </thead>\n  <tbody>\n    <tr>\n      <th>0</th>\n      <td>0002-ORFBO</td>\n      <td>Female</td>\n      <td>0</td>\n      <td>Yes</td>\n      <td>Yes</td>\n      <td>9</td>\n      <td>Yes</td>\n      <td>No</td>\n      <td>No</td>\n      <td>Yes</td>\n      <td>...</td>\n      <td>Yes</td>\n      <td>Yes</td>\n      <td>No</td>\n      <td>Yes</td>\n      <td>65.6</td>\n      <td>593.3</td>\n      <td>No</td>\n      <td>One year</td>\n      <td>DSL</td>\n      <td>Mailed check</td>\n    </tr>\n    <tr>\n      <th>1</th>\n      <td>0003-MKNFE</td>\n      <td>Male</td>\n      <td>0</td>\n      <td>No</td>\n      <td>No</td>\n      <td>9</td>\n      <td>Yes</td>\n      <td>Yes</td>\n      <td>No</td>\n      <td>No</td>\n      <td>...</td>\n      <td>No</td>\n      <td>No</td>\n      <td>Yes</td>\n      <td>No</td>\n      <td>59.9</td>\n      <td>542.4</td>\n      <td>No</td>\n      <td>Month-to-month</td>\n      <td>DSL</td>\n      <td>Mailed check</td>\n    </tr>\n    <tr>\n      <th>2</th>\n      <td>0004-TLHLJ</td>\n      <td>Male</td>\n      <td>0</td>\n      <td>No</td>\n      <td>No</td>\n      <td>4</td>\n      <td>Yes</td>\n      <td>No</td>\n      <td>No</td>\n      <td>No</td>\n      <td>...</td>\n      <td>No</td>\n      <td>No</td>\n      <td>No</td>\n      <td>Yes</td>\n      <td>73.9</td>\n      <td>280.85</td>\n      <td>Yes</td>\n      <td>Month-to-month</td>\n      <td>Fiber optic</td>\n      <td>Electronic check</td>\n    </tr>\n    <tr>\n      <th>3</th>\n      <td>0011-IGKFF</td>\n      <td>Male</td>\n      <td>1</td>\n      <td>Yes</td>\n      <td>No</td>\n      <td>13</td>\n      <td>Yes</td>\n      <td>No</td>\n      <td>No</td>\n      <td>Yes</td>\n      <td>...</td>\n      <td>No</td>\n      <td>Yes</td>\n      <td>Yes</td>\n      <td>Yes</td>\n      <td>98.0</td>\n      <td>1237.85</td>\n      <td>Yes</td>\n      <td>Month-to-month</td>\n      <td>Fiber optic</td>\n      <td>Electronic check</td>\n    </tr>\n    <tr>\n      <th>4</th>\n      <td>0013-EXCHZ</td>\n      <td>Female</td>\n      <td>1</td>\n      <td>Yes</td>\n      <td>No</td>\n      <td>3</td>\n      <td>Yes</td>\n      <td>No</td>\n      <td>No</td>\n      <td>No</td>\n      <td>...</td>\n      <td>Yes</td>\n      <td>Yes</td>\n      <td>No</td>\n      <td>Yes</td>\n      <td>83.9</td>\n      <td>267.4</td>\n      <td>Yes</td>\n      <td>Month-to-month</td>\n      <td>Fiber optic</td>\n      <td>Mailed check</td>\n    </tr>\n  </tbody>\n</table>\n<p>5 rows × 21 columns</p>\n</div>"
     },
     "execution_count": 316,
     "metadata": {},
     "output_type": "execute_result"
    }
   ],
   "source": [
    "# preparing telco data\n",
    "df = prepare.prep_telco(df)\n",
    "df.head()"
   ],
   "metadata": {
    "collapsed": false,
    "ExecuteTime": {
     "end_time": "2023-11-29T20:43:33.053900Z",
     "start_time": "2023-11-29T20:43:32.839008Z"
    }
   },
   "id": "79a9fe170a0ad96d"
  },
  {
   "cell_type": "code",
   "execution_count": 317,
   "outputs": [
    {
     "data": {
      "text/plain": "(     customer_id  gender  senior_citizen partner dependents  tenure  \\\n 5671  7994-XIRTR    Male               1      No         No      54   \n 6843  9717-QEBGU    Male               0      No         No       2   \n 2325  3324-OIRTO    Male               0     Yes        Yes      71   \n 6323  8950-MTZNV    Male               0      No         No       1   \n 3081  4415-WNGVR  Female               1     Yes         No      12   \n ...          ...     ...             ...     ...        ...     ...   \n 6803  9658-WYUFB  Female               0      No         No      17   \n 2521  3605-JISKB    Male               1     Yes         No      55   \n 3705  5214-CHIWJ    Male               0      No         No      27   \n 4717  6646-VRFOL    Male               1     Yes         No      53   \n 1332  1982-FEBTD  Female               0     Yes        Yes      23   \n \n      phone_service multiple_lines      online_security        online_backup  \\\n 5671           Yes             No                   No                   No   \n 6843           Yes             No                   No                   No   \n 2325           Yes             No                  Yes                  Yes   \n 6323           Yes             No                   No                   No   \n 3081           Yes             No                  Yes                   No   \n ...            ...            ...                  ...                  ...   \n 6803           Yes            Yes                  Yes                  Yes   \n 2521           Yes            Yes                  Yes                  Yes   \n 3705           Yes             No  No internet service  No internet service   \n 4717           Yes            Yes                   No                  Yes   \n 1332           Yes            Yes  No internet service  No internet service   \n \n       ...         tech_support         streaming_tv     streaming_movies  \\\n 5671  ...                  Yes                   No                  Yes   \n 6843  ...                   No                   No                   No   \n 2325  ...                   No                  Yes                  Yes   \n 6323  ...                   No                   No                   No   \n 3081  ...                  Yes                  Yes                  Yes   \n ...   ...                  ...                  ...                  ...   \n 6803  ...                   No                  Yes                   No   \n 2521  ...                   No                   No                   No   \n 3705  ...  No internet service  No internet service  No internet service   \n 4717  ...                   No                  Yes                  Yes   \n 1332  ...  No internet service  No internet service  No internet service   \n \n      paperless_billing monthly_charges  total_charges churn   contract_type  \\\n 5671                No           65.25        3529.95    No        One year   \n 6843               Yes           70.30            144    No  Month-to-month   \n 2325               Yes          104.65         7288.4    No        One year   \n 6323               Yes           44.95          44.95    No  Month-to-month   \n 3081               Yes           79.20         943.85    No        One year   \n ...                ...             ...            ...   ...             ...   \n 6803               Yes           94.40         1617.5   Yes  Month-to-month   \n 2521                No           60.00         3316.1    No        One year   \n 3705                No           20.30         595.05    No        One year   \n 4717               Yes          103.85         5485.5   Yes  Month-to-month   \n 1332               Yes           25.60         514.75    No        Two year   \n \n      internet_service_type               payment_type  \n 5671                   DSL  Bank transfer (automatic)  \n 6843           Fiber optic           Electronic check  \n 2325           Fiber optic  Bank transfer (automatic)  \n 6323                   DSL               Mailed check  \n 3081                   DSL           Electronic check  \n ...                    ...                        ...  \n 6803           Fiber optic           Electronic check  \n 2521                   DSL    Credit card (automatic)  \n 3705                   NaN               Mailed check  \n 4717           Fiber optic           Electronic check  \n 1332                   NaN    Credit card (automatic)  \n \n [4219 rows x 21 columns],\n      customer_id  gender  senior_citizen partner dependents  tenure  \\\n 4911  6910-HADCM  Female               0      No         No       1   \n 940   1360-JYXKQ  Female               1     Yes         No      54   \n 5083  7139-JZFVG    Male               0     Yes        Yes      60   \n 545   0804-YGEQV  Female               0     Yes        Yes      43   \n 6486  9189-JWSHV  Female               1     Yes         No      24   \n ...          ...     ...             ...     ...        ...     ...   \n 3113  4464-JCOLN    Male               0     Yes        Yes       2   \n 673   0983-TATYJ  Female               0     Yes         No      33   \n 5894  8292-ITGYJ  Female               0     Yes        Yes      45   \n 1850  2684-EIWEO  Female               1      No         No      30   \n 6104  8644-XYTSV    Male               0     Yes         No      42   \n \n      phone_service    multiple_lines      online_security  \\\n 4911           Yes                No                   No   \n 940            Yes                No                   No   \n 5083           Yes                No                  Yes   \n 545            Yes               Yes  No internet service   \n 6486           Yes               Yes                   No   \n ...            ...               ...                  ...   \n 3113           Yes                No  No internet service   \n 673            Yes                No                   No   \n 5894           Yes               Yes  No internet service   \n 1850           Yes               Yes                  Yes   \n 6104            No  No phone service                  Yes   \n \n             online_backup  ...         tech_support         streaming_tv  \\\n 4911                   No  ...                   No                   No   \n 940                    No  ...                  Yes                  Yes   \n 5083                  Yes  ...                   No                   No   \n 545   No internet service  ...  No internet service  No internet service   \n 6486                   No  ...                   No                  Yes   \n ...                   ...  ...                  ...                  ...   \n 3113  No internet service  ...  No internet service  No internet service   \n 673                    No  ...                  Yes                   No   \n 5894  No internet service  ...  No internet service  No internet service   \n 1850                  Yes  ...                   No                   No   \n 6104                   No  ...                   No                  Yes   \n \n          streaming_movies paperless_billing monthly_charges  total_charges  \\\n 4911                   No                No           76.35          76.35   \n 940                   Yes               Yes           99.10         5437.1   \n 5083                   No                No           60.50        3694.45   \n 545   No internet service               Yes           24.45         993.15   \n 6486                  Yes               Yes           93.55        2264.05   \n ...                   ...               ...             ...            ...   \n 3113  No internet service                No           19.85           35.9   \n 673                    No               Yes           51.45         1758.9   \n 5894  No internet service               Yes           24.65         1138.8   \n 1850                   No                No           91.70        2758.15   \n 6104                   No               Yes           40.15        1626.05   \n \n      churn   contract_type internet_service_type               payment_type  \n 4911   Yes  Month-to-month           Fiber optic           Electronic check  \n 940     No        One year           Fiber optic           Electronic check  \n 5083    No        Two year                   DSL  Bank transfer (automatic)  \n 545     No        One year                   NaN  Bank transfer (automatic)  \n 6486   Yes  Month-to-month           Fiber optic           Electronic check  \n ...    ...             ...                   ...                        ...  \n 3113   Yes        One year                   NaN               Mailed check  \n 673     No        One year                   DSL               Mailed check  \n 5894    No        Two year                   NaN  Bank transfer (automatic)  \n 1850   Yes  Month-to-month           Fiber optic    Credit card (automatic)  \n 6104    No  Month-to-month                   DSL  Bank transfer (automatic)  \n \n [1406 rows x 21 columns],\n      customer_id  gender  senior_citizen partner dependents  tenure  \\\n 1865  2706-QZIHY  Female               0     Yes         No      15   \n 3786  5324-KTGCG    Male               0     Yes         No      71   \n 4712  6637-KYRCV  Female               0     Yes        Yes       5   \n 5123  7207-RMRDB  Female               0     Yes        Yes      65   \n 5128  7217-JYHOQ    Male               0     Yes        Yes      24   \n ...          ...     ...             ...     ...        ...     ...   \n 6351  8992-JQYUN    Male               0     Yes         No       1   \n 2277  3255-GRXMG    Male               0      No        Yes      18   \n 6061  8591-NXRCV  Female               0      No         No      41   \n 3446  4884-LEVMQ    Male               0     Yes         No      39   \n 4892  6893-ODYYE    Male               0      No         No      50   \n \n      phone_service    multiple_lines      online_security  \\\n 1865           Yes               Yes  No internet service   \n 3786           Yes                No  No internet service   \n 4712            No  No phone service                   No   \n 5123           Yes               Yes                   No   \n 5128           Yes                No                  Yes   \n ...            ...               ...                  ...   \n 6351            No  No phone service                   No   \n 2277           Yes                No                   No   \n 6061           Yes               Yes                  Yes   \n 3446           Yes                No  No internet service   \n 4892           Yes                No                  Yes   \n \n             online_backup  ...         tech_support         streaming_tv  \\\n 1865  No internet service  ...  No internet service  No internet service   \n 3786  No internet service  ...  No internet service  No internet service   \n 4712                  Yes  ...                   No                   No   \n 5123                  Yes  ...                   No                  Yes   \n 5128                  Yes  ...                  Yes                   No   \n ...                   ...  ...                  ...                  ...   \n 6351                   No  ...                   No                  Yes   \n 2277                   No  ...                   No                   No   \n 6061                   No  ...                  Yes                   No   \n 3446  No internet service  ...  No internet service  No internet service   \n 4892                  Yes  ...                  Yes                   No   \n \n          streaming_movies paperless_billing monthly_charges  total_charges  \\\n 1865  No internet service                No           25.20          387.9   \n 3786  No internet service                No           20.85        1539.75   \n 4712                   No               Yes           30.50          167.2   \n 5123                  Yes               Yes          105.50        6985.65   \n 5128                  Yes               Yes           70.30        1706.45   \n ...                   ...               ...             ...            ...   \n 6351                  Yes               Yes           50.35          50.35   \n 2277                   No               Yes           45.65          747.2   \n 6061                  Yes               Yes           74.65        3090.65   \n 3446  No internet service               Yes           20.45            790   \n 4892                   No               Yes           90.10        4549.45   \n \n      churn   contract_type internet_service_type               payment_type  \n 1865    No        Two year                   NaN               Mailed check  \n 3786    No        One year                   NaN           Electronic check  \n 4712    No  Month-to-month                   DSL           Electronic check  \n 5123   Yes  Month-to-month           Fiber optic           Electronic check  \n 5128    No  Month-to-month                   DSL    Credit card (automatic)  \n ...    ...             ...                   ...                        ...  \n 6351   Yes  Month-to-month                   DSL           Electronic check  \n 2277    No  Month-to-month                   DSL    Credit card (automatic)  \n 6061    No  Month-to-month                   DSL  Bank transfer (automatic)  \n 3446    No        Two year                   NaN  Bank transfer (automatic)  \n 4892    No        One year           Fiber optic    Credit card (automatic)  \n \n [1407 rows x 21 columns])"
     },
     "execution_count": 317,
     "metadata": {},
     "output_type": "execute_result"
    }
   ],
   "source": [
    "prepare.splitting_data(df, 'churn')"
   ],
   "metadata": {
    "collapsed": false,
    "ExecuteTime": {
     "end_time": "2023-11-29T20:43:33.304269Z",
     "start_time": "2023-11-29T20:43:33.081385Z"
    }
   },
   "id": "e3c56ec132c44685"
  },
  {
   "cell_type": "code",
   "execution_count": 318,
   "outputs": [],
   "source": [
    "train, validate, test = prepare.splitting_data(df, 'churn')"
   ],
   "metadata": {
    "collapsed": false,
    "ExecuteTime": {
     "end_time": "2023-11-29T20:43:33.372944Z",
     "start_time": "2023-11-29T20:43:33.281237Z"
    }
   },
   "id": "897f9327a1517f1"
  },
  {
   "cell_type": "code",
   "execution_count": 319,
   "outputs": [
    {
     "data": {
      "text/plain": "(4219, 21)"
     },
     "execution_count": 319,
     "metadata": {},
     "output_type": "execute_result"
    }
   ],
   "source": [
    "train.shape"
   ],
   "metadata": {
    "collapsed": false,
    "ExecuteTime": {
     "end_time": "2023-11-29T20:43:33.504418Z",
     "start_time": "2023-11-29T20:43:33.402502Z"
    }
   },
   "id": "edec8cce4233a49b"
  },
  {
   "cell_type": "code",
   "execution_count": 320,
   "outputs": [
    {
     "data": {
      "text/plain": "(1406, 21)"
     },
     "execution_count": 320,
     "metadata": {},
     "output_type": "execute_result"
    }
   ],
   "source": [
    "validate.shape"
   ],
   "metadata": {
    "collapsed": false,
    "ExecuteTime": {
     "end_time": "2023-11-29T20:43:33.708765Z",
     "start_time": "2023-11-29T20:43:33.645514Z"
    }
   },
   "id": "669083c0f5a9e085"
  },
  {
   "cell_type": "code",
   "execution_count": 321,
   "outputs": [
    {
     "data": {
      "text/plain": "(1407, 21)"
     },
     "execution_count": 321,
     "metadata": {},
     "output_type": "execute_result"
    }
   ],
   "source": [
    "test.shape"
   ],
   "metadata": {
    "collapsed": false,
    "ExecuteTime": {
     "end_time": "2023-11-29T20:43:33.827689Z",
     "start_time": "2023-11-29T20:43:33.807706Z"
    }
   },
   "id": "9623f208dd2e96c2"
  },
  {
   "cell_type": "code",
   "execution_count": 322,
   "outputs": [
    {
     "data": {
      "text/plain": "     customer_id  gender  senior_citizen partner dependents  tenure  \\\n5671  7994-XIRTR    Male               1      No         No      54   \n6843  9717-QEBGU    Male               0      No         No       2   \n2325  3324-OIRTO    Male               0     Yes        Yes      71   \n6323  8950-MTZNV    Male               0      No         No       1   \n3081  4415-WNGVR  Female               1     Yes         No      12   \n\n     phone_service multiple_lines online_security online_backup  ...  \\\n5671           Yes             No              No            No  ...   \n6843           Yes             No              No            No  ...   \n2325           Yes             No             Yes           Yes  ...   \n6323           Yes             No              No            No  ...   \n3081           Yes             No             Yes            No  ...   \n\n     tech_support streaming_tv streaming_movies paperless_billing  \\\n5671          Yes           No              Yes                No   \n6843           No           No               No               Yes   \n2325           No          Yes              Yes               Yes   \n6323           No           No               No               Yes   \n3081          Yes          Yes              Yes               Yes   \n\n     monthly_charges  total_charges churn   contract_type  \\\n5671           65.25        3529.95    No        One year   \n6843           70.30            144    No  Month-to-month   \n2325          104.65         7288.4    No        One year   \n6323           44.95          44.95    No  Month-to-month   \n3081           79.20         943.85    No        One year   \n\n     internet_service_type               payment_type  \n5671                   DSL  Bank transfer (automatic)  \n6843           Fiber optic           Electronic check  \n2325           Fiber optic  Bank transfer (automatic)  \n6323                   DSL               Mailed check  \n3081                   DSL           Electronic check  \n\n[5 rows x 21 columns]",
      "text/html": "<div>\n<style scoped>\n    .dataframe tbody tr th:only-of-type {\n        vertical-align: middle;\n    }\n\n    .dataframe tbody tr th {\n        vertical-align: top;\n    }\n\n    .dataframe thead th {\n        text-align: right;\n    }\n</style>\n<table border=\"1\" class=\"dataframe\">\n  <thead>\n    <tr style=\"text-align: right;\">\n      <th></th>\n      <th>customer_id</th>\n      <th>gender</th>\n      <th>senior_citizen</th>\n      <th>partner</th>\n      <th>dependents</th>\n      <th>tenure</th>\n      <th>phone_service</th>\n      <th>multiple_lines</th>\n      <th>online_security</th>\n      <th>online_backup</th>\n      <th>...</th>\n      <th>tech_support</th>\n      <th>streaming_tv</th>\n      <th>streaming_movies</th>\n      <th>paperless_billing</th>\n      <th>monthly_charges</th>\n      <th>total_charges</th>\n      <th>churn</th>\n      <th>contract_type</th>\n      <th>internet_service_type</th>\n      <th>payment_type</th>\n    </tr>\n  </thead>\n  <tbody>\n    <tr>\n      <th>5671</th>\n      <td>7994-XIRTR</td>\n      <td>Male</td>\n      <td>1</td>\n      <td>No</td>\n      <td>No</td>\n      <td>54</td>\n      <td>Yes</td>\n      <td>No</td>\n      <td>No</td>\n      <td>No</td>\n      <td>...</td>\n      <td>Yes</td>\n      <td>No</td>\n      <td>Yes</td>\n      <td>No</td>\n      <td>65.25</td>\n      <td>3529.95</td>\n      <td>No</td>\n      <td>One year</td>\n      <td>DSL</td>\n      <td>Bank transfer (automatic)</td>\n    </tr>\n    <tr>\n      <th>6843</th>\n      <td>9717-QEBGU</td>\n      <td>Male</td>\n      <td>0</td>\n      <td>No</td>\n      <td>No</td>\n      <td>2</td>\n      <td>Yes</td>\n      <td>No</td>\n      <td>No</td>\n      <td>No</td>\n      <td>...</td>\n      <td>No</td>\n      <td>No</td>\n      <td>No</td>\n      <td>Yes</td>\n      <td>70.30</td>\n      <td>144</td>\n      <td>No</td>\n      <td>Month-to-month</td>\n      <td>Fiber optic</td>\n      <td>Electronic check</td>\n    </tr>\n    <tr>\n      <th>2325</th>\n      <td>3324-OIRTO</td>\n      <td>Male</td>\n      <td>0</td>\n      <td>Yes</td>\n      <td>Yes</td>\n      <td>71</td>\n      <td>Yes</td>\n      <td>No</td>\n      <td>Yes</td>\n      <td>Yes</td>\n      <td>...</td>\n      <td>No</td>\n      <td>Yes</td>\n      <td>Yes</td>\n      <td>Yes</td>\n      <td>104.65</td>\n      <td>7288.4</td>\n      <td>No</td>\n      <td>One year</td>\n      <td>Fiber optic</td>\n      <td>Bank transfer (automatic)</td>\n    </tr>\n    <tr>\n      <th>6323</th>\n      <td>8950-MTZNV</td>\n      <td>Male</td>\n      <td>0</td>\n      <td>No</td>\n      <td>No</td>\n      <td>1</td>\n      <td>Yes</td>\n      <td>No</td>\n      <td>No</td>\n      <td>No</td>\n      <td>...</td>\n      <td>No</td>\n      <td>No</td>\n      <td>No</td>\n      <td>Yes</td>\n      <td>44.95</td>\n      <td>44.95</td>\n      <td>No</td>\n      <td>Month-to-month</td>\n      <td>DSL</td>\n      <td>Mailed check</td>\n    </tr>\n    <tr>\n      <th>3081</th>\n      <td>4415-WNGVR</td>\n      <td>Female</td>\n      <td>1</td>\n      <td>Yes</td>\n      <td>No</td>\n      <td>12</td>\n      <td>Yes</td>\n      <td>No</td>\n      <td>Yes</td>\n      <td>No</td>\n      <td>...</td>\n      <td>Yes</td>\n      <td>Yes</td>\n      <td>Yes</td>\n      <td>Yes</td>\n      <td>79.20</td>\n      <td>943.85</td>\n      <td>No</td>\n      <td>One year</td>\n      <td>DSL</td>\n      <td>Electronic check</td>\n    </tr>\n  </tbody>\n</table>\n<p>5 rows × 21 columns</p>\n</div>"
     },
     "execution_count": 322,
     "metadata": {},
     "output_type": "execute_result"
    }
   ],
   "source": [
    "train.head()"
   ],
   "metadata": {
    "collapsed": false,
    "ExecuteTime": {
     "end_time": "2023-11-29T20:43:34.021884Z",
     "start_time": "2023-11-29T20:43:34.007891Z"
    }
   },
   "id": "1835708d95a2e14"
  },
  {
   "cell_type": "code",
   "execution_count": 323,
   "outputs": [],
   "source": [
    "# encoding the gender\n",
    "train['is_male'] = train['gender'].replace({'Male': 1, 'Female': 0})"
   ],
   "metadata": {
    "collapsed": false,
    "ExecuteTime": {
     "end_time": "2023-11-29T20:43:34.247707Z",
     "start_time": "2023-11-29T20:43:34.214067Z"
    }
   },
   "id": "5e702e7e0cfc20a1"
  },
  {
   "cell_type": "code",
   "execution_count": 323,
   "outputs": [],
   "source": [],
   "metadata": {
    "collapsed": false,
    "ExecuteTime": {
     "end_time": "2023-11-29T20:43:34.452966Z",
     "start_time": "2023-11-29T20:43:34.425905Z"
    }
   },
   "id": "c1740ee8a5233573"
  },
  {
   "cell_type": "code",
   "execution_count": 324,
   "outputs": [],
   "source": [
    "# encoding the partner column\n",
    "train['alone'] = train['partner'].map({'Yes': 0, 'No': 1})"
   ],
   "metadata": {
    "collapsed": false,
    "ExecuteTime": {
     "end_time": "2023-11-29T20:43:34.657891Z",
     "start_time": "2023-11-29T20:43:34.634716Z"
    }
   },
   "id": "d6910f7f523009a7"
  },
  {
   "cell_type": "code",
   "execution_count": 325,
   "outputs": [
    {
     "data": {
      "text/plain": "     customer_id  gender  senior_citizen partner dependents  tenure  \\\n5671  7994-XIRTR    Male               1      No         No      54   \n6843  9717-QEBGU    Male               0      No         No       2   \n2325  3324-OIRTO    Male               0     Yes        Yes      71   \n6323  8950-MTZNV    Male               0      No         No       1   \n3081  4415-WNGVR  Female               1     Yes         No      12   \n\n     phone_service multiple_lines online_security online_backup  ...  \\\n5671           Yes             No              No            No  ...   \n6843           Yes             No              No            No  ...   \n2325           Yes             No             Yes           Yes  ...   \n6323           Yes             No              No            No  ...   \n3081           Yes             No             Yes            No  ...   \n\n     streaming_movies paperless_billing monthly_charges total_charges churn  \\\n5671              Yes                No           65.25       3529.95    No   \n6843               No               Yes           70.30           144    No   \n2325              Yes               Yes          104.65        7288.4    No   \n6323               No               Yes           44.95         44.95    No   \n3081              Yes               Yes           79.20        943.85    No   \n\n       contract_type internet_service_type               payment_type is_male  \\\n5671        One year                   DSL  Bank transfer (automatic)       1   \n6843  Month-to-month           Fiber optic           Electronic check       1   \n2325        One year           Fiber optic  Bank transfer (automatic)       1   \n6323  Month-to-month                   DSL               Mailed check       1   \n3081        One year                   DSL           Electronic check       0   \n\n     alone  \n5671     1  \n6843     1  \n2325     0  \n6323     1  \n3081     0  \n\n[5 rows x 23 columns]",
      "text/html": "<div>\n<style scoped>\n    .dataframe tbody tr th:only-of-type {\n        vertical-align: middle;\n    }\n\n    .dataframe tbody tr th {\n        vertical-align: top;\n    }\n\n    .dataframe thead th {\n        text-align: right;\n    }\n</style>\n<table border=\"1\" class=\"dataframe\">\n  <thead>\n    <tr style=\"text-align: right;\">\n      <th></th>\n      <th>customer_id</th>\n      <th>gender</th>\n      <th>senior_citizen</th>\n      <th>partner</th>\n      <th>dependents</th>\n      <th>tenure</th>\n      <th>phone_service</th>\n      <th>multiple_lines</th>\n      <th>online_security</th>\n      <th>online_backup</th>\n      <th>...</th>\n      <th>streaming_movies</th>\n      <th>paperless_billing</th>\n      <th>monthly_charges</th>\n      <th>total_charges</th>\n      <th>churn</th>\n      <th>contract_type</th>\n      <th>internet_service_type</th>\n      <th>payment_type</th>\n      <th>is_male</th>\n      <th>alone</th>\n    </tr>\n  </thead>\n  <tbody>\n    <tr>\n      <th>5671</th>\n      <td>7994-XIRTR</td>\n      <td>Male</td>\n      <td>1</td>\n      <td>No</td>\n      <td>No</td>\n      <td>54</td>\n      <td>Yes</td>\n      <td>No</td>\n      <td>No</td>\n      <td>No</td>\n      <td>...</td>\n      <td>Yes</td>\n      <td>No</td>\n      <td>65.25</td>\n      <td>3529.95</td>\n      <td>No</td>\n      <td>One year</td>\n      <td>DSL</td>\n      <td>Bank transfer (automatic)</td>\n      <td>1</td>\n      <td>1</td>\n    </tr>\n    <tr>\n      <th>6843</th>\n      <td>9717-QEBGU</td>\n      <td>Male</td>\n      <td>0</td>\n      <td>No</td>\n      <td>No</td>\n      <td>2</td>\n      <td>Yes</td>\n      <td>No</td>\n      <td>No</td>\n      <td>No</td>\n      <td>...</td>\n      <td>No</td>\n      <td>Yes</td>\n      <td>70.30</td>\n      <td>144</td>\n      <td>No</td>\n      <td>Month-to-month</td>\n      <td>Fiber optic</td>\n      <td>Electronic check</td>\n      <td>1</td>\n      <td>1</td>\n    </tr>\n    <tr>\n      <th>2325</th>\n      <td>3324-OIRTO</td>\n      <td>Male</td>\n      <td>0</td>\n      <td>Yes</td>\n      <td>Yes</td>\n      <td>71</td>\n      <td>Yes</td>\n      <td>No</td>\n      <td>Yes</td>\n      <td>Yes</td>\n      <td>...</td>\n      <td>Yes</td>\n      <td>Yes</td>\n      <td>104.65</td>\n      <td>7288.4</td>\n      <td>No</td>\n      <td>One year</td>\n      <td>Fiber optic</td>\n      <td>Bank transfer (automatic)</td>\n      <td>1</td>\n      <td>0</td>\n    </tr>\n    <tr>\n      <th>6323</th>\n      <td>8950-MTZNV</td>\n      <td>Male</td>\n      <td>0</td>\n      <td>No</td>\n      <td>No</td>\n      <td>1</td>\n      <td>Yes</td>\n      <td>No</td>\n      <td>No</td>\n      <td>No</td>\n      <td>...</td>\n      <td>No</td>\n      <td>Yes</td>\n      <td>44.95</td>\n      <td>44.95</td>\n      <td>No</td>\n      <td>Month-to-month</td>\n      <td>DSL</td>\n      <td>Mailed check</td>\n      <td>1</td>\n      <td>1</td>\n    </tr>\n    <tr>\n      <th>3081</th>\n      <td>4415-WNGVR</td>\n      <td>Female</td>\n      <td>1</td>\n      <td>Yes</td>\n      <td>No</td>\n      <td>12</td>\n      <td>Yes</td>\n      <td>No</td>\n      <td>Yes</td>\n      <td>No</td>\n      <td>...</td>\n      <td>Yes</td>\n      <td>Yes</td>\n      <td>79.20</td>\n      <td>943.85</td>\n      <td>No</td>\n      <td>One year</td>\n      <td>DSL</td>\n      <td>Electronic check</td>\n      <td>0</td>\n      <td>0</td>\n    </tr>\n  </tbody>\n</table>\n<p>5 rows × 23 columns</p>\n</div>"
     },
     "execution_count": 325,
     "metadata": {},
     "output_type": "execute_result"
    }
   ],
   "source": [
    "train.head()"
   ],
   "metadata": {
    "collapsed": false,
    "ExecuteTime": {
     "end_time": "2023-11-29T20:43:34.891834Z",
     "start_time": "2023-11-29T20:43:34.864696Z"
    }
   },
   "id": "d3a6f4fbec11a5b9"
  },
  {
   "cell_type": "code",
   "execution_count": 326,
   "outputs": [
    {
     "data": {
      "text/plain": "2"
     },
     "execution_count": 326,
     "metadata": {},
     "output_type": "execute_result"
    }
   ],
   "source": [
    "train.alone.nunique()"
   ],
   "metadata": {
    "collapsed": false,
    "ExecuteTime": {
     "end_time": "2023-11-29T20:43:35.134371Z",
     "start_time": "2023-11-29T20:43:35.097920Z"
    }
   },
   "id": "412bc79b4ea1c1f2"
  },
  {
   "cell_type": "code",
   "execution_count": 327,
   "outputs": [],
   "source": [
    "# Creating dummy variables\n",
    "contract_dummies = pd.get_dummies(train['contract_type'], drop_first=True)\n",
    "internet_type_dummies = pd.get_dummies(train['internet_service_type'], drop_first=True)\n",
    "\n",
    "# Concatenating them onto the DataFrame\n",
    "train = pd.concat([train, contract_dummies, internet_type_dummies], axis=1)\n"
   ],
   "metadata": {
    "collapsed": false,
    "ExecuteTime": {
     "end_time": "2023-11-29T20:43:35.390185Z",
     "start_time": "2023-11-29T20:43:35.371766Z"
    }
   },
   "id": "7196d9975dc4417c"
  },
  {
   "cell_type": "code",
   "execution_count": 328,
   "outputs": [
    {
     "data": {
      "text/plain": "     customer_id  gender  senior_citizen partner dependents  tenure  \\\n5671  7994-XIRTR    Male               1      No         No      54   \n6843  9717-QEBGU    Male               0      No         No       2   \n2325  3324-OIRTO    Male               0     Yes        Yes      71   \n6323  8950-MTZNV    Male               0      No         No       1   \n3081  4415-WNGVR  Female               1     Yes         No      12   \n\n     phone_service multiple_lines online_security online_backup  ...  \\\n5671           Yes             No              No            No  ...   \n6843           Yes             No              No            No  ...   \n2325           Yes             No             Yes           Yes  ...   \n6323           Yes             No              No            No  ...   \n3081           Yes             No             Yes            No  ...   \n\n     total_charges churn   contract_type internet_service_type  \\\n5671       3529.95    No        One year                   DSL   \n6843           144    No  Month-to-month           Fiber optic   \n2325        7288.4    No        One year           Fiber optic   \n6323         44.95    No  Month-to-month                   DSL   \n3081        943.85    No        One year                   DSL   \n\n                   payment_type  is_male alone One year Two year Fiber optic  \n5671  Bank transfer (automatic)        1     1     True    False       False  \n6843           Electronic check        1     1    False    False        True  \n2325  Bank transfer (automatic)        1     0     True    False        True  \n6323               Mailed check        1     1    False    False       False  \n3081           Electronic check        0     0     True    False       False  \n\n[5 rows x 26 columns]",
      "text/html": "<div>\n<style scoped>\n    .dataframe tbody tr th:only-of-type {\n        vertical-align: middle;\n    }\n\n    .dataframe tbody tr th {\n        vertical-align: top;\n    }\n\n    .dataframe thead th {\n        text-align: right;\n    }\n</style>\n<table border=\"1\" class=\"dataframe\">\n  <thead>\n    <tr style=\"text-align: right;\">\n      <th></th>\n      <th>customer_id</th>\n      <th>gender</th>\n      <th>senior_citizen</th>\n      <th>partner</th>\n      <th>dependents</th>\n      <th>tenure</th>\n      <th>phone_service</th>\n      <th>multiple_lines</th>\n      <th>online_security</th>\n      <th>online_backup</th>\n      <th>...</th>\n      <th>total_charges</th>\n      <th>churn</th>\n      <th>contract_type</th>\n      <th>internet_service_type</th>\n      <th>payment_type</th>\n      <th>is_male</th>\n      <th>alone</th>\n      <th>One year</th>\n      <th>Two year</th>\n      <th>Fiber optic</th>\n    </tr>\n  </thead>\n  <tbody>\n    <tr>\n      <th>5671</th>\n      <td>7994-XIRTR</td>\n      <td>Male</td>\n      <td>1</td>\n      <td>No</td>\n      <td>No</td>\n      <td>54</td>\n      <td>Yes</td>\n      <td>No</td>\n      <td>No</td>\n      <td>No</td>\n      <td>...</td>\n      <td>3529.95</td>\n      <td>No</td>\n      <td>One year</td>\n      <td>DSL</td>\n      <td>Bank transfer (automatic)</td>\n      <td>1</td>\n      <td>1</td>\n      <td>True</td>\n      <td>False</td>\n      <td>False</td>\n    </tr>\n    <tr>\n      <th>6843</th>\n      <td>9717-QEBGU</td>\n      <td>Male</td>\n      <td>0</td>\n      <td>No</td>\n      <td>No</td>\n      <td>2</td>\n      <td>Yes</td>\n      <td>No</td>\n      <td>No</td>\n      <td>No</td>\n      <td>...</td>\n      <td>144</td>\n      <td>No</td>\n      <td>Month-to-month</td>\n      <td>Fiber optic</td>\n      <td>Electronic check</td>\n      <td>1</td>\n      <td>1</td>\n      <td>False</td>\n      <td>False</td>\n      <td>True</td>\n    </tr>\n    <tr>\n      <th>2325</th>\n      <td>3324-OIRTO</td>\n      <td>Male</td>\n      <td>0</td>\n      <td>Yes</td>\n      <td>Yes</td>\n      <td>71</td>\n      <td>Yes</td>\n      <td>No</td>\n      <td>Yes</td>\n      <td>Yes</td>\n      <td>...</td>\n      <td>7288.4</td>\n      <td>No</td>\n      <td>One year</td>\n      <td>Fiber optic</td>\n      <td>Bank transfer (automatic)</td>\n      <td>1</td>\n      <td>0</td>\n      <td>True</td>\n      <td>False</td>\n      <td>True</td>\n    </tr>\n    <tr>\n      <th>6323</th>\n      <td>8950-MTZNV</td>\n      <td>Male</td>\n      <td>0</td>\n      <td>No</td>\n      <td>No</td>\n      <td>1</td>\n      <td>Yes</td>\n      <td>No</td>\n      <td>No</td>\n      <td>No</td>\n      <td>...</td>\n      <td>44.95</td>\n      <td>No</td>\n      <td>Month-to-month</td>\n      <td>DSL</td>\n      <td>Mailed check</td>\n      <td>1</td>\n      <td>1</td>\n      <td>False</td>\n      <td>False</td>\n      <td>False</td>\n    </tr>\n    <tr>\n      <th>3081</th>\n      <td>4415-WNGVR</td>\n      <td>Female</td>\n      <td>1</td>\n      <td>Yes</td>\n      <td>No</td>\n      <td>12</td>\n      <td>Yes</td>\n      <td>No</td>\n      <td>Yes</td>\n      <td>No</td>\n      <td>...</td>\n      <td>943.85</td>\n      <td>No</td>\n      <td>One year</td>\n      <td>DSL</td>\n      <td>Electronic check</td>\n      <td>0</td>\n      <td>0</td>\n      <td>True</td>\n      <td>False</td>\n      <td>False</td>\n    </tr>\n  </tbody>\n</table>\n<p>5 rows × 26 columns</p>\n</div>"
     },
     "execution_count": 328,
     "metadata": {},
     "output_type": "execute_result"
    }
   ],
   "source": [
    "train.head()"
   ],
   "metadata": {
    "collapsed": false,
    "ExecuteTime": {
     "end_time": "2023-11-29T20:43:35.807081Z",
     "start_time": "2023-11-29T20:43:35.791138Z"
    }
   },
   "id": "6b0d5d7b38be15e"
  },
  {
   "cell_type": "code",
   "execution_count": 329,
   "outputs": [],
   "source": [
    "def preprocess_telco(train, validate, test):\n",
    "    ''' Encode the categorical variables in the train, validate, and test datasets.\n",
    "\n",
    "    This function performs the following encoding steps:\n",
    "    1. Encodes the 'gender' column into a new binary column 'is_male', where 'Male' is 1 and 'Female' is 0.\n",
    "    2. Encodes the 'partner' column into a new binary column 'alone', where 'Yes' is mapped to 0 (not alone) and 'No' is mapped to 1 (alone).\n",
    "    3. Creates dummy variables for other specified categorical columns such as 'contract_type' and 'internet_service_type', dropping the first category to avoid multicollinearity.\n",
    "\n",
    "    Parameters:\n",
    "    - train (DataFrame): The training dataset.\n",
    "    - validate (DataFrame): The validation dataset.\n",
    "    - test (DataFrame): The test dataset.\n",
    "\n",
    "    The function modifies these datasets in place by adding new encoded columns and returns them.\n",
    "\n",
    "    Returns:\n",
    "    - DataFrame: The modified train dataset with encoded variables.\n",
    "    - DataFrame: The modified validate dataset with encoded variables.\n",
    "    - DataFrame: The modified test dataset with encoded variables. \n",
    "    '''\n",
    "    # dropping the columns changed\n",
    "    train = train.drop(columns=['gender', 'partner', 'contract_type', 'internet_service_type'])\n",
    "    validate = validate.drop(columns=['gender', 'partner', 'contract_type', 'internet_service_type'])\n",
    "    test = test.drop(columns=['gender', 'partner', 'contract_type', 'internet_service_type'])\n",
    "    # Define encoding for 'gender' using .replace()\n",
    "    gender_encode = {'Male': 1, 'Female': 0}\n",
    "    train['is_male'] = train['gender'].replace(gender_encode)\n",
    "    validate['is_male'] = validate['gender'].replace(gender_encode)\n",
    "    test['is_male'] = test['gender'].replace(gender_encode)\n",
    "\n",
    "    # Define encoding for 'partner' using .map()\n",
    "    partner_encode = {'Yes': 0, 'No': 1}\n",
    "    train['alone'] = train['partner'].map(partner_encode)\n",
    "    validate['alone'] = validate['partner'].map(partner_encode)\n",
    "    test['alone'] = test['partner'].map(partner_encode)\n",
    "\n",
    "    # Create dummy variables for other categorical columns\n",
    "    # Adjust these based on your specific categorical columns\n",
    "    for column in ['contract_type', 'internet_service_type']:\n",
    "        train_dummies = pd.get_dummies(train[column], drop_first=True)\n",
    "        validate_dummies = pd.get_dummies(validate[column], drop_first=True)\n",
    "        test_dummies = pd.get_dummies(test[column], drop_first=True)\n",
    "\n",
    "        train = pd.concat([train, train_dummies], axis=1)\n",
    "        validate = pd.concat([validate, validate_dummies], axis=1)\n",
    "        test = pd.concat([test, test_dummies], axis=1)\n",
    "\n",
    "    return encoded_train, encoded_validate, encoded_test\n"
   ],
   "metadata": {
    "collapsed": false,
    "ExecuteTime": {
     "end_time": "2023-11-29T20:43:36.226590Z",
     "start_time": "2023-11-29T20:43:36.203374Z"
    }
   },
   "id": "e75b5c3c511543eb"
  },
  {
   "cell_type": "code",
   "execution_count": 330,
   "outputs": [
    {
     "ename": "KeyError",
     "evalue": "'gender'",
     "output_type": "error",
     "traceback": [
      "\u001B[0;31m---------------------------------------------------------------------------\u001B[0m",
      "\u001B[0;31mKeyError\u001B[0m                                  Traceback (most recent call last)",
      "File \u001B[0;32m~/codeup-data-science/venv/lib/python3.11/site-packages/pandas/core/indexes/base.py:3790\u001B[0m, in \u001B[0;36mIndex.get_loc\u001B[0;34m(self, key)\u001B[0m\n\u001B[1;32m   3789\u001B[0m \u001B[38;5;28;01mtry\u001B[39;00m:\n\u001B[0;32m-> 3790\u001B[0m     \u001B[38;5;28;01mreturn\u001B[39;00m \u001B[38;5;28;43mself\u001B[39;49m\u001B[38;5;241;43m.\u001B[39;49m\u001B[43m_engine\u001B[49m\u001B[38;5;241;43m.\u001B[39;49m\u001B[43mget_loc\u001B[49m\u001B[43m(\u001B[49m\u001B[43mcasted_key\u001B[49m\u001B[43m)\u001B[49m\n\u001B[1;32m   3791\u001B[0m \u001B[38;5;28;01mexcept\u001B[39;00m \u001B[38;5;167;01mKeyError\u001B[39;00m \u001B[38;5;28;01mas\u001B[39;00m err:\n",
      "File \u001B[0;32mindex.pyx:152\u001B[0m, in \u001B[0;36mpandas._libs.index.IndexEngine.get_loc\u001B[0;34m()\u001B[0m\n",
      "File \u001B[0;32mindex.pyx:181\u001B[0m, in \u001B[0;36mpandas._libs.index.IndexEngine.get_loc\u001B[0;34m()\u001B[0m\n",
      "File \u001B[0;32mpandas/_libs/hashtable_class_helper.pxi:7080\u001B[0m, in \u001B[0;36mpandas._libs.hashtable.PyObjectHashTable.get_item\u001B[0;34m()\u001B[0m\n",
      "File \u001B[0;32mpandas/_libs/hashtable_class_helper.pxi:7088\u001B[0m, in \u001B[0;36mpandas._libs.hashtable.PyObjectHashTable.get_item\u001B[0;34m()\u001B[0m\n",
      "\u001B[0;31mKeyError\u001B[0m: 'gender'",
      "\nThe above exception was the direct cause of the following exception:\n",
      "\u001B[0;31mKeyError\u001B[0m                                  Traceback (most recent call last)",
      "Cell \u001B[0;32mIn[330], line 1\u001B[0m\n\u001B[0;32m----> 1\u001B[0m \u001B[43mpreprocess_telco\u001B[49m\u001B[43m(\u001B[49m\u001B[43mtrain\u001B[49m\u001B[43m,\u001B[49m\u001B[43m \u001B[49m\u001B[43mvalidate\u001B[49m\u001B[43m,\u001B[49m\u001B[43m \u001B[49m\u001B[43mtest\u001B[49m\u001B[43m)\u001B[49m\n",
      "Cell \u001B[0;32mIn[329], line 27\u001B[0m, in \u001B[0;36mpreprocess_telco\u001B[0;34m(train, validate, test)\u001B[0m\n\u001B[1;32m     25\u001B[0m \u001B[38;5;66;03m# Define encoding for 'gender' using .replace()\u001B[39;00m\n\u001B[1;32m     26\u001B[0m gender_encode \u001B[38;5;241m=\u001B[39m {\u001B[38;5;124m'\u001B[39m\u001B[38;5;124mMale\u001B[39m\u001B[38;5;124m'\u001B[39m: \u001B[38;5;241m1\u001B[39m, \u001B[38;5;124m'\u001B[39m\u001B[38;5;124mFemale\u001B[39m\u001B[38;5;124m'\u001B[39m: \u001B[38;5;241m0\u001B[39m}\n\u001B[0;32m---> 27\u001B[0m train[\u001B[38;5;124m'\u001B[39m\u001B[38;5;124mis_male\u001B[39m\u001B[38;5;124m'\u001B[39m] \u001B[38;5;241m=\u001B[39m \u001B[43mtrain\u001B[49m\u001B[43m[\u001B[49m\u001B[38;5;124;43m'\u001B[39;49m\u001B[38;5;124;43mgender\u001B[39;49m\u001B[38;5;124;43m'\u001B[39;49m\u001B[43m]\u001B[49m\u001B[38;5;241m.\u001B[39mreplace(gender_encode)\n\u001B[1;32m     28\u001B[0m validate[\u001B[38;5;124m'\u001B[39m\u001B[38;5;124mis_male\u001B[39m\u001B[38;5;124m'\u001B[39m] \u001B[38;5;241m=\u001B[39m validate[\u001B[38;5;124m'\u001B[39m\u001B[38;5;124mgender\u001B[39m\u001B[38;5;124m'\u001B[39m]\u001B[38;5;241m.\u001B[39mreplace(gender_encode)\n\u001B[1;32m     29\u001B[0m test[\u001B[38;5;124m'\u001B[39m\u001B[38;5;124mis_male\u001B[39m\u001B[38;5;124m'\u001B[39m] \u001B[38;5;241m=\u001B[39m test[\u001B[38;5;124m'\u001B[39m\u001B[38;5;124mgender\u001B[39m\u001B[38;5;124m'\u001B[39m]\u001B[38;5;241m.\u001B[39mreplace(gender_encode)\n",
      "File \u001B[0;32m~/codeup-data-science/venv/lib/python3.11/site-packages/pandas/core/frame.py:3893\u001B[0m, in \u001B[0;36mDataFrame.__getitem__\u001B[0;34m(self, key)\u001B[0m\n\u001B[1;32m   3891\u001B[0m \u001B[38;5;28;01mif\u001B[39;00m \u001B[38;5;28mself\u001B[39m\u001B[38;5;241m.\u001B[39mcolumns\u001B[38;5;241m.\u001B[39mnlevels \u001B[38;5;241m>\u001B[39m \u001B[38;5;241m1\u001B[39m:\n\u001B[1;32m   3892\u001B[0m     \u001B[38;5;28;01mreturn\u001B[39;00m \u001B[38;5;28mself\u001B[39m\u001B[38;5;241m.\u001B[39m_getitem_multilevel(key)\n\u001B[0;32m-> 3893\u001B[0m indexer \u001B[38;5;241m=\u001B[39m \u001B[38;5;28;43mself\u001B[39;49m\u001B[38;5;241;43m.\u001B[39;49m\u001B[43mcolumns\u001B[49m\u001B[38;5;241;43m.\u001B[39;49m\u001B[43mget_loc\u001B[49m\u001B[43m(\u001B[49m\u001B[43mkey\u001B[49m\u001B[43m)\u001B[49m\n\u001B[1;32m   3894\u001B[0m \u001B[38;5;28;01mif\u001B[39;00m is_integer(indexer):\n\u001B[1;32m   3895\u001B[0m     indexer \u001B[38;5;241m=\u001B[39m [indexer]\n",
      "File \u001B[0;32m~/codeup-data-science/venv/lib/python3.11/site-packages/pandas/core/indexes/base.py:3797\u001B[0m, in \u001B[0;36mIndex.get_loc\u001B[0;34m(self, key)\u001B[0m\n\u001B[1;32m   3792\u001B[0m     \u001B[38;5;28;01mif\u001B[39;00m \u001B[38;5;28misinstance\u001B[39m(casted_key, \u001B[38;5;28mslice\u001B[39m) \u001B[38;5;129;01mor\u001B[39;00m (\n\u001B[1;32m   3793\u001B[0m         \u001B[38;5;28misinstance\u001B[39m(casted_key, abc\u001B[38;5;241m.\u001B[39mIterable)\n\u001B[1;32m   3794\u001B[0m         \u001B[38;5;129;01mand\u001B[39;00m \u001B[38;5;28many\u001B[39m(\u001B[38;5;28misinstance\u001B[39m(x, \u001B[38;5;28mslice\u001B[39m) \u001B[38;5;28;01mfor\u001B[39;00m x \u001B[38;5;129;01min\u001B[39;00m casted_key)\n\u001B[1;32m   3795\u001B[0m     ):\n\u001B[1;32m   3796\u001B[0m         \u001B[38;5;28;01mraise\u001B[39;00m InvalidIndexError(key)\n\u001B[0;32m-> 3797\u001B[0m     \u001B[38;5;28;01mraise\u001B[39;00m \u001B[38;5;167;01mKeyError\u001B[39;00m(key) \u001B[38;5;28;01mfrom\u001B[39;00m \u001B[38;5;21;01merr\u001B[39;00m\n\u001B[1;32m   3798\u001B[0m \u001B[38;5;28;01mexcept\u001B[39;00m \u001B[38;5;167;01mTypeError\u001B[39;00m:\n\u001B[1;32m   3799\u001B[0m     \u001B[38;5;66;03m# If we have a listlike key, _check_indexing_error will raise\u001B[39;00m\n\u001B[1;32m   3800\u001B[0m     \u001B[38;5;66;03m#  InvalidIndexError. Otherwise we fall through and re-raise\u001B[39;00m\n\u001B[1;32m   3801\u001B[0m     \u001B[38;5;66;03m#  the TypeError.\u001B[39;00m\n\u001B[1;32m   3802\u001B[0m     \u001B[38;5;28mself\u001B[39m\u001B[38;5;241m.\u001B[39m_check_indexing_error(key)\n",
      "\u001B[0;31mKeyError\u001B[0m: 'gender'"
     ]
    }
   ],
   "source": [
    "preprocess_telco(train, validate, test)"
   ],
   "metadata": {
    "collapsed": false,
    "ExecuteTime": {
     "end_time": "2023-11-29T20:43:38.540431Z",
     "start_time": "2023-11-29T20:43:37.218931Z"
    }
   },
   "id": "89ec04e28f3dddcf"
  },
  {
   "cell_type": "code",
   "execution_count": null,
   "outputs": [],
   "source": [],
   "metadata": {
    "collapsed": false
   },
   "id": "955a7a3ba78ebfd8"
  }
 ],
 "metadata": {
  "kernelspec": {
   "display_name": "Python 3",
   "language": "python",
   "name": "python3"
  },
  "language_info": {
   "codemirror_mode": {
    "name": "ipython",
    "version": 2
   },
   "file_extension": ".py",
   "mimetype": "text/x-python",
   "name": "python",
   "nbconvert_exporter": "python",
   "pygments_lexer": "ipython2",
   "version": "2.7.6"
  }
 },
 "nbformat": 4,
 "nbformat_minor": 5
}
