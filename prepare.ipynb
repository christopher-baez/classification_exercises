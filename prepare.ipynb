{
 "cells": [
  {
   "cell_type": "code",
   "execution_count": 4,
   "id": "initial_id",
   "metadata": {
    "collapsed": true,
    "ExecuteTime": {
     "end_time": "2023-11-21T21:40:17.906971Z",
     "start_time": "2023-11-21T21:40:17.842897Z"
    }
   },
   "outputs": [],
   "source": [
    "import pandas as pd\n",
    "import numpy as np\n",
    "import acquired\n",
    "import matplotlib.pyplot as plt\n",
    "import env"
   ]
  },
  {
   "cell_type": "code",
   "execution_count": 72,
   "outputs": [
    {
     "name": "stdout",
     "output_type": "stream",
     "text": [
      "this file exists, reading csv\n"
     ]
    }
   ],
   "source": [
    "df = acquired.get_iris_data()"
   ],
   "metadata": {
    "collapsed": false,
    "ExecuteTime": {
     "end_time": "2023-11-21T21:03:41.487636Z",
     "start_time": "2023-11-21T21:03:41.406601Z"
    }
   },
   "id": "c49757caac67b3bb"
  },
  {
   "cell_type": "code",
   "execution_count": 77,
   "outputs": [
    {
     "data": {
      "text/plain": "   Unnamed: 0  sepal_length  sepal_width  petal_length  petal_width  \\\n0           0           5.1          3.5           1.4          0.2   \n1           1           4.9          3.0           1.4          0.2   \n2           2           4.7          3.2           1.3          0.2   \n3           3           4.6          3.1           1.5          0.2   \n4           4           5.0          3.6           1.4          0.2   \n\n  species_name  \n0       setosa  \n1       setosa  \n2       setosa  \n3       setosa  \n4       setosa  ",
      "text/html": "<div>\n<style scoped>\n    .dataframe tbody tr th:only-of-type {\n        vertical-align: middle;\n    }\n\n    .dataframe tbody tr th {\n        vertical-align: top;\n    }\n\n    .dataframe thead th {\n        text-align: right;\n    }\n</style>\n<table border=\"1\" class=\"dataframe\">\n  <thead>\n    <tr style=\"text-align: right;\">\n      <th></th>\n      <th>Unnamed: 0</th>\n      <th>sepal_length</th>\n      <th>sepal_width</th>\n      <th>petal_length</th>\n      <th>petal_width</th>\n      <th>species_name</th>\n    </tr>\n  </thead>\n  <tbody>\n    <tr>\n      <th>0</th>\n      <td>0</td>\n      <td>5.1</td>\n      <td>3.5</td>\n      <td>1.4</td>\n      <td>0.2</td>\n      <td>setosa</td>\n    </tr>\n    <tr>\n      <th>1</th>\n      <td>1</td>\n      <td>4.9</td>\n      <td>3.0</td>\n      <td>1.4</td>\n      <td>0.2</td>\n      <td>setosa</td>\n    </tr>\n    <tr>\n      <th>2</th>\n      <td>2</td>\n      <td>4.7</td>\n      <td>3.2</td>\n      <td>1.3</td>\n      <td>0.2</td>\n      <td>setosa</td>\n    </tr>\n    <tr>\n      <th>3</th>\n      <td>3</td>\n      <td>4.6</td>\n      <td>3.1</td>\n      <td>1.5</td>\n      <td>0.2</td>\n      <td>setosa</td>\n    </tr>\n    <tr>\n      <th>4</th>\n      <td>4</td>\n      <td>5.0</td>\n      <td>3.6</td>\n      <td>1.4</td>\n      <td>0.2</td>\n      <td>setosa</td>\n    </tr>\n  </tbody>\n</table>\n</div>"
     },
     "execution_count": 77,
     "metadata": {},
     "output_type": "execute_result"
    }
   ],
   "source": [
    "df.head()\n"
   ],
   "metadata": {
    "collapsed": false,
    "ExecuteTime": {
     "end_time": "2023-11-21T21:04:59.534533Z",
     "start_time": "2023-11-21T21:04:59.499682Z"
    }
   },
   "id": "cda51552440ce0b0"
  },
  {
   "cell_type": "code",
   "execution_count": 78,
   "outputs": [],
   "source": [
    "df = df.replace('.', '_')"
   ],
   "metadata": {
    "collapsed": false,
    "ExecuteTime": {
     "end_time": "2023-11-21T21:05:02.983343Z",
     "start_time": "2023-11-21T21:05:02.630457Z"
    }
   },
   "id": "e80f186612d29630"
  },
  {
   "cell_type": "code",
   "execution_count": 76,
   "outputs": [],
   "source": [
    "df = df.drop(columns=['measurement_id', 'species_id'])"
   ],
   "metadata": {
    "collapsed": false,
    "ExecuteTime": {
     "end_time": "2023-11-21T21:04:28.626135Z",
     "start_time": "2023-11-21T21:04:28.616649Z"
    }
   },
   "id": "6c46617cc41262f3"
  },
  {
   "cell_type": "code",
   "execution_count": 79,
   "outputs": [
    {
     "data": {
      "text/plain": "   Unnamed: 0  sepal_length  sepal_width  petal_length  petal_width  \\\n0           0           5.1          3.5           1.4          0.2   \n1           1           4.9          3.0           1.4          0.2   \n2           2           4.7          3.2           1.3          0.2   \n3           3           4.6          3.1           1.5          0.2   \n4           4           5.0          3.6           1.4          0.2   \n\n  species_name  \n0       setosa  \n1       setosa  \n2       setosa  \n3       setosa  \n4       setosa  ",
      "text/html": "<div>\n<style scoped>\n    .dataframe tbody tr th:only-of-type {\n        vertical-align: middle;\n    }\n\n    .dataframe tbody tr th {\n        vertical-align: top;\n    }\n\n    .dataframe thead th {\n        text-align: right;\n    }\n</style>\n<table border=\"1\" class=\"dataframe\">\n  <thead>\n    <tr style=\"text-align: right;\">\n      <th></th>\n      <th>Unnamed: 0</th>\n      <th>sepal_length</th>\n      <th>sepal_width</th>\n      <th>petal_length</th>\n      <th>petal_width</th>\n      <th>species_name</th>\n    </tr>\n  </thead>\n  <tbody>\n    <tr>\n      <th>0</th>\n      <td>0</td>\n      <td>5.1</td>\n      <td>3.5</td>\n      <td>1.4</td>\n      <td>0.2</td>\n      <td>setosa</td>\n    </tr>\n    <tr>\n      <th>1</th>\n      <td>1</td>\n      <td>4.9</td>\n      <td>3.0</td>\n      <td>1.4</td>\n      <td>0.2</td>\n      <td>setosa</td>\n    </tr>\n    <tr>\n      <th>2</th>\n      <td>2</td>\n      <td>4.7</td>\n      <td>3.2</td>\n      <td>1.3</td>\n      <td>0.2</td>\n      <td>setosa</td>\n    </tr>\n    <tr>\n      <th>3</th>\n      <td>3</td>\n      <td>4.6</td>\n      <td>3.1</td>\n      <td>1.5</td>\n      <td>0.2</td>\n      <td>setosa</td>\n    </tr>\n    <tr>\n      <th>4</th>\n      <td>4</td>\n      <td>5.0</td>\n      <td>3.6</td>\n      <td>1.4</td>\n      <td>0.2</td>\n      <td>setosa</td>\n    </tr>\n  </tbody>\n</table>\n</div>"
     },
     "execution_count": 79,
     "metadata": {},
     "output_type": "execute_result"
    }
   ],
   "source": [
    "df.head()"
   ],
   "metadata": {
    "collapsed": false,
    "ExecuteTime": {
     "end_time": "2023-11-21T21:05:11.763057Z",
     "start_time": "2023-11-21T21:05:11.610811Z"
    }
   },
   "id": "7a9c43aa6359aae9"
  },
  {
   "cell_type": "code",
   "execution_count": 80,
   "outputs": [],
   "source": [
    "df = df.rename(columns={'species_name': 'species'})"
   ],
   "metadata": {
    "collapsed": false,
    "ExecuteTime": {
     "end_time": "2023-11-21T21:05:23.446417Z",
     "start_time": "2023-11-21T21:05:23.358318Z"
    }
   },
   "id": "89af568bbfd7812f"
  },
  {
   "cell_type": "code",
   "execution_count": 81,
   "outputs": [
    {
     "data": {
      "text/plain": "   Unnamed: 0  sepal_length  sepal_width  petal_length  petal_width species\n0           0           5.1          3.5           1.4          0.2  setosa\n1           1           4.9          3.0           1.4          0.2  setosa\n2           2           4.7          3.2           1.3          0.2  setosa\n3           3           4.6          3.1           1.5          0.2  setosa\n4           4           5.0          3.6           1.4          0.2  setosa",
      "text/html": "<div>\n<style scoped>\n    .dataframe tbody tr th:only-of-type {\n        vertical-align: middle;\n    }\n\n    .dataframe tbody tr th {\n        vertical-align: top;\n    }\n\n    .dataframe thead th {\n        text-align: right;\n    }\n</style>\n<table border=\"1\" class=\"dataframe\">\n  <thead>\n    <tr style=\"text-align: right;\">\n      <th></th>\n      <th>Unnamed: 0</th>\n      <th>sepal_length</th>\n      <th>sepal_width</th>\n      <th>petal_length</th>\n      <th>petal_width</th>\n      <th>species</th>\n    </tr>\n  </thead>\n  <tbody>\n    <tr>\n      <th>0</th>\n      <td>0</td>\n      <td>5.1</td>\n      <td>3.5</td>\n      <td>1.4</td>\n      <td>0.2</td>\n      <td>setosa</td>\n    </tr>\n    <tr>\n      <th>1</th>\n      <td>1</td>\n      <td>4.9</td>\n      <td>3.0</td>\n      <td>1.4</td>\n      <td>0.2</td>\n      <td>setosa</td>\n    </tr>\n    <tr>\n      <th>2</th>\n      <td>2</td>\n      <td>4.7</td>\n      <td>3.2</td>\n      <td>1.3</td>\n      <td>0.2</td>\n      <td>setosa</td>\n    </tr>\n    <tr>\n      <th>3</th>\n      <td>3</td>\n      <td>4.6</td>\n      <td>3.1</td>\n      <td>1.5</td>\n      <td>0.2</td>\n      <td>setosa</td>\n    </tr>\n    <tr>\n      <th>4</th>\n      <td>4</td>\n      <td>5.0</td>\n      <td>3.6</td>\n      <td>1.4</td>\n      <td>0.2</td>\n      <td>setosa</td>\n    </tr>\n  </tbody>\n</table>\n</div>"
     },
     "execution_count": 81,
     "metadata": {},
     "output_type": "execute_result"
    }
   ],
   "source": [
    "df.head()"
   ],
   "metadata": {
    "collapsed": false,
    "ExecuteTime": {
     "end_time": "2023-11-21T21:05:33.080417Z",
     "start_time": "2023-11-21T21:05:32.851630Z"
    }
   },
   "id": "d201745211dfe228"
  },
  {
   "cell_type": "code",
   "execution_count": 21,
   "outputs": [],
   "source": [
    "def prep_iris(df):\n",
    "    \"\"\" \n",
    "    this function takes in the iris dataframe and returns a cleaned version\n",
    "    \"\"\"\n",
    "    # Replace periods with underscores in the entire DataFrame\n",
    "    df = df.replace('.', '_')\n",
    "\n",
    "    # Drop the 'measurement_id' and 'species_id' columns\n",
    "    df = df.drop(columns=['measurement_id', 'species_id'])\n",
    "\n",
    "    # Rename 'species_name' column to 'species'\n",
    "    df = df.rename(columns={'species_name': 'species'})\n",
    "\n",
    "    return df\n"
   ],
   "metadata": {
    "collapsed": false,
    "ExecuteTime": {
     "end_time": "2023-11-21T20:01:21.867636Z",
     "start_time": "2023-11-21T20:01:21.695818Z"
    }
   },
   "id": "b8cbedbf0bb83393"
  },
  {
   "cell_type": "code",
   "execution_count": 23,
   "outputs": [
    {
     "data": {
      "text/plain": "     Unnamed: 0  sepal_length  sepal_width  petal_length  petal_width  \\\n0             0           5.1          3.5           1.4          0.2   \n1             1           4.9          3.0           1.4          0.2   \n2             2           4.7          3.2           1.3          0.2   \n3             3           4.6          3.1           1.5          0.2   \n4             4           5.0          3.6           1.4          0.2   \n5             5           5.4          3.9           1.7          0.4   \n6             6           4.6          3.4           1.4          0.3   \n7             7           5.0          3.4           1.5          0.2   \n8             8           4.4          2.9           1.4          0.2   \n9             9           4.9          3.1           1.5          0.1   \n10           10           5.4          3.7           1.5          0.2   \n11           11           4.8          3.4           1.6          0.2   \n12           12           4.8          3.0           1.4          0.1   \n13           13           4.3          3.0           1.1          0.1   \n14           14           5.8          4.0           1.2          0.2   \n15           15           5.7          4.4           1.5          0.4   \n16           16           5.4          3.9           1.3          0.4   \n17           17           5.1          3.5           1.4          0.3   \n18           18           5.7          3.8           1.7          0.3   \n19           19           5.1          3.8           1.5          0.3   \n20           20           5.4          3.4           1.7          0.2   \n21           21           5.1          3.7           1.5          0.4   \n22           22           4.6          3.6           1.0          0.2   \n23           23           5.1          3.3           1.7          0.5   \n24           24           4.8          3.4           1.9          0.2   \n25           25           5.0          3.0           1.6          0.2   \n26           26           5.0          3.4           1.6          0.4   \n27           27           5.2          3.5           1.5          0.2   \n28           28           5.2          3.4           1.4          0.2   \n29           29           4.7          3.2           1.6          0.2   \n30           30           4.8          3.1           1.6          0.2   \n31           31           5.4          3.4           1.5          0.4   \n32           32           5.2          4.1           1.5          0.1   \n33           33           5.5          4.2           1.4          0.2   \n34           34           4.9          3.1           1.5          0.2   \n35           35           5.0          3.2           1.2          0.2   \n36           36           5.5          3.5           1.3          0.2   \n37           37           4.9          3.6           1.4          0.1   \n38           38           4.4          3.0           1.3          0.2   \n39           39           5.1          3.4           1.5          0.2   \n40           40           5.0          3.5           1.3          0.3   \n41           41           4.5          2.3           1.3          0.3   \n42           42           4.4          3.2           1.3          0.2   \n43           43           5.0          3.5           1.6          0.6   \n44           44           5.1          3.8           1.9          0.4   \n45           45           4.8          3.0           1.4          0.3   \n46           46           5.1          3.8           1.6          0.2   \n47           47           4.6          3.2           1.4          0.2   \n48           48           5.3          3.7           1.5          0.2   \n49           49           5.0          3.3           1.4          0.2   \n50           50           7.0          3.2           4.7          1.4   \n51           51           6.4          3.2           4.5          1.5   \n52           52           6.9          3.1           4.9          1.5   \n53           53           5.5          2.3           4.0          1.3   \n54           54           6.5          2.8           4.6          1.5   \n55           55           5.7          2.8           4.5          1.3   \n56           56           6.3          3.3           4.7          1.6   \n57           57           4.9          2.4           3.3          1.0   \n58           58           6.6          2.9           4.6          1.3   \n59           59           5.2          2.7           3.9          1.4   \n60           60           5.0          2.0           3.5          1.0   \n61           61           5.9          3.0           4.2          1.5   \n62           62           6.0          2.2           4.0          1.0   \n63           63           6.1          2.9           4.7          1.4   \n64           64           5.6          2.9           3.6          1.3   \n65           65           6.7          3.1           4.4          1.4   \n66           66           5.6          3.0           4.5          1.5   \n67           67           5.8          2.7           4.1          1.0   \n68           68           6.2          2.2           4.5          1.5   \n69           69           5.6          2.5           3.9          1.1   \n70           70           5.9          3.2           4.8          1.8   \n71           71           6.1          2.8           4.0          1.3   \n72           72           6.3          2.5           4.9          1.5   \n73           73           6.1          2.8           4.7          1.2   \n74           74           6.4          2.9           4.3          1.3   \n75           75           6.6          3.0           4.4          1.4   \n76           76           6.8          2.8           4.8          1.4   \n77           77           6.7          3.0           5.0          1.7   \n78           78           6.0          2.9           4.5          1.5   \n79           79           5.7          2.6           3.5          1.0   \n80           80           5.5          2.4           3.8          1.1   \n81           81           5.5          2.4           3.7          1.0   \n82           82           5.8          2.7           3.9          1.2   \n83           83           6.0          2.7           5.1          1.6   \n84           84           5.4          3.0           4.5          1.5   \n85           85           6.0          3.4           4.5          1.6   \n86           86           6.7          3.1           4.7          1.5   \n87           87           6.3          2.3           4.4          1.3   \n88           88           5.6          3.0           4.1          1.3   \n89           89           5.5          2.5           4.0          1.3   \n90           90           5.5          2.6           4.4          1.2   \n91           91           6.1          3.0           4.6          1.4   \n92           92           5.8          2.6           4.0          1.2   \n93           93           5.0          2.3           3.3          1.0   \n94           94           5.6          2.7           4.2          1.3   \n95           95           5.7          3.0           4.2          1.2   \n96           96           5.7          2.9           4.2          1.3   \n97           97           6.2          2.9           4.3          1.3   \n98           98           5.1          2.5           3.0          1.1   \n99           99           5.7          2.8           4.1          1.3   \n100         100           6.3          3.3           6.0          2.5   \n101         101           5.8          2.7           5.1          1.9   \n102         102           7.1          3.0           5.9          2.1   \n103         103           6.3          2.9           5.6          1.8   \n104         104           6.5          3.0           5.8          2.2   \n105         105           7.6          3.0           6.6          2.1   \n106         106           4.9          2.5           4.5          1.7   \n107         107           7.3          2.9           6.3          1.8   \n108         108           6.7          2.5           5.8          1.8   \n109         109           7.2          3.6           6.1          2.5   \n110         110           6.5          3.2           5.1          2.0   \n111         111           6.4          2.7           5.3          1.9   \n112         112           6.8          3.0           5.5          2.1   \n113         113           5.7          2.5           5.0          2.0   \n114         114           5.8          2.8           5.1          2.4   \n115         115           6.4          3.2           5.3          2.3   \n116         116           6.5          3.0           5.5          1.8   \n117         117           7.7          3.8           6.7          2.2   \n118         118           7.7          2.6           6.9          2.3   \n119         119           6.0          2.2           5.0          1.5   \n120         120           6.9          3.2           5.7          2.3   \n121         121           5.6          2.8           4.9          2.0   \n122         122           7.7          2.8           6.7          2.0   \n123         123           6.3          2.7           4.9          1.8   \n124         124           6.7          3.3           5.7          2.1   \n125         125           7.2          3.2           6.0          1.8   \n126         126           6.2          2.8           4.8          1.8   \n127         127           6.1          3.0           4.9          1.8   \n128         128           6.4          2.8           5.6          2.1   \n129         129           7.2          3.0           5.8          1.6   \n130         130           7.4          2.8           6.1          1.9   \n131         131           7.9          3.8           6.4          2.0   \n132         132           6.4          2.8           5.6          2.2   \n133         133           6.3          2.8           5.1          1.5   \n134         134           6.1          2.6           5.6          1.4   \n135         135           7.7          3.0           6.1          2.3   \n136         136           6.3          3.4           5.6          2.4   \n137         137           6.4          3.1           5.5          1.8   \n138         138           6.0          3.0           4.8          1.8   \n139         139           6.9          3.1           5.4          2.1   \n140         140           6.7          3.1           5.6          2.4   \n141         141           6.9          3.1           5.1          2.3   \n142         142           5.8          2.7           5.1          1.9   \n143         143           6.8          3.2           5.9          2.3   \n144         144           6.7          3.3           5.7          2.5   \n145         145           6.7          3.0           5.2          2.3   \n146         146           6.3          2.5           5.0          1.9   \n147         147           6.5          3.0           5.2          2.0   \n148         148           6.2          3.4           5.4          2.3   \n149         149           5.9          3.0           5.1          1.8   \n\n        species  \n0        setosa  \n1        setosa  \n2        setosa  \n3        setosa  \n4        setosa  \n5        setosa  \n6        setosa  \n7        setosa  \n8        setosa  \n9        setosa  \n10       setosa  \n11       setosa  \n12       setosa  \n13       setosa  \n14       setosa  \n15       setosa  \n16       setosa  \n17       setosa  \n18       setosa  \n19       setosa  \n20       setosa  \n21       setosa  \n22       setosa  \n23       setosa  \n24       setosa  \n25       setosa  \n26       setosa  \n27       setosa  \n28       setosa  \n29       setosa  \n30       setosa  \n31       setosa  \n32       setosa  \n33       setosa  \n34       setosa  \n35       setosa  \n36       setosa  \n37       setosa  \n38       setosa  \n39       setosa  \n40       setosa  \n41       setosa  \n42       setosa  \n43       setosa  \n44       setosa  \n45       setosa  \n46       setosa  \n47       setosa  \n48       setosa  \n49       setosa  \n50   versicolor  \n51   versicolor  \n52   versicolor  \n53   versicolor  \n54   versicolor  \n55   versicolor  \n56   versicolor  \n57   versicolor  \n58   versicolor  \n59   versicolor  \n60   versicolor  \n61   versicolor  \n62   versicolor  \n63   versicolor  \n64   versicolor  \n65   versicolor  \n66   versicolor  \n67   versicolor  \n68   versicolor  \n69   versicolor  \n70   versicolor  \n71   versicolor  \n72   versicolor  \n73   versicolor  \n74   versicolor  \n75   versicolor  \n76   versicolor  \n77   versicolor  \n78   versicolor  \n79   versicolor  \n80   versicolor  \n81   versicolor  \n82   versicolor  \n83   versicolor  \n84   versicolor  \n85   versicolor  \n86   versicolor  \n87   versicolor  \n88   versicolor  \n89   versicolor  \n90   versicolor  \n91   versicolor  \n92   versicolor  \n93   versicolor  \n94   versicolor  \n95   versicolor  \n96   versicolor  \n97   versicolor  \n98   versicolor  \n99   versicolor  \n100   virginica  \n101   virginica  \n102   virginica  \n103   virginica  \n104   virginica  \n105   virginica  \n106   virginica  \n107   virginica  \n108   virginica  \n109   virginica  \n110   virginica  \n111   virginica  \n112   virginica  \n113   virginica  \n114   virginica  \n115   virginica  \n116   virginica  \n117   virginica  \n118   virginica  \n119   virginica  \n120   virginica  \n121   virginica  \n122   virginica  \n123   virginica  \n124   virginica  \n125   virginica  \n126   virginica  \n127   virginica  \n128   virginica  \n129   virginica  \n130   virginica  \n131   virginica  \n132   virginica  \n133   virginica  \n134   virginica  \n135   virginica  \n136   virginica  \n137   virginica  \n138   virginica  \n139   virginica  \n140   virginica  \n141   virginica  \n142   virginica  \n143   virginica  \n144   virginica  \n145   virginica  \n146   virginica  \n147   virginica  \n148   virginica  \n149   virginica  ",
      "text/html": "<div>\n<style scoped>\n    .dataframe tbody tr th:only-of-type {\n        vertical-align: middle;\n    }\n\n    .dataframe tbody tr th {\n        vertical-align: top;\n    }\n\n    .dataframe thead th {\n        text-align: right;\n    }\n</style>\n<table border=\"1\" class=\"dataframe\">\n  <thead>\n    <tr style=\"text-align: right;\">\n      <th></th>\n      <th>Unnamed: 0</th>\n      <th>sepal_length</th>\n      <th>sepal_width</th>\n      <th>petal_length</th>\n      <th>petal_width</th>\n      <th>species</th>\n    </tr>\n  </thead>\n  <tbody>\n    <tr>\n      <th>0</th>\n      <td>0</td>\n      <td>5.1</td>\n      <td>3.5</td>\n      <td>1.4</td>\n      <td>0.2</td>\n      <td>setosa</td>\n    </tr>\n    <tr>\n      <th>1</th>\n      <td>1</td>\n      <td>4.9</td>\n      <td>3.0</td>\n      <td>1.4</td>\n      <td>0.2</td>\n      <td>setosa</td>\n    </tr>\n    <tr>\n      <th>2</th>\n      <td>2</td>\n      <td>4.7</td>\n      <td>3.2</td>\n      <td>1.3</td>\n      <td>0.2</td>\n      <td>setosa</td>\n    </tr>\n    <tr>\n      <th>3</th>\n      <td>3</td>\n      <td>4.6</td>\n      <td>3.1</td>\n      <td>1.5</td>\n      <td>0.2</td>\n      <td>setosa</td>\n    </tr>\n    <tr>\n      <th>4</th>\n      <td>4</td>\n      <td>5.0</td>\n      <td>3.6</td>\n      <td>1.4</td>\n      <td>0.2</td>\n      <td>setosa</td>\n    </tr>\n    <tr>\n      <th>5</th>\n      <td>5</td>\n      <td>5.4</td>\n      <td>3.9</td>\n      <td>1.7</td>\n      <td>0.4</td>\n      <td>setosa</td>\n    </tr>\n    <tr>\n      <th>6</th>\n      <td>6</td>\n      <td>4.6</td>\n      <td>3.4</td>\n      <td>1.4</td>\n      <td>0.3</td>\n      <td>setosa</td>\n    </tr>\n    <tr>\n      <th>7</th>\n      <td>7</td>\n      <td>5.0</td>\n      <td>3.4</td>\n      <td>1.5</td>\n      <td>0.2</td>\n      <td>setosa</td>\n    </tr>\n    <tr>\n      <th>8</th>\n      <td>8</td>\n      <td>4.4</td>\n      <td>2.9</td>\n      <td>1.4</td>\n      <td>0.2</td>\n      <td>setosa</td>\n    </tr>\n    <tr>\n      <th>9</th>\n      <td>9</td>\n      <td>4.9</td>\n      <td>3.1</td>\n      <td>1.5</td>\n      <td>0.1</td>\n      <td>setosa</td>\n    </tr>\n    <tr>\n      <th>10</th>\n      <td>10</td>\n      <td>5.4</td>\n      <td>3.7</td>\n      <td>1.5</td>\n      <td>0.2</td>\n      <td>setosa</td>\n    </tr>\n    <tr>\n      <th>11</th>\n      <td>11</td>\n      <td>4.8</td>\n      <td>3.4</td>\n      <td>1.6</td>\n      <td>0.2</td>\n      <td>setosa</td>\n    </tr>\n    <tr>\n      <th>12</th>\n      <td>12</td>\n      <td>4.8</td>\n      <td>3.0</td>\n      <td>1.4</td>\n      <td>0.1</td>\n      <td>setosa</td>\n    </tr>\n    <tr>\n      <th>13</th>\n      <td>13</td>\n      <td>4.3</td>\n      <td>3.0</td>\n      <td>1.1</td>\n      <td>0.1</td>\n      <td>setosa</td>\n    </tr>\n    <tr>\n      <th>14</th>\n      <td>14</td>\n      <td>5.8</td>\n      <td>4.0</td>\n      <td>1.2</td>\n      <td>0.2</td>\n      <td>setosa</td>\n    </tr>\n    <tr>\n      <th>15</th>\n      <td>15</td>\n      <td>5.7</td>\n      <td>4.4</td>\n      <td>1.5</td>\n      <td>0.4</td>\n      <td>setosa</td>\n    </tr>\n    <tr>\n      <th>16</th>\n      <td>16</td>\n      <td>5.4</td>\n      <td>3.9</td>\n      <td>1.3</td>\n      <td>0.4</td>\n      <td>setosa</td>\n    </tr>\n    <tr>\n      <th>17</th>\n      <td>17</td>\n      <td>5.1</td>\n      <td>3.5</td>\n      <td>1.4</td>\n      <td>0.3</td>\n      <td>setosa</td>\n    </tr>\n    <tr>\n      <th>18</th>\n      <td>18</td>\n      <td>5.7</td>\n      <td>3.8</td>\n      <td>1.7</td>\n      <td>0.3</td>\n      <td>setosa</td>\n    </tr>\n    <tr>\n      <th>19</th>\n      <td>19</td>\n      <td>5.1</td>\n      <td>3.8</td>\n      <td>1.5</td>\n      <td>0.3</td>\n      <td>setosa</td>\n    </tr>\n    <tr>\n      <th>20</th>\n      <td>20</td>\n      <td>5.4</td>\n      <td>3.4</td>\n      <td>1.7</td>\n      <td>0.2</td>\n      <td>setosa</td>\n    </tr>\n    <tr>\n      <th>21</th>\n      <td>21</td>\n      <td>5.1</td>\n      <td>3.7</td>\n      <td>1.5</td>\n      <td>0.4</td>\n      <td>setosa</td>\n    </tr>\n    <tr>\n      <th>22</th>\n      <td>22</td>\n      <td>4.6</td>\n      <td>3.6</td>\n      <td>1.0</td>\n      <td>0.2</td>\n      <td>setosa</td>\n    </tr>\n    <tr>\n      <th>23</th>\n      <td>23</td>\n      <td>5.1</td>\n      <td>3.3</td>\n      <td>1.7</td>\n      <td>0.5</td>\n      <td>setosa</td>\n    </tr>\n    <tr>\n      <th>24</th>\n      <td>24</td>\n      <td>4.8</td>\n      <td>3.4</td>\n      <td>1.9</td>\n      <td>0.2</td>\n      <td>setosa</td>\n    </tr>\n    <tr>\n      <th>25</th>\n      <td>25</td>\n      <td>5.0</td>\n      <td>3.0</td>\n      <td>1.6</td>\n      <td>0.2</td>\n      <td>setosa</td>\n    </tr>\n    <tr>\n      <th>26</th>\n      <td>26</td>\n      <td>5.0</td>\n      <td>3.4</td>\n      <td>1.6</td>\n      <td>0.4</td>\n      <td>setosa</td>\n    </tr>\n    <tr>\n      <th>27</th>\n      <td>27</td>\n      <td>5.2</td>\n      <td>3.5</td>\n      <td>1.5</td>\n      <td>0.2</td>\n      <td>setosa</td>\n    </tr>\n    <tr>\n      <th>28</th>\n      <td>28</td>\n      <td>5.2</td>\n      <td>3.4</td>\n      <td>1.4</td>\n      <td>0.2</td>\n      <td>setosa</td>\n    </tr>\n    <tr>\n      <th>29</th>\n      <td>29</td>\n      <td>4.7</td>\n      <td>3.2</td>\n      <td>1.6</td>\n      <td>0.2</td>\n      <td>setosa</td>\n    </tr>\n    <tr>\n      <th>30</th>\n      <td>30</td>\n      <td>4.8</td>\n      <td>3.1</td>\n      <td>1.6</td>\n      <td>0.2</td>\n      <td>setosa</td>\n    </tr>\n    <tr>\n      <th>31</th>\n      <td>31</td>\n      <td>5.4</td>\n      <td>3.4</td>\n      <td>1.5</td>\n      <td>0.4</td>\n      <td>setosa</td>\n    </tr>\n    <tr>\n      <th>32</th>\n      <td>32</td>\n      <td>5.2</td>\n      <td>4.1</td>\n      <td>1.5</td>\n      <td>0.1</td>\n      <td>setosa</td>\n    </tr>\n    <tr>\n      <th>33</th>\n      <td>33</td>\n      <td>5.5</td>\n      <td>4.2</td>\n      <td>1.4</td>\n      <td>0.2</td>\n      <td>setosa</td>\n    </tr>\n    <tr>\n      <th>34</th>\n      <td>34</td>\n      <td>4.9</td>\n      <td>3.1</td>\n      <td>1.5</td>\n      <td>0.2</td>\n      <td>setosa</td>\n    </tr>\n    <tr>\n      <th>35</th>\n      <td>35</td>\n      <td>5.0</td>\n      <td>3.2</td>\n      <td>1.2</td>\n      <td>0.2</td>\n      <td>setosa</td>\n    </tr>\n    <tr>\n      <th>36</th>\n      <td>36</td>\n      <td>5.5</td>\n      <td>3.5</td>\n      <td>1.3</td>\n      <td>0.2</td>\n      <td>setosa</td>\n    </tr>\n    <tr>\n      <th>37</th>\n      <td>37</td>\n      <td>4.9</td>\n      <td>3.6</td>\n      <td>1.4</td>\n      <td>0.1</td>\n      <td>setosa</td>\n    </tr>\n    <tr>\n      <th>38</th>\n      <td>38</td>\n      <td>4.4</td>\n      <td>3.0</td>\n      <td>1.3</td>\n      <td>0.2</td>\n      <td>setosa</td>\n    </tr>\n    <tr>\n      <th>39</th>\n      <td>39</td>\n      <td>5.1</td>\n      <td>3.4</td>\n      <td>1.5</td>\n      <td>0.2</td>\n      <td>setosa</td>\n    </tr>\n    <tr>\n      <th>40</th>\n      <td>40</td>\n      <td>5.0</td>\n      <td>3.5</td>\n      <td>1.3</td>\n      <td>0.3</td>\n      <td>setosa</td>\n    </tr>\n    <tr>\n      <th>41</th>\n      <td>41</td>\n      <td>4.5</td>\n      <td>2.3</td>\n      <td>1.3</td>\n      <td>0.3</td>\n      <td>setosa</td>\n    </tr>\n    <tr>\n      <th>42</th>\n      <td>42</td>\n      <td>4.4</td>\n      <td>3.2</td>\n      <td>1.3</td>\n      <td>0.2</td>\n      <td>setosa</td>\n    </tr>\n    <tr>\n      <th>43</th>\n      <td>43</td>\n      <td>5.0</td>\n      <td>3.5</td>\n      <td>1.6</td>\n      <td>0.6</td>\n      <td>setosa</td>\n    </tr>\n    <tr>\n      <th>44</th>\n      <td>44</td>\n      <td>5.1</td>\n      <td>3.8</td>\n      <td>1.9</td>\n      <td>0.4</td>\n      <td>setosa</td>\n    </tr>\n    <tr>\n      <th>45</th>\n      <td>45</td>\n      <td>4.8</td>\n      <td>3.0</td>\n      <td>1.4</td>\n      <td>0.3</td>\n      <td>setosa</td>\n    </tr>\n    <tr>\n      <th>46</th>\n      <td>46</td>\n      <td>5.1</td>\n      <td>3.8</td>\n      <td>1.6</td>\n      <td>0.2</td>\n      <td>setosa</td>\n    </tr>\n    <tr>\n      <th>47</th>\n      <td>47</td>\n      <td>4.6</td>\n      <td>3.2</td>\n      <td>1.4</td>\n      <td>0.2</td>\n      <td>setosa</td>\n    </tr>\n    <tr>\n      <th>48</th>\n      <td>48</td>\n      <td>5.3</td>\n      <td>3.7</td>\n      <td>1.5</td>\n      <td>0.2</td>\n      <td>setosa</td>\n    </tr>\n    <tr>\n      <th>49</th>\n      <td>49</td>\n      <td>5.0</td>\n      <td>3.3</td>\n      <td>1.4</td>\n      <td>0.2</td>\n      <td>setosa</td>\n    </tr>\n    <tr>\n      <th>50</th>\n      <td>50</td>\n      <td>7.0</td>\n      <td>3.2</td>\n      <td>4.7</td>\n      <td>1.4</td>\n      <td>versicolor</td>\n    </tr>\n    <tr>\n      <th>51</th>\n      <td>51</td>\n      <td>6.4</td>\n      <td>3.2</td>\n      <td>4.5</td>\n      <td>1.5</td>\n      <td>versicolor</td>\n    </tr>\n    <tr>\n      <th>52</th>\n      <td>52</td>\n      <td>6.9</td>\n      <td>3.1</td>\n      <td>4.9</td>\n      <td>1.5</td>\n      <td>versicolor</td>\n    </tr>\n    <tr>\n      <th>53</th>\n      <td>53</td>\n      <td>5.5</td>\n      <td>2.3</td>\n      <td>4.0</td>\n      <td>1.3</td>\n      <td>versicolor</td>\n    </tr>\n    <tr>\n      <th>54</th>\n      <td>54</td>\n      <td>6.5</td>\n      <td>2.8</td>\n      <td>4.6</td>\n      <td>1.5</td>\n      <td>versicolor</td>\n    </tr>\n    <tr>\n      <th>55</th>\n      <td>55</td>\n      <td>5.7</td>\n      <td>2.8</td>\n      <td>4.5</td>\n      <td>1.3</td>\n      <td>versicolor</td>\n    </tr>\n    <tr>\n      <th>56</th>\n      <td>56</td>\n      <td>6.3</td>\n      <td>3.3</td>\n      <td>4.7</td>\n      <td>1.6</td>\n      <td>versicolor</td>\n    </tr>\n    <tr>\n      <th>57</th>\n      <td>57</td>\n      <td>4.9</td>\n      <td>2.4</td>\n      <td>3.3</td>\n      <td>1.0</td>\n      <td>versicolor</td>\n    </tr>\n    <tr>\n      <th>58</th>\n      <td>58</td>\n      <td>6.6</td>\n      <td>2.9</td>\n      <td>4.6</td>\n      <td>1.3</td>\n      <td>versicolor</td>\n    </tr>\n    <tr>\n      <th>59</th>\n      <td>59</td>\n      <td>5.2</td>\n      <td>2.7</td>\n      <td>3.9</td>\n      <td>1.4</td>\n      <td>versicolor</td>\n    </tr>\n    <tr>\n      <th>60</th>\n      <td>60</td>\n      <td>5.0</td>\n      <td>2.0</td>\n      <td>3.5</td>\n      <td>1.0</td>\n      <td>versicolor</td>\n    </tr>\n    <tr>\n      <th>61</th>\n      <td>61</td>\n      <td>5.9</td>\n      <td>3.0</td>\n      <td>4.2</td>\n      <td>1.5</td>\n      <td>versicolor</td>\n    </tr>\n    <tr>\n      <th>62</th>\n      <td>62</td>\n      <td>6.0</td>\n      <td>2.2</td>\n      <td>4.0</td>\n      <td>1.0</td>\n      <td>versicolor</td>\n    </tr>\n    <tr>\n      <th>63</th>\n      <td>63</td>\n      <td>6.1</td>\n      <td>2.9</td>\n      <td>4.7</td>\n      <td>1.4</td>\n      <td>versicolor</td>\n    </tr>\n    <tr>\n      <th>64</th>\n      <td>64</td>\n      <td>5.6</td>\n      <td>2.9</td>\n      <td>3.6</td>\n      <td>1.3</td>\n      <td>versicolor</td>\n    </tr>\n    <tr>\n      <th>65</th>\n      <td>65</td>\n      <td>6.7</td>\n      <td>3.1</td>\n      <td>4.4</td>\n      <td>1.4</td>\n      <td>versicolor</td>\n    </tr>\n    <tr>\n      <th>66</th>\n      <td>66</td>\n      <td>5.6</td>\n      <td>3.0</td>\n      <td>4.5</td>\n      <td>1.5</td>\n      <td>versicolor</td>\n    </tr>\n    <tr>\n      <th>67</th>\n      <td>67</td>\n      <td>5.8</td>\n      <td>2.7</td>\n      <td>4.1</td>\n      <td>1.0</td>\n      <td>versicolor</td>\n    </tr>\n    <tr>\n      <th>68</th>\n      <td>68</td>\n      <td>6.2</td>\n      <td>2.2</td>\n      <td>4.5</td>\n      <td>1.5</td>\n      <td>versicolor</td>\n    </tr>\n    <tr>\n      <th>69</th>\n      <td>69</td>\n      <td>5.6</td>\n      <td>2.5</td>\n      <td>3.9</td>\n      <td>1.1</td>\n      <td>versicolor</td>\n    </tr>\n    <tr>\n      <th>70</th>\n      <td>70</td>\n      <td>5.9</td>\n      <td>3.2</td>\n      <td>4.8</td>\n      <td>1.8</td>\n      <td>versicolor</td>\n    </tr>\n    <tr>\n      <th>71</th>\n      <td>71</td>\n      <td>6.1</td>\n      <td>2.8</td>\n      <td>4.0</td>\n      <td>1.3</td>\n      <td>versicolor</td>\n    </tr>\n    <tr>\n      <th>72</th>\n      <td>72</td>\n      <td>6.3</td>\n      <td>2.5</td>\n      <td>4.9</td>\n      <td>1.5</td>\n      <td>versicolor</td>\n    </tr>\n    <tr>\n      <th>73</th>\n      <td>73</td>\n      <td>6.1</td>\n      <td>2.8</td>\n      <td>4.7</td>\n      <td>1.2</td>\n      <td>versicolor</td>\n    </tr>\n    <tr>\n      <th>74</th>\n      <td>74</td>\n      <td>6.4</td>\n      <td>2.9</td>\n      <td>4.3</td>\n      <td>1.3</td>\n      <td>versicolor</td>\n    </tr>\n    <tr>\n      <th>75</th>\n      <td>75</td>\n      <td>6.6</td>\n      <td>3.0</td>\n      <td>4.4</td>\n      <td>1.4</td>\n      <td>versicolor</td>\n    </tr>\n    <tr>\n      <th>76</th>\n      <td>76</td>\n      <td>6.8</td>\n      <td>2.8</td>\n      <td>4.8</td>\n      <td>1.4</td>\n      <td>versicolor</td>\n    </tr>\n    <tr>\n      <th>77</th>\n      <td>77</td>\n      <td>6.7</td>\n      <td>3.0</td>\n      <td>5.0</td>\n      <td>1.7</td>\n      <td>versicolor</td>\n    </tr>\n    <tr>\n      <th>78</th>\n      <td>78</td>\n      <td>6.0</td>\n      <td>2.9</td>\n      <td>4.5</td>\n      <td>1.5</td>\n      <td>versicolor</td>\n    </tr>\n    <tr>\n      <th>79</th>\n      <td>79</td>\n      <td>5.7</td>\n      <td>2.6</td>\n      <td>3.5</td>\n      <td>1.0</td>\n      <td>versicolor</td>\n    </tr>\n    <tr>\n      <th>80</th>\n      <td>80</td>\n      <td>5.5</td>\n      <td>2.4</td>\n      <td>3.8</td>\n      <td>1.1</td>\n      <td>versicolor</td>\n    </tr>\n    <tr>\n      <th>81</th>\n      <td>81</td>\n      <td>5.5</td>\n      <td>2.4</td>\n      <td>3.7</td>\n      <td>1.0</td>\n      <td>versicolor</td>\n    </tr>\n    <tr>\n      <th>82</th>\n      <td>82</td>\n      <td>5.8</td>\n      <td>2.7</td>\n      <td>3.9</td>\n      <td>1.2</td>\n      <td>versicolor</td>\n    </tr>\n    <tr>\n      <th>83</th>\n      <td>83</td>\n      <td>6.0</td>\n      <td>2.7</td>\n      <td>5.1</td>\n      <td>1.6</td>\n      <td>versicolor</td>\n    </tr>\n    <tr>\n      <th>84</th>\n      <td>84</td>\n      <td>5.4</td>\n      <td>3.0</td>\n      <td>4.5</td>\n      <td>1.5</td>\n      <td>versicolor</td>\n    </tr>\n    <tr>\n      <th>85</th>\n      <td>85</td>\n      <td>6.0</td>\n      <td>3.4</td>\n      <td>4.5</td>\n      <td>1.6</td>\n      <td>versicolor</td>\n    </tr>\n    <tr>\n      <th>86</th>\n      <td>86</td>\n      <td>6.7</td>\n      <td>3.1</td>\n      <td>4.7</td>\n      <td>1.5</td>\n      <td>versicolor</td>\n    </tr>\n    <tr>\n      <th>87</th>\n      <td>87</td>\n      <td>6.3</td>\n      <td>2.3</td>\n      <td>4.4</td>\n      <td>1.3</td>\n      <td>versicolor</td>\n    </tr>\n    <tr>\n      <th>88</th>\n      <td>88</td>\n      <td>5.6</td>\n      <td>3.0</td>\n      <td>4.1</td>\n      <td>1.3</td>\n      <td>versicolor</td>\n    </tr>\n    <tr>\n      <th>89</th>\n      <td>89</td>\n      <td>5.5</td>\n      <td>2.5</td>\n      <td>4.0</td>\n      <td>1.3</td>\n      <td>versicolor</td>\n    </tr>\n    <tr>\n      <th>90</th>\n      <td>90</td>\n      <td>5.5</td>\n      <td>2.6</td>\n      <td>4.4</td>\n      <td>1.2</td>\n      <td>versicolor</td>\n    </tr>\n    <tr>\n      <th>91</th>\n      <td>91</td>\n      <td>6.1</td>\n      <td>3.0</td>\n      <td>4.6</td>\n      <td>1.4</td>\n      <td>versicolor</td>\n    </tr>\n    <tr>\n      <th>92</th>\n      <td>92</td>\n      <td>5.8</td>\n      <td>2.6</td>\n      <td>4.0</td>\n      <td>1.2</td>\n      <td>versicolor</td>\n    </tr>\n    <tr>\n      <th>93</th>\n      <td>93</td>\n      <td>5.0</td>\n      <td>2.3</td>\n      <td>3.3</td>\n      <td>1.0</td>\n      <td>versicolor</td>\n    </tr>\n    <tr>\n      <th>94</th>\n      <td>94</td>\n      <td>5.6</td>\n      <td>2.7</td>\n      <td>4.2</td>\n      <td>1.3</td>\n      <td>versicolor</td>\n    </tr>\n    <tr>\n      <th>95</th>\n      <td>95</td>\n      <td>5.7</td>\n      <td>3.0</td>\n      <td>4.2</td>\n      <td>1.2</td>\n      <td>versicolor</td>\n    </tr>\n    <tr>\n      <th>96</th>\n      <td>96</td>\n      <td>5.7</td>\n      <td>2.9</td>\n      <td>4.2</td>\n      <td>1.3</td>\n      <td>versicolor</td>\n    </tr>\n    <tr>\n      <th>97</th>\n      <td>97</td>\n      <td>6.2</td>\n      <td>2.9</td>\n      <td>4.3</td>\n      <td>1.3</td>\n      <td>versicolor</td>\n    </tr>\n    <tr>\n      <th>98</th>\n      <td>98</td>\n      <td>5.1</td>\n      <td>2.5</td>\n      <td>3.0</td>\n      <td>1.1</td>\n      <td>versicolor</td>\n    </tr>\n    <tr>\n      <th>99</th>\n      <td>99</td>\n      <td>5.7</td>\n      <td>2.8</td>\n      <td>4.1</td>\n      <td>1.3</td>\n      <td>versicolor</td>\n    </tr>\n    <tr>\n      <th>100</th>\n      <td>100</td>\n      <td>6.3</td>\n      <td>3.3</td>\n      <td>6.0</td>\n      <td>2.5</td>\n      <td>virginica</td>\n    </tr>\n    <tr>\n      <th>101</th>\n      <td>101</td>\n      <td>5.8</td>\n      <td>2.7</td>\n      <td>5.1</td>\n      <td>1.9</td>\n      <td>virginica</td>\n    </tr>\n    <tr>\n      <th>102</th>\n      <td>102</td>\n      <td>7.1</td>\n      <td>3.0</td>\n      <td>5.9</td>\n      <td>2.1</td>\n      <td>virginica</td>\n    </tr>\n    <tr>\n      <th>103</th>\n      <td>103</td>\n      <td>6.3</td>\n      <td>2.9</td>\n      <td>5.6</td>\n      <td>1.8</td>\n      <td>virginica</td>\n    </tr>\n    <tr>\n      <th>104</th>\n      <td>104</td>\n      <td>6.5</td>\n      <td>3.0</td>\n      <td>5.8</td>\n      <td>2.2</td>\n      <td>virginica</td>\n    </tr>\n    <tr>\n      <th>105</th>\n      <td>105</td>\n      <td>7.6</td>\n      <td>3.0</td>\n      <td>6.6</td>\n      <td>2.1</td>\n      <td>virginica</td>\n    </tr>\n    <tr>\n      <th>106</th>\n      <td>106</td>\n      <td>4.9</td>\n      <td>2.5</td>\n      <td>4.5</td>\n      <td>1.7</td>\n      <td>virginica</td>\n    </tr>\n    <tr>\n      <th>107</th>\n      <td>107</td>\n      <td>7.3</td>\n      <td>2.9</td>\n      <td>6.3</td>\n      <td>1.8</td>\n      <td>virginica</td>\n    </tr>\n    <tr>\n      <th>108</th>\n      <td>108</td>\n      <td>6.7</td>\n      <td>2.5</td>\n      <td>5.8</td>\n      <td>1.8</td>\n      <td>virginica</td>\n    </tr>\n    <tr>\n      <th>109</th>\n      <td>109</td>\n      <td>7.2</td>\n      <td>3.6</td>\n      <td>6.1</td>\n      <td>2.5</td>\n      <td>virginica</td>\n    </tr>\n    <tr>\n      <th>110</th>\n      <td>110</td>\n      <td>6.5</td>\n      <td>3.2</td>\n      <td>5.1</td>\n      <td>2.0</td>\n      <td>virginica</td>\n    </tr>\n    <tr>\n      <th>111</th>\n      <td>111</td>\n      <td>6.4</td>\n      <td>2.7</td>\n      <td>5.3</td>\n      <td>1.9</td>\n      <td>virginica</td>\n    </tr>\n    <tr>\n      <th>112</th>\n      <td>112</td>\n      <td>6.8</td>\n      <td>3.0</td>\n      <td>5.5</td>\n      <td>2.1</td>\n      <td>virginica</td>\n    </tr>\n    <tr>\n      <th>113</th>\n      <td>113</td>\n      <td>5.7</td>\n      <td>2.5</td>\n      <td>5.0</td>\n      <td>2.0</td>\n      <td>virginica</td>\n    </tr>\n    <tr>\n      <th>114</th>\n      <td>114</td>\n      <td>5.8</td>\n      <td>2.8</td>\n      <td>5.1</td>\n      <td>2.4</td>\n      <td>virginica</td>\n    </tr>\n    <tr>\n      <th>115</th>\n      <td>115</td>\n      <td>6.4</td>\n      <td>3.2</td>\n      <td>5.3</td>\n      <td>2.3</td>\n      <td>virginica</td>\n    </tr>\n    <tr>\n      <th>116</th>\n      <td>116</td>\n      <td>6.5</td>\n      <td>3.0</td>\n      <td>5.5</td>\n      <td>1.8</td>\n      <td>virginica</td>\n    </tr>\n    <tr>\n      <th>117</th>\n      <td>117</td>\n      <td>7.7</td>\n      <td>3.8</td>\n      <td>6.7</td>\n      <td>2.2</td>\n      <td>virginica</td>\n    </tr>\n    <tr>\n      <th>118</th>\n      <td>118</td>\n      <td>7.7</td>\n      <td>2.6</td>\n      <td>6.9</td>\n      <td>2.3</td>\n      <td>virginica</td>\n    </tr>\n    <tr>\n      <th>119</th>\n      <td>119</td>\n      <td>6.0</td>\n      <td>2.2</td>\n      <td>5.0</td>\n      <td>1.5</td>\n      <td>virginica</td>\n    </tr>\n    <tr>\n      <th>120</th>\n      <td>120</td>\n      <td>6.9</td>\n      <td>3.2</td>\n      <td>5.7</td>\n      <td>2.3</td>\n      <td>virginica</td>\n    </tr>\n    <tr>\n      <th>121</th>\n      <td>121</td>\n      <td>5.6</td>\n      <td>2.8</td>\n      <td>4.9</td>\n      <td>2.0</td>\n      <td>virginica</td>\n    </tr>\n    <tr>\n      <th>122</th>\n      <td>122</td>\n      <td>7.7</td>\n      <td>2.8</td>\n      <td>6.7</td>\n      <td>2.0</td>\n      <td>virginica</td>\n    </tr>\n    <tr>\n      <th>123</th>\n      <td>123</td>\n      <td>6.3</td>\n      <td>2.7</td>\n      <td>4.9</td>\n      <td>1.8</td>\n      <td>virginica</td>\n    </tr>\n    <tr>\n      <th>124</th>\n      <td>124</td>\n      <td>6.7</td>\n      <td>3.3</td>\n      <td>5.7</td>\n      <td>2.1</td>\n      <td>virginica</td>\n    </tr>\n    <tr>\n      <th>125</th>\n      <td>125</td>\n      <td>7.2</td>\n      <td>3.2</td>\n      <td>6.0</td>\n      <td>1.8</td>\n      <td>virginica</td>\n    </tr>\n    <tr>\n      <th>126</th>\n      <td>126</td>\n      <td>6.2</td>\n      <td>2.8</td>\n      <td>4.8</td>\n      <td>1.8</td>\n      <td>virginica</td>\n    </tr>\n    <tr>\n      <th>127</th>\n      <td>127</td>\n      <td>6.1</td>\n      <td>3.0</td>\n      <td>4.9</td>\n      <td>1.8</td>\n      <td>virginica</td>\n    </tr>\n    <tr>\n      <th>128</th>\n      <td>128</td>\n      <td>6.4</td>\n      <td>2.8</td>\n      <td>5.6</td>\n      <td>2.1</td>\n      <td>virginica</td>\n    </tr>\n    <tr>\n      <th>129</th>\n      <td>129</td>\n      <td>7.2</td>\n      <td>3.0</td>\n      <td>5.8</td>\n      <td>1.6</td>\n      <td>virginica</td>\n    </tr>\n    <tr>\n      <th>130</th>\n      <td>130</td>\n      <td>7.4</td>\n      <td>2.8</td>\n      <td>6.1</td>\n      <td>1.9</td>\n      <td>virginica</td>\n    </tr>\n    <tr>\n      <th>131</th>\n      <td>131</td>\n      <td>7.9</td>\n      <td>3.8</td>\n      <td>6.4</td>\n      <td>2.0</td>\n      <td>virginica</td>\n    </tr>\n    <tr>\n      <th>132</th>\n      <td>132</td>\n      <td>6.4</td>\n      <td>2.8</td>\n      <td>5.6</td>\n      <td>2.2</td>\n      <td>virginica</td>\n    </tr>\n    <tr>\n      <th>133</th>\n      <td>133</td>\n      <td>6.3</td>\n      <td>2.8</td>\n      <td>5.1</td>\n      <td>1.5</td>\n      <td>virginica</td>\n    </tr>\n    <tr>\n      <th>134</th>\n      <td>134</td>\n      <td>6.1</td>\n      <td>2.6</td>\n      <td>5.6</td>\n      <td>1.4</td>\n      <td>virginica</td>\n    </tr>\n    <tr>\n      <th>135</th>\n      <td>135</td>\n      <td>7.7</td>\n      <td>3.0</td>\n      <td>6.1</td>\n      <td>2.3</td>\n      <td>virginica</td>\n    </tr>\n    <tr>\n      <th>136</th>\n      <td>136</td>\n      <td>6.3</td>\n      <td>3.4</td>\n      <td>5.6</td>\n      <td>2.4</td>\n      <td>virginica</td>\n    </tr>\n    <tr>\n      <th>137</th>\n      <td>137</td>\n      <td>6.4</td>\n      <td>3.1</td>\n      <td>5.5</td>\n      <td>1.8</td>\n      <td>virginica</td>\n    </tr>\n    <tr>\n      <th>138</th>\n      <td>138</td>\n      <td>6.0</td>\n      <td>3.0</td>\n      <td>4.8</td>\n      <td>1.8</td>\n      <td>virginica</td>\n    </tr>\n    <tr>\n      <th>139</th>\n      <td>139</td>\n      <td>6.9</td>\n      <td>3.1</td>\n      <td>5.4</td>\n      <td>2.1</td>\n      <td>virginica</td>\n    </tr>\n    <tr>\n      <th>140</th>\n      <td>140</td>\n      <td>6.7</td>\n      <td>3.1</td>\n      <td>5.6</td>\n      <td>2.4</td>\n      <td>virginica</td>\n    </tr>\n    <tr>\n      <th>141</th>\n      <td>141</td>\n      <td>6.9</td>\n      <td>3.1</td>\n      <td>5.1</td>\n      <td>2.3</td>\n      <td>virginica</td>\n    </tr>\n    <tr>\n      <th>142</th>\n      <td>142</td>\n      <td>5.8</td>\n      <td>2.7</td>\n      <td>5.1</td>\n      <td>1.9</td>\n      <td>virginica</td>\n    </tr>\n    <tr>\n      <th>143</th>\n      <td>143</td>\n      <td>6.8</td>\n      <td>3.2</td>\n      <td>5.9</td>\n      <td>2.3</td>\n      <td>virginica</td>\n    </tr>\n    <tr>\n      <th>144</th>\n      <td>144</td>\n      <td>6.7</td>\n      <td>3.3</td>\n      <td>5.7</td>\n      <td>2.5</td>\n      <td>virginica</td>\n    </tr>\n    <tr>\n      <th>145</th>\n      <td>145</td>\n      <td>6.7</td>\n      <td>3.0</td>\n      <td>5.2</td>\n      <td>2.3</td>\n      <td>virginica</td>\n    </tr>\n    <tr>\n      <th>146</th>\n      <td>146</td>\n      <td>6.3</td>\n      <td>2.5</td>\n      <td>5.0</td>\n      <td>1.9</td>\n      <td>virginica</td>\n    </tr>\n    <tr>\n      <th>147</th>\n      <td>147</td>\n      <td>6.5</td>\n      <td>3.0</td>\n      <td>5.2</td>\n      <td>2.0</td>\n      <td>virginica</td>\n    </tr>\n    <tr>\n      <th>148</th>\n      <td>148</td>\n      <td>6.2</td>\n      <td>3.4</td>\n      <td>5.4</td>\n      <td>2.3</td>\n      <td>virginica</td>\n    </tr>\n    <tr>\n      <th>149</th>\n      <td>149</td>\n      <td>5.9</td>\n      <td>3.0</td>\n      <td>5.1</td>\n      <td>1.8</td>\n      <td>virginica</td>\n    </tr>\n  </tbody>\n</table>\n</div>"
     },
     "execution_count": 23,
     "metadata": {},
     "output_type": "execute_result"
    }
   ],
   "source": [
    "prep_iris(df)"
   ],
   "metadata": {
    "collapsed": false,
    "ExecuteTime": {
     "end_time": "2023-11-21T20:03:43.271607Z",
     "start_time": "2023-11-21T20:03:43.177498Z"
    }
   },
   "id": "7322fd24055935ed"
  },
  {
   "cell_type": "code",
   "execution_count": 82,
   "outputs": [
    {
     "name": "stdout",
     "output_type": "stream",
     "text": [
      "this file exists, reading csv\n"
     ]
    },
    {
     "data": {
      "text/plain": "      Unnamed: 0  payment_type_id  internet_service_type_id  contract_type_id  \\\n0              0                2                         1                 2   \n1              1                2                         1                 1   \n2              2                1                         2                 1   \n3              3                1                         2                 1   \n4              4                2                         2                 1   \n...          ...              ...                       ...               ...   \n7038        7038                2                         1                 2   \n7039        7039                1                         2                 1   \n7040        7040                2                         1                 1   \n7041        7041                2                         1                 3   \n7042        7042                1                         1                 3   \n\n     customer_id  gender  senior_citizen partner dependents  tenure  ...  \\\n0     0002-ORFBO  Female               0     Yes        Yes       9  ...   \n1     0003-MKNFE    Male               0      No         No       9  ...   \n2     0004-TLHLJ    Male               0      No         No       4  ...   \n3     0011-IGKFF    Male               1     Yes         No      13  ...   \n4     0013-EXCHZ  Female               1     Yes         No       3  ...   \n...          ...     ...             ...     ...        ...     ...  ...   \n7038  9987-LUTYD  Female               0      No         No      13  ...   \n7039  9992-RRAMN    Male               0     Yes         No      22  ...   \n7040  9992-UJOEL    Male               0      No         No       2  ...   \n7041  9993-LHIEB    Male               0     Yes        Yes      67  ...   \n7042  9995-HOTOH    Male               0     Yes        Yes      63  ...   \n\n     tech_support streaming_tv streaming_movies paperless_billing  \\\n0             Yes          Yes               No               Yes   \n1              No           No              Yes                No   \n2              No           No               No               Yes   \n3              No          Yes              Yes               Yes   \n4             Yes          Yes               No               Yes   \n...           ...          ...              ...               ...   \n7038          Yes           No               No                No   \n7039           No           No              Yes               Yes   \n7040           No           No               No               Yes   \n7041          Yes           No              Yes                No   \n7042           No          Yes              Yes                No   \n\n     monthly_charges total_charges churn   contract_type  \\\n0              65.60         593.3    No        One year   \n1              59.90         542.4    No  Month-to-month   \n2              73.90        280.85   Yes  Month-to-month   \n3              98.00       1237.85   Yes  Month-to-month   \n4              83.90         267.4   Yes  Month-to-month   \n...              ...           ...   ...             ...   \n7038           55.15         742.9    No        One year   \n7039           85.10        1873.7   Yes  Month-to-month   \n7040           50.30         92.75    No  Month-to-month   \n7041           67.85       4627.65    No        Two year   \n7042           59.00        3707.6    No        Two year   \n\n     internet_service_type      payment_type  \n0                      DSL      Mailed check  \n1                      DSL      Mailed check  \n2              Fiber optic  Electronic check  \n3              Fiber optic  Electronic check  \n4              Fiber optic      Mailed check  \n...                    ...               ...  \n7038                   DSL      Mailed check  \n7039           Fiber optic  Electronic check  \n7040                   DSL      Mailed check  \n7041                   DSL      Mailed check  \n7042                   DSL  Electronic check  \n\n[7043 rows x 25 columns]",
      "text/html": "<div>\n<style scoped>\n    .dataframe tbody tr th:only-of-type {\n        vertical-align: middle;\n    }\n\n    .dataframe tbody tr th {\n        vertical-align: top;\n    }\n\n    .dataframe thead th {\n        text-align: right;\n    }\n</style>\n<table border=\"1\" class=\"dataframe\">\n  <thead>\n    <tr style=\"text-align: right;\">\n      <th></th>\n      <th>Unnamed: 0</th>\n      <th>payment_type_id</th>\n      <th>internet_service_type_id</th>\n      <th>contract_type_id</th>\n      <th>customer_id</th>\n      <th>gender</th>\n      <th>senior_citizen</th>\n      <th>partner</th>\n      <th>dependents</th>\n      <th>tenure</th>\n      <th>...</th>\n      <th>tech_support</th>\n      <th>streaming_tv</th>\n      <th>streaming_movies</th>\n      <th>paperless_billing</th>\n      <th>monthly_charges</th>\n      <th>total_charges</th>\n      <th>churn</th>\n      <th>contract_type</th>\n      <th>internet_service_type</th>\n      <th>payment_type</th>\n    </tr>\n  </thead>\n  <tbody>\n    <tr>\n      <th>0</th>\n      <td>0</td>\n      <td>2</td>\n      <td>1</td>\n      <td>2</td>\n      <td>0002-ORFBO</td>\n      <td>Female</td>\n      <td>0</td>\n      <td>Yes</td>\n      <td>Yes</td>\n      <td>9</td>\n      <td>...</td>\n      <td>Yes</td>\n      <td>Yes</td>\n      <td>No</td>\n      <td>Yes</td>\n      <td>65.60</td>\n      <td>593.3</td>\n      <td>No</td>\n      <td>One year</td>\n      <td>DSL</td>\n      <td>Mailed check</td>\n    </tr>\n    <tr>\n      <th>1</th>\n      <td>1</td>\n      <td>2</td>\n      <td>1</td>\n      <td>1</td>\n      <td>0003-MKNFE</td>\n      <td>Male</td>\n      <td>0</td>\n      <td>No</td>\n      <td>No</td>\n      <td>9</td>\n      <td>...</td>\n      <td>No</td>\n      <td>No</td>\n      <td>Yes</td>\n      <td>No</td>\n      <td>59.90</td>\n      <td>542.4</td>\n      <td>No</td>\n      <td>Month-to-month</td>\n      <td>DSL</td>\n      <td>Mailed check</td>\n    </tr>\n    <tr>\n      <th>2</th>\n      <td>2</td>\n      <td>1</td>\n      <td>2</td>\n      <td>1</td>\n      <td>0004-TLHLJ</td>\n      <td>Male</td>\n      <td>0</td>\n      <td>No</td>\n      <td>No</td>\n      <td>4</td>\n      <td>...</td>\n      <td>No</td>\n      <td>No</td>\n      <td>No</td>\n      <td>Yes</td>\n      <td>73.90</td>\n      <td>280.85</td>\n      <td>Yes</td>\n      <td>Month-to-month</td>\n      <td>Fiber optic</td>\n      <td>Electronic check</td>\n    </tr>\n    <tr>\n      <th>3</th>\n      <td>3</td>\n      <td>1</td>\n      <td>2</td>\n      <td>1</td>\n      <td>0011-IGKFF</td>\n      <td>Male</td>\n      <td>1</td>\n      <td>Yes</td>\n      <td>No</td>\n      <td>13</td>\n      <td>...</td>\n      <td>No</td>\n      <td>Yes</td>\n      <td>Yes</td>\n      <td>Yes</td>\n      <td>98.00</td>\n      <td>1237.85</td>\n      <td>Yes</td>\n      <td>Month-to-month</td>\n      <td>Fiber optic</td>\n      <td>Electronic check</td>\n    </tr>\n    <tr>\n      <th>4</th>\n      <td>4</td>\n      <td>2</td>\n      <td>2</td>\n      <td>1</td>\n      <td>0013-EXCHZ</td>\n      <td>Female</td>\n      <td>1</td>\n      <td>Yes</td>\n      <td>No</td>\n      <td>3</td>\n      <td>...</td>\n      <td>Yes</td>\n      <td>Yes</td>\n      <td>No</td>\n      <td>Yes</td>\n      <td>83.90</td>\n      <td>267.4</td>\n      <td>Yes</td>\n      <td>Month-to-month</td>\n      <td>Fiber optic</td>\n      <td>Mailed check</td>\n    </tr>\n    <tr>\n      <th>...</th>\n      <td>...</td>\n      <td>...</td>\n      <td>...</td>\n      <td>...</td>\n      <td>...</td>\n      <td>...</td>\n      <td>...</td>\n      <td>...</td>\n      <td>...</td>\n      <td>...</td>\n      <td>...</td>\n      <td>...</td>\n      <td>...</td>\n      <td>...</td>\n      <td>...</td>\n      <td>...</td>\n      <td>...</td>\n      <td>...</td>\n      <td>...</td>\n      <td>...</td>\n      <td>...</td>\n    </tr>\n    <tr>\n      <th>7038</th>\n      <td>7038</td>\n      <td>2</td>\n      <td>1</td>\n      <td>2</td>\n      <td>9987-LUTYD</td>\n      <td>Female</td>\n      <td>0</td>\n      <td>No</td>\n      <td>No</td>\n      <td>13</td>\n      <td>...</td>\n      <td>Yes</td>\n      <td>No</td>\n      <td>No</td>\n      <td>No</td>\n      <td>55.15</td>\n      <td>742.9</td>\n      <td>No</td>\n      <td>One year</td>\n      <td>DSL</td>\n      <td>Mailed check</td>\n    </tr>\n    <tr>\n      <th>7039</th>\n      <td>7039</td>\n      <td>1</td>\n      <td>2</td>\n      <td>1</td>\n      <td>9992-RRAMN</td>\n      <td>Male</td>\n      <td>0</td>\n      <td>Yes</td>\n      <td>No</td>\n      <td>22</td>\n      <td>...</td>\n      <td>No</td>\n      <td>No</td>\n      <td>Yes</td>\n      <td>Yes</td>\n      <td>85.10</td>\n      <td>1873.7</td>\n      <td>Yes</td>\n      <td>Month-to-month</td>\n      <td>Fiber optic</td>\n      <td>Electronic check</td>\n    </tr>\n    <tr>\n      <th>7040</th>\n      <td>7040</td>\n      <td>2</td>\n      <td>1</td>\n      <td>1</td>\n      <td>9992-UJOEL</td>\n      <td>Male</td>\n      <td>0</td>\n      <td>No</td>\n      <td>No</td>\n      <td>2</td>\n      <td>...</td>\n      <td>No</td>\n      <td>No</td>\n      <td>No</td>\n      <td>Yes</td>\n      <td>50.30</td>\n      <td>92.75</td>\n      <td>No</td>\n      <td>Month-to-month</td>\n      <td>DSL</td>\n      <td>Mailed check</td>\n    </tr>\n    <tr>\n      <th>7041</th>\n      <td>7041</td>\n      <td>2</td>\n      <td>1</td>\n      <td>3</td>\n      <td>9993-LHIEB</td>\n      <td>Male</td>\n      <td>0</td>\n      <td>Yes</td>\n      <td>Yes</td>\n      <td>67</td>\n      <td>...</td>\n      <td>Yes</td>\n      <td>No</td>\n      <td>Yes</td>\n      <td>No</td>\n      <td>67.85</td>\n      <td>4627.65</td>\n      <td>No</td>\n      <td>Two year</td>\n      <td>DSL</td>\n      <td>Mailed check</td>\n    </tr>\n    <tr>\n      <th>7042</th>\n      <td>7042</td>\n      <td>1</td>\n      <td>1</td>\n      <td>3</td>\n      <td>9995-HOTOH</td>\n      <td>Male</td>\n      <td>0</td>\n      <td>Yes</td>\n      <td>Yes</td>\n      <td>63</td>\n      <td>...</td>\n      <td>No</td>\n      <td>Yes</td>\n      <td>Yes</td>\n      <td>No</td>\n      <td>59.00</td>\n      <td>3707.6</td>\n      <td>No</td>\n      <td>Two year</td>\n      <td>DSL</td>\n      <td>Electronic check</td>\n    </tr>\n  </tbody>\n</table>\n<p>7043 rows × 25 columns</p>\n</div>"
     },
     "execution_count": 82,
     "metadata": {},
     "output_type": "execute_result"
    }
   ],
   "source": [
    "acquired.get_telco_data()"
   ],
   "metadata": {
    "collapsed": false,
    "ExecuteTime": {
     "end_time": "2023-11-21T21:16:12.199179Z",
     "start_time": "2023-11-21T21:16:11.908837Z"
    }
   },
   "id": "c6bec50616a76d56"
  },
  {
   "cell_type": "code",
   "execution_count": 84,
   "outputs": [
    {
     "name": "stdout",
     "output_type": "stream",
     "text": [
      "this file exists, reading csv\n"
     ]
    }
   ],
   "source": [
    "df = acquired.get_telco_data()"
   ],
   "metadata": {
    "collapsed": false,
    "ExecuteTime": {
     "end_time": "2023-11-21T21:16:16.551246Z",
     "start_time": "2023-11-21T21:16:15.858004Z"
    }
   },
   "id": "3dc2d0b896e167f3"
  },
  {
   "cell_type": "code",
   "execution_count": 27,
   "outputs": [
    {
     "data": {
      "text/plain": "   Unnamed: 0  payment_type_id  internet_service_type_id  contract_type_id  \\\n0           0                2                         1                 2   \n1           1                2                         1                 1   \n2           2                1                         2                 1   \n3           3                1                         2                 1   \n4           4                2                         2                 1   \n\n  customer_id  gender  senior_citizen partner dependents  tenure  ...  \\\n0  0002-ORFBO  Female               0     Yes        Yes       9  ...   \n1  0003-MKNFE    Male               0      No         No       9  ...   \n2  0004-TLHLJ    Male               0      No         No       4  ...   \n3  0011-IGKFF    Male               1     Yes         No      13  ...   \n4  0013-EXCHZ  Female               1     Yes         No       3  ...   \n\n  tech_support streaming_tv streaming_movies paperless_billing  \\\n0          Yes          Yes               No               Yes   \n1           No           No              Yes                No   \n2           No           No               No               Yes   \n3           No          Yes              Yes               Yes   \n4          Yes          Yes               No               Yes   \n\n  monthly_charges total_charges churn   contract_type internet_service_type  \\\n0            65.6         593.3    No        One year                   DSL   \n1            59.9         542.4    No  Month-to-month                   DSL   \n2            73.9        280.85   Yes  Month-to-month           Fiber optic   \n3            98.0       1237.85   Yes  Month-to-month           Fiber optic   \n4            83.9         267.4   Yes  Month-to-month           Fiber optic   \n\n       payment_type  \n0      Mailed check  \n1      Mailed check  \n2  Electronic check  \n3  Electronic check  \n4      Mailed check  \n\n[5 rows x 25 columns]",
      "text/html": "<div>\n<style scoped>\n    .dataframe tbody tr th:only-of-type {\n        vertical-align: middle;\n    }\n\n    .dataframe tbody tr th {\n        vertical-align: top;\n    }\n\n    .dataframe thead th {\n        text-align: right;\n    }\n</style>\n<table border=\"1\" class=\"dataframe\">\n  <thead>\n    <tr style=\"text-align: right;\">\n      <th></th>\n      <th>Unnamed: 0</th>\n      <th>payment_type_id</th>\n      <th>internet_service_type_id</th>\n      <th>contract_type_id</th>\n      <th>customer_id</th>\n      <th>gender</th>\n      <th>senior_citizen</th>\n      <th>partner</th>\n      <th>dependents</th>\n      <th>tenure</th>\n      <th>...</th>\n      <th>tech_support</th>\n      <th>streaming_tv</th>\n      <th>streaming_movies</th>\n      <th>paperless_billing</th>\n      <th>monthly_charges</th>\n      <th>total_charges</th>\n      <th>churn</th>\n      <th>contract_type</th>\n      <th>internet_service_type</th>\n      <th>payment_type</th>\n    </tr>\n  </thead>\n  <tbody>\n    <tr>\n      <th>0</th>\n      <td>0</td>\n      <td>2</td>\n      <td>1</td>\n      <td>2</td>\n      <td>0002-ORFBO</td>\n      <td>Female</td>\n      <td>0</td>\n      <td>Yes</td>\n      <td>Yes</td>\n      <td>9</td>\n      <td>...</td>\n      <td>Yes</td>\n      <td>Yes</td>\n      <td>No</td>\n      <td>Yes</td>\n      <td>65.6</td>\n      <td>593.3</td>\n      <td>No</td>\n      <td>One year</td>\n      <td>DSL</td>\n      <td>Mailed check</td>\n    </tr>\n    <tr>\n      <th>1</th>\n      <td>1</td>\n      <td>2</td>\n      <td>1</td>\n      <td>1</td>\n      <td>0003-MKNFE</td>\n      <td>Male</td>\n      <td>0</td>\n      <td>No</td>\n      <td>No</td>\n      <td>9</td>\n      <td>...</td>\n      <td>No</td>\n      <td>No</td>\n      <td>Yes</td>\n      <td>No</td>\n      <td>59.9</td>\n      <td>542.4</td>\n      <td>No</td>\n      <td>Month-to-month</td>\n      <td>DSL</td>\n      <td>Mailed check</td>\n    </tr>\n    <tr>\n      <th>2</th>\n      <td>2</td>\n      <td>1</td>\n      <td>2</td>\n      <td>1</td>\n      <td>0004-TLHLJ</td>\n      <td>Male</td>\n      <td>0</td>\n      <td>No</td>\n      <td>No</td>\n      <td>4</td>\n      <td>...</td>\n      <td>No</td>\n      <td>No</td>\n      <td>No</td>\n      <td>Yes</td>\n      <td>73.9</td>\n      <td>280.85</td>\n      <td>Yes</td>\n      <td>Month-to-month</td>\n      <td>Fiber optic</td>\n      <td>Electronic check</td>\n    </tr>\n    <tr>\n      <th>3</th>\n      <td>3</td>\n      <td>1</td>\n      <td>2</td>\n      <td>1</td>\n      <td>0011-IGKFF</td>\n      <td>Male</td>\n      <td>1</td>\n      <td>Yes</td>\n      <td>No</td>\n      <td>13</td>\n      <td>...</td>\n      <td>No</td>\n      <td>Yes</td>\n      <td>Yes</td>\n      <td>Yes</td>\n      <td>98.0</td>\n      <td>1237.85</td>\n      <td>Yes</td>\n      <td>Month-to-month</td>\n      <td>Fiber optic</td>\n      <td>Electronic check</td>\n    </tr>\n    <tr>\n      <th>4</th>\n      <td>4</td>\n      <td>2</td>\n      <td>2</td>\n      <td>1</td>\n      <td>0013-EXCHZ</td>\n      <td>Female</td>\n      <td>1</td>\n      <td>Yes</td>\n      <td>No</td>\n      <td>3</td>\n      <td>...</td>\n      <td>Yes</td>\n      <td>Yes</td>\n      <td>No</td>\n      <td>Yes</td>\n      <td>83.9</td>\n      <td>267.4</td>\n      <td>Yes</td>\n      <td>Month-to-month</td>\n      <td>Fiber optic</td>\n      <td>Mailed check</td>\n    </tr>\n  </tbody>\n</table>\n<p>5 rows × 25 columns</p>\n</div>"
     },
     "execution_count": 27,
     "metadata": {},
     "output_type": "execute_result"
    }
   ],
   "source": [
    "df.head()"
   ],
   "metadata": {
    "collapsed": false,
    "ExecuteTime": {
     "end_time": "2023-11-21T20:07:28.204578Z",
     "start_time": "2023-11-21T20:07:28.126501Z"
    }
   },
   "id": "c29e75d5dd523b30"
  },
  {
   "cell_type": "code",
   "execution_count": 44,
   "outputs": [
    {
     "ename": "KeyError",
     "evalue": "\"['payment_type_id', 'internet_service_type_id', 'contract_type_id', 'Unnamed: 0'] not found in axis\"",
     "output_type": "error",
     "traceback": [
      "\u001B[0;31m---------------------------------------------------------------------------\u001B[0m",
      "\u001B[0;31mKeyError\u001B[0m                                  Traceback (most recent call last)",
      "Cell \u001B[0;32mIn[44], line 1\u001B[0m\n\u001B[0;32m----> 1\u001B[0m df \u001B[38;5;241m=\u001B[39m \u001B[43mdf\u001B[49m\u001B[38;5;241;43m.\u001B[39;49m\u001B[43mdrop\u001B[49m\u001B[43m(\u001B[49m\u001B[43mcolumns\u001B[49m\u001B[38;5;241;43m=\u001B[39;49m\u001B[43m[\u001B[49m\u001B[38;5;124;43m'\u001B[39;49m\u001B[38;5;124;43mpayment_type_id\u001B[39;49m\u001B[38;5;124;43m'\u001B[39;49m\u001B[43m,\u001B[49m\u001B[43m \u001B[49m\u001B[38;5;124;43m'\u001B[39;49m\u001B[38;5;124;43minternet_service_type_id\u001B[39;49m\u001B[38;5;124;43m'\u001B[39;49m\u001B[43m,\u001B[49m\u001B[43m \u001B[49m\u001B[38;5;124;43m'\u001B[39;49m\u001B[38;5;124;43mcontract_type_id\u001B[39;49m\u001B[38;5;124;43m'\u001B[39;49m\u001B[43m,\u001B[49m\u001B[43m  \u001B[49m\u001B[38;5;124;43m'\u001B[39;49m\u001B[38;5;124;43mUnnamed: 0\u001B[39;49m\u001B[38;5;124;43m'\u001B[39;49m\u001B[43m,\u001B[49m\u001B[43m]\u001B[49m\u001B[43m)\u001B[49m\n\u001B[1;32m      2\u001B[0m df\n",
      "File \u001B[0;32m~/codeup-data-science/venv/lib/python3.11/site-packages/pandas/core/frame.py:5344\u001B[0m, in \u001B[0;36mDataFrame.drop\u001B[0;34m(self, labels, axis, index, columns, level, inplace, errors)\u001B[0m\n\u001B[1;32m   5196\u001B[0m \u001B[38;5;28;01mdef\u001B[39;00m \u001B[38;5;21mdrop\u001B[39m(\n\u001B[1;32m   5197\u001B[0m     \u001B[38;5;28mself\u001B[39m,\n\u001B[1;32m   5198\u001B[0m     labels: IndexLabel \u001B[38;5;241m|\u001B[39m \u001B[38;5;28;01mNone\u001B[39;00m \u001B[38;5;241m=\u001B[39m \u001B[38;5;28;01mNone\u001B[39;00m,\n\u001B[0;32m   (...)\u001B[0m\n\u001B[1;32m   5205\u001B[0m     errors: IgnoreRaise \u001B[38;5;241m=\u001B[39m \u001B[38;5;124m\"\u001B[39m\u001B[38;5;124mraise\u001B[39m\u001B[38;5;124m\"\u001B[39m,\n\u001B[1;32m   5206\u001B[0m ) \u001B[38;5;241m-\u001B[39m\u001B[38;5;241m>\u001B[39m DataFrame \u001B[38;5;241m|\u001B[39m \u001B[38;5;28;01mNone\u001B[39;00m:\n\u001B[1;32m   5207\u001B[0m \u001B[38;5;250m    \u001B[39m\u001B[38;5;124;03m\"\"\"\u001B[39;00m\n\u001B[1;32m   5208\u001B[0m \u001B[38;5;124;03m    Drop specified labels from rows or columns.\u001B[39;00m\n\u001B[1;32m   5209\u001B[0m \n\u001B[0;32m   (...)\u001B[0m\n\u001B[1;32m   5342\u001B[0m \u001B[38;5;124;03m            weight  1.0     0.8\u001B[39;00m\n\u001B[1;32m   5343\u001B[0m \u001B[38;5;124;03m    \"\"\"\u001B[39;00m\n\u001B[0;32m-> 5344\u001B[0m     \u001B[38;5;28;01mreturn\u001B[39;00m \u001B[38;5;28;43msuper\u001B[39;49m\u001B[43m(\u001B[49m\u001B[43m)\u001B[49m\u001B[38;5;241;43m.\u001B[39;49m\u001B[43mdrop\u001B[49m\u001B[43m(\u001B[49m\n\u001B[1;32m   5345\u001B[0m \u001B[43m        \u001B[49m\u001B[43mlabels\u001B[49m\u001B[38;5;241;43m=\u001B[39;49m\u001B[43mlabels\u001B[49m\u001B[43m,\u001B[49m\n\u001B[1;32m   5346\u001B[0m \u001B[43m        \u001B[49m\u001B[43maxis\u001B[49m\u001B[38;5;241;43m=\u001B[39;49m\u001B[43maxis\u001B[49m\u001B[43m,\u001B[49m\n\u001B[1;32m   5347\u001B[0m \u001B[43m        \u001B[49m\u001B[43mindex\u001B[49m\u001B[38;5;241;43m=\u001B[39;49m\u001B[43mindex\u001B[49m\u001B[43m,\u001B[49m\n\u001B[1;32m   5348\u001B[0m \u001B[43m        \u001B[49m\u001B[43mcolumns\u001B[49m\u001B[38;5;241;43m=\u001B[39;49m\u001B[43mcolumns\u001B[49m\u001B[43m,\u001B[49m\n\u001B[1;32m   5349\u001B[0m \u001B[43m        \u001B[49m\u001B[43mlevel\u001B[49m\u001B[38;5;241;43m=\u001B[39;49m\u001B[43mlevel\u001B[49m\u001B[43m,\u001B[49m\n\u001B[1;32m   5350\u001B[0m \u001B[43m        \u001B[49m\u001B[43minplace\u001B[49m\u001B[38;5;241;43m=\u001B[39;49m\u001B[43minplace\u001B[49m\u001B[43m,\u001B[49m\n\u001B[1;32m   5351\u001B[0m \u001B[43m        \u001B[49m\u001B[43merrors\u001B[49m\u001B[38;5;241;43m=\u001B[39;49m\u001B[43merrors\u001B[49m\u001B[43m,\u001B[49m\n\u001B[1;32m   5352\u001B[0m \u001B[43m    \u001B[49m\u001B[43m)\u001B[49m\n",
      "File \u001B[0;32m~/codeup-data-science/venv/lib/python3.11/site-packages/pandas/core/generic.py:4711\u001B[0m, in \u001B[0;36mNDFrame.drop\u001B[0;34m(self, labels, axis, index, columns, level, inplace, errors)\u001B[0m\n\u001B[1;32m   4709\u001B[0m \u001B[38;5;28;01mfor\u001B[39;00m axis, labels \u001B[38;5;129;01min\u001B[39;00m axes\u001B[38;5;241m.\u001B[39mitems():\n\u001B[1;32m   4710\u001B[0m     \u001B[38;5;28;01mif\u001B[39;00m labels \u001B[38;5;129;01mis\u001B[39;00m \u001B[38;5;129;01mnot\u001B[39;00m \u001B[38;5;28;01mNone\u001B[39;00m:\n\u001B[0;32m-> 4711\u001B[0m         obj \u001B[38;5;241m=\u001B[39m \u001B[43mobj\u001B[49m\u001B[38;5;241;43m.\u001B[39;49m\u001B[43m_drop_axis\u001B[49m\u001B[43m(\u001B[49m\u001B[43mlabels\u001B[49m\u001B[43m,\u001B[49m\u001B[43m \u001B[49m\u001B[43maxis\u001B[49m\u001B[43m,\u001B[49m\u001B[43m \u001B[49m\u001B[43mlevel\u001B[49m\u001B[38;5;241;43m=\u001B[39;49m\u001B[43mlevel\u001B[49m\u001B[43m,\u001B[49m\u001B[43m \u001B[49m\u001B[43merrors\u001B[49m\u001B[38;5;241;43m=\u001B[39;49m\u001B[43merrors\u001B[49m\u001B[43m)\u001B[49m\n\u001B[1;32m   4713\u001B[0m \u001B[38;5;28;01mif\u001B[39;00m inplace:\n\u001B[1;32m   4714\u001B[0m     \u001B[38;5;28mself\u001B[39m\u001B[38;5;241m.\u001B[39m_update_inplace(obj)\n",
      "File \u001B[0;32m~/codeup-data-science/venv/lib/python3.11/site-packages/pandas/core/generic.py:4753\u001B[0m, in \u001B[0;36mNDFrame._drop_axis\u001B[0;34m(self, labels, axis, level, errors, only_slice)\u001B[0m\n\u001B[1;32m   4751\u001B[0m         new_axis \u001B[38;5;241m=\u001B[39m axis\u001B[38;5;241m.\u001B[39mdrop(labels, level\u001B[38;5;241m=\u001B[39mlevel, errors\u001B[38;5;241m=\u001B[39merrors)\n\u001B[1;32m   4752\u001B[0m     \u001B[38;5;28;01melse\u001B[39;00m:\n\u001B[0;32m-> 4753\u001B[0m         new_axis \u001B[38;5;241m=\u001B[39m \u001B[43maxis\u001B[49m\u001B[38;5;241;43m.\u001B[39;49m\u001B[43mdrop\u001B[49m\u001B[43m(\u001B[49m\u001B[43mlabels\u001B[49m\u001B[43m,\u001B[49m\u001B[43m \u001B[49m\u001B[43merrors\u001B[49m\u001B[38;5;241;43m=\u001B[39;49m\u001B[43merrors\u001B[49m\u001B[43m)\u001B[49m\n\u001B[1;32m   4754\u001B[0m     indexer \u001B[38;5;241m=\u001B[39m axis\u001B[38;5;241m.\u001B[39mget_indexer(new_axis)\n\u001B[1;32m   4756\u001B[0m \u001B[38;5;66;03m# Case for non-unique axis\u001B[39;00m\n\u001B[1;32m   4757\u001B[0m \u001B[38;5;28;01melse\u001B[39;00m:\n",
      "File \u001B[0;32m~/codeup-data-science/venv/lib/python3.11/site-packages/pandas/core/indexes/base.py:6992\u001B[0m, in \u001B[0;36mIndex.drop\u001B[0;34m(self, labels, errors)\u001B[0m\n\u001B[1;32m   6990\u001B[0m \u001B[38;5;28;01mif\u001B[39;00m mask\u001B[38;5;241m.\u001B[39many():\n\u001B[1;32m   6991\u001B[0m     \u001B[38;5;28;01mif\u001B[39;00m errors \u001B[38;5;241m!=\u001B[39m \u001B[38;5;124m\"\u001B[39m\u001B[38;5;124mignore\u001B[39m\u001B[38;5;124m\"\u001B[39m:\n\u001B[0;32m-> 6992\u001B[0m         \u001B[38;5;28;01mraise\u001B[39;00m \u001B[38;5;167;01mKeyError\u001B[39;00m(\u001B[38;5;124mf\u001B[39m\u001B[38;5;124m\"\u001B[39m\u001B[38;5;132;01m{\u001B[39;00mlabels[mask]\u001B[38;5;241m.\u001B[39mtolist()\u001B[38;5;132;01m}\u001B[39;00m\u001B[38;5;124m not found in axis\u001B[39m\u001B[38;5;124m\"\u001B[39m)\n\u001B[1;32m   6993\u001B[0m     indexer \u001B[38;5;241m=\u001B[39m indexer[\u001B[38;5;241m~\u001B[39mmask]\n\u001B[1;32m   6994\u001B[0m \u001B[38;5;28;01mreturn\u001B[39;00m \u001B[38;5;28mself\u001B[39m\u001B[38;5;241m.\u001B[39mdelete(indexer)\n",
      "\u001B[0;31mKeyError\u001B[0m: \"['payment_type_id', 'internet_service_type_id', 'contract_type_id', 'Unnamed: 0'] not found in axis\""
     ]
    }
   ],
   "source": [
    "df = df.drop(columns=['payment_type_id', 'internet_service_type_id', 'contract_type_id',  'Unnamed: 0',])\n"
   ],
   "metadata": {
    "collapsed": false,
    "ExecuteTime": {
     "end_time": "2023-11-21T20:22:40.171390Z",
     "start_time": "2023-11-21T20:22:40.108868Z"
    }
   },
   "id": "9e45fd6d50c36a79"
  },
  {
   "cell_type": "code",
   "execution_count": 45,
   "outputs": [
    {
     "data": {
      "text/plain": "  customer_id  gender  senior_citizen partner dependents  tenure  \\\n0  0002-ORFBO  Female               0     Yes        Yes       9   \n1  0003-MKNFE    Male               0      No         No       9   \n2  0004-TLHLJ    Male               0      No         No       4   \n3  0011-IGKFF    Male               1     Yes         No      13   \n4  0013-EXCHZ  Female               1     Yes         No       3   \n\n  phone_service multiple_lines online_security online_backup  \\\n0           Yes             No              No           Yes   \n1           Yes            Yes              No            No   \n2           Yes             No              No            No   \n3           Yes             No              No           Yes   \n4           Yes             No              No            No   \n\n  device_protection tech_support streaming_tv streaming_movies  \\\n0                No          Yes          Yes               No   \n1                No           No           No              Yes   \n2               Yes           No           No               No   \n3               Yes           No          Yes              Yes   \n4                No          Yes          Yes               No   \n\n  paperless_billing  monthly_charges total_charges churn   contract_type  \\\n0               Yes             65.6         593.3    No        One year   \n1                No             59.9         542.4    No  Month-to-month   \n2               Yes             73.9        280.85   Yes  Month-to-month   \n3               Yes             98.0       1237.85   Yes  Month-to-month   \n4               Yes             83.9         267.4   Yes  Month-to-month   \n\n       payment_type  \n0      Mailed check  \n1      Mailed check  \n2  Electronic check  \n3  Electronic check  \n4      Mailed check  ",
      "text/html": "<div>\n<style scoped>\n    .dataframe tbody tr th:only-of-type {\n        vertical-align: middle;\n    }\n\n    .dataframe tbody tr th {\n        vertical-align: top;\n    }\n\n    .dataframe thead th {\n        text-align: right;\n    }\n</style>\n<table border=\"1\" class=\"dataframe\">\n  <thead>\n    <tr style=\"text-align: right;\">\n      <th></th>\n      <th>customer_id</th>\n      <th>gender</th>\n      <th>senior_citizen</th>\n      <th>partner</th>\n      <th>dependents</th>\n      <th>tenure</th>\n      <th>phone_service</th>\n      <th>multiple_lines</th>\n      <th>online_security</th>\n      <th>online_backup</th>\n      <th>device_protection</th>\n      <th>tech_support</th>\n      <th>streaming_tv</th>\n      <th>streaming_movies</th>\n      <th>paperless_billing</th>\n      <th>monthly_charges</th>\n      <th>total_charges</th>\n      <th>churn</th>\n      <th>contract_type</th>\n      <th>payment_type</th>\n    </tr>\n  </thead>\n  <tbody>\n    <tr>\n      <th>0</th>\n      <td>0002-ORFBO</td>\n      <td>Female</td>\n      <td>0</td>\n      <td>Yes</td>\n      <td>Yes</td>\n      <td>9</td>\n      <td>Yes</td>\n      <td>No</td>\n      <td>No</td>\n      <td>Yes</td>\n      <td>No</td>\n      <td>Yes</td>\n      <td>Yes</td>\n      <td>No</td>\n      <td>Yes</td>\n      <td>65.6</td>\n      <td>593.3</td>\n      <td>No</td>\n      <td>One year</td>\n      <td>Mailed check</td>\n    </tr>\n    <tr>\n      <th>1</th>\n      <td>0003-MKNFE</td>\n      <td>Male</td>\n      <td>0</td>\n      <td>No</td>\n      <td>No</td>\n      <td>9</td>\n      <td>Yes</td>\n      <td>Yes</td>\n      <td>No</td>\n      <td>No</td>\n      <td>No</td>\n      <td>No</td>\n      <td>No</td>\n      <td>Yes</td>\n      <td>No</td>\n      <td>59.9</td>\n      <td>542.4</td>\n      <td>No</td>\n      <td>Month-to-month</td>\n      <td>Mailed check</td>\n    </tr>\n    <tr>\n      <th>2</th>\n      <td>0004-TLHLJ</td>\n      <td>Male</td>\n      <td>0</td>\n      <td>No</td>\n      <td>No</td>\n      <td>4</td>\n      <td>Yes</td>\n      <td>No</td>\n      <td>No</td>\n      <td>No</td>\n      <td>Yes</td>\n      <td>No</td>\n      <td>No</td>\n      <td>No</td>\n      <td>Yes</td>\n      <td>73.9</td>\n      <td>280.85</td>\n      <td>Yes</td>\n      <td>Month-to-month</td>\n      <td>Electronic check</td>\n    </tr>\n    <tr>\n      <th>3</th>\n      <td>0011-IGKFF</td>\n      <td>Male</td>\n      <td>1</td>\n      <td>Yes</td>\n      <td>No</td>\n      <td>13</td>\n      <td>Yes</td>\n      <td>No</td>\n      <td>No</td>\n      <td>Yes</td>\n      <td>Yes</td>\n      <td>No</td>\n      <td>Yes</td>\n      <td>Yes</td>\n      <td>Yes</td>\n      <td>98.0</td>\n      <td>1237.85</td>\n      <td>Yes</td>\n      <td>Month-to-month</td>\n      <td>Electronic check</td>\n    </tr>\n    <tr>\n      <th>4</th>\n      <td>0013-EXCHZ</td>\n      <td>Female</td>\n      <td>1</td>\n      <td>Yes</td>\n      <td>No</td>\n      <td>3</td>\n      <td>Yes</td>\n      <td>No</td>\n      <td>No</td>\n      <td>No</td>\n      <td>No</td>\n      <td>Yes</td>\n      <td>Yes</td>\n      <td>No</td>\n      <td>Yes</td>\n      <td>83.9</td>\n      <td>267.4</td>\n      <td>Yes</td>\n      <td>Month-to-month</td>\n      <td>Mailed check</td>\n    </tr>\n  </tbody>\n</table>\n</div>"
     },
     "execution_count": 45,
     "metadata": {},
     "output_type": "execute_result"
    }
   ],
   "source": [
    "df.head()"
   ],
   "metadata": {
    "collapsed": false,
    "ExecuteTime": {
     "end_time": "2023-11-21T20:22:54.279521Z",
     "start_time": "2023-11-21T20:22:54.235512Z"
    }
   },
   "id": "4999f695660e837d"
  },
  {
   "cell_type": "code",
   "execution_count": 36,
   "outputs": [
    {
     "data": {
      "text/plain": "(7043, 21)"
     },
     "execution_count": 36,
     "metadata": {},
     "output_type": "execute_result"
    }
   ],
   "source": [
    "df.shape"
   ],
   "metadata": {
    "collapsed": false,
    "ExecuteTime": {
     "end_time": "2023-11-21T20:20:31.004975Z",
     "start_time": "2023-11-21T20:20:30.961850Z"
    }
   },
   "id": "11b13c239fca50ca"
  },
  {
   "cell_type": "code",
   "execution_count": 34,
   "outputs": [
    {
     "data": {
      "text/plain": "customer_id               object\ngender                    object\nsenior_citizen             int64\npartner                   object\ndependents                object\ntenure                     int64\nphone_service             object\nmultiple_lines            object\nonline_security           object\nonline_backup             object\ndevice_protection         object\ntech_support              object\nstreaming_tv              object\nstreaming_movies          object\npaperless_billing         object\nmonthly_charges          float64\ntotal_charges             object\nchurn                     object\ncontract_type             object\ninternet_service_type     object\npayment_type              object\ndtype: object"
     },
     "execution_count": 34,
     "metadata": {},
     "output_type": "execute_result"
    }
   ],
   "source": [
    "df.dtypes"
   ],
   "metadata": {
    "collapsed": false,
    "ExecuteTime": {
     "end_time": "2023-11-21T20:19:59.345581Z",
     "start_time": "2023-11-21T20:19:59.317069Z"
    }
   },
   "id": "36a2a3b6cc3c1950"
  },
  {
   "cell_type": "code",
   "execution_count": 61,
   "outputs": [
    {
     "data": {
      "text/plain": "total_charges\n20.2       11\n19.75       9\n19.9        8\n19.65       8\n20.05       8\n           ..\n2387.75     1\n6302.8      1\n2058.5      1\n829.55      1\n3707.6      1\nName: count, Length: 6530, dtype: int64"
     },
     "execution_count": 61,
     "metadata": {},
     "output_type": "execute_result"
    }
   ],
   "source": [
    "df.total_charges.value_counts()"
   ],
   "metadata": {
    "collapsed": false,
    "ExecuteTime": {
     "end_time": "2023-11-21T20:48:40.317389Z",
     "start_time": "2023-11-21T20:48:40.292674Z"
    }
   },
   "id": "39dbe47fdc4014d4"
  },
  {
   "cell_type": "code",
   "execution_count": 60,
   "outputs": [],
   "source": [
    "df = df[df.total_charges != ' ']"
   ],
   "metadata": {
    "collapsed": false,
    "ExecuteTime": {
     "end_time": "2023-11-21T20:48:34.833641Z",
     "start_time": "2023-11-21T20:48:34.381676Z"
    }
   },
   "id": "7d0b3407b76c98ed"
  },
  {
   "cell_type": "code",
   "execution_count": 68,
   "outputs": [
    {
     "data": {
      "text/plain": "0        593.30\n1        542.40\n2        280.85\n3       1237.85\n4        267.40\n         ...   \n7038     742.90\n7039    1873.70\n7040      92.75\n7041    4627.65\n7042    3707.60\nName: total_charges, Length: 7032, dtype: float64"
     },
     "execution_count": 68,
     "metadata": {},
     "output_type": "execute_result"
    }
   ],
   "source": [
    "df.total_charges.astype('float64')"
   ],
   "metadata": {
    "collapsed": false,
    "ExecuteTime": {
     "end_time": "2023-11-21T21:02:16.345875Z",
     "start_time": "2023-11-21T21:02:16.313151Z"
    }
   },
   "id": "bc6aa5e24b92a3bb"
  },
  {
   "cell_type": "code",
   "execution_count": 86,
   "outputs": [
    {
     "data": {
      "text/plain": "internet_service_type    1526\ndtype: int64"
     },
     "execution_count": 86,
     "metadata": {},
     "output_type": "execute_result"
    }
   ],
   "source": [
    "df.isnull().sum() [df.isnull().sum() != 0]"
   ],
   "metadata": {
    "collapsed": false,
    "ExecuteTime": {
     "end_time": "2023-11-21T21:17:30.232583Z",
     "start_time": "2023-11-21T21:17:30.119234Z"
    }
   },
   "id": "5abd75e7cf3d5fed"
  },
  {
   "cell_type": "code",
   "execution_count": 70,
   "outputs": [
    {
     "ename": "KeyError",
     "evalue": "\"['internet_service_type'] not found in axis\"",
     "output_type": "error",
     "traceback": [
      "\u001B[0;31m---------------------------------------------------------------------------\u001B[0m",
      "\u001B[0;31mKeyError\u001B[0m                                  Traceback (most recent call last)",
      "Cell \u001B[0;32mIn[70], line 1\u001B[0m\n\u001B[0;32m----> 1\u001B[0m df \u001B[38;5;241m=\u001B[39m \u001B[43mdf\u001B[49m\u001B[38;5;241;43m.\u001B[39;49m\u001B[43mdrop\u001B[49m\u001B[43m(\u001B[49m\u001B[43mcolumns\u001B[49m\u001B[38;5;241;43m=\u001B[39;49m\u001B[38;5;124;43m'\u001B[39;49m\u001B[38;5;124;43minternet_service_type\u001B[39;49m\u001B[38;5;124;43m'\u001B[39;49m\u001B[43m)\u001B[49m\n",
      "File \u001B[0;32m~/codeup-data-science/venv/lib/python3.11/site-packages/pandas/core/frame.py:5344\u001B[0m, in \u001B[0;36mDataFrame.drop\u001B[0;34m(self, labels, axis, index, columns, level, inplace, errors)\u001B[0m\n\u001B[1;32m   5196\u001B[0m \u001B[38;5;28;01mdef\u001B[39;00m \u001B[38;5;21mdrop\u001B[39m(\n\u001B[1;32m   5197\u001B[0m     \u001B[38;5;28mself\u001B[39m,\n\u001B[1;32m   5198\u001B[0m     labels: IndexLabel \u001B[38;5;241m|\u001B[39m \u001B[38;5;28;01mNone\u001B[39;00m \u001B[38;5;241m=\u001B[39m \u001B[38;5;28;01mNone\u001B[39;00m,\n\u001B[0;32m   (...)\u001B[0m\n\u001B[1;32m   5205\u001B[0m     errors: IgnoreRaise \u001B[38;5;241m=\u001B[39m \u001B[38;5;124m\"\u001B[39m\u001B[38;5;124mraise\u001B[39m\u001B[38;5;124m\"\u001B[39m,\n\u001B[1;32m   5206\u001B[0m ) \u001B[38;5;241m-\u001B[39m\u001B[38;5;241m>\u001B[39m DataFrame \u001B[38;5;241m|\u001B[39m \u001B[38;5;28;01mNone\u001B[39;00m:\n\u001B[1;32m   5207\u001B[0m \u001B[38;5;250m    \u001B[39m\u001B[38;5;124;03m\"\"\"\u001B[39;00m\n\u001B[1;32m   5208\u001B[0m \u001B[38;5;124;03m    Drop specified labels from rows or columns.\u001B[39;00m\n\u001B[1;32m   5209\u001B[0m \n\u001B[0;32m   (...)\u001B[0m\n\u001B[1;32m   5342\u001B[0m \u001B[38;5;124;03m            weight  1.0     0.8\u001B[39;00m\n\u001B[1;32m   5343\u001B[0m \u001B[38;5;124;03m    \"\"\"\u001B[39;00m\n\u001B[0;32m-> 5344\u001B[0m     \u001B[38;5;28;01mreturn\u001B[39;00m \u001B[38;5;28;43msuper\u001B[39;49m\u001B[43m(\u001B[49m\u001B[43m)\u001B[49m\u001B[38;5;241;43m.\u001B[39;49m\u001B[43mdrop\u001B[49m\u001B[43m(\u001B[49m\n\u001B[1;32m   5345\u001B[0m \u001B[43m        \u001B[49m\u001B[43mlabels\u001B[49m\u001B[38;5;241;43m=\u001B[39;49m\u001B[43mlabels\u001B[49m\u001B[43m,\u001B[49m\n\u001B[1;32m   5346\u001B[0m \u001B[43m        \u001B[49m\u001B[43maxis\u001B[49m\u001B[38;5;241;43m=\u001B[39;49m\u001B[43maxis\u001B[49m\u001B[43m,\u001B[49m\n\u001B[1;32m   5347\u001B[0m \u001B[43m        \u001B[49m\u001B[43mindex\u001B[49m\u001B[38;5;241;43m=\u001B[39;49m\u001B[43mindex\u001B[49m\u001B[43m,\u001B[49m\n\u001B[1;32m   5348\u001B[0m \u001B[43m        \u001B[49m\u001B[43mcolumns\u001B[49m\u001B[38;5;241;43m=\u001B[39;49m\u001B[43mcolumns\u001B[49m\u001B[43m,\u001B[49m\n\u001B[1;32m   5349\u001B[0m \u001B[43m        \u001B[49m\u001B[43mlevel\u001B[49m\u001B[38;5;241;43m=\u001B[39;49m\u001B[43mlevel\u001B[49m\u001B[43m,\u001B[49m\n\u001B[1;32m   5350\u001B[0m \u001B[43m        \u001B[49m\u001B[43minplace\u001B[49m\u001B[38;5;241;43m=\u001B[39;49m\u001B[43minplace\u001B[49m\u001B[43m,\u001B[49m\n\u001B[1;32m   5351\u001B[0m \u001B[43m        \u001B[49m\u001B[43merrors\u001B[49m\u001B[38;5;241;43m=\u001B[39;49m\u001B[43merrors\u001B[49m\u001B[43m,\u001B[49m\n\u001B[1;32m   5352\u001B[0m \u001B[43m    \u001B[49m\u001B[43m)\u001B[49m\n",
      "File \u001B[0;32m~/codeup-data-science/venv/lib/python3.11/site-packages/pandas/core/generic.py:4711\u001B[0m, in \u001B[0;36mNDFrame.drop\u001B[0;34m(self, labels, axis, index, columns, level, inplace, errors)\u001B[0m\n\u001B[1;32m   4709\u001B[0m \u001B[38;5;28;01mfor\u001B[39;00m axis, labels \u001B[38;5;129;01min\u001B[39;00m axes\u001B[38;5;241m.\u001B[39mitems():\n\u001B[1;32m   4710\u001B[0m     \u001B[38;5;28;01mif\u001B[39;00m labels \u001B[38;5;129;01mis\u001B[39;00m \u001B[38;5;129;01mnot\u001B[39;00m \u001B[38;5;28;01mNone\u001B[39;00m:\n\u001B[0;32m-> 4711\u001B[0m         obj \u001B[38;5;241m=\u001B[39m \u001B[43mobj\u001B[49m\u001B[38;5;241;43m.\u001B[39;49m\u001B[43m_drop_axis\u001B[49m\u001B[43m(\u001B[49m\u001B[43mlabels\u001B[49m\u001B[43m,\u001B[49m\u001B[43m \u001B[49m\u001B[43maxis\u001B[49m\u001B[43m,\u001B[49m\u001B[43m \u001B[49m\u001B[43mlevel\u001B[49m\u001B[38;5;241;43m=\u001B[39;49m\u001B[43mlevel\u001B[49m\u001B[43m,\u001B[49m\u001B[43m \u001B[49m\u001B[43merrors\u001B[49m\u001B[38;5;241;43m=\u001B[39;49m\u001B[43merrors\u001B[49m\u001B[43m)\u001B[49m\n\u001B[1;32m   4713\u001B[0m \u001B[38;5;28;01mif\u001B[39;00m inplace:\n\u001B[1;32m   4714\u001B[0m     \u001B[38;5;28mself\u001B[39m\u001B[38;5;241m.\u001B[39m_update_inplace(obj)\n",
      "File \u001B[0;32m~/codeup-data-science/venv/lib/python3.11/site-packages/pandas/core/generic.py:4753\u001B[0m, in \u001B[0;36mNDFrame._drop_axis\u001B[0;34m(self, labels, axis, level, errors, only_slice)\u001B[0m\n\u001B[1;32m   4751\u001B[0m         new_axis \u001B[38;5;241m=\u001B[39m axis\u001B[38;5;241m.\u001B[39mdrop(labels, level\u001B[38;5;241m=\u001B[39mlevel, errors\u001B[38;5;241m=\u001B[39merrors)\n\u001B[1;32m   4752\u001B[0m     \u001B[38;5;28;01melse\u001B[39;00m:\n\u001B[0;32m-> 4753\u001B[0m         new_axis \u001B[38;5;241m=\u001B[39m \u001B[43maxis\u001B[49m\u001B[38;5;241;43m.\u001B[39;49m\u001B[43mdrop\u001B[49m\u001B[43m(\u001B[49m\u001B[43mlabels\u001B[49m\u001B[43m,\u001B[49m\u001B[43m \u001B[49m\u001B[43merrors\u001B[49m\u001B[38;5;241;43m=\u001B[39;49m\u001B[43merrors\u001B[49m\u001B[43m)\u001B[49m\n\u001B[1;32m   4754\u001B[0m     indexer \u001B[38;5;241m=\u001B[39m axis\u001B[38;5;241m.\u001B[39mget_indexer(new_axis)\n\u001B[1;32m   4756\u001B[0m \u001B[38;5;66;03m# Case for non-unique axis\u001B[39;00m\n\u001B[1;32m   4757\u001B[0m \u001B[38;5;28;01melse\u001B[39;00m:\n",
      "File \u001B[0;32m~/codeup-data-science/venv/lib/python3.11/site-packages/pandas/core/indexes/base.py:6992\u001B[0m, in \u001B[0;36mIndex.drop\u001B[0;34m(self, labels, errors)\u001B[0m\n\u001B[1;32m   6990\u001B[0m \u001B[38;5;28;01mif\u001B[39;00m mask\u001B[38;5;241m.\u001B[39many():\n\u001B[1;32m   6991\u001B[0m     \u001B[38;5;28;01mif\u001B[39;00m errors \u001B[38;5;241m!=\u001B[39m \u001B[38;5;124m\"\u001B[39m\u001B[38;5;124mignore\u001B[39m\u001B[38;5;124m\"\u001B[39m:\n\u001B[0;32m-> 6992\u001B[0m         \u001B[38;5;28;01mraise\u001B[39;00m \u001B[38;5;167;01mKeyError\u001B[39;00m(\u001B[38;5;124mf\u001B[39m\u001B[38;5;124m\"\u001B[39m\u001B[38;5;132;01m{\u001B[39;00mlabels[mask]\u001B[38;5;241m.\u001B[39mtolist()\u001B[38;5;132;01m}\u001B[39;00m\u001B[38;5;124m not found in axis\u001B[39m\u001B[38;5;124m\"\u001B[39m)\n\u001B[1;32m   6993\u001B[0m     indexer \u001B[38;5;241m=\u001B[39m indexer[\u001B[38;5;241m~\u001B[39mmask]\n\u001B[1;32m   6994\u001B[0m \u001B[38;5;28;01mreturn\u001B[39;00m \u001B[38;5;28mself\u001B[39m\u001B[38;5;241m.\u001B[39mdelete(indexer)\n",
      "\u001B[0;31mKeyError\u001B[0m: \"['internet_service_type'] not found in axis\""
     ]
    }
   ],
   "source": [
    "df = df.drop(columns='internet_service_type')"
   ],
   "metadata": {
    "collapsed": false,
    "ExecuteTime": {
     "end_time": "2023-11-21T21:02:23.365166Z",
     "start_time": "2023-11-21T21:02:23.281212Z"
    }
   },
   "id": "3191d497908cee34"
  },
  {
   "cell_type": "code",
   "execution_count": 70,
   "outputs": [],
   "source": [
    "df"
   ],
   "metadata": {
    "collapsed": false,
    "ExecuteTime": {
     "end_time": "2023-11-21T21:03:00.003532Z",
     "start_time": "2023-11-21T21:02:59.799479Z"
    }
   },
   "id": "6b4e6d885302b05a"
  },
  {
   "cell_type": "code",
   "execution_count": 87,
   "outputs": [
    {
     "data": {
      "text/plain": "Unnamed: 0                    int64\npayment_type_id               int64\ninternet_service_type_id      int64\ncontract_type_id              int64\ncustomer_id                  object\ngender                       object\nsenior_citizen                int64\npartner                      object\ndependents                   object\ntenure                        int64\nphone_service                object\nmultiple_lines               object\nonline_security              object\nonline_backup                object\ndevice_protection            object\ntech_support                 object\nstreaming_tv                 object\nstreaming_movies             object\npaperless_billing            object\nmonthly_charges             float64\ntotal_charges                object\nchurn                        object\ncontract_type                object\ninternet_service_type        object\npayment_type                 object\ndtype: object"
     },
     "execution_count": 87,
     "metadata": {},
     "output_type": "execute_result"
    }
   ],
   "source": [
    "df.dtypes"
   ],
   "metadata": {
    "collapsed": false,
    "ExecuteTime": {
     "end_time": "2023-11-21T21:18:58.485199Z",
     "start_time": "2023-11-21T21:18:58.423748Z"
    }
   },
   "id": "1f3f6ffb68c3e520"
  },
  {
   "cell_type": "code",
   "execution_count": null,
   "outputs": [],
   "source": [],
   "metadata": {
    "collapsed": false
   },
   "id": "598c5080690e0925"
  },
  {
   "cell_type": "code",
   "execution_count": 7,
   "outputs": [],
   "source": [
    "def prep_telco(df):\n",
    "    \"\"\"\n",
    "    this  function takes in the telco database and cleans it\n",
    "    \n",
    "    \"\"\"\n",
    "    df = df.drop(columns=['payment_type_id', 'internet_service_type_id', 'contract_type_id',  'Unnamed: 0',])\n",
    "    \n",
    "    df = df.drop(columns='internet_service_type')\n",
    "    \n",
    "    df = df[df.total_charges != ' ']\n",
    "    \n",
    "    df.total_charges.astype('float64')\n",
    "    \n",
    "    return df\n"
   ],
   "metadata": {
    "collapsed": false,
    "ExecuteTime": {
     "end_time": "2023-11-21T21:41:55.356269Z",
     "start_time": "2023-11-21T21:41:55.343089Z"
    }
   },
   "id": "9e359f7609d71882"
  },
  {
   "cell_type": "code",
   "execution_count": 1,
   "outputs": [],
   "source": [
    "from sklearn.model_selection import train_test_split\n",
    "\n"
   ],
   "metadata": {
    "collapsed": false,
    "ExecuteTime": {
     "end_time": "2023-11-21T21:31:26.311938Z",
     "start_time": "2023-11-21T21:31:26.066063Z"
    }
   },
   "id": "f71af6ac0197ced4"
  },
  {
   "cell_type": "code",
   "execution_count": 2,
   "outputs": [
    {
     "ename": "IndentationError",
     "evalue": "unexpected indent (2660325330.py, line 15)",
     "output_type": "error",
     "traceback": [
      "\u001B[0;36m  Cell \u001B[0;32mIn[2], line 15\u001B[0;36m\u001B[0m\n\u001B[0;31m    return train, validate, test\u001B[0m\n\u001B[0m    ^\u001B[0m\n\u001B[0;31mIndentationError\u001B[0m\u001B[0;31m:\u001B[0m unexpected indent\n"
     ]
    }
   ],
   "source": [
    "def splitting_data(df):\n",
    "    \n",
    "    \n",
    "   train, validate_test = train_test_split(df, #send in initial df\n",
    "                 train_size=0.60, #size of the train df, and the test size will default to 1-train_size\n",
    "                random_state=123, #set any number here for consistency\n",
    "                 stratify=df.survived #need to stratify on target variable\n",
    "                )\n",
    "    \n",
    "   validate, test = train_test_split(validate_test, #this is the df that we are splitting now\n",
    "                test_size=0.50, #set test or train size to 50%\n",
    "                 random_state=123, #gotta send in a random seed\n",
    "                 stratify=validate_test.survived #still got to stratify\n",
    "                )\n",
    "   return train, validate, test\n",
    "                 "
   ],
   "metadata": {
    "collapsed": false,
    "ExecuteTime": {
     "end_time": "2023-11-21T21:38:10.161299Z",
     "start_time": "2023-11-21T21:38:10.021654Z"
    }
   },
   "id": "e481f8f9c08ed859"
  },
  {
   "cell_type": "code",
   "execution_count": 5,
   "outputs": [
    {
     "name": "stdout",
     "output_type": "stream",
     "text": [
      "this file exists, reading csv\n"
     ]
    }
   ],
   "source": [
    "df_telco = acquired.get_telco_data()\n"
   ],
   "metadata": {
    "collapsed": false,
    "ExecuteTime": {
     "end_time": "2023-11-21T21:40:25.810455Z",
     "start_time": "2023-11-21T21:40:25.709437Z"
    }
   },
   "id": "d03fa496f004a97e"
  },
  {
   "cell_type": "code",
   "execution_count": 8,
   "outputs": [],
   "source": [
    "df_telco = prep_telco(df_telco)"
   ],
   "metadata": {
    "collapsed": false,
    "ExecuteTime": {
     "end_time": "2023-11-21T21:42:02.231333Z",
     "start_time": "2023-11-21T21:42:01.967041Z"
    }
   },
   "id": "a2aa687ea7180960"
  },
  {
   "cell_type": "code",
   "execution_count": null,
   "outputs": [],
   "source": [],
   "metadata": {
    "collapsed": false
   },
   "id": "51f2388dc0b467ef"
  }
 ],
 "metadata": {
  "kernelspec": {
   "display_name": "Python 3",
   "language": "python",
   "name": "python3"
  },
  "language_info": {
   "codemirror_mode": {
    "name": "ipython",
    "version": 2
   },
   "file_extension": ".py",
   "mimetype": "text/x-python",
   "name": "python",
   "nbconvert_exporter": "python",
   "pygments_lexer": "ipython2",
   "version": "2.7.6"
  }
 },
 "nbformat": 4,
 "nbformat_minor": 5
}
