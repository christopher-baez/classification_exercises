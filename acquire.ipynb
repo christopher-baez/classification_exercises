{
 "cells": [
  {
   "cell_type": "code",
   "execution_count": 39,
   "id": "initial_id",
   "metadata": {
    "collapsed": true,
    "ExecuteTime": {
     "end_time": "2023-11-20T20:12:36.175931Z",
     "start_time": "2023-11-20T20:12:36.144480Z"
    }
   },
   "outputs": [],
   "source": [
    "import pandas as pd\n",
    "import numpy as np\n",
    "\n",
    "import matplotlib.pyplot as plt\n",
    "import seaborn as sns\n",
    "\n",
    "from pydataset import data\n",
    "import os"
   ]
  },
  {
   "cell_type": "markdown",
   "source": [
    "Use pydata to import the iris data. Create a pandas dataframe, df_iris, from this data.\n",
    "\n",
    "    print the first 3 rows\n",
    "    print the number of rows and columns (shape)\n",
    "    print the column names\n",
    "    print the data type of each column\n",
    "    print the summary statistics for each of the numeric variables\n"
   ],
   "metadata": {
    "collapsed": false
   },
   "id": "3ae09ea22841a5c"
  },
  {
   "cell_type": "code",
   "execution_count": 8,
   "outputs": [],
   "source": [
    "df = data('iris')\n",
    "df = pd.DataFrame(df)"
   ],
   "metadata": {
    "collapsed": false,
    "ExecuteTime": {
     "end_time": "2023-11-20T18:28:59.838482Z",
     "start_time": "2023-11-20T18:28:59.578485Z"
    }
   },
   "id": "cc13e86d90078b9f"
  },
  {
   "cell_type": "code",
   "execution_count": 9,
   "outputs": [
    {
     "data": {
      "text/plain": "     Sepal.Length  Sepal.Width  Petal.Length  Petal.Width     Species\n1             5.1          3.5           1.4          0.2      setosa\n2             4.9          3.0           1.4          0.2      setosa\n3             4.7          3.2           1.3          0.2      setosa\n4             4.6          3.1           1.5          0.2      setosa\n5             5.0          3.6           1.4          0.2      setosa\n6             5.4          3.9           1.7          0.4      setosa\n7             4.6          3.4           1.4          0.3      setosa\n8             5.0          3.4           1.5          0.2      setosa\n9             4.4          2.9           1.4          0.2      setosa\n10            4.9          3.1           1.5          0.1      setosa\n11            5.4          3.7           1.5          0.2      setosa\n12            4.8          3.4           1.6          0.2      setosa\n13            4.8          3.0           1.4          0.1      setosa\n14            4.3          3.0           1.1          0.1      setosa\n15            5.8          4.0           1.2          0.2      setosa\n16            5.7          4.4           1.5          0.4      setosa\n17            5.4          3.9           1.3          0.4      setosa\n18            5.1          3.5           1.4          0.3      setosa\n19            5.7          3.8           1.7          0.3      setosa\n20            5.1          3.8           1.5          0.3      setosa\n21            5.4          3.4           1.7          0.2      setosa\n22            5.1          3.7           1.5          0.4      setosa\n23            4.6          3.6           1.0          0.2      setosa\n24            5.1          3.3           1.7          0.5      setosa\n25            4.8          3.4           1.9          0.2      setosa\n26            5.0          3.0           1.6          0.2      setosa\n27            5.0          3.4           1.6          0.4      setosa\n28            5.2          3.5           1.5          0.2      setosa\n29            5.2          3.4           1.4          0.2      setosa\n30            4.7          3.2           1.6          0.2      setosa\n31            4.8          3.1           1.6          0.2      setosa\n32            5.4          3.4           1.5          0.4      setosa\n33            5.2          4.1           1.5          0.1      setosa\n34            5.5          4.2           1.4          0.2      setosa\n35            4.9          3.1           1.5          0.2      setosa\n36            5.0          3.2           1.2          0.2      setosa\n37            5.5          3.5           1.3          0.2      setosa\n38            4.9          3.6           1.4          0.1      setosa\n39            4.4          3.0           1.3          0.2      setosa\n40            5.1          3.4           1.5          0.2      setosa\n41            5.0          3.5           1.3          0.3      setosa\n42            4.5          2.3           1.3          0.3      setosa\n43            4.4          3.2           1.3          0.2      setosa\n44            5.0          3.5           1.6          0.6      setosa\n45            5.1          3.8           1.9          0.4      setosa\n46            4.8          3.0           1.4          0.3      setosa\n47            5.1          3.8           1.6          0.2      setosa\n48            4.6          3.2           1.4          0.2      setosa\n49            5.3          3.7           1.5          0.2      setosa\n50            5.0          3.3           1.4          0.2      setosa\n51            7.0          3.2           4.7          1.4  versicolor\n52            6.4          3.2           4.5          1.5  versicolor\n53            6.9          3.1           4.9          1.5  versicolor\n54            5.5          2.3           4.0          1.3  versicolor\n55            6.5          2.8           4.6          1.5  versicolor\n56            5.7          2.8           4.5          1.3  versicolor\n57            6.3          3.3           4.7          1.6  versicolor\n58            4.9          2.4           3.3          1.0  versicolor\n59            6.6          2.9           4.6          1.3  versicolor\n60            5.2          2.7           3.9          1.4  versicolor\n61            5.0          2.0           3.5          1.0  versicolor\n62            5.9          3.0           4.2          1.5  versicolor\n63            6.0          2.2           4.0          1.0  versicolor\n64            6.1          2.9           4.7          1.4  versicolor\n65            5.6          2.9           3.6          1.3  versicolor\n66            6.7          3.1           4.4          1.4  versicolor\n67            5.6          3.0           4.5          1.5  versicolor\n68            5.8          2.7           4.1          1.0  versicolor\n69            6.2          2.2           4.5          1.5  versicolor\n70            5.6          2.5           3.9          1.1  versicolor\n71            5.9          3.2           4.8          1.8  versicolor\n72            6.1          2.8           4.0          1.3  versicolor\n73            6.3          2.5           4.9          1.5  versicolor\n74            6.1          2.8           4.7          1.2  versicolor\n75            6.4          2.9           4.3          1.3  versicolor\n76            6.6          3.0           4.4          1.4  versicolor\n77            6.8          2.8           4.8          1.4  versicolor\n78            6.7          3.0           5.0          1.7  versicolor\n79            6.0          2.9           4.5          1.5  versicolor\n80            5.7          2.6           3.5          1.0  versicolor\n81            5.5          2.4           3.8          1.1  versicolor\n82            5.5          2.4           3.7          1.0  versicolor\n83            5.8          2.7           3.9          1.2  versicolor\n84            6.0          2.7           5.1          1.6  versicolor\n85            5.4          3.0           4.5          1.5  versicolor\n86            6.0          3.4           4.5          1.6  versicolor\n87            6.7          3.1           4.7          1.5  versicolor\n88            6.3          2.3           4.4          1.3  versicolor\n89            5.6          3.0           4.1          1.3  versicolor\n90            5.5          2.5           4.0          1.3  versicolor\n91            5.5          2.6           4.4          1.2  versicolor\n92            6.1          3.0           4.6          1.4  versicolor\n93            5.8          2.6           4.0          1.2  versicolor\n94            5.0          2.3           3.3          1.0  versicolor\n95            5.6          2.7           4.2          1.3  versicolor\n96            5.7          3.0           4.2          1.2  versicolor\n97            5.7          2.9           4.2          1.3  versicolor\n98            6.2          2.9           4.3          1.3  versicolor\n99            5.1          2.5           3.0          1.1  versicolor\n100           5.7          2.8           4.1          1.3  versicolor\n101           6.3          3.3           6.0          2.5   virginica\n102           5.8          2.7           5.1          1.9   virginica\n103           7.1          3.0           5.9          2.1   virginica\n104           6.3          2.9           5.6          1.8   virginica\n105           6.5          3.0           5.8          2.2   virginica\n106           7.6          3.0           6.6          2.1   virginica\n107           4.9          2.5           4.5          1.7   virginica\n108           7.3          2.9           6.3          1.8   virginica\n109           6.7          2.5           5.8          1.8   virginica\n110           7.2          3.6           6.1          2.5   virginica\n111           6.5          3.2           5.1          2.0   virginica\n112           6.4          2.7           5.3          1.9   virginica\n113           6.8          3.0           5.5          2.1   virginica\n114           5.7          2.5           5.0          2.0   virginica\n115           5.8          2.8           5.1          2.4   virginica\n116           6.4          3.2           5.3          2.3   virginica\n117           6.5          3.0           5.5          1.8   virginica\n118           7.7          3.8           6.7          2.2   virginica\n119           7.7          2.6           6.9          2.3   virginica\n120           6.0          2.2           5.0          1.5   virginica\n121           6.9          3.2           5.7          2.3   virginica\n122           5.6          2.8           4.9          2.0   virginica\n123           7.7          2.8           6.7          2.0   virginica\n124           6.3          2.7           4.9          1.8   virginica\n125           6.7          3.3           5.7          2.1   virginica\n126           7.2          3.2           6.0          1.8   virginica\n127           6.2          2.8           4.8          1.8   virginica\n128           6.1          3.0           4.9          1.8   virginica\n129           6.4          2.8           5.6          2.1   virginica\n130           7.2          3.0           5.8          1.6   virginica\n131           7.4          2.8           6.1          1.9   virginica\n132           7.9          3.8           6.4          2.0   virginica\n133           6.4          2.8           5.6          2.2   virginica\n134           6.3          2.8           5.1          1.5   virginica\n135           6.1          2.6           5.6          1.4   virginica\n136           7.7          3.0           6.1          2.3   virginica\n137           6.3          3.4           5.6          2.4   virginica\n138           6.4          3.1           5.5          1.8   virginica\n139           6.0          3.0           4.8          1.8   virginica\n140           6.9          3.1           5.4          2.1   virginica\n141           6.7          3.1           5.6          2.4   virginica\n142           6.9          3.1           5.1          2.3   virginica\n143           5.8          2.7           5.1          1.9   virginica\n144           6.8          3.2           5.9          2.3   virginica\n145           6.7          3.3           5.7          2.5   virginica\n146           6.7          3.0           5.2          2.3   virginica\n147           6.3          2.5           5.0          1.9   virginica\n148           6.5          3.0           5.2          2.0   virginica\n149           6.2          3.4           5.4          2.3   virginica\n150           5.9          3.0           5.1          1.8   virginica",
      "text/html": "<div>\n<style scoped>\n    .dataframe tbody tr th:only-of-type {\n        vertical-align: middle;\n    }\n\n    .dataframe tbody tr th {\n        vertical-align: top;\n    }\n\n    .dataframe thead th {\n        text-align: right;\n    }\n</style>\n<table border=\"1\" class=\"dataframe\">\n  <thead>\n    <tr style=\"text-align: right;\">\n      <th></th>\n      <th>Sepal.Length</th>\n      <th>Sepal.Width</th>\n      <th>Petal.Length</th>\n      <th>Petal.Width</th>\n      <th>Species</th>\n    </tr>\n  </thead>\n  <tbody>\n    <tr>\n      <th>1</th>\n      <td>5.1</td>\n      <td>3.5</td>\n      <td>1.4</td>\n      <td>0.2</td>\n      <td>setosa</td>\n    </tr>\n    <tr>\n      <th>2</th>\n      <td>4.9</td>\n      <td>3.0</td>\n      <td>1.4</td>\n      <td>0.2</td>\n      <td>setosa</td>\n    </tr>\n    <tr>\n      <th>3</th>\n      <td>4.7</td>\n      <td>3.2</td>\n      <td>1.3</td>\n      <td>0.2</td>\n      <td>setosa</td>\n    </tr>\n    <tr>\n      <th>4</th>\n      <td>4.6</td>\n      <td>3.1</td>\n      <td>1.5</td>\n      <td>0.2</td>\n      <td>setosa</td>\n    </tr>\n    <tr>\n      <th>5</th>\n      <td>5.0</td>\n      <td>3.6</td>\n      <td>1.4</td>\n      <td>0.2</td>\n      <td>setosa</td>\n    </tr>\n    <tr>\n      <th>6</th>\n      <td>5.4</td>\n      <td>3.9</td>\n      <td>1.7</td>\n      <td>0.4</td>\n      <td>setosa</td>\n    </tr>\n    <tr>\n      <th>7</th>\n      <td>4.6</td>\n      <td>3.4</td>\n      <td>1.4</td>\n      <td>0.3</td>\n      <td>setosa</td>\n    </tr>\n    <tr>\n      <th>8</th>\n      <td>5.0</td>\n      <td>3.4</td>\n      <td>1.5</td>\n      <td>0.2</td>\n      <td>setosa</td>\n    </tr>\n    <tr>\n      <th>9</th>\n      <td>4.4</td>\n      <td>2.9</td>\n      <td>1.4</td>\n      <td>0.2</td>\n      <td>setosa</td>\n    </tr>\n    <tr>\n      <th>10</th>\n      <td>4.9</td>\n      <td>3.1</td>\n      <td>1.5</td>\n      <td>0.1</td>\n      <td>setosa</td>\n    </tr>\n    <tr>\n      <th>11</th>\n      <td>5.4</td>\n      <td>3.7</td>\n      <td>1.5</td>\n      <td>0.2</td>\n      <td>setosa</td>\n    </tr>\n    <tr>\n      <th>12</th>\n      <td>4.8</td>\n      <td>3.4</td>\n      <td>1.6</td>\n      <td>0.2</td>\n      <td>setosa</td>\n    </tr>\n    <tr>\n      <th>13</th>\n      <td>4.8</td>\n      <td>3.0</td>\n      <td>1.4</td>\n      <td>0.1</td>\n      <td>setosa</td>\n    </tr>\n    <tr>\n      <th>14</th>\n      <td>4.3</td>\n      <td>3.0</td>\n      <td>1.1</td>\n      <td>0.1</td>\n      <td>setosa</td>\n    </tr>\n    <tr>\n      <th>15</th>\n      <td>5.8</td>\n      <td>4.0</td>\n      <td>1.2</td>\n      <td>0.2</td>\n      <td>setosa</td>\n    </tr>\n    <tr>\n      <th>16</th>\n      <td>5.7</td>\n      <td>4.4</td>\n      <td>1.5</td>\n      <td>0.4</td>\n      <td>setosa</td>\n    </tr>\n    <tr>\n      <th>17</th>\n      <td>5.4</td>\n      <td>3.9</td>\n      <td>1.3</td>\n      <td>0.4</td>\n      <td>setosa</td>\n    </tr>\n    <tr>\n      <th>18</th>\n      <td>5.1</td>\n      <td>3.5</td>\n      <td>1.4</td>\n      <td>0.3</td>\n      <td>setosa</td>\n    </tr>\n    <tr>\n      <th>19</th>\n      <td>5.7</td>\n      <td>3.8</td>\n      <td>1.7</td>\n      <td>0.3</td>\n      <td>setosa</td>\n    </tr>\n    <tr>\n      <th>20</th>\n      <td>5.1</td>\n      <td>3.8</td>\n      <td>1.5</td>\n      <td>0.3</td>\n      <td>setosa</td>\n    </tr>\n    <tr>\n      <th>21</th>\n      <td>5.4</td>\n      <td>3.4</td>\n      <td>1.7</td>\n      <td>0.2</td>\n      <td>setosa</td>\n    </tr>\n    <tr>\n      <th>22</th>\n      <td>5.1</td>\n      <td>3.7</td>\n      <td>1.5</td>\n      <td>0.4</td>\n      <td>setosa</td>\n    </tr>\n    <tr>\n      <th>23</th>\n      <td>4.6</td>\n      <td>3.6</td>\n      <td>1.0</td>\n      <td>0.2</td>\n      <td>setosa</td>\n    </tr>\n    <tr>\n      <th>24</th>\n      <td>5.1</td>\n      <td>3.3</td>\n      <td>1.7</td>\n      <td>0.5</td>\n      <td>setosa</td>\n    </tr>\n    <tr>\n      <th>25</th>\n      <td>4.8</td>\n      <td>3.4</td>\n      <td>1.9</td>\n      <td>0.2</td>\n      <td>setosa</td>\n    </tr>\n    <tr>\n      <th>26</th>\n      <td>5.0</td>\n      <td>3.0</td>\n      <td>1.6</td>\n      <td>0.2</td>\n      <td>setosa</td>\n    </tr>\n    <tr>\n      <th>27</th>\n      <td>5.0</td>\n      <td>3.4</td>\n      <td>1.6</td>\n      <td>0.4</td>\n      <td>setosa</td>\n    </tr>\n    <tr>\n      <th>28</th>\n      <td>5.2</td>\n      <td>3.5</td>\n      <td>1.5</td>\n      <td>0.2</td>\n      <td>setosa</td>\n    </tr>\n    <tr>\n      <th>29</th>\n      <td>5.2</td>\n      <td>3.4</td>\n      <td>1.4</td>\n      <td>0.2</td>\n      <td>setosa</td>\n    </tr>\n    <tr>\n      <th>30</th>\n      <td>4.7</td>\n      <td>3.2</td>\n      <td>1.6</td>\n      <td>0.2</td>\n      <td>setosa</td>\n    </tr>\n    <tr>\n      <th>31</th>\n      <td>4.8</td>\n      <td>3.1</td>\n      <td>1.6</td>\n      <td>0.2</td>\n      <td>setosa</td>\n    </tr>\n    <tr>\n      <th>32</th>\n      <td>5.4</td>\n      <td>3.4</td>\n      <td>1.5</td>\n      <td>0.4</td>\n      <td>setosa</td>\n    </tr>\n    <tr>\n      <th>33</th>\n      <td>5.2</td>\n      <td>4.1</td>\n      <td>1.5</td>\n      <td>0.1</td>\n      <td>setosa</td>\n    </tr>\n    <tr>\n      <th>34</th>\n      <td>5.5</td>\n      <td>4.2</td>\n      <td>1.4</td>\n      <td>0.2</td>\n      <td>setosa</td>\n    </tr>\n    <tr>\n      <th>35</th>\n      <td>4.9</td>\n      <td>3.1</td>\n      <td>1.5</td>\n      <td>0.2</td>\n      <td>setosa</td>\n    </tr>\n    <tr>\n      <th>36</th>\n      <td>5.0</td>\n      <td>3.2</td>\n      <td>1.2</td>\n      <td>0.2</td>\n      <td>setosa</td>\n    </tr>\n    <tr>\n      <th>37</th>\n      <td>5.5</td>\n      <td>3.5</td>\n      <td>1.3</td>\n      <td>0.2</td>\n      <td>setosa</td>\n    </tr>\n    <tr>\n      <th>38</th>\n      <td>4.9</td>\n      <td>3.6</td>\n      <td>1.4</td>\n      <td>0.1</td>\n      <td>setosa</td>\n    </tr>\n    <tr>\n      <th>39</th>\n      <td>4.4</td>\n      <td>3.0</td>\n      <td>1.3</td>\n      <td>0.2</td>\n      <td>setosa</td>\n    </tr>\n    <tr>\n      <th>40</th>\n      <td>5.1</td>\n      <td>3.4</td>\n      <td>1.5</td>\n      <td>0.2</td>\n      <td>setosa</td>\n    </tr>\n    <tr>\n      <th>41</th>\n      <td>5.0</td>\n      <td>3.5</td>\n      <td>1.3</td>\n      <td>0.3</td>\n      <td>setosa</td>\n    </tr>\n    <tr>\n      <th>42</th>\n      <td>4.5</td>\n      <td>2.3</td>\n      <td>1.3</td>\n      <td>0.3</td>\n      <td>setosa</td>\n    </tr>\n    <tr>\n      <th>43</th>\n      <td>4.4</td>\n      <td>3.2</td>\n      <td>1.3</td>\n      <td>0.2</td>\n      <td>setosa</td>\n    </tr>\n    <tr>\n      <th>44</th>\n      <td>5.0</td>\n      <td>3.5</td>\n      <td>1.6</td>\n      <td>0.6</td>\n      <td>setosa</td>\n    </tr>\n    <tr>\n      <th>45</th>\n      <td>5.1</td>\n      <td>3.8</td>\n      <td>1.9</td>\n      <td>0.4</td>\n      <td>setosa</td>\n    </tr>\n    <tr>\n      <th>46</th>\n      <td>4.8</td>\n      <td>3.0</td>\n      <td>1.4</td>\n      <td>0.3</td>\n      <td>setosa</td>\n    </tr>\n    <tr>\n      <th>47</th>\n      <td>5.1</td>\n      <td>3.8</td>\n      <td>1.6</td>\n      <td>0.2</td>\n      <td>setosa</td>\n    </tr>\n    <tr>\n      <th>48</th>\n      <td>4.6</td>\n      <td>3.2</td>\n      <td>1.4</td>\n      <td>0.2</td>\n      <td>setosa</td>\n    </tr>\n    <tr>\n      <th>49</th>\n      <td>5.3</td>\n      <td>3.7</td>\n      <td>1.5</td>\n      <td>0.2</td>\n      <td>setosa</td>\n    </tr>\n    <tr>\n      <th>50</th>\n      <td>5.0</td>\n      <td>3.3</td>\n      <td>1.4</td>\n      <td>0.2</td>\n      <td>setosa</td>\n    </tr>\n    <tr>\n      <th>51</th>\n      <td>7.0</td>\n      <td>3.2</td>\n      <td>4.7</td>\n      <td>1.4</td>\n      <td>versicolor</td>\n    </tr>\n    <tr>\n      <th>52</th>\n      <td>6.4</td>\n      <td>3.2</td>\n      <td>4.5</td>\n      <td>1.5</td>\n      <td>versicolor</td>\n    </tr>\n    <tr>\n      <th>53</th>\n      <td>6.9</td>\n      <td>3.1</td>\n      <td>4.9</td>\n      <td>1.5</td>\n      <td>versicolor</td>\n    </tr>\n    <tr>\n      <th>54</th>\n      <td>5.5</td>\n      <td>2.3</td>\n      <td>4.0</td>\n      <td>1.3</td>\n      <td>versicolor</td>\n    </tr>\n    <tr>\n      <th>55</th>\n      <td>6.5</td>\n      <td>2.8</td>\n      <td>4.6</td>\n      <td>1.5</td>\n      <td>versicolor</td>\n    </tr>\n    <tr>\n      <th>56</th>\n      <td>5.7</td>\n      <td>2.8</td>\n      <td>4.5</td>\n      <td>1.3</td>\n      <td>versicolor</td>\n    </tr>\n    <tr>\n      <th>57</th>\n      <td>6.3</td>\n      <td>3.3</td>\n      <td>4.7</td>\n      <td>1.6</td>\n      <td>versicolor</td>\n    </tr>\n    <tr>\n      <th>58</th>\n      <td>4.9</td>\n      <td>2.4</td>\n      <td>3.3</td>\n      <td>1.0</td>\n      <td>versicolor</td>\n    </tr>\n    <tr>\n      <th>59</th>\n      <td>6.6</td>\n      <td>2.9</td>\n      <td>4.6</td>\n      <td>1.3</td>\n      <td>versicolor</td>\n    </tr>\n    <tr>\n      <th>60</th>\n      <td>5.2</td>\n      <td>2.7</td>\n      <td>3.9</td>\n      <td>1.4</td>\n      <td>versicolor</td>\n    </tr>\n    <tr>\n      <th>61</th>\n      <td>5.0</td>\n      <td>2.0</td>\n      <td>3.5</td>\n      <td>1.0</td>\n      <td>versicolor</td>\n    </tr>\n    <tr>\n      <th>62</th>\n      <td>5.9</td>\n      <td>3.0</td>\n      <td>4.2</td>\n      <td>1.5</td>\n      <td>versicolor</td>\n    </tr>\n    <tr>\n      <th>63</th>\n      <td>6.0</td>\n      <td>2.2</td>\n      <td>4.0</td>\n      <td>1.0</td>\n      <td>versicolor</td>\n    </tr>\n    <tr>\n      <th>64</th>\n      <td>6.1</td>\n      <td>2.9</td>\n      <td>4.7</td>\n      <td>1.4</td>\n      <td>versicolor</td>\n    </tr>\n    <tr>\n      <th>65</th>\n      <td>5.6</td>\n      <td>2.9</td>\n      <td>3.6</td>\n      <td>1.3</td>\n      <td>versicolor</td>\n    </tr>\n    <tr>\n      <th>66</th>\n      <td>6.7</td>\n      <td>3.1</td>\n      <td>4.4</td>\n      <td>1.4</td>\n      <td>versicolor</td>\n    </tr>\n    <tr>\n      <th>67</th>\n      <td>5.6</td>\n      <td>3.0</td>\n      <td>4.5</td>\n      <td>1.5</td>\n      <td>versicolor</td>\n    </tr>\n    <tr>\n      <th>68</th>\n      <td>5.8</td>\n      <td>2.7</td>\n      <td>4.1</td>\n      <td>1.0</td>\n      <td>versicolor</td>\n    </tr>\n    <tr>\n      <th>69</th>\n      <td>6.2</td>\n      <td>2.2</td>\n      <td>4.5</td>\n      <td>1.5</td>\n      <td>versicolor</td>\n    </tr>\n    <tr>\n      <th>70</th>\n      <td>5.6</td>\n      <td>2.5</td>\n      <td>3.9</td>\n      <td>1.1</td>\n      <td>versicolor</td>\n    </tr>\n    <tr>\n      <th>71</th>\n      <td>5.9</td>\n      <td>3.2</td>\n      <td>4.8</td>\n      <td>1.8</td>\n      <td>versicolor</td>\n    </tr>\n    <tr>\n      <th>72</th>\n      <td>6.1</td>\n      <td>2.8</td>\n      <td>4.0</td>\n      <td>1.3</td>\n      <td>versicolor</td>\n    </tr>\n    <tr>\n      <th>73</th>\n      <td>6.3</td>\n      <td>2.5</td>\n      <td>4.9</td>\n      <td>1.5</td>\n      <td>versicolor</td>\n    </tr>\n    <tr>\n      <th>74</th>\n      <td>6.1</td>\n      <td>2.8</td>\n      <td>4.7</td>\n      <td>1.2</td>\n      <td>versicolor</td>\n    </tr>\n    <tr>\n      <th>75</th>\n      <td>6.4</td>\n      <td>2.9</td>\n      <td>4.3</td>\n      <td>1.3</td>\n      <td>versicolor</td>\n    </tr>\n    <tr>\n      <th>76</th>\n      <td>6.6</td>\n      <td>3.0</td>\n      <td>4.4</td>\n      <td>1.4</td>\n      <td>versicolor</td>\n    </tr>\n    <tr>\n      <th>77</th>\n      <td>6.8</td>\n      <td>2.8</td>\n      <td>4.8</td>\n      <td>1.4</td>\n      <td>versicolor</td>\n    </tr>\n    <tr>\n      <th>78</th>\n      <td>6.7</td>\n      <td>3.0</td>\n      <td>5.0</td>\n      <td>1.7</td>\n      <td>versicolor</td>\n    </tr>\n    <tr>\n      <th>79</th>\n      <td>6.0</td>\n      <td>2.9</td>\n      <td>4.5</td>\n      <td>1.5</td>\n      <td>versicolor</td>\n    </tr>\n    <tr>\n      <th>80</th>\n      <td>5.7</td>\n      <td>2.6</td>\n      <td>3.5</td>\n      <td>1.0</td>\n      <td>versicolor</td>\n    </tr>\n    <tr>\n      <th>81</th>\n      <td>5.5</td>\n      <td>2.4</td>\n      <td>3.8</td>\n      <td>1.1</td>\n      <td>versicolor</td>\n    </tr>\n    <tr>\n      <th>82</th>\n      <td>5.5</td>\n      <td>2.4</td>\n      <td>3.7</td>\n      <td>1.0</td>\n      <td>versicolor</td>\n    </tr>\n    <tr>\n      <th>83</th>\n      <td>5.8</td>\n      <td>2.7</td>\n      <td>3.9</td>\n      <td>1.2</td>\n      <td>versicolor</td>\n    </tr>\n    <tr>\n      <th>84</th>\n      <td>6.0</td>\n      <td>2.7</td>\n      <td>5.1</td>\n      <td>1.6</td>\n      <td>versicolor</td>\n    </tr>\n    <tr>\n      <th>85</th>\n      <td>5.4</td>\n      <td>3.0</td>\n      <td>4.5</td>\n      <td>1.5</td>\n      <td>versicolor</td>\n    </tr>\n    <tr>\n      <th>86</th>\n      <td>6.0</td>\n      <td>3.4</td>\n      <td>4.5</td>\n      <td>1.6</td>\n      <td>versicolor</td>\n    </tr>\n    <tr>\n      <th>87</th>\n      <td>6.7</td>\n      <td>3.1</td>\n      <td>4.7</td>\n      <td>1.5</td>\n      <td>versicolor</td>\n    </tr>\n    <tr>\n      <th>88</th>\n      <td>6.3</td>\n      <td>2.3</td>\n      <td>4.4</td>\n      <td>1.3</td>\n      <td>versicolor</td>\n    </tr>\n    <tr>\n      <th>89</th>\n      <td>5.6</td>\n      <td>3.0</td>\n      <td>4.1</td>\n      <td>1.3</td>\n      <td>versicolor</td>\n    </tr>\n    <tr>\n      <th>90</th>\n      <td>5.5</td>\n      <td>2.5</td>\n      <td>4.0</td>\n      <td>1.3</td>\n      <td>versicolor</td>\n    </tr>\n    <tr>\n      <th>91</th>\n      <td>5.5</td>\n      <td>2.6</td>\n      <td>4.4</td>\n      <td>1.2</td>\n      <td>versicolor</td>\n    </tr>\n    <tr>\n      <th>92</th>\n      <td>6.1</td>\n      <td>3.0</td>\n      <td>4.6</td>\n      <td>1.4</td>\n      <td>versicolor</td>\n    </tr>\n    <tr>\n      <th>93</th>\n      <td>5.8</td>\n      <td>2.6</td>\n      <td>4.0</td>\n      <td>1.2</td>\n      <td>versicolor</td>\n    </tr>\n    <tr>\n      <th>94</th>\n      <td>5.0</td>\n      <td>2.3</td>\n      <td>3.3</td>\n      <td>1.0</td>\n      <td>versicolor</td>\n    </tr>\n    <tr>\n      <th>95</th>\n      <td>5.6</td>\n      <td>2.7</td>\n      <td>4.2</td>\n      <td>1.3</td>\n      <td>versicolor</td>\n    </tr>\n    <tr>\n      <th>96</th>\n      <td>5.7</td>\n      <td>3.0</td>\n      <td>4.2</td>\n      <td>1.2</td>\n      <td>versicolor</td>\n    </tr>\n    <tr>\n      <th>97</th>\n      <td>5.7</td>\n      <td>2.9</td>\n      <td>4.2</td>\n      <td>1.3</td>\n      <td>versicolor</td>\n    </tr>\n    <tr>\n      <th>98</th>\n      <td>6.2</td>\n      <td>2.9</td>\n      <td>4.3</td>\n      <td>1.3</td>\n      <td>versicolor</td>\n    </tr>\n    <tr>\n      <th>99</th>\n      <td>5.1</td>\n      <td>2.5</td>\n      <td>3.0</td>\n      <td>1.1</td>\n      <td>versicolor</td>\n    </tr>\n    <tr>\n      <th>100</th>\n      <td>5.7</td>\n      <td>2.8</td>\n      <td>4.1</td>\n      <td>1.3</td>\n      <td>versicolor</td>\n    </tr>\n    <tr>\n      <th>101</th>\n      <td>6.3</td>\n      <td>3.3</td>\n      <td>6.0</td>\n      <td>2.5</td>\n      <td>virginica</td>\n    </tr>\n    <tr>\n      <th>102</th>\n      <td>5.8</td>\n      <td>2.7</td>\n      <td>5.1</td>\n      <td>1.9</td>\n      <td>virginica</td>\n    </tr>\n    <tr>\n      <th>103</th>\n      <td>7.1</td>\n      <td>3.0</td>\n      <td>5.9</td>\n      <td>2.1</td>\n      <td>virginica</td>\n    </tr>\n    <tr>\n      <th>104</th>\n      <td>6.3</td>\n      <td>2.9</td>\n      <td>5.6</td>\n      <td>1.8</td>\n      <td>virginica</td>\n    </tr>\n    <tr>\n      <th>105</th>\n      <td>6.5</td>\n      <td>3.0</td>\n      <td>5.8</td>\n      <td>2.2</td>\n      <td>virginica</td>\n    </tr>\n    <tr>\n      <th>106</th>\n      <td>7.6</td>\n      <td>3.0</td>\n      <td>6.6</td>\n      <td>2.1</td>\n      <td>virginica</td>\n    </tr>\n    <tr>\n      <th>107</th>\n      <td>4.9</td>\n      <td>2.5</td>\n      <td>4.5</td>\n      <td>1.7</td>\n      <td>virginica</td>\n    </tr>\n    <tr>\n      <th>108</th>\n      <td>7.3</td>\n      <td>2.9</td>\n      <td>6.3</td>\n      <td>1.8</td>\n      <td>virginica</td>\n    </tr>\n    <tr>\n      <th>109</th>\n      <td>6.7</td>\n      <td>2.5</td>\n      <td>5.8</td>\n      <td>1.8</td>\n      <td>virginica</td>\n    </tr>\n    <tr>\n      <th>110</th>\n      <td>7.2</td>\n      <td>3.6</td>\n      <td>6.1</td>\n      <td>2.5</td>\n      <td>virginica</td>\n    </tr>\n    <tr>\n      <th>111</th>\n      <td>6.5</td>\n      <td>3.2</td>\n      <td>5.1</td>\n      <td>2.0</td>\n      <td>virginica</td>\n    </tr>\n    <tr>\n      <th>112</th>\n      <td>6.4</td>\n      <td>2.7</td>\n      <td>5.3</td>\n      <td>1.9</td>\n      <td>virginica</td>\n    </tr>\n    <tr>\n      <th>113</th>\n      <td>6.8</td>\n      <td>3.0</td>\n      <td>5.5</td>\n      <td>2.1</td>\n      <td>virginica</td>\n    </tr>\n    <tr>\n      <th>114</th>\n      <td>5.7</td>\n      <td>2.5</td>\n      <td>5.0</td>\n      <td>2.0</td>\n      <td>virginica</td>\n    </tr>\n    <tr>\n      <th>115</th>\n      <td>5.8</td>\n      <td>2.8</td>\n      <td>5.1</td>\n      <td>2.4</td>\n      <td>virginica</td>\n    </tr>\n    <tr>\n      <th>116</th>\n      <td>6.4</td>\n      <td>3.2</td>\n      <td>5.3</td>\n      <td>2.3</td>\n      <td>virginica</td>\n    </tr>\n    <tr>\n      <th>117</th>\n      <td>6.5</td>\n      <td>3.0</td>\n      <td>5.5</td>\n      <td>1.8</td>\n      <td>virginica</td>\n    </tr>\n    <tr>\n      <th>118</th>\n      <td>7.7</td>\n      <td>3.8</td>\n      <td>6.7</td>\n      <td>2.2</td>\n      <td>virginica</td>\n    </tr>\n    <tr>\n      <th>119</th>\n      <td>7.7</td>\n      <td>2.6</td>\n      <td>6.9</td>\n      <td>2.3</td>\n      <td>virginica</td>\n    </tr>\n    <tr>\n      <th>120</th>\n      <td>6.0</td>\n      <td>2.2</td>\n      <td>5.0</td>\n      <td>1.5</td>\n      <td>virginica</td>\n    </tr>\n    <tr>\n      <th>121</th>\n      <td>6.9</td>\n      <td>3.2</td>\n      <td>5.7</td>\n      <td>2.3</td>\n      <td>virginica</td>\n    </tr>\n    <tr>\n      <th>122</th>\n      <td>5.6</td>\n      <td>2.8</td>\n      <td>4.9</td>\n      <td>2.0</td>\n      <td>virginica</td>\n    </tr>\n    <tr>\n      <th>123</th>\n      <td>7.7</td>\n      <td>2.8</td>\n      <td>6.7</td>\n      <td>2.0</td>\n      <td>virginica</td>\n    </tr>\n    <tr>\n      <th>124</th>\n      <td>6.3</td>\n      <td>2.7</td>\n      <td>4.9</td>\n      <td>1.8</td>\n      <td>virginica</td>\n    </tr>\n    <tr>\n      <th>125</th>\n      <td>6.7</td>\n      <td>3.3</td>\n      <td>5.7</td>\n      <td>2.1</td>\n      <td>virginica</td>\n    </tr>\n    <tr>\n      <th>126</th>\n      <td>7.2</td>\n      <td>3.2</td>\n      <td>6.0</td>\n      <td>1.8</td>\n      <td>virginica</td>\n    </tr>\n    <tr>\n      <th>127</th>\n      <td>6.2</td>\n      <td>2.8</td>\n      <td>4.8</td>\n      <td>1.8</td>\n      <td>virginica</td>\n    </tr>\n    <tr>\n      <th>128</th>\n      <td>6.1</td>\n      <td>3.0</td>\n      <td>4.9</td>\n      <td>1.8</td>\n      <td>virginica</td>\n    </tr>\n    <tr>\n      <th>129</th>\n      <td>6.4</td>\n      <td>2.8</td>\n      <td>5.6</td>\n      <td>2.1</td>\n      <td>virginica</td>\n    </tr>\n    <tr>\n      <th>130</th>\n      <td>7.2</td>\n      <td>3.0</td>\n      <td>5.8</td>\n      <td>1.6</td>\n      <td>virginica</td>\n    </tr>\n    <tr>\n      <th>131</th>\n      <td>7.4</td>\n      <td>2.8</td>\n      <td>6.1</td>\n      <td>1.9</td>\n      <td>virginica</td>\n    </tr>\n    <tr>\n      <th>132</th>\n      <td>7.9</td>\n      <td>3.8</td>\n      <td>6.4</td>\n      <td>2.0</td>\n      <td>virginica</td>\n    </tr>\n    <tr>\n      <th>133</th>\n      <td>6.4</td>\n      <td>2.8</td>\n      <td>5.6</td>\n      <td>2.2</td>\n      <td>virginica</td>\n    </tr>\n    <tr>\n      <th>134</th>\n      <td>6.3</td>\n      <td>2.8</td>\n      <td>5.1</td>\n      <td>1.5</td>\n      <td>virginica</td>\n    </tr>\n    <tr>\n      <th>135</th>\n      <td>6.1</td>\n      <td>2.6</td>\n      <td>5.6</td>\n      <td>1.4</td>\n      <td>virginica</td>\n    </tr>\n    <tr>\n      <th>136</th>\n      <td>7.7</td>\n      <td>3.0</td>\n      <td>6.1</td>\n      <td>2.3</td>\n      <td>virginica</td>\n    </tr>\n    <tr>\n      <th>137</th>\n      <td>6.3</td>\n      <td>3.4</td>\n      <td>5.6</td>\n      <td>2.4</td>\n      <td>virginica</td>\n    </tr>\n    <tr>\n      <th>138</th>\n      <td>6.4</td>\n      <td>3.1</td>\n      <td>5.5</td>\n      <td>1.8</td>\n      <td>virginica</td>\n    </tr>\n    <tr>\n      <th>139</th>\n      <td>6.0</td>\n      <td>3.0</td>\n      <td>4.8</td>\n      <td>1.8</td>\n      <td>virginica</td>\n    </tr>\n    <tr>\n      <th>140</th>\n      <td>6.9</td>\n      <td>3.1</td>\n      <td>5.4</td>\n      <td>2.1</td>\n      <td>virginica</td>\n    </tr>\n    <tr>\n      <th>141</th>\n      <td>6.7</td>\n      <td>3.1</td>\n      <td>5.6</td>\n      <td>2.4</td>\n      <td>virginica</td>\n    </tr>\n    <tr>\n      <th>142</th>\n      <td>6.9</td>\n      <td>3.1</td>\n      <td>5.1</td>\n      <td>2.3</td>\n      <td>virginica</td>\n    </tr>\n    <tr>\n      <th>143</th>\n      <td>5.8</td>\n      <td>2.7</td>\n      <td>5.1</td>\n      <td>1.9</td>\n      <td>virginica</td>\n    </tr>\n    <tr>\n      <th>144</th>\n      <td>6.8</td>\n      <td>3.2</td>\n      <td>5.9</td>\n      <td>2.3</td>\n      <td>virginica</td>\n    </tr>\n    <tr>\n      <th>145</th>\n      <td>6.7</td>\n      <td>3.3</td>\n      <td>5.7</td>\n      <td>2.5</td>\n      <td>virginica</td>\n    </tr>\n    <tr>\n      <th>146</th>\n      <td>6.7</td>\n      <td>3.0</td>\n      <td>5.2</td>\n      <td>2.3</td>\n      <td>virginica</td>\n    </tr>\n    <tr>\n      <th>147</th>\n      <td>6.3</td>\n      <td>2.5</td>\n      <td>5.0</td>\n      <td>1.9</td>\n      <td>virginica</td>\n    </tr>\n    <tr>\n      <th>148</th>\n      <td>6.5</td>\n      <td>3.0</td>\n      <td>5.2</td>\n      <td>2.0</td>\n      <td>virginica</td>\n    </tr>\n    <tr>\n      <th>149</th>\n      <td>6.2</td>\n      <td>3.4</td>\n      <td>5.4</td>\n      <td>2.3</td>\n      <td>virginica</td>\n    </tr>\n    <tr>\n      <th>150</th>\n      <td>5.9</td>\n      <td>3.0</td>\n      <td>5.1</td>\n      <td>1.8</td>\n      <td>virginica</td>\n    </tr>\n  </tbody>\n</table>\n</div>"
     },
     "execution_count": 9,
     "metadata": {},
     "output_type": "execute_result"
    }
   ],
   "source": [
    "df"
   ],
   "metadata": {
    "collapsed": false,
    "ExecuteTime": {
     "end_time": "2023-11-20T18:29:03.355332Z",
     "start_time": "2023-11-20T18:29:03.296582Z"
    }
   },
   "id": "7cda1e801b8ce8c9"
  },
  {
   "cell_type": "code",
   "execution_count": 10,
   "outputs": [
    {
     "data": {
      "text/plain": "   Sepal.Length  Sepal.Width  Petal.Length  Petal.Width Species\n1           5.1          3.5           1.4          0.2  setosa\n2           4.9          3.0           1.4          0.2  setosa\n3           4.7          3.2           1.3          0.2  setosa",
      "text/html": "<div>\n<style scoped>\n    .dataframe tbody tr th:only-of-type {\n        vertical-align: middle;\n    }\n\n    .dataframe tbody tr th {\n        vertical-align: top;\n    }\n\n    .dataframe thead th {\n        text-align: right;\n    }\n</style>\n<table border=\"1\" class=\"dataframe\">\n  <thead>\n    <tr style=\"text-align: right;\">\n      <th></th>\n      <th>Sepal.Length</th>\n      <th>Sepal.Width</th>\n      <th>Petal.Length</th>\n      <th>Petal.Width</th>\n      <th>Species</th>\n    </tr>\n  </thead>\n  <tbody>\n    <tr>\n      <th>1</th>\n      <td>5.1</td>\n      <td>3.5</td>\n      <td>1.4</td>\n      <td>0.2</td>\n      <td>setosa</td>\n    </tr>\n    <tr>\n      <th>2</th>\n      <td>4.9</td>\n      <td>3.0</td>\n      <td>1.4</td>\n      <td>0.2</td>\n      <td>setosa</td>\n    </tr>\n    <tr>\n      <th>3</th>\n      <td>4.7</td>\n      <td>3.2</td>\n      <td>1.3</td>\n      <td>0.2</td>\n      <td>setosa</td>\n    </tr>\n  </tbody>\n</table>\n</div>"
     },
     "execution_count": 10,
     "metadata": {},
     "output_type": "execute_result"
    }
   ],
   "source": [
    "df.head(3)"
   ],
   "metadata": {
    "collapsed": false,
    "ExecuteTime": {
     "end_time": "2023-11-20T19:03:11.193093Z",
     "start_time": "2023-11-20T19:03:11.049875Z"
    }
   },
   "id": "c65051a7c4a7bb6a"
  },
  {
   "cell_type": "code",
   "execution_count": 11,
   "outputs": [
    {
     "data": {
      "text/plain": "(150, 5)"
     },
     "execution_count": 11,
     "metadata": {},
     "output_type": "execute_result"
    }
   ],
   "source": [
    "df.shape"
   ],
   "metadata": {
    "collapsed": false,
    "ExecuteTime": {
     "end_time": "2023-11-20T19:03:18.096542Z",
     "start_time": "2023-11-20T19:03:18.016888Z"
    }
   },
   "id": "1c2df5cbb738ab9a"
  },
  {
   "cell_type": "code",
   "execution_count": 12,
   "outputs": [
    {
     "data": {
      "text/plain": "Index(['Sepal.Length', 'Sepal.Width', 'Petal.Length', 'Petal.Width',\n       'Species'],\n      dtype='object')"
     },
     "execution_count": 12,
     "metadata": {},
     "output_type": "execute_result"
    }
   ],
   "source": [
    "df.columns"
   ],
   "metadata": {
    "collapsed": false,
    "ExecuteTime": {
     "end_time": "2023-11-20T19:03:25.654635Z",
     "start_time": "2023-11-20T19:03:25.595065Z"
    }
   },
   "id": "5f843f723600d0a5"
  },
  {
   "cell_type": "code",
   "execution_count": 13,
   "outputs": [
    {
     "data": {
      "text/plain": "Sepal.Length    float64\nSepal.Width     float64\nPetal.Length    float64\nPetal.Width     float64\nSpecies          object\ndtype: object"
     },
     "execution_count": 13,
     "metadata": {},
     "output_type": "execute_result"
    }
   ],
   "source": [
    "df.dtypes"
   ],
   "metadata": {
    "collapsed": false,
    "ExecuteTime": {
     "end_time": "2023-11-20T19:03:31.503505Z",
     "start_time": "2023-11-20T19:03:31.472731Z"
    }
   },
   "id": "c907c5453eeefdc6"
  },
  {
   "cell_type": "code",
   "execution_count": 14,
   "outputs": [
    {
     "data": {
      "text/plain": "       Sepal.Length  Sepal.Width  Petal.Length  Petal.Width\ncount    150.000000   150.000000    150.000000   150.000000\nmean       5.843333     3.057333      3.758000     1.199333\nstd        0.828066     0.435866      1.765298     0.762238\nmin        4.300000     2.000000      1.000000     0.100000\n25%        5.100000     2.800000      1.600000     0.300000\n50%        5.800000     3.000000      4.350000     1.300000\n75%        6.400000     3.300000      5.100000     1.800000\nmax        7.900000     4.400000      6.900000     2.500000",
      "text/html": "<div>\n<style scoped>\n    .dataframe tbody tr th:only-of-type {\n        vertical-align: middle;\n    }\n\n    .dataframe tbody tr th {\n        vertical-align: top;\n    }\n\n    .dataframe thead th {\n        text-align: right;\n    }\n</style>\n<table border=\"1\" class=\"dataframe\">\n  <thead>\n    <tr style=\"text-align: right;\">\n      <th></th>\n      <th>Sepal.Length</th>\n      <th>Sepal.Width</th>\n      <th>Petal.Length</th>\n      <th>Petal.Width</th>\n    </tr>\n  </thead>\n  <tbody>\n    <tr>\n      <th>count</th>\n      <td>150.000000</td>\n      <td>150.000000</td>\n      <td>150.000000</td>\n      <td>150.000000</td>\n    </tr>\n    <tr>\n      <th>mean</th>\n      <td>5.843333</td>\n      <td>3.057333</td>\n      <td>3.758000</td>\n      <td>1.199333</td>\n    </tr>\n    <tr>\n      <th>std</th>\n      <td>0.828066</td>\n      <td>0.435866</td>\n      <td>1.765298</td>\n      <td>0.762238</td>\n    </tr>\n    <tr>\n      <th>min</th>\n      <td>4.300000</td>\n      <td>2.000000</td>\n      <td>1.000000</td>\n      <td>0.100000</td>\n    </tr>\n    <tr>\n      <th>25%</th>\n      <td>5.100000</td>\n      <td>2.800000</td>\n      <td>1.600000</td>\n      <td>0.300000</td>\n    </tr>\n    <tr>\n      <th>50%</th>\n      <td>5.800000</td>\n      <td>3.000000</td>\n      <td>4.350000</td>\n      <td>1.300000</td>\n    </tr>\n    <tr>\n      <th>75%</th>\n      <td>6.400000</td>\n      <td>3.300000</td>\n      <td>5.100000</td>\n      <td>1.800000</td>\n    </tr>\n    <tr>\n      <th>max</th>\n      <td>7.900000</td>\n      <td>4.400000</td>\n      <td>6.900000</td>\n      <td>2.500000</td>\n    </tr>\n  </tbody>\n</table>\n</div>"
     },
     "execution_count": 14,
     "metadata": {},
     "output_type": "execute_result"
    }
   ],
   "source": [
    "df.describe()"
   ],
   "metadata": {
    "collapsed": false,
    "ExecuteTime": {
     "end_time": "2023-11-20T19:03:46.941602Z",
     "start_time": "2023-11-20T19:03:46.687814Z"
    }
   },
   "id": "2e61617ba8f60b67"
  },
  {
   "cell_type": "markdown",
   "source": [
    "Read the data from this google sheet into a dataframe, df_google.\n",
    "\n",
    "print the first 3 rows\n",
    "print the number of rows and columns\n",
    "print the column names\n",
    "print the data type of each column\n",
    "print the summary statistics for each of the numeric variables\n",
    "print the unique values for each of your categorical variables"
   ],
   "metadata": {
    "collapsed": false
   },
   "id": "7ad6fca996457c4"
  },
  {
   "cell_type": "code",
   "execution_count": 25,
   "outputs": [],
   "source": [
    "sheet_url = 'https://docs.google.com/spreadsheets/d/1Uhtml8KY19LILuZsrDtlsHHDC9wuDGUSe8LTEwvdI5g/edit#gid=341089357'"
   ],
   "metadata": {
    "collapsed": false,
    "ExecuteTime": {
     "end_time": "2023-11-20T19:22:46.890831Z",
     "start_time": "2023-11-20T19:22:46.654942Z"
    }
   },
   "id": "4e2a21ca4cba5ffb"
  },
  {
   "cell_type": "code",
   "execution_count": 26,
   "outputs": [],
   "source": [
    "csv_export_url = sheet_url.replace('/edit#gid=', '/export?format=csv&gid=')"
   ],
   "metadata": {
    "collapsed": false,
    "ExecuteTime": {
     "end_time": "2023-11-20T19:22:47.473586Z",
     "start_time": "2023-11-20T19:22:47.458705Z"
    }
   },
   "id": "bd00112865a23a4a"
  },
  {
   "cell_type": "code",
   "execution_count": 27,
   "outputs": [],
   "source": [
    "df_googlesheet = pd.read_csv(csv_export_url)\n"
   ],
   "metadata": {
    "collapsed": false,
    "ExecuteTime": {
     "end_time": "2023-11-20T19:22:49.607250Z",
     "start_time": "2023-11-20T19:22:48.797029Z"
    }
   },
   "id": "fe41a2af9712688c"
  },
  {
   "cell_type": "code",
   "execution_count": 28,
   "outputs": [
    {
     "data": {
      "text/plain": "   PassengerId  Survived  Pclass  \\\n0            1         0       3   \n1            2         1       1   \n2            3         1       3   \n\n                                                  Name     Sex   Age  SibSp  \\\n0                              Braund, Mr. Owen Harris    male  22.0      1   \n1  Cumings, Mrs. John Bradley (Florence Briggs Thayer)  female  38.0      1   \n2                               Heikkinen, Miss. Laina  female  26.0      0   \n\n   Parch            Ticket     Fare Cabin Embarked  \n0      0         A/5 21171   7.2500   NaN        S  \n1      0          PC 17599  71.2833   C85        C  \n2      0  STON/O2. 3101282   7.9250   NaN        S  ",
      "text/html": "<div>\n<style scoped>\n    .dataframe tbody tr th:only-of-type {\n        vertical-align: middle;\n    }\n\n    .dataframe tbody tr th {\n        vertical-align: top;\n    }\n\n    .dataframe thead th {\n        text-align: right;\n    }\n</style>\n<table border=\"1\" class=\"dataframe\">\n  <thead>\n    <tr style=\"text-align: right;\">\n      <th></th>\n      <th>PassengerId</th>\n      <th>Survived</th>\n      <th>Pclass</th>\n      <th>Name</th>\n      <th>Sex</th>\n      <th>Age</th>\n      <th>SibSp</th>\n      <th>Parch</th>\n      <th>Ticket</th>\n      <th>Fare</th>\n      <th>Cabin</th>\n      <th>Embarked</th>\n    </tr>\n  </thead>\n  <tbody>\n    <tr>\n      <th>0</th>\n      <td>1</td>\n      <td>0</td>\n      <td>3</td>\n      <td>Braund, Mr. Owen Harris</td>\n      <td>male</td>\n      <td>22.0</td>\n      <td>1</td>\n      <td>0</td>\n      <td>A/5 21171</td>\n      <td>7.2500</td>\n      <td>NaN</td>\n      <td>S</td>\n    </tr>\n    <tr>\n      <th>1</th>\n      <td>2</td>\n      <td>1</td>\n      <td>1</td>\n      <td>Cumings, Mrs. John Bradley (Florence Briggs Thayer)</td>\n      <td>female</td>\n      <td>38.0</td>\n      <td>1</td>\n      <td>0</td>\n      <td>PC 17599</td>\n      <td>71.2833</td>\n      <td>C85</td>\n      <td>C</td>\n    </tr>\n    <tr>\n      <th>2</th>\n      <td>3</td>\n      <td>1</td>\n      <td>3</td>\n      <td>Heikkinen, Miss. Laina</td>\n      <td>female</td>\n      <td>26.0</td>\n      <td>0</td>\n      <td>0</td>\n      <td>STON/O2. 3101282</td>\n      <td>7.9250</td>\n      <td>NaN</td>\n      <td>S</td>\n    </tr>\n  </tbody>\n</table>\n</div>"
     },
     "execution_count": 28,
     "metadata": {},
     "output_type": "execute_result"
    }
   ],
   "source": [
    "df_googlesheet.head(3)"
   ],
   "metadata": {
    "collapsed": false,
    "ExecuteTime": {
     "end_time": "2023-11-20T19:30:13.484198Z",
     "start_time": "2023-11-20T19:30:13.445273Z"
    }
   },
   "id": "b5feeec26823cc03"
  },
  {
   "cell_type": "code",
   "execution_count": 29,
   "outputs": [
    {
     "data": {
      "text/plain": "(891, 12)"
     },
     "execution_count": 29,
     "metadata": {},
     "output_type": "execute_result"
    }
   ],
   "source": [
    "df_googlesheet.shape"
   ],
   "metadata": {
    "collapsed": false,
    "ExecuteTime": {
     "end_time": "2023-11-20T19:30:31.558716Z",
     "start_time": "2023-11-20T19:30:31.296486Z"
    }
   },
   "id": "aa4131f4b01d6e3d"
  },
  {
   "cell_type": "code",
   "execution_count": 30,
   "outputs": [
    {
     "data": {
      "text/plain": "Index(['PassengerId', 'Survived', 'Pclass', 'Name', 'Sex', 'Age', 'SibSp',\n       'Parch', 'Ticket', 'Fare', 'Cabin', 'Embarked'],\n      dtype='object')"
     },
     "execution_count": 30,
     "metadata": {},
     "output_type": "execute_result"
    }
   ],
   "source": [
    "df_googlesheet.columns"
   ],
   "metadata": {
    "collapsed": false,
    "ExecuteTime": {
     "end_time": "2023-11-20T19:30:43.323999Z",
     "start_time": "2023-11-20T19:30:42.537383Z"
    }
   },
   "id": "8ef232f5d0b2a321"
  },
  {
   "cell_type": "code",
   "execution_count": 31,
   "outputs": [
    {
     "data": {
      "text/plain": "PassengerId      int64\nSurvived         int64\nPclass           int64\nName            object\nSex             object\nAge            float64\nSibSp            int64\nParch            int64\nTicket          object\nFare           float64\nCabin           object\nEmbarked        object\ndtype: object"
     },
     "execution_count": 31,
     "metadata": {},
     "output_type": "execute_result"
    }
   ],
   "source": [
    "df_googlesheet.dtypes"
   ],
   "metadata": {
    "collapsed": false,
    "ExecuteTime": {
     "end_time": "2023-11-20T19:30:51.571167Z",
     "start_time": "2023-11-20T19:30:51.532191Z"
    }
   },
   "id": "e5107aca57e2935"
  },
  {
   "cell_type": "code",
   "execution_count": 32,
   "outputs": [
    {
     "data": {
      "text/plain": "       PassengerId    Survived      Pclass         Age       SibSp  \\\ncount   891.000000  891.000000  891.000000  714.000000  891.000000   \nmean    446.000000    0.383838    2.308642   29.699118    0.523008   \nstd     257.353842    0.486592    0.836071   14.526497    1.102743   \nmin       1.000000    0.000000    1.000000    0.420000    0.000000   \n25%     223.500000    0.000000    2.000000   20.125000    0.000000   \n50%     446.000000    0.000000    3.000000   28.000000    0.000000   \n75%     668.500000    1.000000    3.000000   38.000000    1.000000   \nmax     891.000000    1.000000    3.000000   80.000000    8.000000   \n\n            Parch        Fare  \ncount  891.000000  891.000000  \nmean     0.381594   32.204208  \nstd      0.806057   49.693429  \nmin      0.000000    0.000000  \n25%      0.000000    7.910400  \n50%      0.000000   14.454200  \n75%      0.000000   31.000000  \nmax      6.000000  512.329200  ",
      "text/html": "<div>\n<style scoped>\n    .dataframe tbody tr th:only-of-type {\n        vertical-align: middle;\n    }\n\n    .dataframe tbody tr th {\n        vertical-align: top;\n    }\n\n    .dataframe thead th {\n        text-align: right;\n    }\n</style>\n<table border=\"1\" class=\"dataframe\">\n  <thead>\n    <tr style=\"text-align: right;\">\n      <th></th>\n      <th>PassengerId</th>\n      <th>Survived</th>\n      <th>Pclass</th>\n      <th>Age</th>\n      <th>SibSp</th>\n      <th>Parch</th>\n      <th>Fare</th>\n    </tr>\n  </thead>\n  <tbody>\n    <tr>\n      <th>count</th>\n      <td>891.000000</td>\n      <td>891.000000</td>\n      <td>891.000000</td>\n      <td>714.000000</td>\n      <td>891.000000</td>\n      <td>891.000000</td>\n      <td>891.000000</td>\n    </tr>\n    <tr>\n      <th>mean</th>\n      <td>446.000000</td>\n      <td>0.383838</td>\n      <td>2.308642</td>\n      <td>29.699118</td>\n      <td>0.523008</td>\n      <td>0.381594</td>\n      <td>32.204208</td>\n    </tr>\n    <tr>\n      <th>std</th>\n      <td>257.353842</td>\n      <td>0.486592</td>\n      <td>0.836071</td>\n      <td>14.526497</td>\n      <td>1.102743</td>\n      <td>0.806057</td>\n      <td>49.693429</td>\n    </tr>\n    <tr>\n      <th>min</th>\n      <td>1.000000</td>\n      <td>0.000000</td>\n      <td>1.000000</td>\n      <td>0.420000</td>\n      <td>0.000000</td>\n      <td>0.000000</td>\n      <td>0.000000</td>\n    </tr>\n    <tr>\n      <th>25%</th>\n      <td>223.500000</td>\n      <td>0.000000</td>\n      <td>2.000000</td>\n      <td>20.125000</td>\n      <td>0.000000</td>\n      <td>0.000000</td>\n      <td>7.910400</td>\n    </tr>\n    <tr>\n      <th>50%</th>\n      <td>446.000000</td>\n      <td>0.000000</td>\n      <td>3.000000</td>\n      <td>28.000000</td>\n      <td>0.000000</td>\n      <td>0.000000</td>\n      <td>14.454200</td>\n    </tr>\n    <tr>\n      <th>75%</th>\n      <td>668.500000</td>\n      <td>1.000000</td>\n      <td>3.000000</td>\n      <td>38.000000</td>\n      <td>1.000000</td>\n      <td>0.000000</td>\n      <td>31.000000</td>\n    </tr>\n    <tr>\n      <th>max</th>\n      <td>891.000000</td>\n      <td>1.000000</td>\n      <td>3.000000</td>\n      <td>80.000000</td>\n      <td>8.000000</td>\n      <td>6.000000</td>\n      <td>512.329200</td>\n    </tr>\n  </tbody>\n</table>\n</div>"
     },
     "execution_count": 32,
     "metadata": {},
     "output_type": "execute_result"
    }
   ],
   "source": [
    "df_googlesheet.describe()"
   ],
   "metadata": {
    "collapsed": false,
    "ExecuteTime": {
     "end_time": "2023-11-20T19:31:06.352882Z",
     "start_time": "2023-11-20T19:31:06.264971Z"
    }
   },
   "id": "4417ff23cc2cd4e1"
  },
  {
   "cell_type": "code",
   "execution_count": 38,
   "outputs": [
    {
     "ename": "AttributeError",
     "evalue": "'DataFrame' object has no attribute 'Categorical'",
     "output_type": "error",
     "traceback": [
      "\u001B[0;31m---------------------------------------------------------------------------\u001B[0m",
      "\u001B[0;31mAttributeError\u001B[0m                            Traceback (most recent call last)",
      "\u001B[0;32m/var/folders/f_/27df3wfj0r13yh21s8dc4jyr0000gn/T/ipykernel_14261/1507514235.py\u001B[0m in \u001B[0;36m?\u001B[0;34m()\u001B[0m\n\u001B[0;32m----> 1\u001B[0;31m \u001B[0mdf_googlesheet\u001B[0m\u001B[0;34m.\u001B[0m\u001B[0mCategorical\u001B[0m\u001B[0;34m\u001B[0m\u001B[0;34m\u001B[0m\u001B[0m\n\u001B[0m",
      "\u001B[0;32m~/codeup-data-science/venv/lib/python3.11/site-packages/pandas/core/generic.py\u001B[0m in \u001B[0;36m?\u001B[0;34m(self, name)\u001B[0m\n\u001B[1;32m   6200\u001B[0m             \u001B[0;32mand\u001B[0m \u001B[0mname\u001B[0m \u001B[0;32mnot\u001B[0m \u001B[0;32min\u001B[0m \u001B[0mself\u001B[0m\u001B[0;34m.\u001B[0m\u001B[0m_accessors\u001B[0m\u001B[0;34m\u001B[0m\u001B[0;34m\u001B[0m\u001B[0m\n\u001B[1;32m   6201\u001B[0m             \u001B[0;32mand\u001B[0m \u001B[0mself\u001B[0m\u001B[0;34m.\u001B[0m\u001B[0m_info_axis\u001B[0m\u001B[0;34m.\u001B[0m\u001B[0m_can_hold_identifiers_and_holds_name\u001B[0m\u001B[0;34m(\u001B[0m\u001B[0mname\u001B[0m\u001B[0;34m)\u001B[0m\u001B[0;34m\u001B[0m\u001B[0;34m\u001B[0m\u001B[0m\n\u001B[1;32m   6202\u001B[0m         ):\n\u001B[1;32m   6203\u001B[0m             \u001B[0;32mreturn\u001B[0m \u001B[0mself\u001B[0m\u001B[0;34m[\u001B[0m\u001B[0mname\u001B[0m\u001B[0;34m]\u001B[0m\u001B[0;34m\u001B[0m\u001B[0;34m\u001B[0m\u001B[0m\n\u001B[0;32m-> 6204\u001B[0;31m         \u001B[0;32mreturn\u001B[0m \u001B[0mobject\u001B[0m\u001B[0;34m.\u001B[0m\u001B[0m__getattribute__\u001B[0m\u001B[0;34m(\u001B[0m\u001B[0mself\u001B[0m\u001B[0;34m,\u001B[0m \u001B[0mname\u001B[0m\u001B[0;34m)\u001B[0m\u001B[0;34m\u001B[0m\u001B[0;34m\u001B[0m\u001B[0m\n\u001B[0m",
      "\u001B[0;31mAttributeError\u001B[0m: 'DataFrame' object has no attribute 'Categorical'"
     ]
    }
   ],
   "source": [
    "df_googlesheet.Categorical"
   ],
   "metadata": {
    "collapsed": false,
    "ExecuteTime": {
     "end_time": "2023-11-20T19:56:28.119163Z",
     "start_time": "2023-11-20T19:56:28.062487Z"
    }
   },
   "id": "2266391e4ff7e73f"
  },
  {
   "cell_type": "markdown",
   "source": [
    "Download the google sheet from Exercise 6 into an .xslx (File → Download → Microsoft Excel). Read the downloaded file into a dataframe named df_excel.\n",
    "\n",
    "assign the first 100 rows to a new dataframe, df_excel_sample\n",
    "print the number of rows of your original dataframe\n",
    "print the first 5 column names\n",
    "print the column names that have a data type of object\n",
    "compute the range for each of the numeric variables."
   ],
   "metadata": {
    "collapsed": false
   },
   "id": "ba34e506394d65c0"
  },
  {
   "cell_type": "code",
   "execution_count": 45,
   "outputs": [
    {
     "data": {
      "text/plain": "True"
     },
     "execution_count": 45,
     "metadata": {},
     "output_type": "execute_result"
    }
   ],
   "source": [
    "os.path.exists('train.xlsx')"
   ],
   "metadata": {
    "collapsed": false,
    "ExecuteTime": {
     "end_time": "2023-11-20T20:21:08.933388Z",
     "start_time": "2023-11-20T20:21:08.905452Z"
    }
   },
   "id": "29a5ba8bcb13ebfa"
  },
  {
   "cell_type": "code",
   "execution_count": 63,
   "outputs": [],
   "source": [
    "df_excel = pd.read_excel('~/codeup-data-science/classification_exercises/train.xlsx')"
   ],
   "metadata": {
    "collapsed": false,
    "ExecuteTime": {
     "end_time": "2023-11-20T21:41:02.690878Z",
     "start_time": "2023-11-20T21:41:02.536507Z"
    }
   },
   "id": "d7f266478aa61aad"
  },
  {
   "cell_type": "code",
   "execution_count": 65,
   "outputs": [
    {
     "data": {
      "text/plain": "    PassengerId  Survived  Pclass  \\\n0             1         0       3   \n1             2         1       1   \n2             3         1       3   \n3             4         1       1   \n4             5         0       3   \n5             6         0       3   \n6             7         0       1   \n7             8         0       3   \n8             9         1       3   \n9            10         1       2   \n10           11         1       3   \n11           12         1       1   \n12           13         0       3   \n13           14         0       3   \n14           15         0       3   \n15           16         1       2   \n16           17         0       3   \n17           18         1       2   \n18           19         0       3   \n19           20         1       3   \n20           21         0       2   \n21           22         1       2   \n22           23         1       3   \n23           24         1       1   \n24           25         0       3   \n25           26         1       3   \n26           27         0       3   \n27           28         0       1   \n28           29         1       3   \n29           30         0       3   \n30           31         0       1   \n31           32         1       1   \n32           33         1       3   \n33           34         0       2   \n34           35         0       1   \n35           36         0       1   \n36           37         1       3   \n37           38         0       3   \n38           39         0       3   \n39           40         1       3   \n40           41         0       3   \n41           42         0       2   \n42           43         0       3   \n43           44         1       2   \n44           45         1       3   \n45           46         0       3   \n46           47         0       3   \n47           48         1       3   \n48           49         0       3   \n49           50         0       3   \n50           51         0       3   \n51           52         0       3   \n52           53         1       1   \n53           54         1       2   \n54           55         0       1   \n55           56         1       1   \n56           57         1       2   \n57           58         0       3   \n58           59         1       2   \n59           60         0       3   \n60           61         0       3   \n61           62         1       1   \n62           63         0       1   \n63           64         0       3   \n64           65         0       1   \n65           66         1       3   \n66           67         1       2   \n67           68         0       3   \n68           69         1       3   \n69           70         0       3   \n70           71         0       2   \n71           72         0       3   \n72           73         0       2   \n73           74         0       3   \n74           75         1       3   \n75           76         0       3   \n76           77         0       3   \n77           78         0       3   \n78           79         1       2   \n79           80         1       3   \n80           81         0       3   \n81           82         1       3   \n82           83         1       3   \n83           84         0       1   \n84           85         1       2   \n85           86         1       3   \n86           87         0       3   \n87           88         0       3   \n88           89         1       1   \n89           90         0       3   \n90           91         0       3   \n91           92         0       3   \n92           93         0       1   \n93           94         0       3   \n94           95         0       3   \n95           96         0       3   \n96           97         0       1   \n97           98         1       1   \n98           99         1       2   \n99          100         0       2   \n\n                                                         Name     Sex    Age  \\\n0                                     Braund, Mr. Owen Harris    male  22.00   \n1         Cumings, Mrs. John Bradley (Florence Briggs Thayer)  female  38.00   \n2                                      Heikkinen, Miss. Laina  female  26.00   \n3                Futrelle, Mrs. Jacques Heath (Lily May Peel)  female  35.00   \n4                                    Allen, Mr. William Henry    male  35.00   \n5                                            Moran, Mr. James    male    NaN   \n6                                     McCarthy, Mr. Timothy J    male  54.00   \n7                              Palsson, Master. Gosta Leonard    male   2.00   \n8           Johnson, Mrs. Oscar W (Elisabeth Vilhelmina Berg)  female  27.00   \n9                         Nasser, Mrs. Nicholas (Adele Achem)  female  14.00   \n10                            Sandstrom, Miss. Marguerite Rut  female   4.00   \n11                                   Bonnell, Miss. Elizabeth  female  58.00   \n12                             Saundercock, Mr. William Henry    male  20.00   \n13                                Andersson, Mr. Anders Johan    male  39.00   \n14                       Vestrom, Miss. Hulda Amanda Adolfina  female  14.00   \n15                           Hewlett, Mrs. (Mary D Kingcome)   female  55.00   \n16                                       Rice, Master. Eugene    male   2.00   \n17                               Williams, Mr. Charles Eugene    male    NaN   \n18    Vander Planke, Mrs. Julius (Emelia Maria Vandemoortele)  female  31.00   \n19                                    Masselmani, Mrs. Fatima  female    NaN   \n20                                       Fynney, Mr. Joseph J    male  35.00   \n21                                      Beesley, Mr. Lawrence    male  34.00   \n22                                McGowan, Miss. Anna \"Annie\"  female  15.00   \n23                               Sloper, Mr. William Thompson    male  28.00   \n24                              Palsson, Miss. Torborg Danira  female   8.00   \n25  Asplund, Mrs. Carl Oscar (Selma Augusta Emilia Johansson)  female  38.00   \n26                                    Emir, Mr. Farred Chehab    male    NaN   \n27                             Fortune, Mr. Charles Alexander    male  19.00   \n28                              O'Dwyer, Miss. Ellen \"Nellie\"  female    NaN   \n29                                        Todoroff, Mr. Lalio    male    NaN   \n30                                   Uruchurtu, Don. Manuel E    male  40.00   \n31             Spencer, Mrs. William Augustus (Marie Eugenie)  female    NaN   \n32                                   Glynn, Miss. Mary Agatha  female    NaN   \n33                                      Wheadon, Mr. Edward H    male  66.00   \n34                                    Meyer, Mr. Edgar Joseph    male  28.00   \n35                             Holverson, Mr. Alexander Oskar    male  42.00   \n36                                           Mamee, Mr. Hanna    male    NaN   \n37                                   Cann, Mr. Ernest Charles    male  21.00   \n38                         Vander Planke, Miss. Augusta Maria  female  18.00   \n39                                Nicola-Yarred, Miss. Jamila  female  14.00   \n40             Ahlin, Mrs. Johan (Johanna Persdotter Larsson)  female  40.00   \n41   Turpin, Mrs. William John Robert (Dorothy Ann Wonnacott)  female  27.00   \n42                                        Kraeff, Mr. Theodor    male    NaN   \n43                   Laroche, Miss. Simonne Marie Anne Andree  female   3.00   \n44                              Devaney, Miss. Margaret Delia  female  19.00   \n45                                   Rogers, Mr. William John    male    NaN   \n46                                          Lennon, Mr. Denis    male    NaN   \n47                                  O'Driscoll, Miss. Bridget  female    NaN   \n48                                        Samaan, Mr. Youssef    male    NaN   \n49              Arnold-Franchi, Mrs. Josef (Josefine Franchi)  female  18.00   \n50                                 Panula, Master. Juha Niilo    male   7.00   \n51                               Nosworthy, Mr. Richard Cater    male  21.00   \n52                   Harper, Mrs. Henry Sleeper (Myna Haxtun)  female  49.00   \n53         Faunthorpe, Mrs. Lizzie (Elizabeth Anne Wilkinson)  female  29.00   \n54                             Ostby, Mr. Engelhart Cornelius    male  65.00   \n55                                          Woolner, Mr. Hugh    male    NaN   \n56                                          Rugg, Miss. Emily  female  21.00   \n57                                        Novel, Mr. Mansouer    male  28.50   \n58                               West, Miss. Constance Mirium  female   5.00   \n59                         Goodwin, Master. William Frederick    male  11.00   \n60                                      Sirayanian, Mr. Orsen    male  22.00   \n61                                        Icard, Miss. Amelie  female  38.00   \n62                                Harris, Mr. Henry Birkhardt    male  45.00   \n63                                      Skoog, Master. Harald    male   4.00   \n64                                      Stewart, Mr. Albert A    male    NaN   \n65                                   Moubarek, Master. Gerios    male    NaN   \n66                               Nye, Mrs. (Elizabeth Ramell)  female  29.00   \n67                                   Crease, Mr. Ernest James    male  19.00   \n68                            Andersson, Miss. Erna Alexandra  female  17.00   \n69                                          Kink, Mr. Vincenz    male  26.00   \n70                                 Jenkin, Mr. Stephen Curnow    male  32.00   \n71                                 Goodwin, Miss. Lillian Amy  female  16.00   \n72                                       Hood, Mr. Ambrose Jr    male  21.00   \n73                                Chronopoulos, Mr. Apostolos    male  26.00   \n74                                              Bing, Mr. Lee    male  32.00   \n75                                    Moen, Mr. Sigurd Hansen    male  25.00   \n76                                          Staneff, Mr. Ivan    male    NaN   \n77                                   Moutal, Mr. Rahamin Haim    male    NaN   \n78                              Caldwell, Master. Alden Gates    male   0.83   \n79                                   Dowdell, Miss. Elizabeth  female  30.00   \n80                                       Waelens, Mr. Achille    male  22.00   \n81                                Sheerlinck, Mr. Jan Baptist    male  29.00   \n82                             McDermott, Miss. Brigdet Delia  female    NaN   \n83                                    Carrau, Mr. Francisco M    male  28.00   \n84                                        Ilett, Miss. Bertha  female  17.00   \n85    Backstrom, Mrs. Karl Alfred (Maria Mathilda Gustafsson)  female  33.00   \n86                                     Ford, Mr. William Neal    male  16.00   \n87                              Slocovski, Mr. Selman Francis    male    NaN   \n88                                 Fortune, Miss. Mabel Helen  female  23.00   \n89                                     Celotti, Mr. Francesco    male  24.00   \n90                                       Christmann, Mr. Emil    male  29.00   \n91                                 Andreasson, Mr. Paul Edvin    male  20.00   \n92                                Chaffee, Mr. Herbert Fuller    male  46.00   \n93                                    Dean, Mr. Bertram Frank    male  26.00   \n94                                          Coxon, Mr. Daniel    male  59.00   \n95                                Shorney, Mr. Charles Joseph    male    NaN   \n96                                  Goldschmidt, Mr. George B    male  71.00   \n97                            Greenfield, Mr. William Bertram    male  23.00   \n98                       Doling, Mrs. John T (Ada Julia Bone)  female  34.00   \n99                                          Kantor, Mr. Sinai    male  34.00   \n\n    SibSp  Parch            Ticket      Fare        Cabin Embarked  \n0       1      0         A/5 21171    7.2500          NaN        S  \n1       1      0          PC 17599   71.2833          C85        C  \n2       0      0  STON/O2. 3101282    7.9250          NaN        S  \n3       1      0            113803   53.1000         C123        S  \n4       0      0            373450    8.0500          NaN        S  \n5       0      0            330877    8.4583          NaN        Q  \n6       0      0             17463   51.8625          E46        S  \n7       3      1            349909   21.0750          NaN        S  \n8       0      2            347742   11.1333          NaN        S  \n9       1      0            237736   30.0708          NaN        C  \n10      1      1           PP 9549   16.7000           G6        S  \n11      0      0            113783   26.5500         C103        S  \n12      0      0         A/5. 2151    8.0500          NaN        S  \n13      1      5            347082   31.2750          NaN        S  \n14      0      0            350406    7.8542          NaN        S  \n15      0      0            248706   16.0000          NaN        S  \n16      4      1            382652   29.1250          NaN        Q  \n17      0      0            244373   13.0000          NaN        S  \n18      1      0            345763   18.0000          NaN        S  \n19      0      0              2649    7.2250          NaN        C  \n20      0      0            239865   26.0000          NaN        S  \n21      0      0            248698   13.0000          D56        S  \n22      0      0            330923    8.0292          NaN        Q  \n23      0      0            113788   35.5000           A6        S  \n24      3      1            349909   21.0750          NaN        S  \n25      1      5            347077   31.3875          NaN        S  \n26      0      0              2631    7.2250          NaN        C  \n27      3      2             19950  263.0000  C23 C25 C27        S  \n28      0      0            330959    7.8792          NaN        Q  \n29      0      0            349216    7.8958          NaN        S  \n30      0      0          PC 17601   27.7208          NaN        C  \n31      1      0          PC 17569  146.5208          B78        C  \n32      0      0            335677    7.7500          NaN        Q  \n33      0      0        C.A. 24579   10.5000          NaN        S  \n34      1      0          PC 17604   82.1708          NaN        C  \n35      1      0            113789   52.0000          NaN        S  \n36      0      0              2677    7.2292          NaN        C  \n37      0      0        A./5. 2152    8.0500          NaN        S  \n38      2      0            345764   18.0000          NaN        S  \n39      1      0              2651   11.2417          NaN        C  \n40      1      0              7546    9.4750          NaN        S  \n41      1      0             11668   21.0000          NaN        S  \n42      0      0            349253    7.8958          NaN        C  \n43      1      2     SC/Paris 2123   41.5792          NaN        C  \n44      0      0            330958    7.8792          NaN        Q  \n45      0      0   S.C./A.4. 23567    8.0500          NaN        S  \n46      1      0            370371   15.5000          NaN        Q  \n47      0      0             14311    7.7500          NaN        Q  \n48      2      0              2662   21.6792          NaN        C  \n49      1      0            349237   17.8000          NaN        S  \n50      4      1           3101295   39.6875          NaN        S  \n51      0      0        A/4. 39886    7.8000          NaN        S  \n52      1      0          PC 17572   76.7292          D33        C  \n53      1      0              2926   26.0000          NaN        S  \n54      0      1            113509   61.9792          B30        C  \n55      0      0             19947   35.5000          C52        S  \n56      0      0        C.A. 31026   10.5000          NaN        S  \n57      0      0              2697    7.2292          NaN        C  \n58      1      2        C.A. 34651   27.7500          NaN        S  \n59      5      2           CA 2144   46.9000          NaN        S  \n60      0      0              2669    7.2292          NaN        C  \n61      0      0            113572   80.0000          B28      NaN  \n62      1      0             36973   83.4750          C83        S  \n63      3      2            347088   27.9000          NaN        S  \n64      0      0          PC 17605   27.7208          NaN        C  \n65      1      1              2661   15.2458          NaN        C  \n66      0      0        C.A. 29395   10.5000          F33        S  \n67      0      0         S.P. 3464    8.1583          NaN        S  \n68      4      2           3101281    7.9250          NaN        S  \n69      2      0            315151    8.6625          NaN        S  \n70      0      0        C.A. 33111   10.5000          NaN        S  \n71      5      2           CA 2144   46.9000          NaN        S  \n72      0      0      S.O.C. 14879   73.5000          NaN        S  \n73      1      0              2680   14.4542          NaN        C  \n74      0      0              1601   56.4958          NaN        S  \n75      0      0            348123    7.6500        F G73        S  \n76      0      0            349208    7.8958          NaN        S  \n77      0      0            374746    8.0500          NaN        S  \n78      0      2            248738   29.0000          NaN        S  \n79      0      0            364516   12.4750          NaN        S  \n80      0      0            345767    9.0000          NaN        S  \n81      0      0            345779    9.5000          NaN        S  \n82      0      0            330932    7.7875          NaN        Q  \n83      0      0            113059   47.1000          NaN        S  \n84      0      0        SO/C 14885   10.5000          NaN        S  \n85      3      0           3101278   15.8500          NaN        S  \n86      1      3        W./C. 6608   34.3750          NaN        S  \n87      0      0   SOTON/OQ 392086    8.0500          NaN        S  \n88      3      2             19950  263.0000  C23 C25 C27        S  \n89      0      0            343275    8.0500          NaN        S  \n90      0      0            343276    8.0500          NaN        S  \n91      0      0            347466    7.8542          NaN        S  \n92      1      0       W.E.P. 5734   61.1750          E31        S  \n93      1      2         C.A. 2315   20.5750          NaN        S  \n94      0      0            364500    7.2500          NaN        S  \n95      0      0            374910    8.0500          NaN        S  \n96      0      0          PC 17754   34.6542           A5        C  \n97      0      1          PC 17759   63.3583      D10 D12        C  \n98      0      1            231919   23.0000          NaN        S  \n99      1      0            244367   26.0000          NaN        S  ",
      "text/html": "<div>\n<style scoped>\n    .dataframe tbody tr th:only-of-type {\n        vertical-align: middle;\n    }\n\n    .dataframe tbody tr th {\n        vertical-align: top;\n    }\n\n    .dataframe thead th {\n        text-align: right;\n    }\n</style>\n<table border=\"1\" class=\"dataframe\">\n  <thead>\n    <tr style=\"text-align: right;\">\n      <th></th>\n      <th>PassengerId</th>\n      <th>Survived</th>\n      <th>Pclass</th>\n      <th>Name</th>\n      <th>Sex</th>\n      <th>Age</th>\n      <th>SibSp</th>\n      <th>Parch</th>\n      <th>Ticket</th>\n      <th>Fare</th>\n      <th>Cabin</th>\n      <th>Embarked</th>\n    </tr>\n  </thead>\n  <tbody>\n    <tr>\n      <th>0</th>\n      <td>1</td>\n      <td>0</td>\n      <td>3</td>\n      <td>Braund, Mr. Owen Harris</td>\n      <td>male</td>\n      <td>22.00</td>\n      <td>1</td>\n      <td>0</td>\n      <td>A/5 21171</td>\n      <td>7.2500</td>\n      <td>NaN</td>\n      <td>S</td>\n    </tr>\n    <tr>\n      <th>1</th>\n      <td>2</td>\n      <td>1</td>\n      <td>1</td>\n      <td>Cumings, Mrs. John Bradley (Florence Briggs Thayer)</td>\n      <td>female</td>\n      <td>38.00</td>\n      <td>1</td>\n      <td>0</td>\n      <td>PC 17599</td>\n      <td>71.2833</td>\n      <td>C85</td>\n      <td>C</td>\n    </tr>\n    <tr>\n      <th>2</th>\n      <td>3</td>\n      <td>1</td>\n      <td>3</td>\n      <td>Heikkinen, Miss. Laina</td>\n      <td>female</td>\n      <td>26.00</td>\n      <td>0</td>\n      <td>0</td>\n      <td>STON/O2. 3101282</td>\n      <td>7.9250</td>\n      <td>NaN</td>\n      <td>S</td>\n    </tr>\n    <tr>\n      <th>3</th>\n      <td>4</td>\n      <td>1</td>\n      <td>1</td>\n      <td>Futrelle, Mrs. Jacques Heath (Lily May Peel)</td>\n      <td>female</td>\n      <td>35.00</td>\n      <td>1</td>\n      <td>0</td>\n      <td>113803</td>\n      <td>53.1000</td>\n      <td>C123</td>\n      <td>S</td>\n    </tr>\n    <tr>\n      <th>4</th>\n      <td>5</td>\n      <td>0</td>\n      <td>3</td>\n      <td>Allen, Mr. William Henry</td>\n      <td>male</td>\n      <td>35.00</td>\n      <td>0</td>\n      <td>0</td>\n      <td>373450</td>\n      <td>8.0500</td>\n      <td>NaN</td>\n      <td>S</td>\n    </tr>\n    <tr>\n      <th>5</th>\n      <td>6</td>\n      <td>0</td>\n      <td>3</td>\n      <td>Moran, Mr. James</td>\n      <td>male</td>\n      <td>NaN</td>\n      <td>0</td>\n      <td>0</td>\n      <td>330877</td>\n      <td>8.4583</td>\n      <td>NaN</td>\n      <td>Q</td>\n    </tr>\n    <tr>\n      <th>6</th>\n      <td>7</td>\n      <td>0</td>\n      <td>1</td>\n      <td>McCarthy, Mr. Timothy J</td>\n      <td>male</td>\n      <td>54.00</td>\n      <td>0</td>\n      <td>0</td>\n      <td>17463</td>\n      <td>51.8625</td>\n      <td>E46</td>\n      <td>S</td>\n    </tr>\n    <tr>\n      <th>7</th>\n      <td>8</td>\n      <td>0</td>\n      <td>3</td>\n      <td>Palsson, Master. Gosta Leonard</td>\n      <td>male</td>\n      <td>2.00</td>\n      <td>3</td>\n      <td>1</td>\n      <td>349909</td>\n      <td>21.0750</td>\n      <td>NaN</td>\n      <td>S</td>\n    </tr>\n    <tr>\n      <th>8</th>\n      <td>9</td>\n      <td>1</td>\n      <td>3</td>\n      <td>Johnson, Mrs. Oscar W (Elisabeth Vilhelmina Berg)</td>\n      <td>female</td>\n      <td>27.00</td>\n      <td>0</td>\n      <td>2</td>\n      <td>347742</td>\n      <td>11.1333</td>\n      <td>NaN</td>\n      <td>S</td>\n    </tr>\n    <tr>\n      <th>9</th>\n      <td>10</td>\n      <td>1</td>\n      <td>2</td>\n      <td>Nasser, Mrs. Nicholas (Adele Achem)</td>\n      <td>female</td>\n      <td>14.00</td>\n      <td>1</td>\n      <td>0</td>\n      <td>237736</td>\n      <td>30.0708</td>\n      <td>NaN</td>\n      <td>C</td>\n    </tr>\n    <tr>\n      <th>10</th>\n      <td>11</td>\n      <td>1</td>\n      <td>3</td>\n      <td>Sandstrom, Miss. Marguerite Rut</td>\n      <td>female</td>\n      <td>4.00</td>\n      <td>1</td>\n      <td>1</td>\n      <td>PP 9549</td>\n      <td>16.7000</td>\n      <td>G6</td>\n      <td>S</td>\n    </tr>\n    <tr>\n      <th>11</th>\n      <td>12</td>\n      <td>1</td>\n      <td>1</td>\n      <td>Bonnell, Miss. Elizabeth</td>\n      <td>female</td>\n      <td>58.00</td>\n      <td>0</td>\n      <td>0</td>\n      <td>113783</td>\n      <td>26.5500</td>\n      <td>C103</td>\n      <td>S</td>\n    </tr>\n    <tr>\n      <th>12</th>\n      <td>13</td>\n      <td>0</td>\n      <td>3</td>\n      <td>Saundercock, Mr. William Henry</td>\n      <td>male</td>\n      <td>20.00</td>\n      <td>0</td>\n      <td>0</td>\n      <td>A/5. 2151</td>\n      <td>8.0500</td>\n      <td>NaN</td>\n      <td>S</td>\n    </tr>\n    <tr>\n      <th>13</th>\n      <td>14</td>\n      <td>0</td>\n      <td>3</td>\n      <td>Andersson, Mr. Anders Johan</td>\n      <td>male</td>\n      <td>39.00</td>\n      <td>1</td>\n      <td>5</td>\n      <td>347082</td>\n      <td>31.2750</td>\n      <td>NaN</td>\n      <td>S</td>\n    </tr>\n    <tr>\n      <th>14</th>\n      <td>15</td>\n      <td>0</td>\n      <td>3</td>\n      <td>Vestrom, Miss. Hulda Amanda Adolfina</td>\n      <td>female</td>\n      <td>14.00</td>\n      <td>0</td>\n      <td>0</td>\n      <td>350406</td>\n      <td>7.8542</td>\n      <td>NaN</td>\n      <td>S</td>\n    </tr>\n    <tr>\n      <th>15</th>\n      <td>16</td>\n      <td>1</td>\n      <td>2</td>\n      <td>Hewlett, Mrs. (Mary D Kingcome)</td>\n      <td>female</td>\n      <td>55.00</td>\n      <td>0</td>\n      <td>0</td>\n      <td>248706</td>\n      <td>16.0000</td>\n      <td>NaN</td>\n      <td>S</td>\n    </tr>\n    <tr>\n      <th>16</th>\n      <td>17</td>\n      <td>0</td>\n      <td>3</td>\n      <td>Rice, Master. Eugene</td>\n      <td>male</td>\n      <td>2.00</td>\n      <td>4</td>\n      <td>1</td>\n      <td>382652</td>\n      <td>29.1250</td>\n      <td>NaN</td>\n      <td>Q</td>\n    </tr>\n    <tr>\n      <th>17</th>\n      <td>18</td>\n      <td>1</td>\n      <td>2</td>\n      <td>Williams, Mr. Charles Eugene</td>\n      <td>male</td>\n      <td>NaN</td>\n      <td>0</td>\n      <td>0</td>\n      <td>244373</td>\n      <td>13.0000</td>\n      <td>NaN</td>\n      <td>S</td>\n    </tr>\n    <tr>\n      <th>18</th>\n      <td>19</td>\n      <td>0</td>\n      <td>3</td>\n      <td>Vander Planke, Mrs. Julius (Emelia Maria Vandemoortele)</td>\n      <td>female</td>\n      <td>31.00</td>\n      <td>1</td>\n      <td>0</td>\n      <td>345763</td>\n      <td>18.0000</td>\n      <td>NaN</td>\n      <td>S</td>\n    </tr>\n    <tr>\n      <th>19</th>\n      <td>20</td>\n      <td>1</td>\n      <td>3</td>\n      <td>Masselmani, Mrs. Fatima</td>\n      <td>female</td>\n      <td>NaN</td>\n      <td>0</td>\n      <td>0</td>\n      <td>2649</td>\n      <td>7.2250</td>\n      <td>NaN</td>\n      <td>C</td>\n    </tr>\n    <tr>\n      <th>20</th>\n      <td>21</td>\n      <td>0</td>\n      <td>2</td>\n      <td>Fynney, Mr. Joseph J</td>\n      <td>male</td>\n      <td>35.00</td>\n      <td>0</td>\n      <td>0</td>\n      <td>239865</td>\n      <td>26.0000</td>\n      <td>NaN</td>\n      <td>S</td>\n    </tr>\n    <tr>\n      <th>21</th>\n      <td>22</td>\n      <td>1</td>\n      <td>2</td>\n      <td>Beesley, Mr. Lawrence</td>\n      <td>male</td>\n      <td>34.00</td>\n      <td>0</td>\n      <td>0</td>\n      <td>248698</td>\n      <td>13.0000</td>\n      <td>D56</td>\n      <td>S</td>\n    </tr>\n    <tr>\n      <th>22</th>\n      <td>23</td>\n      <td>1</td>\n      <td>3</td>\n      <td>McGowan, Miss. Anna \"Annie\"</td>\n      <td>female</td>\n      <td>15.00</td>\n      <td>0</td>\n      <td>0</td>\n      <td>330923</td>\n      <td>8.0292</td>\n      <td>NaN</td>\n      <td>Q</td>\n    </tr>\n    <tr>\n      <th>23</th>\n      <td>24</td>\n      <td>1</td>\n      <td>1</td>\n      <td>Sloper, Mr. William Thompson</td>\n      <td>male</td>\n      <td>28.00</td>\n      <td>0</td>\n      <td>0</td>\n      <td>113788</td>\n      <td>35.5000</td>\n      <td>A6</td>\n      <td>S</td>\n    </tr>\n    <tr>\n      <th>24</th>\n      <td>25</td>\n      <td>0</td>\n      <td>3</td>\n      <td>Palsson, Miss. Torborg Danira</td>\n      <td>female</td>\n      <td>8.00</td>\n      <td>3</td>\n      <td>1</td>\n      <td>349909</td>\n      <td>21.0750</td>\n      <td>NaN</td>\n      <td>S</td>\n    </tr>\n    <tr>\n      <th>25</th>\n      <td>26</td>\n      <td>1</td>\n      <td>3</td>\n      <td>Asplund, Mrs. Carl Oscar (Selma Augusta Emilia Johansson)</td>\n      <td>female</td>\n      <td>38.00</td>\n      <td>1</td>\n      <td>5</td>\n      <td>347077</td>\n      <td>31.3875</td>\n      <td>NaN</td>\n      <td>S</td>\n    </tr>\n    <tr>\n      <th>26</th>\n      <td>27</td>\n      <td>0</td>\n      <td>3</td>\n      <td>Emir, Mr. Farred Chehab</td>\n      <td>male</td>\n      <td>NaN</td>\n      <td>0</td>\n      <td>0</td>\n      <td>2631</td>\n      <td>7.2250</td>\n      <td>NaN</td>\n      <td>C</td>\n    </tr>\n    <tr>\n      <th>27</th>\n      <td>28</td>\n      <td>0</td>\n      <td>1</td>\n      <td>Fortune, Mr. Charles Alexander</td>\n      <td>male</td>\n      <td>19.00</td>\n      <td>3</td>\n      <td>2</td>\n      <td>19950</td>\n      <td>263.0000</td>\n      <td>C23 C25 C27</td>\n      <td>S</td>\n    </tr>\n    <tr>\n      <th>28</th>\n      <td>29</td>\n      <td>1</td>\n      <td>3</td>\n      <td>O'Dwyer, Miss. Ellen \"Nellie\"</td>\n      <td>female</td>\n      <td>NaN</td>\n      <td>0</td>\n      <td>0</td>\n      <td>330959</td>\n      <td>7.8792</td>\n      <td>NaN</td>\n      <td>Q</td>\n    </tr>\n    <tr>\n      <th>29</th>\n      <td>30</td>\n      <td>0</td>\n      <td>3</td>\n      <td>Todoroff, Mr. Lalio</td>\n      <td>male</td>\n      <td>NaN</td>\n      <td>0</td>\n      <td>0</td>\n      <td>349216</td>\n      <td>7.8958</td>\n      <td>NaN</td>\n      <td>S</td>\n    </tr>\n    <tr>\n      <th>30</th>\n      <td>31</td>\n      <td>0</td>\n      <td>1</td>\n      <td>Uruchurtu, Don. Manuel E</td>\n      <td>male</td>\n      <td>40.00</td>\n      <td>0</td>\n      <td>0</td>\n      <td>PC 17601</td>\n      <td>27.7208</td>\n      <td>NaN</td>\n      <td>C</td>\n    </tr>\n    <tr>\n      <th>31</th>\n      <td>32</td>\n      <td>1</td>\n      <td>1</td>\n      <td>Spencer, Mrs. William Augustus (Marie Eugenie)</td>\n      <td>female</td>\n      <td>NaN</td>\n      <td>1</td>\n      <td>0</td>\n      <td>PC 17569</td>\n      <td>146.5208</td>\n      <td>B78</td>\n      <td>C</td>\n    </tr>\n    <tr>\n      <th>32</th>\n      <td>33</td>\n      <td>1</td>\n      <td>3</td>\n      <td>Glynn, Miss. Mary Agatha</td>\n      <td>female</td>\n      <td>NaN</td>\n      <td>0</td>\n      <td>0</td>\n      <td>335677</td>\n      <td>7.7500</td>\n      <td>NaN</td>\n      <td>Q</td>\n    </tr>\n    <tr>\n      <th>33</th>\n      <td>34</td>\n      <td>0</td>\n      <td>2</td>\n      <td>Wheadon, Mr. Edward H</td>\n      <td>male</td>\n      <td>66.00</td>\n      <td>0</td>\n      <td>0</td>\n      <td>C.A. 24579</td>\n      <td>10.5000</td>\n      <td>NaN</td>\n      <td>S</td>\n    </tr>\n    <tr>\n      <th>34</th>\n      <td>35</td>\n      <td>0</td>\n      <td>1</td>\n      <td>Meyer, Mr. Edgar Joseph</td>\n      <td>male</td>\n      <td>28.00</td>\n      <td>1</td>\n      <td>0</td>\n      <td>PC 17604</td>\n      <td>82.1708</td>\n      <td>NaN</td>\n      <td>C</td>\n    </tr>\n    <tr>\n      <th>35</th>\n      <td>36</td>\n      <td>0</td>\n      <td>1</td>\n      <td>Holverson, Mr. Alexander Oskar</td>\n      <td>male</td>\n      <td>42.00</td>\n      <td>1</td>\n      <td>0</td>\n      <td>113789</td>\n      <td>52.0000</td>\n      <td>NaN</td>\n      <td>S</td>\n    </tr>\n    <tr>\n      <th>36</th>\n      <td>37</td>\n      <td>1</td>\n      <td>3</td>\n      <td>Mamee, Mr. Hanna</td>\n      <td>male</td>\n      <td>NaN</td>\n      <td>0</td>\n      <td>0</td>\n      <td>2677</td>\n      <td>7.2292</td>\n      <td>NaN</td>\n      <td>C</td>\n    </tr>\n    <tr>\n      <th>37</th>\n      <td>38</td>\n      <td>0</td>\n      <td>3</td>\n      <td>Cann, Mr. Ernest Charles</td>\n      <td>male</td>\n      <td>21.00</td>\n      <td>0</td>\n      <td>0</td>\n      <td>A./5. 2152</td>\n      <td>8.0500</td>\n      <td>NaN</td>\n      <td>S</td>\n    </tr>\n    <tr>\n      <th>38</th>\n      <td>39</td>\n      <td>0</td>\n      <td>3</td>\n      <td>Vander Planke, Miss. Augusta Maria</td>\n      <td>female</td>\n      <td>18.00</td>\n      <td>2</td>\n      <td>0</td>\n      <td>345764</td>\n      <td>18.0000</td>\n      <td>NaN</td>\n      <td>S</td>\n    </tr>\n    <tr>\n      <th>39</th>\n      <td>40</td>\n      <td>1</td>\n      <td>3</td>\n      <td>Nicola-Yarred, Miss. Jamila</td>\n      <td>female</td>\n      <td>14.00</td>\n      <td>1</td>\n      <td>0</td>\n      <td>2651</td>\n      <td>11.2417</td>\n      <td>NaN</td>\n      <td>C</td>\n    </tr>\n    <tr>\n      <th>40</th>\n      <td>41</td>\n      <td>0</td>\n      <td>3</td>\n      <td>Ahlin, Mrs. Johan (Johanna Persdotter Larsson)</td>\n      <td>female</td>\n      <td>40.00</td>\n      <td>1</td>\n      <td>0</td>\n      <td>7546</td>\n      <td>9.4750</td>\n      <td>NaN</td>\n      <td>S</td>\n    </tr>\n    <tr>\n      <th>41</th>\n      <td>42</td>\n      <td>0</td>\n      <td>2</td>\n      <td>Turpin, Mrs. William John Robert (Dorothy Ann Wonnacott)</td>\n      <td>female</td>\n      <td>27.00</td>\n      <td>1</td>\n      <td>0</td>\n      <td>11668</td>\n      <td>21.0000</td>\n      <td>NaN</td>\n      <td>S</td>\n    </tr>\n    <tr>\n      <th>42</th>\n      <td>43</td>\n      <td>0</td>\n      <td>3</td>\n      <td>Kraeff, Mr. Theodor</td>\n      <td>male</td>\n      <td>NaN</td>\n      <td>0</td>\n      <td>0</td>\n      <td>349253</td>\n      <td>7.8958</td>\n      <td>NaN</td>\n      <td>C</td>\n    </tr>\n    <tr>\n      <th>43</th>\n      <td>44</td>\n      <td>1</td>\n      <td>2</td>\n      <td>Laroche, Miss. Simonne Marie Anne Andree</td>\n      <td>female</td>\n      <td>3.00</td>\n      <td>1</td>\n      <td>2</td>\n      <td>SC/Paris 2123</td>\n      <td>41.5792</td>\n      <td>NaN</td>\n      <td>C</td>\n    </tr>\n    <tr>\n      <th>44</th>\n      <td>45</td>\n      <td>1</td>\n      <td>3</td>\n      <td>Devaney, Miss. Margaret Delia</td>\n      <td>female</td>\n      <td>19.00</td>\n      <td>0</td>\n      <td>0</td>\n      <td>330958</td>\n      <td>7.8792</td>\n      <td>NaN</td>\n      <td>Q</td>\n    </tr>\n    <tr>\n      <th>45</th>\n      <td>46</td>\n      <td>0</td>\n      <td>3</td>\n      <td>Rogers, Mr. William John</td>\n      <td>male</td>\n      <td>NaN</td>\n      <td>0</td>\n      <td>0</td>\n      <td>S.C./A.4. 23567</td>\n      <td>8.0500</td>\n      <td>NaN</td>\n      <td>S</td>\n    </tr>\n    <tr>\n      <th>46</th>\n      <td>47</td>\n      <td>0</td>\n      <td>3</td>\n      <td>Lennon, Mr. Denis</td>\n      <td>male</td>\n      <td>NaN</td>\n      <td>1</td>\n      <td>0</td>\n      <td>370371</td>\n      <td>15.5000</td>\n      <td>NaN</td>\n      <td>Q</td>\n    </tr>\n    <tr>\n      <th>47</th>\n      <td>48</td>\n      <td>1</td>\n      <td>3</td>\n      <td>O'Driscoll, Miss. Bridget</td>\n      <td>female</td>\n      <td>NaN</td>\n      <td>0</td>\n      <td>0</td>\n      <td>14311</td>\n      <td>7.7500</td>\n      <td>NaN</td>\n      <td>Q</td>\n    </tr>\n    <tr>\n      <th>48</th>\n      <td>49</td>\n      <td>0</td>\n      <td>3</td>\n      <td>Samaan, Mr. Youssef</td>\n      <td>male</td>\n      <td>NaN</td>\n      <td>2</td>\n      <td>0</td>\n      <td>2662</td>\n      <td>21.6792</td>\n      <td>NaN</td>\n      <td>C</td>\n    </tr>\n    <tr>\n      <th>49</th>\n      <td>50</td>\n      <td>0</td>\n      <td>3</td>\n      <td>Arnold-Franchi, Mrs. Josef (Josefine Franchi)</td>\n      <td>female</td>\n      <td>18.00</td>\n      <td>1</td>\n      <td>0</td>\n      <td>349237</td>\n      <td>17.8000</td>\n      <td>NaN</td>\n      <td>S</td>\n    </tr>\n    <tr>\n      <th>50</th>\n      <td>51</td>\n      <td>0</td>\n      <td>3</td>\n      <td>Panula, Master. Juha Niilo</td>\n      <td>male</td>\n      <td>7.00</td>\n      <td>4</td>\n      <td>1</td>\n      <td>3101295</td>\n      <td>39.6875</td>\n      <td>NaN</td>\n      <td>S</td>\n    </tr>\n    <tr>\n      <th>51</th>\n      <td>52</td>\n      <td>0</td>\n      <td>3</td>\n      <td>Nosworthy, Mr. Richard Cater</td>\n      <td>male</td>\n      <td>21.00</td>\n      <td>0</td>\n      <td>0</td>\n      <td>A/4. 39886</td>\n      <td>7.8000</td>\n      <td>NaN</td>\n      <td>S</td>\n    </tr>\n    <tr>\n      <th>52</th>\n      <td>53</td>\n      <td>1</td>\n      <td>1</td>\n      <td>Harper, Mrs. Henry Sleeper (Myna Haxtun)</td>\n      <td>female</td>\n      <td>49.00</td>\n      <td>1</td>\n      <td>0</td>\n      <td>PC 17572</td>\n      <td>76.7292</td>\n      <td>D33</td>\n      <td>C</td>\n    </tr>\n    <tr>\n      <th>53</th>\n      <td>54</td>\n      <td>1</td>\n      <td>2</td>\n      <td>Faunthorpe, Mrs. Lizzie (Elizabeth Anne Wilkinson)</td>\n      <td>female</td>\n      <td>29.00</td>\n      <td>1</td>\n      <td>0</td>\n      <td>2926</td>\n      <td>26.0000</td>\n      <td>NaN</td>\n      <td>S</td>\n    </tr>\n    <tr>\n      <th>54</th>\n      <td>55</td>\n      <td>0</td>\n      <td>1</td>\n      <td>Ostby, Mr. Engelhart Cornelius</td>\n      <td>male</td>\n      <td>65.00</td>\n      <td>0</td>\n      <td>1</td>\n      <td>113509</td>\n      <td>61.9792</td>\n      <td>B30</td>\n      <td>C</td>\n    </tr>\n    <tr>\n      <th>55</th>\n      <td>56</td>\n      <td>1</td>\n      <td>1</td>\n      <td>Woolner, Mr. Hugh</td>\n      <td>male</td>\n      <td>NaN</td>\n      <td>0</td>\n      <td>0</td>\n      <td>19947</td>\n      <td>35.5000</td>\n      <td>C52</td>\n      <td>S</td>\n    </tr>\n    <tr>\n      <th>56</th>\n      <td>57</td>\n      <td>1</td>\n      <td>2</td>\n      <td>Rugg, Miss. Emily</td>\n      <td>female</td>\n      <td>21.00</td>\n      <td>0</td>\n      <td>0</td>\n      <td>C.A. 31026</td>\n      <td>10.5000</td>\n      <td>NaN</td>\n      <td>S</td>\n    </tr>\n    <tr>\n      <th>57</th>\n      <td>58</td>\n      <td>0</td>\n      <td>3</td>\n      <td>Novel, Mr. Mansouer</td>\n      <td>male</td>\n      <td>28.50</td>\n      <td>0</td>\n      <td>0</td>\n      <td>2697</td>\n      <td>7.2292</td>\n      <td>NaN</td>\n      <td>C</td>\n    </tr>\n    <tr>\n      <th>58</th>\n      <td>59</td>\n      <td>1</td>\n      <td>2</td>\n      <td>West, Miss. Constance Mirium</td>\n      <td>female</td>\n      <td>5.00</td>\n      <td>1</td>\n      <td>2</td>\n      <td>C.A. 34651</td>\n      <td>27.7500</td>\n      <td>NaN</td>\n      <td>S</td>\n    </tr>\n    <tr>\n      <th>59</th>\n      <td>60</td>\n      <td>0</td>\n      <td>3</td>\n      <td>Goodwin, Master. William Frederick</td>\n      <td>male</td>\n      <td>11.00</td>\n      <td>5</td>\n      <td>2</td>\n      <td>CA 2144</td>\n      <td>46.9000</td>\n      <td>NaN</td>\n      <td>S</td>\n    </tr>\n    <tr>\n      <th>60</th>\n      <td>61</td>\n      <td>0</td>\n      <td>3</td>\n      <td>Sirayanian, Mr. Orsen</td>\n      <td>male</td>\n      <td>22.00</td>\n      <td>0</td>\n      <td>0</td>\n      <td>2669</td>\n      <td>7.2292</td>\n      <td>NaN</td>\n      <td>C</td>\n    </tr>\n    <tr>\n      <th>61</th>\n      <td>62</td>\n      <td>1</td>\n      <td>1</td>\n      <td>Icard, Miss. Amelie</td>\n      <td>female</td>\n      <td>38.00</td>\n      <td>0</td>\n      <td>0</td>\n      <td>113572</td>\n      <td>80.0000</td>\n      <td>B28</td>\n      <td>NaN</td>\n    </tr>\n    <tr>\n      <th>62</th>\n      <td>63</td>\n      <td>0</td>\n      <td>1</td>\n      <td>Harris, Mr. Henry Birkhardt</td>\n      <td>male</td>\n      <td>45.00</td>\n      <td>1</td>\n      <td>0</td>\n      <td>36973</td>\n      <td>83.4750</td>\n      <td>C83</td>\n      <td>S</td>\n    </tr>\n    <tr>\n      <th>63</th>\n      <td>64</td>\n      <td>0</td>\n      <td>3</td>\n      <td>Skoog, Master. Harald</td>\n      <td>male</td>\n      <td>4.00</td>\n      <td>3</td>\n      <td>2</td>\n      <td>347088</td>\n      <td>27.9000</td>\n      <td>NaN</td>\n      <td>S</td>\n    </tr>\n    <tr>\n      <th>64</th>\n      <td>65</td>\n      <td>0</td>\n      <td>1</td>\n      <td>Stewart, Mr. Albert A</td>\n      <td>male</td>\n      <td>NaN</td>\n      <td>0</td>\n      <td>0</td>\n      <td>PC 17605</td>\n      <td>27.7208</td>\n      <td>NaN</td>\n      <td>C</td>\n    </tr>\n    <tr>\n      <th>65</th>\n      <td>66</td>\n      <td>1</td>\n      <td>3</td>\n      <td>Moubarek, Master. Gerios</td>\n      <td>male</td>\n      <td>NaN</td>\n      <td>1</td>\n      <td>1</td>\n      <td>2661</td>\n      <td>15.2458</td>\n      <td>NaN</td>\n      <td>C</td>\n    </tr>\n    <tr>\n      <th>66</th>\n      <td>67</td>\n      <td>1</td>\n      <td>2</td>\n      <td>Nye, Mrs. (Elizabeth Ramell)</td>\n      <td>female</td>\n      <td>29.00</td>\n      <td>0</td>\n      <td>0</td>\n      <td>C.A. 29395</td>\n      <td>10.5000</td>\n      <td>F33</td>\n      <td>S</td>\n    </tr>\n    <tr>\n      <th>67</th>\n      <td>68</td>\n      <td>0</td>\n      <td>3</td>\n      <td>Crease, Mr. Ernest James</td>\n      <td>male</td>\n      <td>19.00</td>\n      <td>0</td>\n      <td>0</td>\n      <td>S.P. 3464</td>\n      <td>8.1583</td>\n      <td>NaN</td>\n      <td>S</td>\n    </tr>\n    <tr>\n      <th>68</th>\n      <td>69</td>\n      <td>1</td>\n      <td>3</td>\n      <td>Andersson, Miss. Erna Alexandra</td>\n      <td>female</td>\n      <td>17.00</td>\n      <td>4</td>\n      <td>2</td>\n      <td>3101281</td>\n      <td>7.9250</td>\n      <td>NaN</td>\n      <td>S</td>\n    </tr>\n    <tr>\n      <th>69</th>\n      <td>70</td>\n      <td>0</td>\n      <td>3</td>\n      <td>Kink, Mr. Vincenz</td>\n      <td>male</td>\n      <td>26.00</td>\n      <td>2</td>\n      <td>0</td>\n      <td>315151</td>\n      <td>8.6625</td>\n      <td>NaN</td>\n      <td>S</td>\n    </tr>\n    <tr>\n      <th>70</th>\n      <td>71</td>\n      <td>0</td>\n      <td>2</td>\n      <td>Jenkin, Mr. Stephen Curnow</td>\n      <td>male</td>\n      <td>32.00</td>\n      <td>0</td>\n      <td>0</td>\n      <td>C.A. 33111</td>\n      <td>10.5000</td>\n      <td>NaN</td>\n      <td>S</td>\n    </tr>\n    <tr>\n      <th>71</th>\n      <td>72</td>\n      <td>0</td>\n      <td>3</td>\n      <td>Goodwin, Miss. Lillian Amy</td>\n      <td>female</td>\n      <td>16.00</td>\n      <td>5</td>\n      <td>2</td>\n      <td>CA 2144</td>\n      <td>46.9000</td>\n      <td>NaN</td>\n      <td>S</td>\n    </tr>\n    <tr>\n      <th>72</th>\n      <td>73</td>\n      <td>0</td>\n      <td>2</td>\n      <td>Hood, Mr. Ambrose Jr</td>\n      <td>male</td>\n      <td>21.00</td>\n      <td>0</td>\n      <td>0</td>\n      <td>S.O.C. 14879</td>\n      <td>73.5000</td>\n      <td>NaN</td>\n      <td>S</td>\n    </tr>\n    <tr>\n      <th>73</th>\n      <td>74</td>\n      <td>0</td>\n      <td>3</td>\n      <td>Chronopoulos, Mr. Apostolos</td>\n      <td>male</td>\n      <td>26.00</td>\n      <td>1</td>\n      <td>0</td>\n      <td>2680</td>\n      <td>14.4542</td>\n      <td>NaN</td>\n      <td>C</td>\n    </tr>\n    <tr>\n      <th>74</th>\n      <td>75</td>\n      <td>1</td>\n      <td>3</td>\n      <td>Bing, Mr. Lee</td>\n      <td>male</td>\n      <td>32.00</td>\n      <td>0</td>\n      <td>0</td>\n      <td>1601</td>\n      <td>56.4958</td>\n      <td>NaN</td>\n      <td>S</td>\n    </tr>\n    <tr>\n      <th>75</th>\n      <td>76</td>\n      <td>0</td>\n      <td>3</td>\n      <td>Moen, Mr. Sigurd Hansen</td>\n      <td>male</td>\n      <td>25.00</td>\n      <td>0</td>\n      <td>0</td>\n      <td>348123</td>\n      <td>7.6500</td>\n      <td>F G73</td>\n      <td>S</td>\n    </tr>\n    <tr>\n      <th>76</th>\n      <td>77</td>\n      <td>0</td>\n      <td>3</td>\n      <td>Staneff, Mr. Ivan</td>\n      <td>male</td>\n      <td>NaN</td>\n      <td>0</td>\n      <td>0</td>\n      <td>349208</td>\n      <td>7.8958</td>\n      <td>NaN</td>\n      <td>S</td>\n    </tr>\n    <tr>\n      <th>77</th>\n      <td>78</td>\n      <td>0</td>\n      <td>3</td>\n      <td>Moutal, Mr. Rahamin Haim</td>\n      <td>male</td>\n      <td>NaN</td>\n      <td>0</td>\n      <td>0</td>\n      <td>374746</td>\n      <td>8.0500</td>\n      <td>NaN</td>\n      <td>S</td>\n    </tr>\n    <tr>\n      <th>78</th>\n      <td>79</td>\n      <td>1</td>\n      <td>2</td>\n      <td>Caldwell, Master. Alden Gates</td>\n      <td>male</td>\n      <td>0.83</td>\n      <td>0</td>\n      <td>2</td>\n      <td>248738</td>\n      <td>29.0000</td>\n      <td>NaN</td>\n      <td>S</td>\n    </tr>\n    <tr>\n      <th>79</th>\n      <td>80</td>\n      <td>1</td>\n      <td>3</td>\n      <td>Dowdell, Miss. Elizabeth</td>\n      <td>female</td>\n      <td>30.00</td>\n      <td>0</td>\n      <td>0</td>\n      <td>364516</td>\n      <td>12.4750</td>\n      <td>NaN</td>\n      <td>S</td>\n    </tr>\n    <tr>\n      <th>80</th>\n      <td>81</td>\n      <td>0</td>\n      <td>3</td>\n      <td>Waelens, Mr. Achille</td>\n      <td>male</td>\n      <td>22.00</td>\n      <td>0</td>\n      <td>0</td>\n      <td>345767</td>\n      <td>9.0000</td>\n      <td>NaN</td>\n      <td>S</td>\n    </tr>\n    <tr>\n      <th>81</th>\n      <td>82</td>\n      <td>1</td>\n      <td>3</td>\n      <td>Sheerlinck, Mr. Jan Baptist</td>\n      <td>male</td>\n      <td>29.00</td>\n      <td>0</td>\n      <td>0</td>\n      <td>345779</td>\n      <td>9.5000</td>\n      <td>NaN</td>\n      <td>S</td>\n    </tr>\n    <tr>\n      <th>82</th>\n      <td>83</td>\n      <td>1</td>\n      <td>3</td>\n      <td>McDermott, Miss. Brigdet Delia</td>\n      <td>female</td>\n      <td>NaN</td>\n      <td>0</td>\n      <td>0</td>\n      <td>330932</td>\n      <td>7.7875</td>\n      <td>NaN</td>\n      <td>Q</td>\n    </tr>\n    <tr>\n      <th>83</th>\n      <td>84</td>\n      <td>0</td>\n      <td>1</td>\n      <td>Carrau, Mr. Francisco M</td>\n      <td>male</td>\n      <td>28.00</td>\n      <td>0</td>\n      <td>0</td>\n      <td>113059</td>\n      <td>47.1000</td>\n      <td>NaN</td>\n      <td>S</td>\n    </tr>\n    <tr>\n      <th>84</th>\n      <td>85</td>\n      <td>1</td>\n      <td>2</td>\n      <td>Ilett, Miss. Bertha</td>\n      <td>female</td>\n      <td>17.00</td>\n      <td>0</td>\n      <td>0</td>\n      <td>SO/C 14885</td>\n      <td>10.5000</td>\n      <td>NaN</td>\n      <td>S</td>\n    </tr>\n    <tr>\n      <th>85</th>\n      <td>86</td>\n      <td>1</td>\n      <td>3</td>\n      <td>Backstrom, Mrs. Karl Alfred (Maria Mathilda Gustafsson)</td>\n      <td>female</td>\n      <td>33.00</td>\n      <td>3</td>\n      <td>0</td>\n      <td>3101278</td>\n      <td>15.8500</td>\n      <td>NaN</td>\n      <td>S</td>\n    </tr>\n    <tr>\n      <th>86</th>\n      <td>87</td>\n      <td>0</td>\n      <td>3</td>\n      <td>Ford, Mr. William Neal</td>\n      <td>male</td>\n      <td>16.00</td>\n      <td>1</td>\n      <td>3</td>\n      <td>W./C. 6608</td>\n      <td>34.3750</td>\n      <td>NaN</td>\n      <td>S</td>\n    </tr>\n    <tr>\n      <th>87</th>\n      <td>88</td>\n      <td>0</td>\n      <td>3</td>\n      <td>Slocovski, Mr. Selman Francis</td>\n      <td>male</td>\n      <td>NaN</td>\n      <td>0</td>\n      <td>0</td>\n      <td>SOTON/OQ 392086</td>\n      <td>8.0500</td>\n      <td>NaN</td>\n      <td>S</td>\n    </tr>\n    <tr>\n      <th>88</th>\n      <td>89</td>\n      <td>1</td>\n      <td>1</td>\n      <td>Fortune, Miss. Mabel Helen</td>\n      <td>female</td>\n      <td>23.00</td>\n      <td>3</td>\n      <td>2</td>\n      <td>19950</td>\n      <td>263.0000</td>\n      <td>C23 C25 C27</td>\n      <td>S</td>\n    </tr>\n    <tr>\n      <th>89</th>\n      <td>90</td>\n      <td>0</td>\n      <td>3</td>\n      <td>Celotti, Mr. Francesco</td>\n      <td>male</td>\n      <td>24.00</td>\n      <td>0</td>\n      <td>0</td>\n      <td>343275</td>\n      <td>8.0500</td>\n      <td>NaN</td>\n      <td>S</td>\n    </tr>\n    <tr>\n      <th>90</th>\n      <td>91</td>\n      <td>0</td>\n      <td>3</td>\n      <td>Christmann, Mr. Emil</td>\n      <td>male</td>\n      <td>29.00</td>\n      <td>0</td>\n      <td>0</td>\n      <td>343276</td>\n      <td>8.0500</td>\n      <td>NaN</td>\n      <td>S</td>\n    </tr>\n    <tr>\n      <th>91</th>\n      <td>92</td>\n      <td>0</td>\n      <td>3</td>\n      <td>Andreasson, Mr. Paul Edvin</td>\n      <td>male</td>\n      <td>20.00</td>\n      <td>0</td>\n      <td>0</td>\n      <td>347466</td>\n      <td>7.8542</td>\n      <td>NaN</td>\n      <td>S</td>\n    </tr>\n    <tr>\n      <th>92</th>\n      <td>93</td>\n      <td>0</td>\n      <td>1</td>\n      <td>Chaffee, Mr. Herbert Fuller</td>\n      <td>male</td>\n      <td>46.00</td>\n      <td>1</td>\n      <td>0</td>\n      <td>W.E.P. 5734</td>\n      <td>61.1750</td>\n      <td>E31</td>\n      <td>S</td>\n    </tr>\n    <tr>\n      <th>93</th>\n      <td>94</td>\n      <td>0</td>\n      <td>3</td>\n      <td>Dean, Mr. Bertram Frank</td>\n      <td>male</td>\n      <td>26.00</td>\n      <td>1</td>\n      <td>2</td>\n      <td>C.A. 2315</td>\n      <td>20.5750</td>\n      <td>NaN</td>\n      <td>S</td>\n    </tr>\n    <tr>\n      <th>94</th>\n      <td>95</td>\n      <td>0</td>\n      <td>3</td>\n      <td>Coxon, Mr. Daniel</td>\n      <td>male</td>\n      <td>59.00</td>\n      <td>0</td>\n      <td>0</td>\n      <td>364500</td>\n      <td>7.2500</td>\n      <td>NaN</td>\n      <td>S</td>\n    </tr>\n    <tr>\n      <th>95</th>\n      <td>96</td>\n      <td>0</td>\n      <td>3</td>\n      <td>Shorney, Mr. Charles Joseph</td>\n      <td>male</td>\n      <td>NaN</td>\n      <td>0</td>\n      <td>0</td>\n      <td>374910</td>\n      <td>8.0500</td>\n      <td>NaN</td>\n      <td>S</td>\n    </tr>\n    <tr>\n      <th>96</th>\n      <td>97</td>\n      <td>0</td>\n      <td>1</td>\n      <td>Goldschmidt, Mr. George B</td>\n      <td>male</td>\n      <td>71.00</td>\n      <td>0</td>\n      <td>0</td>\n      <td>PC 17754</td>\n      <td>34.6542</td>\n      <td>A5</td>\n      <td>C</td>\n    </tr>\n    <tr>\n      <th>97</th>\n      <td>98</td>\n      <td>1</td>\n      <td>1</td>\n      <td>Greenfield, Mr. William Bertram</td>\n      <td>male</td>\n      <td>23.00</td>\n      <td>0</td>\n      <td>1</td>\n      <td>PC 17759</td>\n      <td>63.3583</td>\n      <td>D10 D12</td>\n      <td>C</td>\n    </tr>\n    <tr>\n      <th>98</th>\n      <td>99</td>\n      <td>1</td>\n      <td>2</td>\n      <td>Doling, Mrs. John T (Ada Julia Bone)</td>\n      <td>female</td>\n      <td>34.00</td>\n      <td>0</td>\n      <td>1</td>\n      <td>231919</td>\n      <td>23.0000</td>\n      <td>NaN</td>\n      <td>S</td>\n    </tr>\n    <tr>\n      <th>99</th>\n      <td>100</td>\n      <td>0</td>\n      <td>2</td>\n      <td>Kantor, Mr. Sinai</td>\n      <td>male</td>\n      <td>34.00</td>\n      <td>1</td>\n      <td>0</td>\n      <td>244367</td>\n      <td>26.0000</td>\n      <td>NaN</td>\n      <td>S</td>\n    </tr>\n  </tbody>\n</table>\n</div>"
     },
     "execution_count": 65,
     "metadata": {},
     "output_type": "execute_result"
    }
   ],
   "source": [
    "df_excel_example = df_excel.head(100)\n",
    "df_excel_example"
   ],
   "metadata": {
    "collapsed": false,
    "ExecuteTime": {
     "end_time": "2023-11-20T21:41:18.938782Z",
     "start_time": "2023-11-20T21:41:18.855705Z"
    }
   },
   "id": "a2042d25a7abf213"
  },
  {
   "cell_type": "code",
   "execution_count": 66,
   "outputs": [
    {
     "data": {
      "text/plain": "(891, 12)"
     },
     "execution_count": 66,
     "metadata": {},
     "output_type": "execute_result"
    }
   ],
   "source": [
    "df_excel.shape"
   ],
   "metadata": {
    "collapsed": false,
    "ExecuteTime": {
     "end_time": "2023-11-20T21:41:47.167741Z",
     "start_time": "2023-11-20T21:41:47.120338Z"
    }
   },
   "id": "6ce848bbce60f499"
  },
  {
   "cell_type": "code",
   "execution_count": 67,
   "outputs": [
    {
     "data": {
      "text/plain": "Index(['PassengerId', 'Survived', 'Pclass', 'Name', 'Sex'], dtype='object')"
     },
     "execution_count": 67,
     "metadata": {},
     "output_type": "execute_result"
    }
   ],
   "source": [
    "df_excel.columns[:5]"
   ],
   "metadata": {
    "collapsed": false,
    "ExecuteTime": {
     "end_time": "2023-11-20T21:42:25.705887Z",
     "start_time": "2023-11-20T21:42:25.578945Z"
    }
   },
   "id": "be80014eca7e1321"
  },
  {
   "cell_type": "code",
   "execution_count": 74,
   "outputs": [
    {
     "data": {
      "text/plain": "Name        object\nSex         object\nTicket      object\nCabin       object\nEmbarked    object\ndtype: object"
     },
     "execution_count": 74,
     "metadata": {},
     "output_type": "execute_result"
    }
   ],
   "source": [
    "df_excel.dtypes[df_excel.dtypes == 'object']"
   ],
   "metadata": {
    "collapsed": false,
    "ExecuteTime": {
     "end_time": "2023-11-20T21:46:06.823744Z",
     "start_time": "2023-11-20T21:46:06.750755Z"
    }
   },
   "id": "9a618d30c153b07e"
  },
  {
   "cell_type": "code",
   "execution_count": 60,
   "outputs": [],
   "source": [
    "import openpyxl"
   ],
   "metadata": {
    "collapsed": false,
    "ExecuteTime": {
     "end_time": "2023-11-20T21:40:04.387725Z",
     "start_time": "2023-11-20T21:40:03.672081Z"
    }
   },
   "id": "a872df45fc12f58"
  },
  {
   "cell_type": "code",
   "execution_count": 54,
   "outputs": [],
   "source": [
    "import env"
   ],
   "metadata": {
    "collapsed": false,
    "ExecuteTime": {
     "end_time": "2023-11-20T21:18:49.808616Z",
     "start_time": "2023-11-20T21:18:49.729082Z"
    }
   },
   "id": "57a03fb42d8a44ad"
  },
  {
   "cell_type": "code",
   "execution_count": 55,
   "outputs": [],
   "source": [
    "url = env.get_db_url()\n",
    "\n",
    "df_telco = pd.read_sql(\"select * from customers join contract_types using(contract_type_id) join internet_service_types using(internet_service_type_id) join payment_types using(payment_type_id)\", url)\n"
   ],
   "metadata": {
    "collapsed": false,
    "ExecuteTime": {
     "end_time": "2023-11-20T21:19:06.764916Z",
     "start_time": "2023-11-20T21:18:52.092305Z"
    }
   },
   "id": "e168fb4f47abd799"
  },
  {
   "cell_type": "code",
   "execution_count": 56,
   "outputs": [
    {
     "data": {
      "text/plain": "   payment_type_id  internet_service_type_id  contract_type_id customer_id  \\\n0                2                         1                 2  0002-ORFBO   \n1                2                         1                 1  0003-MKNFE   \n2                1                         2                 1  0004-TLHLJ   \n3                1                         2                 1  0011-IGKFF   \n4                2                         2                 1  0013-EXCHZ   \n\n   gender  senior_citizen partner dependents  tenure phone_service  ...  \\\n0  Female               0     Yes        Yes       9           Yes  ...   \n1    Male               0      No         No       9           Yes  ...   \n2    Male               0      No         No       4           Yes  ...   \n3    Male               1     Yes         No      13           Yes  ...   \n4  Female               1     Yes         No       3           Yes  ...   \n\n  tech_support streaming_tv streaming_movies paperless_billing  \\\n0          Yes          Yes               No               Yes   \n1           No           No              Yes                No   \n2           No           No               No               Yes   \n3           No          Yes              Yes               Yes   \n4          Yes          Yes               No               Yes   \n\n  monthly_charges total_charges churn   contract_type  internet_service_type  \\\n0            65.6         593.3    No        One year                    DSL   \n1            59.9         542.4    No  Month-to-month                    DSL   \n2            73.9        280.85   Yes  Month-to-month            Fiber optic   \n3            98.0       1237.85   Yes  Month-to-month            Fiber optic   \n4            83.9         267.4   Yes  Month-to-month            Fiber optic   \n\n       payment_type  \n0      Mailed check  \n1      Mailed check  \n2  Electronic check  \n3  Electronic check  \n4      Mailed check  \n\n[5 rows x 24 columns]",
      "text/html": "<div>\n<style scoped>\n    .dataframe tbody tr th:only-of-type {\n        vertical-align: middle;\n    }\n\n    .dataframe tbody tr th {\n        vertical-align: top;\n    }\n\n    .dataframe thead th {\n        text-align: right;\n    }\n</style>\n<table border=\"1\" class=\"dataframe\">\n  <thead>\n    <tr style=\"text-align: right;\">\n      <th></th>\n      <th>payment_type_id</th>\n      <th>internet_service_type_id</th>\n      <th>contract_type_id</th>\n      <th>customer_id</th>\n      <th>gender</th>\n      <th>senior_citizen</th>\n      <th>partner</th>\n      <th>dependents</th>\n      <th>tenure</th>\n      <th>phone_service</th>\n      <th>...</th>\n      <th>tech_support</th>\n      <th>streaming_tv</th>\n      <th>streaming_movies</th>\n      <th>paperless_billing</th>\n      <th>monthly_charges</th>\n      <th>total_charges</th>\n      <th>churn</th>\n      <th>contract_type</th>\n      <th>internet_service_type</th>\n      <th>payment_type</th>\n    </tr>\n  </thead>\n  <tbody>\n    <tr>\n      <th>0</th>\n      <td>2</td>\n      <td>1</td>\n      <td>2</td>\n      <td>0002-ORFBO</td>\n      <td>Female</td>\n      <td>0</td>\n      <td>Yes</td>\n      <td>Yes</td>\n      <td>9</td>\n      <td>Yes</td>\n      <td>...</td>\n      <td>Yes</td>\n      <td>Yes</td>\n      <td>No</td>\n      <td>Yes</td>\n      <td>65.6</td>\n      <td>593.3</td>\n      <td>No</td>\n      <td>One year</td>\n      <td>DSL</td>\n      <td>Mailed check</td>\n    </tr>\n    <tr>\n      <th>1</th>\n      <td>2</td>\n      <td>1</td>\n      <td>1</td>\n      <td>0003-MKNFE</td>\n      <td>Male</td>\n      <td>0</td>\n      <td>No</td>\n      <td>No</td>\n      <td>9</td>\n      <td>Yes</td>\n      <td>...</td>\n      <td>No</td>\n      <td>No</td>\n      <td>Yes</td>\n      <td>No</td>\n      <td>59.9</td>\n      <td>542.4</td>\n      <td>No</td>\n      <td>Month-to-month</td>\n      <td>DSL</td>\n      <td>Mailed check</td>\n    </tr>\n    <tr>\n      <th>2</th>\n      <td>1</td>\n      <td>2</td>\n      <td>1</td>\n      <td>0004-TLHLJ</td>\n      <td>Male</td>\n      <td>0</td>\n      <td>No</td>\n      <td>No</td>\n      <td>4</td>\n      <td>Yes</td>\n      <td>...</td>\n      <td>No</td>\n      <td>No</td>\n      <td>No</td>\n      <td>Yes</td>\n      <td>73.9</td>\n      <td>280.85</td>\n      <td>Yes</td>\n      <td>Month-to-month</td>\n      <td>Fiber optic</td>\n      <td>Electronic check</td>\n    </tr>\n    <tr>\n      <th>3</th>\n      <td>1</td>\n      <td>2</td>\n      <td>1</td>\n      <td>0011-IGKFF</td>\n      <td>Male</td>\n      <td>1</td>\n      <td>Yes</td>\n      <td>No</td>\n      <td>13</td>\n      <td>Yes</td>\n      <td>...</td>\n      <td>No</td>\n      <td>Yes</td>\n      <td>Yes</td>\n      <td>Yes</td>\n      <td>98.0</td>\n      <td>1237.85</td>\n      <td>Yes</td>\n      <td>Month-to-month</td>\n      <td>Fiber optic</td>\n      <td>Electronic check</td>\n    </tr>\n    <tr>\n      <th>4</th>\n      <td>2</td>\n      <td>2</td>\n      <td>1</td>\n      <td>0013-EXCHZ</td>\n      <td>Female</td>\n      <td>1</td>\n      <td>Yes</td>\n      <td>No</td>\n      <td>3</td>\n      <td>Yes</td>\n      <td>...</td>\n      <td>Yes</td>\n      <td>Yes</td>\n      <td>No</td>\n      <td>Yes</td>\n      <td>83.9</td>\n      <td>267.4</td>\n      <td>Yes</td>\n      <td>Month-to-month</td>\n      <td>Fiber optic</td>\n      <td>Mailed check</td>\n    </tr>\n  </tbody>\n</table>\n<p>5 rows × 24 columns</p>\n</div>"
     },
     "execution_count": 56,
     "metadata": {},
     "output_type": "execute_result"
    }
   ],
   "source": [
    "df_telco.head()"
   ],
   "metadata": {
    "collapsed": false,
    "ExecuteTime": {
     "end_time": "2023-11-20T21:19:23.242088Z",
     "start_time": "2023-11-20T21:19:23.133305Z"
    }
   },
   "id": "d09934848b5b8ab4"
  },
  {
   "cell_type": "code",
   "execution_count": null,
   "outputs": [],
   "source": [
    "def get_titanic_data():\n",
    "    df = data('titanic')\n",
    "    df_titanic = pd.DataFrame(df)\n",
    "    \n",
    "    return df_titanic\n"
   ],
   "metadata": {
    "collapsed": false
   },
   "id": "87d1f3ded8284ff6"
  },
  {
   "cell_type": "code",
   "execution_count": null,
   "outputs": [],
   "source": [
    "def get_iris_data():\n",
    "    url=env.get_db_url()\n",
    "    query = 'SELECT * FROM measurements join species using(species_id)'\n",
    "    df_iris = pd.read_sql(query, url)\n",
    "    return df_iris"
   ],
   "metadata": {
    "collapsed": false
   },
   "id": "571685307d404cb3"
  },
  {
   "cell_type": "code",
   "execution_count": null,
   "outputs": [],
   "source": [
    "def get_telco_data():\n",
    "    url = env.get_db_url()\n",
    "    query = \"select * from customers join contract_types using(contract_type_id) join internet_service_types using(internet_service_type_id) join payment_types using(payment_type_id)\",\n",
    "    df_telco = pd.read_sql(query, url)\n",
    "    return df_telco"
   ],
   "metadata": {
    "collapsed": false
   },
   "id": "ecbfcd4c9926cfc3"
  },
  {
   "cell_type": "code",
   "execution_count": 75,
   "outputs": [],
   "source": [
    "import acquire"
   ],
   "metadata": {
    "collapsed": false,
    "ExecuteTime": {
     "end_time": "2023-11-20T21:54:13.316653Z",
     "start_time": "2023-11-20T21:54:13.226078Z"
    }
   },
   "id": "8fe663363fd4c905"
  },
  {
   "cell_type": "code",
   "execution_count": 76,
   "outputs": [],
   "source": [
    "def check_file_exists():\n",
    "    if os.path.exists(filename):\n",
    "        print('this file exists, reading csv')\n",
    "        df = pd.read_csvz(filename)\n",
    "    else:\n",
    "        print('this file doesnt exist, read from sql')\n",
    "        df = pd.read_sql(query, url)\n",
    "        df.to_csv(filename)\n",
    "    return df"
   ],
   "metadata": {
    "collapsed": false,
    "ExecuteTime": {
     "end_time": "2023-11-20T21:57:49.191784Z",
     "start_time": "2023-11-20T21:57:48.964532Z"
    }
   },
   "id": "1ad2ee3cf204e017"
  },
  {
   "cell_type": "code",
   "execution_count": null,
   "outputs": [],
   "source": [],
   "metadata": {
    "collapsed": false
   },
   "id": "cc35121af271b13d"
  }
 ],
 "metadata": {
  "kernelspec": {
   "display_name": "Python 3",
   "language": "python",
   "name": "python3"
  },
  "language_info": {
   "codemirror_mode": {
    "name": "ipython",
    "version": 2
   },
   "file_extension": ".py",
   "mimetype": "text/x-python",
   "name": "python",
   "nbconvert_exporter": "python",
   "pygments_lexer": "ipython2",
   "version": "2.7.6"
  }
 },
 "nbformat": 4,
 "nbformat_minor": 5
}
