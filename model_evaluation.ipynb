{
 "cells": [
  {
   "cell_type": "markdown",
   "source": [
    "               | pred dog   | pred cat   |\n",
    "|:------------  |-----------:|-----------:|\n",
    "| actual dog    |         46 |         7  |\n",
    "| actual cat    |         13 |         34 | "
   ],
   "metadata": {
    "collapsed": false
   },
   "id": "e9f53b77ce2f6a22"
  },
  {
   "cell_type": "markdown",
   "source": [
    "> In the context of this problem, what is a false positive?"
   ],
   "metadata": {
    "collapsed": false
   },
   "id": "90c650aabfe60edf"
  },
  {
   "cell_type": "markdown",
   "source": [
    "where i predicted dog but it was cat\n"
   ],
   "metadata": {
    "collapsed": false
   },
   "id": "69a32987b2c217a2"
  },
  {
   "cell_type": "markdown",
   "source": [
    ">In the context of this problem, what is a false negative?"
   ],
   "metadata": {
    "collapsed": false
   },
   "id": "5df61f241b1610af"
  },
  {
   "cell_type": "markdown",
   "source": [
    "predicted cat but it was dog"
   ],
   "metadata": {
    "collapsed": false
   },
   "id": "9b7b87efcf68e89c"
  },
  {
   "cell_type": "markdown",
   "source": [
    "An internal team wants to investigate the cause of the manufacturing defects. They tell you that they want to identify as many of the ducks that have a defect as possible. Which evaluation metric would be appropriate here? Which model would be the best fit for this use case?"
   ],
   "metadata": {
    "collapsed": false
   },
   "id": "39a3493ebb556330"
  },
  {
   "cell_type": "markdown",
   "source": [
    "recall"
   ],
   "metadata": {
    "collapsed": false
   },
   "id": "15c63eb973c3d6a5"
  },
  {
   "cell_type": "code",
   "execution_count": 1,
   "outputs": [],
   "source": [
    "import pandas as pd\n",
    "import numpy as np"
   ],
   "metadata": {
    "collapsed": false,
    "ExecuteTime": {
     "end_time": "2023-11-28T20:28:53.030647Z",
     "start_time": "2023-11-28T20:28:51.482952Z"
    }
   },
   "id": "1f025c3d15cdf454"
  },
  {
   "cell_type": "code",
   "execution_count": 3,
   "outputs": [],
   "source": [
    "df = pd.read_csv('c3.csv')"
   ],
   "metadata": {
    "collapsed": false,
    "ExecuteTime": {
     "end_time": "2023-11-28T20:29:29.853063Z",
     "start_time": "2023-11-28T20:29:29.777779Z"
    }
   },
   "id": "fc5d1ed110bfa12b"
  },
  {
   "cell_type": "code",
   "execution_count": 4,
   "outputs": [
    {
     "data": {
      "text/plain": "      actual     model1  model2     model3\n0  No Defect  No Defect  Defect  No Defect\n1  No Defect  No Defect  Defect     Defect\n2  No Defect  No Defect  Defect  No Defect\n3  No Defect     Defect  Defect     Defect\n4  No Defect  No Defect  Defect  No Defect",
      "text/html": "<div>\n<style scoped>\n    .dataframe tbody tr th:only-of-type {\n        vertical-align: middle;\n    }\n\n    .dataframe tbody tr th {\n        vertical-align: top;\n    }\n\n    .dataframe thead th {\n        text-align: right;\n    }\n</style>\n<table border=\"1\" class=\"dataframe\">\n  <thead>\n    <tr style=\"text-align: right;\">\n      <th></th>\n      <th>actual</th>\n      <th>model1</th>\n      <th>model2</th>\n      <th>model3</th>\n    </tr>\n  </thead>\n  <tbody>\n    <tr>\n      <th>0</th>\n      <td>No Defect</td>\n      <td>No Defect</td>\n      <td>Defect</td>\n      <td>No Defect</td>\n    </tr>\n    <tr>\n      <th>1</th>\n      <td>No Defect</td>\n      <td>No Defect</td>\n      <td>Defect</td>\n      <td>Defect</td>\n    </tr>\n    <tr>\n      <th>2</th>\n      <td>No Defect</td>\n      <td>No Defect</td>\n      <td>Defect</td>\n      <td>No Defect</td>\n    </tr>\n    <tr>\n      <th>3</th>\n      <td>No Defect</td>\n      <td>Defect</td>\n      <td>Defect</td>\n      <td>Defect</td>\n    </tr>\n    <tr>\n      <th>4</th>\n      <td>No Defect</td>\n      <td>No Defect</td>\n      <td>Defect</td>\n      <td>No Defect</td>\n    </tr>\n  </tbody>\n</table>\n</div>"
     },
     "execution_count": 4,
     "metadata": {},
     "output_type": "execute_result"
    }
   ],
   "source": [
    "df.head()"
   ],
   "metadata": {
    "collapsed": false,
    "ExecuteTime": {
     "end_time": "2023-11-28T20:29:34.855743Z",
     "start_time": "2023-11-28T20:29:34.812028Z"
    }
   },
   "id": "e5e4c3e178a9ca5a"
  },
  {
   "cell_type": "code",
   "execution_count": 5,
   "outputs": [
    {
     "data": {
      "text/plain": "model1     Defect  No Defect\nactual                      \nDefect          8          8\nNo Defect       2        182",
      "text/html": "<div>\n<style scoped>\n    .dataframe tbody tr th:only-of-type {\n        vertical-align: middle;\n    }\n\n    .dataframe tbody tr th {\n        vertical-align: top;\n    }\n\n    .dataframe thead th {\n        text-align: right;\n    }\n</style>\n<table border=\"1\" class=\"dataframe\">\n  <thead>\n    <tr style=\"text-align: right;\">\n      <th>model1</th>\n      <th>Defect</th>\n      <th>No Defect</th>\n    </tr>\n    <tr>\n      <th>actual</th>\n      <th></th>\n      <th></th>\n    </tr>\n  </thead>\n  <tbody>\n    <tr>\n      <th>Defect</th>\n      <td>8</td>\n      <td>8</td>\n    </tr>\n    <tr>\n      <th>No Defect</th>\n      <td>2</td>\n      <td>182</td>\n    </tr>\n  </tbody>\n</table>\n</div>"
     },
     "execution_count": 5,
     "metadata": {},
     "output_type": "execute_result"
    }
   ],
   "source": [
    "pd.crosstab(df.actual, df.model1)"
   ],
   "metadata": {
    "collapsed": false,
    "ExecuteTime": {
     "end_time": "2023-11-28T20:30:39.821934Z",
     "start_time": "2023-11-28T20:30:39.722766Z"
    }
   },
   "id": "173c0773d3ff9502"
  },
  {
   "cell_type": "code",
   "execution_count": 22,
   "outputs": [
    {
     "name": "stdout",
     "output_type": "stream",
     "text": [
      "model1     Defect  No Defect\n",
      "actual                      \n",
      "Defect          8          8\n",
      "No Defect       2        182\n",
      "\n",
      "model2     Defect  No Defect\n",
      "actual                      \n",
      "Defect          9          7\n",
      "No Defect      81        103\n",
      "\n",
      "model3     Defect  No Defect\n",
      "actual                      \n",
      "Defect         13          3\n",
      "No Defect      86         98\n"
     ]
    }
   ],
   "source": [
    "for x in df.iloc[:,1:4]:\n",
    "    print(pd.crosstab(df.actual, df[x]))\n",
    "    print()"
   ],
   "metadata": {
    "collapsed": false,
    "ExecuteTime": {
     "end_time": "2023-11-28T20:37:05.717647Z",
     "start_time": "2023-11-28T20:37:05.694777Z"
    }
   },
   "id": "63770f7c9de8e92a"
  },
  {
   "cell_type": "code",
   "execution_count": 29,
   "outputs": [],
   "source": [
    "data = {\n",
    "    'model1': {'TP': 8, 'FN': 8, 'FP': 2, 'TN': 182},\n",
    "    'model2': {'TP': 9, 'FN': 7, 'FP': 81, 'TN': 103},\n",
    "    'model3': {'TP': 13, 'FN': 3, 'FP': 86, 'TN': 98}\n",
    "}"
   ],
   "metadata": {
    "collapsed": false,
    "ExecuteTime": {
     "end_time": "2023-11-28T20:51:21.792930Z",
     "start_time": "2023-11-28T20:51:21.753897Z"
    }
   },
   "id": "10de0c57f908dc21"
  },
  {
   "cell_type": "code",
   "execution_count": 30,
   "outputs": [
    {
     "name": "stdout",
     "output_type": "stream",
     "text": [
      "model1 = 0.5\n",
      "model2 = 0.5625\n",
      "model3 = 0.8125\n"
     ]
    }
   ],
   "source": [
    "for model, values in data.items():\n",
    "    recall = values['TP'] / (values['TP'] + values['FN'])  # Calculate recall\n",
    "    print(f'{model} = {recall}')\n",
    "\n"
   ],
   "metadata": {
    "collapsed": false,
    "ExecuteTime": {
     "end_time": "2023-11-28T20:51:25.354860Z",
     "start_time": "2023-11-28T20:51:25.344208Z"
    }
   },
   "id": "9eca7b13c5745d3f"
  },
  {
   "cell_type": "markdown",
   "source": [
    "the best model is model 3 with 81 percent of predicting duck with defects"
   ],
   "metadata": {
    "collapsed": false
   },
   "id": "7255f8653b8130f6"
  },
  {
   "cell_type": "markdown",
   "source": [
    "Recently several stories in the local news have come out highlighting customers who received a rubber duck with a defect, and portraying C3 in a bad light. The PR team has decided to launch a program that gives customers with a defective duck a vacation to Hawaii. They need you to predict which ducks will have defects, but tell you the really don't want to accidentally give out a vacation package when the duck really doesn't have a defect. Which evaluation metric would be appropriate here? Which model would be the best fit for this use case?"
   ],
   "metadata": {
    "collapsed": false
   },
   "id": "a91a6061dcfdb1cf"
  },
  {
   "cell_type": "markdown",
   "source": [
    "the answer is precision because you want to minize the false positive"
   ],
   "metadata": {
    "collapsed": false
   },
   "id": "515e61508727f29f"
  },
  {
   "cell_type": "code",
   "execution_count": 33,
   "outputs": [
    {
     "name": "stdout",
     "output_type": "stream",
     "text": [
      "model1     Defect  No Defect\n",
      "actual                      \n",
      "Defect          8          8\n",
      "No Defect       2        182\n",
      "\n",
      "model2     Defect  No Defect\n",
      "actual                      \n",
      "Defect          9          7\n",
      "No Defect      81        103\n",
      "\n",
      "model3     Defect  No Defect\n",
      "actual                      \n",
      "Defect         13          3\n",
      "No Defect      86         98\n"
     ]
    }
   ],
   "source": [
    "for x in df.iloc[:,1:4]:\n",
    "    print(pd.crosstab(df.actual, df[x]))\n",
    "    print()"
   ],
   "metadata": {
    "collapsed": false,
    "ExecuteTime": {
     "end_time": "2023-11-28T20:58:56.670874Z",
     "start_time": "2023-11-28T20:58:56.647018Z"
    }
   },
   "id": "a0617d234e1ebc76"
  },
  {
   "cell_type": "code",
   "execution_count": 36,
   "outputs": [
    {
     "name": "stdout",
     "output_type": "stream",
     "text": [
      "model1 = 0.8\n",
      "model2 = 0.1\n",
      "model3 = 0.13131313131313133\n"
     ]
    }
   ],
   "source": [
    "for model, values in data.items():\n",
    "    precision = values['TP'] / (values['TP'] + values['FP'])  # Calculate recall\n",
    "    print(f'{model} = {precision}')\n",
    "\n"
   ],
   "metadata": {
    "collapsed": false,
    "ExecuteTime": {
     "end_time": "2023-11-28T21:00:10.529007Z",
     "start_time": "2023-11-28T21:00:10.521702Z"
    }
   },
   "id": "e37ab8ba4e1fc009"
  },
  {
   "cell_type": "markdown",
   "source": [
    "Given this dataset, use pandas to create a baseline model (i.e. a model that just predicts the most common class) and answer the following questions:"
   ],
   "metadata": {
    "collapsed": false
   },
   "id": "767eedc29c5f808a"
  },
  {
   "cell_type": "code",
   "execution_count": 70,
   "outputs": [],
   "source": [
    "df = pd.read_csv('gives_you_paws.csv')"
   ],
   "metadata": {
    "collapsed": false,
    "ExecuteTime": {
     "end_time": "2023-11-28T22:31:40.458387Z",
     "start_time": "2023-11-28T22:31:40.403344Z"
    }
   },
   "id": "c7a065b2f450a0f8"
  },
  {
   "cell_type": "code",
   "execution_count": 39,
   "outputs": [
    {
     "data": {
      "text/plain": "  actual model1 model2 model3 model4\n0    cat    cat    dog    cat    dog\n1    dog    dog    cat    cat    dog\n2    dog    cat    cat    cat    dog\n3    dog    dog    dog    cat    dog\n4    cat    cat    cat    dog    dog",
      "text/html": "<div>\n<style scoped>\n    .dataframe tbody tr th:only-of-type {\n        vertical-align: middle;\n    }\n\n    .dataframe tbody tr th {\n        vertical-align: top;\n    }\n\n    .dataframe thead th {\n        text-align: right;\n    }\n</style>\n<table border=\"1\" class=\"dataframe\">\n  <thead>\n    <tr style=\"text-align: right;\">\n      <th></th>\n      <th>actual</th>\n      <th>model1</th>\n      <th>model2</th>\n      <th>model3</th>\n      <th>model4</th>\n    </tr>\n  </thead>\n  <tbody>\n    <tr>\n      <th>0</th>\n      <td>cat</td>\n      <td>cat</td>\n      <td>dog</td>\n      <td>cat</td>\n      <td>dog</td>\n    </tr>\n    <tr>\n      <th>1</th>\n      <td>dog</td>\n      <td>dog</td>\n      <td>cat</td>\n      <td>cat</td>\n      <td>dog</td>\n    </tr>\n    <tr>\n      <th>2</th>\n      <td>dog</td>\n      <td>cat</td>\n      <td>cat</td>\n      <td>cat</td>\n      <td>dog</td>\n    </tr>\n    <tr>\n      <th>3</th>\n      <td>dog</td>\n      <td>dog</td>\n      <td>dog</td>\n      <td>cat</td>\n      <td>dog</td>\n    </tr>\n    <tr>\n      <th>4</th>\n      <td>cat</td>\n      <td>cat</td>\n      <td>cat</td>\n      <td>dog</td>\n      <td>dog</td>\n    </tr>\n  </tbody>\n</table>\n</div>"
     },
     "execution_count": 39,
     "metadata": {},
     "output_type": "execute_result"
    }
   ],
   "source": [
    "df.head()"
   ],
   "metadata": {
    "collapsed": false,
    "ExecuteTime": {
     "end_time": "2023-11-28T21:07:01.120521Z",
     "start_time": "2023-11-28T21:07:01.065542Z"
    }
   },
   "id": "4140cb0be92c836e"
  },
  {
   "cell_type": "code",
   "execution_count": 44,
   "outputs": [
    {
     "data": {
      "text/plain": "'dog'"
     },
     "execution_count": 44,
     "metadata": {},
     "output_type": "execute_result"
    }
   ],
   "source": [
    "common = df['actual'].value_counts().idxmax()\n",
    "common"
   ],
   "metadata": {
    "collapsed": false,
    "ExecuteTime": {
     "end_time": "2023-11-28T21:14:57.109962Z",
     "start_time": "2023-11-28T21:14:57.034077Z"
    }
   },
   "id": "42996cb44c162be9"
  },
  {
   "cell_type": "code",
   "execution_count": 54,
   "outputs": [
    {
     "data": {
      "text/plain": "0.6508"
     },
     "execution_count": 54,
     "metadata": {},
     "output_type": "execute_result"
    }
   ],
   "source": [
    "len(df[df['actual'] == 'dog']) / len(df['actual']) "
   ],
   "metadata": {
    "collapsed": false,
    "ExecuteTime": {
     "end_time": "2023-11-28T21:20:34.192361Z",
     "start_time": "2023-11-28T21:20:34.164795Z"
    }
   },
   "id": "4dfc8f020b25d8b6"
  },
  {
   "cell_type": "code",
   "execution_count": 52,
   "outputs": [
    {
     "data": {
      "text/plain": "3254"
     },
     "execution_count": 52,
     "metadata": {},
     "output_type": "execute_result"
    }
   ],
   "source": [
    "len(df[df['actual'] == 'dog']) "
   ],
   "metadata": {
    "collapsed": false,
    "ExecuteTime": {
     "end_time": "2023-11-28T21:20:02.118951Z",
     "start_time": "2023-11-28T21:20:02.115261Z"
    }
   },
   "id": "17410d6ffec498a9"
  },
  {
   "cell_type": "code",
   "execution_count": 68,
   "outputs": [
    {
     "data": {
      "text/plain": "0.6508"
     },
     "execution_count": 68,
     "metadata": {},
     "output_type": "execute_result"
    }
   ],
   "source": [
    "(df.actual == 'dog').mean()"
   ],
   "metadata": {
    "collapsed": false,
    "ExecuteTime": {
     "end_time": "2023-11-28T22:30:30.960718Z",
     "start_time": "2023-11-28T22:30:30.921316Z"
    }
   },
   "id": "fe9ea6e05b61122"
  },
  {
   "cell_type": "markdown",
   "source": [
    "In terms of accuracy, how do the various models compare to the baseline model? Are any of the models better than the baseline?"
   ],
   "metadata": {
    "collapsed": false
   },
   "id": "68ab436b75053bac"
  },
  {
   "cell_type": "code",
   "execution_count": 71,
   "outputs": [
    {
     "name": "stdout",
     "output_type": "stream",
     "text": [
      "model1 = 0.5874%\n",
      "model2 = 0.3576%\n",
      "model3 = 0.5016%\n",
      "model4 = 0.8506%\n"
     ]
    }
   ],
   "source": [
    "for x in df.columns[1:]:\n",
    "    perc_of_dog = (df[x] == 'dog').mean()\n",
    "    print(f'{x} = {perc_of_dog}%')"
   ],
   "metadata": {
    "collapsed": false,
    "ExecuteTime": {
     "end_time": "2023-11-28T22:31:42.782797Z",
     "start_time": "2023-11-28T22:31:42.757083Z"
    }
   },
   "id": "d81c6dd319619f0b"
  },
  {
   "cell_type": "markdown",
   "source": [
    "model 4 with 85 percent"
   ],
   "metadata": {
    "collapsed": false
   },
   "id": "a2a35cf75658401b"
  },
  {
   "cell_type": "code",
   "execution_count": 40,
   "outputs": [
    {
     "name": "stdout",
     "output_type": "stream",
     "text": [
      "model1   cat   dog\n",
      "actual            \n",
      "cat     1423   323\n",
      "dog      640  2614\n",
      "\n",
      "model2   cat   dog\n",
      "actual            \n",
      "cat     1555   191\n",
      "dog     1657  1597\n",
      "\n",
      "model3   cat   dog\n",
      "actual            \n",
      "cat      893   853\n",
      "dog     1599  1655\n",
      "\n",
      "model4  cat   dog\n",
      "actual           \n",
      "cat     603  1143\n",
      "dog     144  3110\n"
     ]
    }
   ],
   "source": [
    "for x in df.iloc[:, 1:5]:\n",
    "    print(pd.crosstab(df.actual, df[x]))\n",
    "    print()"
   ],
   "metadata": {
    "collapsed": false,
    "ExecuteTime": {
     "end_time": "2023-11-28T21:07:37.011739Z",
     "start_time": "2023-11-28T21:07:36.947960Z"
    }
   },
   "id": "8e0513a07c0d849f"
  },
  {
   "cell_type": "code",
   "execution_count": 60,
   "outputs": [],
   "source": [],
   "metadata": {
    "collapsed": false,
    "ExecuteTime": {
     "end_time": "2023-11-28T21:33:59.859446Z",
     "start_time": "2023-11-28T21:33:59.621941Z"
    }
   },
   "id": "4b5c76561815e150"
  },
  {
   "cell_type": "markdown",
   "source": [
    "Suppose you are working on a team that solely deals with dog pictures. Which of these models would you recommend?"
   ],
   "metadata": {
    "collapsed": false
   },
   "id": "96f031b8bec4d4f1"
  },
  {
   "cell_type": "code",
   "execution_count": null,
   "outputs": [],
   "source": [
    "dog_data = {\n",
    "    'model1': {'TP': 2614, 'FN': 640, 'FP': 323, 'TN': 1423},\n",
    "    'model2': {'TP': 1597, 'FN': 1657, 'FP': 191, 'TN': 1555},\n",
    "    'model3': {'TP': 1655, 'FN': 1599, 'FP': 853, 'TN': 893},\n",
    "    'model4': {'TP': 3110, 'FN': 144, 'FP': 1143, 'TN': 603}\n",
    "}"
   ],
   "metadata": {
    "collapsed": false
   },
   "id": "841afb1221c4e284"
  },
  {
   "cell_type": "markdown",
   "source": [
    "recall and this is the setup"
   ],
   "metadata": {
    "collapsed": false
   },
   "id": "e3f7b7a006800874"
  },
  {
   "cell_type": "code",
   "execution_count": null,
   "outputs": [],
   "source": [],
   "metadata": {
    "collapsed": false
   },
   "id": "89545a0df3fa8d7d"
  },
  {
   "cell_type": "markdown",
   "source": [
    "Suppose you are working on a team that solely deals with cat pictures. Which of these models would you recommend?"
   ],
   "metadata": {
    "collapsed": false
   },
   "id": "a700dd59d1cca77b"
  },
  {
   "cell_type": "markdown",
   "source": [
    "its the same thing the only thing that switches is the true and falses in the data"
   ],
   "metadata": {
    "collapsed": false
   },
   "id": "145c91ccb102c4df"
  },
  {
   "cell_type": "code",
   "execution_count": 61,
   "outputs": [],
   "source": [
    "cat_data = {\n",
    "    'model1': {'TP': 1423, 'FN': 323, 'FP': 640, 'TN': 2614},\n",
    "    'model2': {'TP': 1555, 'FN': 191, 'FP': 1657, 'TN': 1597},\n",
    "    'model3': {'TP': 893, 'FN': 853, 'FP': 1599, 'TN': 1655},\n",
    "    'model4': {'TP': 603, 'FN': 1143, 'FP': 144, 'TN': 3110}\n",
    "}\n"
   ],
   "metadata": {
    "collapsed": false,
    "ExecuteTime": {
     "end_time": "2023-11-28T21:41:01.854941Z",
     "start_time": "2023-11-28T21:41:01.196034Z"
    }
   },
   "id": "6c78872cf3c66257"
  },
  {
   "cell_type": "code",
   "execution_count": 72,
   "outputs": [],
   "source": [
    "import sklearn.metrics"
   ],
   "metadata": {
    "collapsed": false,
    "ExecuteTime": {
     "end_time": "2023-11-28T22:47:45.261057Z",
     "start_time": "2023-11-28T22:47:43.792041Z"
    }
   },
   "id": "c7e331952c5051ad"
  },
  {
   "cell_type": "code",
   "execution_count": 74,
   "outputs": [
    {
     "data": {
      "text/plain": "  actual model1 model2 model3 model4\n0    cat    cat    dog    cat    dog\n1    dog    dog    cat    cat    dog\n2    dog    cat    cat    cat    dog\n3    dog    dog    dog    cat    dog\n4    cat    cat    cat    dog    dog",
      "text/html": "<div>\n<style scoped>\n    .dataframe tbody tr th:only-of-type {\n        vertical-align: middle;\n    }\n\n    .dataframe tbody tr th {\n        vertical-align: top;\n    }\n\n    .dataframe thead th {\n        text-align: right;\n    }\n</style>\n<table border=\"1\" class=\"dataframe\">\n  <thead>\n    <tr style=\"text-align: right;\">\n      <th></th>\n      <th>actual</th>\n      <th>model1</th>\n      <th>model2</th>\n      <th>model3</th>\n      <th>model4</th>\n    </tr>\n  </thead>\n  <tbody>\n    <tr>\n      <th>0</th>\n      <td>cat</td>\n      <td>cat</td>\n      <td>dog</td>\n      <td>cat</td>\n      <td>dog</td>\n    </tr>\n    <tr>\n      <th>1</th>\n      <td>dog</td>\n      <td>dog</td>\n      <td>cat</td>\n      <td>cat</td>\n      <td>dog</td>\n    </tr>\n    <tr>\n      <th>2</th>\n      <td>dog</td>\n      <td>cat</td>\n      <td>cat</td>\n      <td>cat</td>\n      <td>dog</td>\n    </tr>\n    <tr>\n      <th>3</th>\n      <td>dog</td>\n      <td>dog</td>\n      <td>dog</td>\n      <td>cat</td>\n      <td>dog</td>\n    </tr>\n    <tr>\n      <th>4</th>\n      <td>cat</td>\n      <td>cat</td>\n      <td>cat</td>\n      <td>dog</td>\n      <td>dog</td>\n    </tr>\n  </tbody>\n</table>\n</div>"
     },
     "execution_count": 74,
     "metadata": {},
     "output_type": "execute_result"
    }
   ],
   "source": [],
   "metadata": {
    "collapsed": false,
    "ExecuteTime": {
     "end_time": "2023-11-28T23:21:33.672783Z",
     "start_time": "2023-11-28T23:21:33.647296Z"
    }
   },
   "id": "1a290518efc60301"
  },
  {
   "cell_type": "code",
   "execution_count": null,
   "outputs": [],
   "source": [],
   "metadata": {
    "collapsed": false
   },
   "id": "6177db28832cfb66"
  }
 ],
 "metadata": {
  "kernelspec": {
   "display_name": "Python 3",
   "language": "python",
   "name": "python3"
  },
  "language_info": {
   "codemirror_mode": {
    "name": "ipython",
    "version": 2
   },
   "file_extension": ".py",
   "mimetype": "text/x-python",
   "name": "python",
   "nbconvert_exporter": "python",
   "pygments_lexer": "ipython2",
   "version": "2.7.6"
  }
 },
 "nbformat": 4,
 "nbformat_minor": 5
}
